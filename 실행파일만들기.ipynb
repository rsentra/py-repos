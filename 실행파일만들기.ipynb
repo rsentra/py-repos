{
 "cells": [
  {
   "cell_type": "code",
   "execution_count": null,
   "metadata": {},
   "outputs": [],
   "source": [
    "pyinstaller -F -n excel.exe excel_test.py\n",
    "\n",
    "-F: 한 개의 파일로 만들기. 용량은 당연히 조금더 커진다. (없을 시 dll 파일들과 분리되어 폴더로 생성됨)\n",
    "-n: 이름짓기. 이름은 바로 오른쪽에 기입 (없을 시 소스파일명과 동일한 파일이 생성됨)\n",
    "--noconsole: 콘솔창 띄우지 않기\n",
    "\n",
    "파이선파일은 주피터노트북이 아닌 일반편집기로 .py 저장하고 컴파일해야됨\n",
    "\n",
    "\n",
    "참고: -F를 사용하면 속도가 느려짐  (F 옵션없이 사용 바람직)\n",
    "실행은 ANACODA powershell에서 실행창에서\n",
    "pyinstaller -n RPA.exe RPA.py"
   ]
  },
  {
   "cell_type": "code",
   "execution_count": 3,
   "metadata": {},
   "outputs": [],
   "source": [
    "import numpy"
   ]
  },
  {
   "cell_type": "code",
   "execution_count": 2,
   "metadata": {},
   "outputs": [],
   "source": [
    "pyinstaller -n IBSS로그인.exe IBSS로그인.py"
   ]
  },
  {
   "cell_type": "code",
   "execution_count": null,
   "metadata": {},
   "outputs": [],
   "source": [
    "pyinstaller -n RPA.exe --hidden-import pandas --hidden-import _ssl --hidden-import ssl rpa.py\n",
    "pyinstaller -n RPA.exe --hidden-import _ssl --hidden-import ssl rpa.py\n",
    "pyinstaller -n RPA.exe rpa.py"
   ]
  },
  {
   "cell_type": "code",
   "execution_count": null,
   "metadata": {},
   "outputs": [],
   "source": [
    "#위에서 만들어진 spec file로 컴파일하는 방법\n",
    "pyinstaller rpa.exe.spec"
   ]
  }
 ],
 "metadata": {
  "kernelspec": {
   "display_name": "Python 3",
   "language": "python",
   "name": "python3"
  },
  "language_info": {
   "codemirror_mode": {
    "name": "ipython",
    "version": 3
   },
   "file_extension": ".py",
   "mimetype": "text/x-python",
   "name": "python",
   "nbconvert_exporter": "python",
   "pygments_lexer": "ipython3",
   "version": "3.7.4"
  }
 },
 "nbformat": 4,
 "nbformat_minor": 4
}
