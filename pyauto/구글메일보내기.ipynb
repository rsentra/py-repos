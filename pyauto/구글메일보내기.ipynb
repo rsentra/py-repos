{
 "cells": [
  {
   "cell_type": "code",
   "execution_count": null,
   "metadata": {},
   "outputs": [],
   "source": [
    "from selenium import webdriver\n",
    "from selenium.webdriver.common.keys import Keys\n",
    "from selenium.webdriver.common.action_chains import ActionChains\n",
    "\n",
    "import time\n",
    "\n",
    "path = \"D:/Anaconda3/chromedriver.exe\"\n",
    "path = \"C:/Users/user/Anaconda3/chromedriver_win32/chromedriver.exe\"\n",
    "driver = webdriver.Chrome(path)\n",
    "url=\"https://google.com\"\n",
    "driver.get(url)\n",
    "\n",
    "id='jyyoonj@gmail.com'\n",
    "pwd='jyyoonj12345'\n",
    "driver.maximize_window()\n",
    "# time.sleep(1)\n",
    "action=ActionChains(driver)\n",
    "#css_seletor는 id,class모두 탐색가능 .. id는 #  class는 .을 앞에\n",
    "driver.find_element_by_css_selector('#gb_70').click()\n",
    "#--로그인하면 입력상태되므로 바로 보냄\n",
    "# action.send_keys(id).perform()\n",
    "# driver.find_element_by_css_selector('.CwaK9').click()\n",
    "# time.sleep(2)\n",
    "# driver.implicitly_wait(4)\n",
    "\n",
    "# driver.find_element_by_css_selector('.whsOnd.zHQkBf').send_keys(pwd)\n",
    "# driver.find_element_by_css_selector('.CwaK9').click()\n",
    "\n",
    "driver.execute_script(\"document.getElementsByName('identifier')[0].value=\\'\"+id+\"\\'\")\n",
    "driver.find_element_by_css_selector('.CwaK9').click()\n",
    "time.sleep(2)\n",
    "driver.implicitly_wait(4)\n",
    "\n",
    "driver.execute_script(\"document.getElementsByName('whsOnd.zHQkBf')[1].value=\\'\"+pwd+\"\\'\")\n",
    "driver.find_element_by_css_selector('.CwaK9').click()"
   ]
  },
  {
   "cell_type": "code",
   "execution_count": null,
   "metadata": {},
   "outputs": [],
   "source": [
    "C:\\Users\\user\\Anaconda3\\Lib\\site-packages\\selenium\\webdriver\\common"
   ]
  }
 ],
 "metadata": {
  "kernelspec": {
   "display_name": "Python 3",
   "language": "python",
   "name": "python3"
  },
  "language_info": {
   "codemirror_mode": {
    "name": "ipython",
    "version": 3
   },
   "file_extension": ".py",
   "mimetype": "text/x-python",
   "name": "python",
   "nbconvert_exporter": "python",
   "pygments_lexer": "ipython3",
   "version": "3.7.4"
  }
 },
 "nbformat": 4,
 "nbformat_minor": 4
}
