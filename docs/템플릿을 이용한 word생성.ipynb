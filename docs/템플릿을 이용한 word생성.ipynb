{
 "cells": [
  {
   "cell_type": "markdown",
   "metadata": {},
   "source": [
    "#### word template를 이용한 문서생성 자동화"
   ]
  },
  {
   "cell_type": "code",
   "execution_count": 19,
   "metadata": {},
   "outputs": [],
   "source": [
    "from docxtpl import DocxTemplate\n",
    "''' jinja style로 word파일에 값을 입력하는 패키지 '''\n",
    "\n",
    "doc = DocxTemplate('d:/temp/테스트 문서.docx')\n",
    "context = {'title': '타이틀', 'contents': '내용입니다', \"num\":12345}\n",
    "doc.render(context)\n",
    " \n",
    "doc.save('d:/temp/테스트 문서-out.docx')"
   ]
  },
  {
   "cell_type": "code",
   "execution_count": null,
   "metadata": {},
   "outputs": [],
   "source": [
    "'''테이블 처리'''\n",
    "\n",
    "doc = DocxTemplate('d:/temp/order_doc.docx')\n",
    "\n",
    "context = {\n",
    "    'customer_name': 'Eric',\n",
    "    'items': [\n",
    "        {'desc': 'Python interpreters', 'qty': 2, 'price': 'FREE'},\n",
    "        {'desc': 'Django projects', 'qty': 5403, 'price': 'FREE'},\n",
    "        {'desc': 'Guido', 'qty': 1, 'price': '100,000,000.00'},\n",
    "    ],\n",
    "    'in_europe': True,\n",
    "    'is_paid': False,\n",
    "    'company_name': 'The World Wide company',\n",
    "    'total_price': '100,000,000.00',\n",
    "}\n",
    "\n",
    "doc.render(context)\n",
    "doc.save('d:/temp/order.docx')"
   ]
  },
  {
   "cell_type": "code",
   "execution_count": 14,
   "metadata": {},
   "outputs": [],
   "source": [
    "''' dynamic table 처리 '''\n",
    "\n",
    "tpl = DocxTemplate('d:/temp/dynamic_table_tpl.docx')\n",
    "\n",
    "context = {\n",
    "    'col_labels': ['fruit', 'vegetable', 'stone', 'thing'],\n",
    "    'tbl_contents': [\n",
    "        {'label': 'yellow', 'cols': ['banana', 'capsicum', 'pyrite', 'taxi']},\n",
    "        {'label': 'red', 'cols': ['apple', 'tomato', 'cinnabar', 'doubledecker']},\n",
    "        {'label': 'green', 'cols': ['guava', 'cucumber', 'aventurine', 'card']},\n",
    "    ],\n",
    "    'display_paragraph':True,\n",
    "    'disp_para': \"테스트용 문구입니다\"\n",
    "}\n",
    "\n",
    "tpl.render(context)\n",
    "tpl.save('d:/temp/dynamic_table_out.docx')"
   ]
  },
  {
   "cell_type": "code",
   "execution_count": null,
   "metadata": {},
   "outputs": [],
   "source": [
    "''' comma 출력방법 : filter이용  '''\n",
    "\n",
    "from docxtpl import DocxTemplate\n",
    "import jinja2\n",
    "''' jinja style로 word파일에 값을 입력하는 패키지 '''\n",
    "\n",
    "def comma(val):\n",
    "\t  return \"{:,}\".format(val)\n",
    "\n",
    "jinja_env = jinja2.Environment()\n",
    "jinja_env.filters['c'] = comma\n",
    "\n",
    "doc = DocxTemplate('d:/temp/테스트 문서.docx')\n",
    "context = {'title': '타이틀', 'contents': '내용입니다', \"num\":12345}\n",
    "doc.render(context, jinja_env)\n",
    "\n",
    "doc.save('d:/temp/테스트 문서-out.docx')"
   ]
  },
  {
   "cell_type": "code",
   "execution_count": 32,
   "metadata": {},
   "outputs": [],
   "source": [
    "from win32com import client\n",
    "word_app = client.Dispatch(\"word.application\")\n",
    "\n",
    "doc  = word_app.Documents.Open(\"d:\\\\temp\\\\테스트 문서-out.docx\")\n",
    "doc.SaveAs(\"d:\\\\temp\\\\테스트 문서.pdf\",FileFormat=17)\n",
    "word_app.Quit()"
   ]
  }
 ],
 "metadata": {
  "kernelspec": {
   "display_name": "Python 3.8 (XPython)",
   "language": "python",
   "name": "xpython"
  },
  "language_info": {
   "file_extension": ".py",
   "mimetype": "text/x-python",
   "name": "python",
   "version": "3.8.12"
  }
 },
 "nbformat": 4,
 "nbformat_minor": 4
}
