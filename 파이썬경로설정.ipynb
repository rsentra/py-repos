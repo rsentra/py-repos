{
 "cells": [
  {
   "cell_type": "markdown",
   "metadata": {},
   "source": [
    "# 파이썬 경로설정\n",
    "\n",
    "### * 파이썬 경로가 다음과 같다고 가정  \n",
    "   1.c:\\python          - 파이썬 실행 메인 경로\n",
    "   2.c:\\python\\mypkgs   - 사용자 패키지 경로 및 mymod.py가 있을 경우 \n",
    "     ``` python\n",
    "      myMod.py  \n",
    "        def common()  \n",
    "          print('common modules')  \n",
    "     ```   \n",
    "   3.c:\\python\\myapps   - 사용자 파이썬 프로그램 경로  \n",
    "   \n",
    "### * 아래처럼 설정 후 사용\n",
    "    1)python 과 mypkgs 경로 아래에 __init__py 생성 (파일 내용이 없어도 됨)  \n",
    "    2)myapp 에 있는 파이썬 프로그램에서 import  \n",
    "      [방법1]  \n",
    "      from  mypkgs import myMod  \n",
    "      mymod.common()  \n",
    "      [방법2]    \n",
    "      from  mypkgs.myMod import common  \n",
    "      common()  \n",
    "      [방법3]  \n",
    "      import mypkgs.myMod as mod  \n",
    "      mod.common()  \n",
    "      \n",
    "      \n",
    "\n",
    "https://cafe.naver.com/itscholar/35217\n",
    "\n",
    "네이버에서 PYTHON 9-모듈,패키지로 검색"
   ]
  },
  {
   "cell_type": "code",
   "execution_count": null,
   "metadata": {},
   "outputs": [],
   "source": []
  }
 ],
 "metadata": {
  "kernelspec": {
   "display_name": "Python 3",
   "language": "python",
   "name": "python3"
  },
  "language_info": {
   "codemirror_mode": {
    "name": "ipython",
    "version": 3
   },
   "file_extension": ".py",
   "mimetype": "text/x-python",
   "name": "python",
   "nbconvert_exporter": "python",
   "pygments_lexer": "ipython3",
   "version": "3.7.4"
  }
 },
 "nbformat": 4,
 "nbformat_minor": 2
}
