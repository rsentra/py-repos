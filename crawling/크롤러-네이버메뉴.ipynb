{
 "cells": [
  {
   "cell_type": "code",
   "execution_count": 14,
   "metadata": {},
   "outputs": [
    {
     "name": "stdout",
     "output_type": "stream",
     "text": [
      "메일\n",
      "카페\n",
      "블로그\n",
      "지식인\n",
      "쇼핑\n",
      "네이버페이\n",
      "네이버TV\n"
     ]
    }
   ],
   "source": [
    "import urllib.request\n",
    "from bs4 import BeautifulSoup\n",
    "url=\"https://www.naver.com\"\n",
    "html_str=urllib.request.urlopen(url)\n",
    "bsObj=BeautifulSoup(html_str,'html.parser')\n",
    "\n",
    "ul=bsObj.find(\"ul\",{\"class\",\"an_l\"})  #메뉴있는 곳을 리스트로 반환\n",
    "#print(ul)\n",
    "lis=ul.findAll('li')  \n",
    "for li in lis:         #리스트 순회\n",
    "    a_tag=li.find('a')  #a태그가 하나만 있는게 확인되므로 find처리\n",
    "    span=a_tag.find('span',{'class':'an_txt'})\n",
    "    print(span.text)"
   ]
  },
  {
   "cell_type": "code",
   "execution_count": 9,
   "metadata": {},
   "outputs": [
    {
     "data": {
      "text/plain": [
       "<li class=\"an_item\">\n",
       "<a class=\"an_a mn_mail\" data-clk=\"svc.mail\" href=\"https://mail.naver.com/\">\n",
       "<span class=\"an_icon\"></span><span class=\"an_txt\">메일</span>\n",
       "</a>\n",
       "</li>"
      ]
     },
     "execution_count": 9,
     "metadata": {},
     "output_type": "execute_result"
    }
   ],
   "source": [
    "lis[0]"
   ]
  },
  {
   "cell_type": "code",
   "execution_count": 10,
   "metadata": {},
   "outputs": [
    {
     "data": {
      "text/plain": [
       "bs4.element.ResultSet"
      ]
     },
     "execution_count": 10,
     "metadata": {},
     "output_type": "execute_result"
    }
   ],
   "source": [
    "type(lis)"
   ]
  },
  {
   "cell_type": "code",
   "execution_count": null,
   "metadata": {},
   "outputs": [],
   "source": []
  }
 ],
 "metadata": {
  "kernelspec": {
   "display_name": "Python 3",
   "language": "python",
   "name": "python3"
  },
  "language_info": {
   "codemirror_mode": {
    "name": "ipython",
    "version": 3
   },
   "file_extension": ".py",
   "mimetype": "text/x-python",
   "name": "python",
   "nbconvert_exporter": "python",
   "pygments_lexer": "ipython3",
   "version": "3.7.4"
  }
 },
 "nbformat": 4,
 "nbformat_minor": 2
}
