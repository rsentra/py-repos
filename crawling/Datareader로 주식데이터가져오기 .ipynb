{
 "cells": [
  {
   "cell_type": "code",
   "execution_count": null,
   "metadata": {},
   "outputs": [],
   "source": [
    "import pandas_datareader.data as pdr\n",
    "import datetime\n",
    "\n",
    "start=datetime.datetime(2016,2,19)\n",
    "end=datetime.datetime(2020,2,20)\n",
    "gs=pdr.DataReader(\"078930.KS\",'yahoo',start,end)"
   ]
  },
  {
   "cell_type": "code",
   "execution_count": null,
   "metadata": {},
   "outputs": [],
   "source": [
    "import pandas as pd\n",
    "# excel 파일을 다운로드하는거와 동시에 pandas에 load하기\n",
    "# 한국거래소에서 상장법인목록 다운로드하는 링크\n",
    "df = pd.read_html('http://kind.krx.co.kr/corpgeneral/corpList.do?method=download', header=0)[0]\n",
    "df = df.sort_values('상장일',ascending=True)"
   ]
  },
  {
   "cell_type": "code",
   "execution_count": null,
   "metadata": {},
   "outputs": [],
   "source": [
    "df.tail(2)"
   ]
  },
  {
   "cell_type": "markdown",
   "metadata": {},
   "source": [
    "### 주식 가져오기  \n",
    "import pandas_datareader as pdr  \n",
    "-1번 방법  \n",
    "DataReader API를 통해서 yahoo finance의 주식 종목 데이터를 가져온다.  \n",
    "df = pdr.DataReader('주식 종목코드', 'yahoo')  \n",
    "-2번 방법  \n",
    "get_data_yahoo API를 통해서 yahoo finance의 주식 종목 데이터를 가져온다.  \n",
    "df = pdr.get_data_yahoo('주식 종목코드')  \n",
    "선택적으로 일정 기간동안의 주식 정보를 가져오는 방법입니다.  \n",
    "from datetime import datetime  \n",
    "start = datetime(2018,1,1)  \n",
    "end = datetime(2019,12,31)  \n",
    "df = pdr.DataReader('주식 종목코드', 'yahoo', start, end)  \n",
    "df = pdr.get_data_yahoo('주식 종목코드', start, end)  \n",
    "\n",
    "[샘플보기]\n",
    "https://wendys.tistory.com/"
   ]
  },
  {
   "cell_type": "code",
   "execution_count": 2,
   "metadata": {},
   "outputs": [],
   "source": [
    "import pandas as pd\n",
    "import pandas_datareader as pdr\n",
    "# 종목 타입에 따라 download url이 다름. 종목코드 뒤에 .KS .KQ등이 입력되어야해서 Download Link 구분 필요\n",
    "stock_type = {\n",
    "'kospi': 'stockMkt',\n",
    "'kosdaq': 'kosdaqMkt'\n",
    "}\n",
    "# 회사명으로 주식 종목 코드를 획득할 수 있도록 하는 함수\n",
    "def get_code(df, name):\n",
    "    code = df.query(\"name=='{}'\".format(name))['code'].to_string(index=False)\n",
    "    # 위와같이 code명을 가져오면 앞에 공백이 붙어있는 상황이 발생하여 앞뒤로 sript() 하여 공백 제거\n",
    "    code = code.strip()\n",
    "    return code\n",
    "\n",
    "# download url 조합\n",
    "def get_download_stock(market_type=None):\n",
    "    market_type = stock_type[market_type]\n",
    "    download_link = 'http://kind.krx.co.kr/corpgeneral/corpList.do'\n",
    "    download_link = download_link + '?method=download'\n",
    "    download_link = download_link + '&marketType=' + market_type\n",
    "    df = pd.read_html(download_link, header=0)[0]\n",
    "    return df\n",
    "\n",
    "# kospi 종목코드 목록 다운로드\n",
    "def get_download_kospi():\n",
    "    df = get_download_stock('kospi')\n",
    "    df.종목코드 = df.종목코드.map('{:06d}.KS'.format)\n",
    "    return df\n",
    "\n",
    "# kosdaq 종목코드 목록 다운로드\n",
    "def get_download_kosdaq():\n",
    "    df = get_download_stock('kosdaq')\n",
    "    df.종목코드 = df.종목코드.map('{:06d}.KQ'.format)\n",
    "    return df\n",
    "\n",
    "# kospi, kosdaq 종목코드 각각 다운로드\n",
    "kospi_df = get_download_kospi()\n",
    "kosdaq_df = get_download_kosdaq()\n",
    "# data frame merge\n",
    "code_df = pd.concat([kospi_df, kosdaq_df])\n",
    "temp=code_df\n",
    "# data frame정리\n",
    "code_df = code_df[['회사명', '종목코드']]\n",
    "# data frame title 변경 '회사명' = name, 종목코드 = 'code'\n",
    "code_df = code_df.rename(columns={'회사명': 'name', '종목코드': 'code'})\n",
    "# 삼성전자의 종목코드 획득. data frame에는 이미 XXXXXX.KX 형태로 조합이 되어있음\n",
    "code = get_code(code_df, '카카오')\n",
    "# get_data_yahoo API를 통해서 yahho finance의 주식 종목 데이터를 가져온다.\n",
    "df = pdr.get_data_yahoo(code)\n",
    "\n",
    "#df['Adj Close'].plot()"
   ]
  },
  {
   "cell_type": "code",
   "execution_count": 3,
   "metadata": {},
   "outputs": [
    {
     "name": "stderr",
     "output_type": "stream",
     "text": [
      "C:\\Users\\user\\Anaconda3\\lib\\site-packages\\pandas\\plotting\\_matplotlib\\converter.py:103: FutureWarning: Using an implicitly registered datetime converter for a matplotlib plotting method. The converter was registered by pandas on import. Future versions of pandas will require you to explicitly register matplotlib converters.\n",
      "\n",
      "To register the converters:\n",
      "\t>>> from pandas.plotting import register_matplotlib_converters\n",
      "\t>>> register_matplotlib_converters()\n",
      "  warnings.warn(msg, FutureWarning)\n"
     ]
    },
    {
     "data": {
      "image/png": "[encoded data removed]",
      "text/plain": [
       "<Figure size 432x288 with 1 Axes>"
      ]
     },
     "metadata": {
      "needs_background": "light"
     },
     "output_type": "display_data"
    }
   ],
   "source": [
    "import matplotlib.pyplot as plt\n",
    "#plt.rcParams[\"font.family\"] = 'gulim'\n",
    "plt.plot(df['Adj Close'],label='카카오')\n",
    "plt.legend(loc=0)\n",
    "plt.show()"
   ]
  },
  {
   "cell_type": "code",
   "execution_count": null,
   "metadata": {},
   "outputs": [],
   "source": [
    "#폰트리스트\n",
    "import matplotlib.font_manager as fm\n",
    "font_list = fm.findSystemFonts(fontpaths = None, fontext = 'ttf')\n",
    "font_list[:]"
   ]
  },
  {
   "cell_type": "code",
   "execution_count": null,
   "metadata": {},
   "outputs": [],
   "source": [
    "temp.query(\"회사명=='{}'\".format('슈피겐코리아'))"
   ]
  },
  {
   "cell_type": "code",
   "execution_count": null,
   "metadata": {},
   "outputs": [],
   "source": [
    "#환경파일위치\n",
    "import matplotlib\n",
    "print (matplotlib.matplotlib_fname())"
   ]
  },
  {
   "cell_type": "code",
   "execution_count": 1,
   "metadata": {},
   "outputs": [
    {
     "name": "stdout",
     "output_type": "stream",
     "text": [
      "['gulim']\n",
      "False\n"
     ]
    }
   ],
   "source": [
    "import matplotlib.pylab as plt\n",
    "print(plt.rcParams[\"font.family\"])\n",
    "print(plt.rcParams[\"axes.unicode_minus\"])"
   ]
  },
  {
   "cell_type": "code",
   "execution_count": null,
   "metadata": {},
   "outputs": [],
   "source": []
  }
 ],
 "metadata": {
  "kernelspec": {
   "display_name": "Python 3",
   "language": "python",
   "name": "python3"
  },
  "language_info": {
   "codemirror_mode": {
    "name": "ipython",
    "version": 3
   },
   "file_extension": ".py",
   "mimetype": "text/x-python",
   "name": "python",
   "nbconvert_exporter": "python",
   "pygments_lexer": "ipython3",
   "version": "3.7.4"
  }
 },
 "nbformat": 4,
 "nbformat_minor": 4
}
