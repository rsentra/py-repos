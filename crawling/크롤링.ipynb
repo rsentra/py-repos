{
 "cells": [
  {
   "cell_type": "code",
   "execution_count": null,
   "metadata": {},
   "outputs": [],
   "source": [
    "## parser.py\n",
    "import requests\n",
    "from bs4 import BeautifulSoup\n",
    "import json\n",
    "import os\n",
    "\n",
    "## python파일의 위치\n",
    "#BASE_DIR = os.path.dirname(os.path.abspath(__file__))\n",
    "\n",
    "req = requests.get('https://beomi.github.io/beomi.github.io_old/')\n",
    "html = req.text\n",
    "soup = BeautifulSoup(html, 'html.parser')\n",
    "print(soup)\n",
    "my_titles = soup.select(\n",
    "    'h3 > a'\n",
    "    )\n",
    "\n",
    "\n",
    "for title in my_titles:\n",
    "    data[title.text] = title.get('href')\n",
    "    print(title.get('href'))\n",
    "\n",
    "\n",
    "#with open(os.path.join(BASE_DIR, 'result.json'), 'w+') as json_file:\n",
    " #   json.dump(data, json_file)"
   ]
  },
  {
   "cell_type": "code",
   "execution_count": null,
   "metadata": {},
   "outputs": [],
   "source": [
    "#네이버 뉴스제목 가져오기\n",
    "import requests\n",
    "from bs4 import BeautifulSoup\n",
    "\n",
    "url = 'https://news.naver.com/main/ranking/popularDay.nhn?rankingType=popular_day&date=20200213'\n",
    "\n",
    "r = requests.get(url)\n",
    "html = r.content\n",
    "soup = BeautifulSoup(html, 'html.parser')\n",
    "titles_html = soup.select('.ranking_section > ol > li > dl > dt > a')\n",
    "\n",
    "for i in range(len(titles_html)):\n",
    "    print(i+1, titles_html[i].text)"
   ]
  },
  {
   "cell_type": "code",
   "execution_count": null,
   "metadata": {},
   "outputs": [],
   "source": []
  }
 ],
 "metadata": {
  "kernelspec": {
   "display_name": "Python 3",
   "language": "python",
   "name": "python3"
  },
  "language_info": {
   "codemirror_mode": {
    "name": "ipython",
    "version": 3
   },
   "file_extension": ".py",
   "mimetype": "text/x-python",
   "name": "python",
   "nbconvert_exporter": "python",
   "pygments_lexer": "ipython3",
   "version": "3.7.4"
  }
 },
 "nbformat": 4,
 "nbformat_minor": 2
}
