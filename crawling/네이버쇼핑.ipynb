{
 "cells": [
  {
   "cell_type": "markdown",
   "metadata": {},
   "source": [
    "# 쇼핑몰 불러오기  \n",
    "\n",
    "1. 네이버 쇼핑1  \n",
    "  - 1회 호출 사례\n",
    "2. 네이버 쇼핑2\n",
    "  - 여러페이지 호출 사례\n",
    "\n",
    " Tip1.  \n",
    "  writer=pd.ExcelWriter('product.xlsx',options={'strings_to_urls': False})  \n",
    "   => 옵션은 링크가 너무 길어 엑셀에 공란으로 나올대 지정하면 모두 나옴\n",
    "  \n"
   ]
  },
  {
   "cell_type": "code",
   "execution_count": null,
   "metadata": {},
   "outputs": [],
   "source": [
    "#네이버쇼핑 1\n",
    "import requests as req\n",
    "from mypkgs.crawler import crawl\n",
    "from mypkgs.parser import parse\n",
    "import json\n",
    "\n",
    "# 네이버쇼핑에서 '숨셔바요' 검색\n",
    "pageString=crawl('숨셔바요')\n",
    "products=parse(pageString)\n",
    "print(len(products))\n",
    "file=open('./product.json','w+')  # json형태로 쓰기\n",
    "file.write(json.dumps(products))\n",
    "\n",
    "import pandas as pd\n",
    "df=pd.read_json('./product.json')\n",
    "print(df.count())\n",
    "writer=pd.ExcelWriter('product.xlsx',options={'strings_to_urls': False})\n",
    "df.to_excel(writer,\"sheet1\")\n",
    "writer.save()"
   ]
  },
  {
   "cell_type": "code",
   "execution_count": 3,
   "metadata": {},
   "outputs": [
    {
     "name": "stdout",
     "output_type": "stream",
     "text": [
      "440\n",
      "name     440\n",
      "price    440\n",
      "link     440\n",
      "dtype: int64\n"
     ]
    }
   ],
   "source": [
    "#네이버 쇼핑 2\n",
    "import requests\n",
    "from mypkgs.parser import parse\n",
    "import json\n",
    "\n",
    "def crawl(srchName,pageNo):\n",
    "    url = \"https://search.shopping.naver.com/search/all.nhn?query={}&pagingIndex={}&cat_id=&frm=NVSHATC\".format(srchName,pageNo)\n",
    "    data = requests.get(url)\n",
    "    return data.content\n",
    "\n",
    "srchName='텀블러'\n",
    "totalProducts = []\n",
    "for pageNo in range(1, 10+1):\n",
    "    pageString = crawl(srchName, pageNo)\n",
    "    products = parse(pageString)\n",
    "    totalProducts += products\n",
    "\n",
    "#print(totalProducts)\n",
    "print(len(totalProducts))\n",
    "\n",
    "file = open(\"./tumbler.json\", \"w+\")\n",
    "file.write(json.dumps(totalProducts))\n",
    "\n",
    "import pandas as pd\n",
    "df=pd.read_json('./tumbler.json')\n",
    "print(df.count())\n",
    "writer=pd.ExcelWriter('tumbler.xlsx',options={'strings_to_urls': False})\n",
    "df.to_excel(writer,\"sheet1\")\n",
    "writer.save()"
   ]
  },
  {
   "cell_type": "code",
   "execution_count": null,
   "metadata": {},
   "outputs": [],
   "source": []
  }
 ],
 "metadata": {
  "kernelspec": {
   "display_name": "Python 3",
   "language": "python",
   "name": "python3"
  },
  "language_info": {
   "codemirror_mode": {
    "name": "ipython",
    "version": 3
   },
   "file_extension": ".py",
   "mimetype": "text/x-python",
   "name": "python",
   "nbconvert_exporter": "python",
   "pygments_lexer": "ipython3",
   "version": "3.7.4"
  }
 },
 "nbformat": 4,
 "nbformat_minor": 2
}
