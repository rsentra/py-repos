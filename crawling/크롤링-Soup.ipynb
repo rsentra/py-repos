{
 "cells": [
  {
   "cell_type": "code",
   "execution_count": null,
   "metadata": {},
   "outputs": [],
   "source": [
    "import urllib.request as req \n",
    "from bs4 import BeautifulSoup\n",
    "res=req.urlopen(\"https://daum.net\")\n",
    "soup=BeautifulSoup(res,'html.parser')\n",
    "#print(soup.find_all('div'))  #soup에서 모든 div  태그를 가져오는 명령\n",
    "#for tag in soup.find_all('a'):\n",
    "#    print(tag['href'])\n",
    "soup.select('body > script:nth-child(3)')"
   ]
  },
  {
   "cell_type": "code",
   "execution_count": null,
   "metadata": {},
   "outputs": [],
   "source": [
    "import urllib.request as req \n",
    "from bs4 import BeautifulSoup\n",
    "baseURL='http://school.cbe.go.kr/cbs-h/M01050705/list?ymd='\n",
    "date='20190701'\n",
    "res=req.urlopen(baseURL+date)\n",
    "soup=BeautifulSoup(res,'html.parser')\n",
    "meals=soup.find_all(class_='tch-lnc-wrap')\n",
    "dic={}\n",
    "for meal in meals:\n",
    "    dic.update({meal.dt.text:meal.ul.text})\n",
    "print(dic['조식'])"
   ]
  },
  {
   "cell_type": "code",
   "execution_count": null,
   "metadata": {},
   "outputs": [],
   "source": [
    "import urllib.request as req \n",
    "from bs4 import BeautifulSoup  \n",
    "def getMeals(date='20190701'):             #함수로 만들고 date 초기값 설정\n",
    "    baseURL='http://school.cbe.go.kr/cbs-h/M01050705/list?ymd='\n",
    "    res=req.urlopen(baseURL+date)           #url open\n",
    "    soup=BeautifulSoup(res,'html.parser')  #파싱\n",
    "    meals=soup.find_all(class_='tch-lnc-wrap') #가져오려는 곳의 태크를 찾아서 넝으면 하위 태그를 meals에 할당\n",
    "    dic={}\n",
    "    for meal in meals:                        #resultset을 탐색하면서 하위 태그의 text를 추출함\n",
    "        dic.update({meal.dt.text:meal.ul.text}) #틱셔너리에 key/value를 담기 (dt, ui는  위 사이트의 태그이름임)\n",
    "        print(meal.ul)\n",
    "    return dic\n",
    "\n",
    "\n",
    "user_date=input('date = ')\n",
    "result= getMeals(user_date)\n",
    "dic_r = result.items()\n",
    "for r in dic_r:\n",
    "     print(r[0]+'====='+r[1])\n"
   ]
  },
  {
   "cell_type": "code",
   "execution_count": 64,
   "metadata": {},
   "outputs": [
    {
     "data": {
      "text/plain": [
       "bs4.element.Tag"
      ]
     },
     "execution_count": 64,
     "metadata": {},
     "output_type": "execute_result"
    }
   ],
   "source": [
    "type(meal)"
   ]
  },
  {
   "cell_type": "code",
   "execution_count": 67,
   "metadata": {},
   "outputs": [
    {
     "data": {
      "text/plain": [
       "'\\n흰쌀밥\\r\\n김치콩나물국5.9.13.\\r\\n연두부5.\\r\\n쫄면야채무침5.6.13.\\r\\n닭봉구이2.5.6.13.15.\\r\\n깍두기9.13.\\r\\n양념장5.6.\\r\\n유기농레드주스12.13.\\n'"
      ]
     },
     "execution_count": 67,
     "metadata": {},
     "output_type": "execute_result"
    }
   ],
   "source": [
    "meal.ul.text"
   ]
  },
  {
   "cell_type": "code",
   "execution_count": null,
   "metadata": {},
   "outputs": [],
   "source": []
  }
 ],
 "metadata": {
  "kernelspec": {
   "display_name": "Python 3",
   "language": "python",
   "name": "python3"
  },
  "language_info": {
   "codemirror_mode": {
    "name": "ipython",
    "version": 3
   },
   "file_extension": ".py",
   "mimetype": "text/x-python",
   "name": "python",
   "nbconvert_exporter": "python",
   "pygments_lexer": "ipython3",
   "version": "3.7.4"
  }
 },
 "nbformat": 4,
 "nbformat_minor": 2
}
