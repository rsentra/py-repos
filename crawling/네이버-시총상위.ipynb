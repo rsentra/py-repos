{
 "cells": [
  {
   "cell_type": "code",
   "execution_count": 11,
   "metadata": {},
   "outputs": [
    {
     "name": "stdout",
     "output_type": "stream",
     "text": [
      "수집개수는= 500\n"
     ]
    }
   ],
   "source": [
    "import requests as req\n",
    "import bs4\n",
    "\n",
    "def Crawl(url):\n",
    "    data=req.get(url)\n",
    " #   print(data)\n",
    "    return data.content\n",
    "\n",
    "def Parse(PageString):\n",
    "    bsObj=bs4.BeautifulSoup(PageString,'html.parser')\n",
    "    box_type_1=bsObj.find('div',{'class':'box_type_l'})\n",
    "    type_2=box_type_1.find('table',{'class':'type_2'})\n",
    "    tbody=type_2.find('tbody')\n",
    "    trs=tbody.findAll(\"tr\")\n",
    "    stockInfos=[]\n",
    "    for tr in trs:\n",
    "        try:\n",
    "            stockInfo=getStockInfo(tr)\n",
    "            stockInfos.append(stockInfo)\n",
    "        except Exception as e:\n",
    "          #  print(\"err\")\n",
    "            pass\n",
    "    return stockInfos\n",
    "\n",
    "\n",
    "def getStockInfo(tr):\n",
    "    tds=tr.findAll('td')\n",
    "    rank=tds[0].text\n",
    "    aTag=tds[1].find('a')\n",
    "    href=aTag[\"href\"]\n",
    "    name=aTag.text\n",
    "    nowPrice=tds[2].text\n",
    "    totalPrice=tds[6].text\n",
    "    volume=tds[9].text\n",
    "    return {\"rank\":rank,\"name\":name,\"href\":href,\"code\":href[-6:],\"nowprice\": nowPrice,\"totalPrice\": totalPrice, \"volume\":volume}\n",
    "  \n",
    "    \n",
    "    \n",
    "def getSiseMarketSum(sosok,page):\n",
    "    url=\"https://finance.naver.com/sise/sise_market_sum.nhn?sosok={}&page={}\".format(sosok,page)\n",
    "    pageString=Crawl(url)\n",
    "    list = Parse(pageString)\n",
    "    return list\n",
    "\n",
    "\n",
    "result=[]\n",
    "\n",
    "for page in range(1,10+1):\n",
    "    list=getSiseMarketSum(1,page)\n",
    "    result += list\n",
    "    \n",
    "#print(result)\n",
    "print('수집개수는=', len(result))\n",
    "import pandas as pd\n",
    "\n",
    "df=pd.DataFrame(result)\n"
   ]
  },
  {
   "cell_type": "code",
   "execution_count": null,
   "metadata": {},
   "outputs": [],
   "source": []
  }
 ],
 "metadata": {
  "kernelspec": {
   "display_name": "Python 3",
   "language": "python",
   "name": "python3"
  },
  "language_info": {
   "codemirror_mode": {
    "name": "ipython",
    "version": 3
   },
   "file_extension": ".py",
   "mimetype": "text/x-python",
   "name": "python",
   "nbconvert_exporter": "python",
   "pygments_lexer": "ipython3",
   "version": "3.7.4"
  }
 },
 "nbformat": 4,
 "nbformat_minor": 2
}
