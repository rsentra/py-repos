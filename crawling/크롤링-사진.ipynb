{
 "cells": [
  {
   "cell_type": "code",
   "execution_count": null,
   "metadata": {},
   "outputs": [],
   "source": [
    "import pandas as pd\n",
    "import urllib.request as req\n",
    "import re #정규표현식\n",
    "\n",
    "rep=req.urlopen(\"https://daum.net\")\n",
    "f=open(\"daum.html\",'wb')   #바이너리 쓰기모드\n",
    "\n",
    "data=rep.read().decode('utf-8')\n",
    "result=re.findall('https://[.+-_\\w]+.jpg',data) #http로 시작, 특수문자와 모든문자 1회이상 .jpg로 끝나는 것\n",
    "for link in result:\n",
    "    idx=link.rfind('/')\n",
    "    with open(link[idx+1:],\"wb\") as f:\n",
    "        pic=req.urlopen(link)\n",
    "        f.write(pic.read())\n",
    "    \n",
    "print(result)"
   ]
  },
  {
   "cell_type": "code",
   "execution_count": null,
   "metadata": {},
   "outputs": [],
   "source": []
  }
 ],
 "metadata": {
  "kernelspec": {
   "display_name": "Python 3",
   "language": "python",
   "name": "python3"
  },
  "language_info": {
   "codemirror_mode": {
    "name": "ipython",
    "version": 3
   },
   "file_extension": ".py",
   "mimetype": "text/x-python",
   "name": "python",
   "nbconvert_exporter": "python",
   "pygments_lexer": "ipython3",
   "version": "3.7.4"
  }
 },
 "nbformat": 4,
 "nbformat_minor": 2
}
