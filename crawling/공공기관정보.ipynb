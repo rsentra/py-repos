{
 "cells": [
  {
   "cell_type": "code",
   "execution_count": 27,
   "metadata": {},
   "outputs": [
    {
     "name": "stdout",
     "output_type": "stream",
     "text": [
      "168\n",
      "1680\n",
      "no          1680\n",
      "prodname    1680\n",
      "goods       1680\n",
      "coName      1680\n",
      "appno       1680\n",
      "dtype: int64\n"
     ]
    }
   ],
   "source": [
    "#공공기관 1\n",
    "import requests\n",
    "import json\n",
    "from bs4 import BeautifulSoup\n",
    "\n",
    "def crawl(pageNo):\n",
    "    url = \"http://ecolife.me.go.kr/ecolife/sntryAid/index?page={}\".format(pageNo)\n",
    "    data = requests.get(url)\n",
    "    return data.content\n",
    "\n",
    "def parse(pageString):\n",
    "    bsObj= BeautifulSoup(pageString,'html.parser')\n",
    "    tbl=bsObj.find('table',{'class':'table table-striped2'})\n",
    "    tbody=tbl.find('tbody')\n",
    "    trs=tbody.findAll('tr')\n",
    "  \n",
    "    products=[]\n",
    "    for tr in trs:\n",
    "        product=getProductInfo(tr)\n",
    "        products.append(product)\n",
    "    return products\n",
    "\n",
    "def getProductInfo(tr):\n",
    "    try:\n",
    "        tds=tr.findAll('td')\n",
    "        no=tds[0].text\n",
    "        prodNm=tds[1].text\n",
    "        goods=tds[2].text\n",
    "        coName=tds[3].text\n",
    "        appNo=tds[4].text\n",
    "        return {'no':no,'prodname':prodNm,'goods':goods,'coName':coName,'appno':appNo}\n",
    "    except Exception as e:\n",
    "        pass\n",
    "\n",
    "url='http://ecolife.me.go.kr/ecolife/sntryAid/index?srchCnd=all&srchWrd='\n",
    "pageString = requests.get(url).content\n",
    "bsObj= BeautifulSoup(pageString,'html.parser')\n",
    "pageCnt=bsObj.find('span',{'class':'total'}).find('em').text  #총건수\n",
    "pageCnt=int(round(int(pageCnt)/10,0))\n",
    "print(pageCnt)\n",
    "\n",
    "totalProducts = []\n",
    "for pageNo in range(1, pageCnt+1):\n",
    "    pageString = crawl(pageNo)\n",
    "    product = parse(pageString)\n",
    "    totalProducts += product\n",
    "\n",
    "#print(totalProducts)\n",
    "print(len(totalProducts))\n",
    "\n",
    "import pandas as pd\n",
    "df=pd.DataFrame(totalProducts)\n",
    "\n",
    "print(df.count())\n",
    "writer=pd.ExcelWriter('Safe.xlsx',options={'strings_to_urls': False})\n",
    "df.to_excel(writer,\"sheet1\")\n",
    "writer.save()\n"
   ]
  },
  {
   "cell_type": "code",
   "execution_count": 23,
   "metadata": {
    "scrolled": true
   },
   "outputs": [
    {
     "name": "stdout",
     "output_type": "stream",
     "text": [
      "168.0\n"
     ]
    }
   ],
   "source": [
    "tot='1685'\n",
    "tot=round(int(tot)/10,0)\n",
    "print(tot)"
   ]
  },
  {
   "cell_type": "code",
   "execution_count": 28,
   "metadata": {},
   "outputs": [
    {
     "data": {
      "text/html": [
       "<div>\n",
       "<style scoped>\n",
       "    .dataframe tbody tr th:only-of-type {\n",
       "        vertical-align: middle;\n",
       "    }\n",
       "\n",
       "    .dataframe tbody tr th {\n",
       "        vertical-align: top;\n",
       "    }\n",
       "\n",
       "    .dataframe thead th {\n",
       "        text-align: right;\n",
       "    }\n",
       "</style>\n",
       "<table border=\"1\" class=\"dataframe\">\n",
       "  <thead>\n",
       "    <tr style=\"text-align: right;\">\n",
       "      <th></th>\n",
       "      <th>no</th>\n",
       "      <th>prodname</th>\n",
       "      <th>goods</th>\n",
       "      <th>coName</th>\n",
       "      <th>appno</th>\n",
       "    </tr>\n",
       "  </thead>\n",
       "  <tbody>\n",
       "    <tr>\n",
       "      <td>1675</td>\n",
       "      <td>1680</td>\n",
       "      <td>매딕솔루션액(80%염화-n-알킬디메틸에틸벤질암모늄·염화알킬벤질디메틸암모늄(1:1)액...</td>\n",
       "      <td>기타 방역용 소독제제</td>\n",
       "      <td>한국아이피엠</td>\n",
       "      <td>2719-0080</td>\n",
       "    </tr>\n",
       "    <tr>\n",
       "      <td>1676</td>\n",
       "      <td>1679</td>\n",
       "      <td>라믹너겟(디파시논)</td>\n",
       "      <td>감염병예방용 살서제</td>\n",
       "      <td>바이엘코리아㈜</td>\n",
       "      <td>2519-0089</td>\n",
       "    </tr>\n",
       "    <tr>\n",
       "      <td>1677</td>\n",
       "      <td>1678</td>\n",
       "      <td>쥐잡이싹스(플로구마펜)</td>\n",
       "      <td>감염병예방용 살서제</td>\n",
       "      <td>에스팜</td>\n",
       "      <td>2519-0088</td>\n",
       "    </tr>\n",
       "    <tr>\n",
       "      <td>1678</td>\n",
       "      <td>1677</td>\n",
       "      <td>오송야옹이산제(쿠마테트라릴)</td>\n",
       "      <td>감염병예방용 살서제</td>\n",
       "      <td>(주)오송</td>\n",
       "      <td>2519-0087</td>\n",
       "    </tr>\n",
       "    <tr>\n",
       "      <td>1679</td>\n",
       "      <td>1676</td>\n",
       "      <td>벅스존쿠마펜쥐킬펠렛(플로쿠마펜)</td>\n",
       "      <td>감염병예방용 살서제</td>\n",
       "      <td>(주)벅스존</td>\n",
       "      <td>2519-0086</td>\n",
       "    </tr>\n",
       "  </tbody>\n",
       "</table>\n",
       "</div>"
      ],
      "text/plain": [
       "        no                                           prodname        goods  \\\n",
       "1675  1680  매딕솔루션액(80%염화-n-알킬디메틸에틸벤질암모늄·염화알킬벤질디메틸암모늄(1:1)액...  기타 방역용 소독제제   \n",
       "1676  1679                                         라믹너겟(디파시논)   감염병예방용 살서제   \n",
       "1677  1678                                       쥐잡이싹스(플로구마펜)   감염병예방용 살서제   \n",
       "1678  1677                                    오송야옹이산제(쿠마테트라릴)   감염병예방용 살서제   \n",
       "1679  1676                                  벅스존쿠마펜쥐킬펠렛(플로쿠마펜)   감염병예방용 살서제   \n",
       "\n",
       "       coName      appno  \n",
       "1675   한국아이피엠  2719-0080  \n",
       "1676  바이엘코리아㈜  2519-0089  \n",
       "1677      에스팜  2519-0088  \n",
       "1678    (주)오송  2519-0087  \n",
       "1679   (주)벅스존  2519-0086  "
      ]
     },
     "execution_count": 28,
     "metadata": {},
     "output_type": "execute_result"
    }
   ],
   "source": [
    "df.tail()"
   ]
  },
  {
   "cell_type": "code",
   "execution_count": null,
   "metadata": {},
   "outputs": [],
   "source": []
  }
 ],
 "metadata": {
  "kernelspec": {
   "display_name": "Python 3",
   "language": "python",
   "name": "python3"
  },
  "language_info": {
   "codemirror_mode": {
    "name": "ipython",
    "version": 3
   },
   "file_extension": ".py",
   "mimetype": "text/x-python",
   "name": "python",
   "nbconvert_exporter": "python",
   "pygments_lexer": "ipython3",
   "version": "3.7.4"
  }
 },
 "nbformat": 4,
 "nbformat_minor": 2
}
