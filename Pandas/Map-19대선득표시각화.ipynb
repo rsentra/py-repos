{
 "cells": [
  {
   "cell_type": "markdown",
   "metadata": {},
   "source": [
    "# 19대 대선 시각화  \n",
    "아래 참조  \n",
    "https://blog.naver.com/owo2466/221669798756"
   ]
  },
  {
   "cell_type": "code",
   "execution_count": null,
   "metadata": {},
   "outputs": [],
   "source": [
    "import pandas as pd\n",
    "import numpy as np\n",
    "import platform\n",
    "import matplotlib.pyplot as plt\n",
    "\n",
    "%matplotlib inline\n",
    "\n",
    "path = \"c:/Windows/Fonts/malgun.ttf\"\n",
    "from matplotlib import font_manager, rc\n",
    "if platform.system() == 'Darwin':\n",
    "    rc('font', family='AppleGothic')\n",
    "elif platform.system() == 'Windows':\n",
    "    font_name = font_manager.FontProperties(fname=path).get_name()\n",
    "    rc('font', family=font_name)\n",
    "else:\n",
    "    print('Unknown system... sorry~~~~')    \n",
    "\n",
    "plt.rcParams['axes.unicode_minus'] = False"
   ]
  },
  {
   "cell_type": "code",
   "execution_count": null,
   "metadata": {},
   "outputs": [],
   "source": [
    "from selenium import webdriver\n",
    "import time"
   ]
  },
  {
   "cell_type": "code",
   "execution_count": null,
   "metadata": {},
   "outputs": [],
   "source": [
    "#driver = webdriver.Chrome('../driver/chromedriver')\n",
    "driver = webdriver.Chrome(\"C:/Users/user/Anaconda3/chromedriver_win32/chromedriver.exe\")\n",
    "driver.get(\"http://info.nec.go.kr/main/showDocument.xhtml?electionId=0000000000&topMenuId=VC&secondMenuId=VCCP09\")"
   ]
  },
  {
   "cell_type": "code",
   "execution_count": null,
   "metadata": {},
   "outputs": [],
   "source": [
    "driver.find_element_by_id(\"electionType1\").click()"
   ]
  },
  {
   "cell_type": "code",
   "execution_count": null,
   "metadata": {},
   "outputs": [],
   "source": [
    "driver.find_element_by_id(\"electionName\").send_keys(\"제19대\")"
   ]
  },
  {
   "cell_type": "code",
   "execution_count": null,
   "metadata": {},
   "outputs": [],
   "source": [
    "driver.find_element_by_id(\"electionCode\").send_keys(\"대통령선거\")"
   ]
  },
  {
   "cell_type": "code",
   "execution_count": null,
   "metadata": {},
   "outputs": [],
   "source": [
    "#화면에서 시,도 코드를 얻어옴\n",
    "sido_list_raw = driver.find_element_by_xpath(\"\"\"//*[@id=\"cityCode\"]\"\"\")\n",
    "sido_list = sido_list_raw.find_elements_by_tag_name(\"option\")\n",
    "sido_names_values = [option.text for option in sido_list]\n",
    "sido_names_values = sido_names_values[2:]\n",
    "sido_names_values"
   ]
  },
  {
   "cell_type": "code",
   "execution_count": null,
   "metadata": {},
   "outputs": [],
   "source": [
    "import re\n",
    "\n",
    "def get_num(tmp):\n",
    "    return float(re.split('\\(', tmp)[0].replace(',',''))"
   ]
  },
  {
   "cell_type": "markdown",
   "metadata": {},
   "source": [
    "위 모듈을 import해서 wait.until 함수를 사용한다.\n",
    "WebDriverWait 함수는 검색버튼이 클릭가능할 때 까지 기다리는 기능을 하고,\n",
    "move_sido 함수는 광역시도 이름을 리스트에 전송하고 검색 버튼을 누르는 역할을 한다."
   ]
  },
  {
   "cell_type": "code",
   "execution_count": null,
   "metadata": {},
   "outputs": [],
   "source": [
    "from selenium.webdriver.common.by import By\n",
    "from selenium.webdriver.support.ui import WebDriverWait\n",
    "from selenium.webdriver.support import expected_conditions as EC\n",
    "\n",
    "wait = WebDriverWait(driver, 10)\n",
    "\n",
    "def move_sido(name):\n",
    "    element = driver.find_element_by_id(\"cityCode\")\n",
    "    element.send_keys(name)\n",
    "    make_xpath = \"\"\"//*[@id=\"searchBtn\"]\"\"\"\n",
    "    wait.until(EC.element_to_be_clickable((By.XPATH,make_xpath)))\n",
    "    driver.find_element_by_xpath(make_xpath).click()"
   ]
  },
  {
   "cell_type": "code",
   "execution_count": null,
   "metadata": {},
   "outputs": [],
   "source": [
    "# append_data 함수는 빈 내용으로 미리 준비한 DataFrame에 append 명령으로 \n",
    "# 읽은 데이터를 하나씩 추가하는 기능을 가지고 있다.\n",
    "\n",
    "def append_data(df, sido_name, data):\n",
    "    for each in df[0].values[1:]:\n",
    "        data['광역시도'].append(sido_name)\n",
    "        data['시군'].append(each[0])\n",
    "        data['pop'].append(each[2])\n",
    "        data['moon'].append(get_num(each[3])) # 괄호가 있는 데이터만 미리 만들어둔 함수를 사용해준다.\n",
    "        data['hong'].append(get_num(each[4]))\n",
    "        data['ahn'].append(get_num(each[5]))"
   ]
  },
  {
   "cell_type": "code",
   "execution_count": null,
   "metadata": {},
   "outputs": [],
   "source": [
    "# 미리 변수를 하나 만들고\n",
    "\n",
    "election_result_raw = {'광역시도' : [],\n",
    "                       '시군' : [],\n",
    "                       'pop' : [],\n",
    "                       'moon' : [],\n",
    "                       'hong' : [],    \n",
    "                       'ahn' : [] }"
   ]
  },
  {
   "cell_type": "code",
   "execution_count": null,
   "metadata": {},
   "outputs": [],
   "source": [
    "from bs4 import BeautifulSoup\n",
    "\n",
    "for each_sido in sido_names_values:\n",
    "    move_sido(each_sido)\n",
    "    \n",
    "    html = driver.page_source\n",
    "    soup = BeautifulSoup(html, 'html.parser')\n",
    "    table = soup.find('table')\n",
    "    \n",
    "    df = pd.read_html(str(table))\n",
    "    \n",
    "    append_data(df, each_sido, election_result_raw)"
   ]
  },
  {
   "cell_type": "code",
   "execution_count": null,
   "metadata": {},
   "outputs": [],
   "source": [
    "# 데이터를 가겨와 DataFrame 형태로 만들어 준다.\n",
    "\n",
    "election_result = pd.DataFrame(election_result_raw, \n",
    "                               columns=['광역시도', '시군', 'pop', 'moon','hong','ahn'])\n",
    "election_result.head(10)"
   ]
  },
  {
   "cell_type": "code",
   "execution_count": null,
   "metadata": {},
   "outputs": [],
   "source": [
    "election_result.to_csv('../testData/election_result.csv', encoding='utf-8', sep=',')"
   ]
  },
  {
   "cell_type": "code",
   "execution_count": null,
   "metadata": {},
   "outputs": [],
   "source": [
    "df분석"
   ]
  },
  {
   "cell_type": "code",
   "execution_count": null,
   "metadata": {},
   "outputs": [],
   "source": [
    "# 저장한 엑셀파일을 불러온다.\n",
    "election_result = pd.read_csv('../testData/election_result.csv', encoding='utf-8', \n",
    "                              index_col=0)\n",
    "election_result.head()"
   ]
  },
  {
   "cell_type": "code",
   "execution_count": null,
   "metadata": {},
   "outputs": [],
   "source": [
    "sido_candi =  election_result['광역시도']"
   ]
  },
  {
   "cell_type": "code",
   "execution_count": null,
   "metadata": {},
   "outputs": [],
   "source": [
    "#광역시만 이름정리\n",
    "sido_candi = [name[:2] \n",
    "            if name[:2] in ['서울','부산','대구','광주','인천','대전','울산']\n",
    "            else '' for name in sido_candi]"
   ]
  },
  {
   "cell_type": "code",
   "execution_count": null,
   "metadata": {},
   "outputs": [],
   "source": [
    "# 두 글자의 구 이름은 그대로 보내고 3가지이름의 구 이름은 2자리수로 줄인다.\n",
    "def cut_char_sigu(name):\n",
    "    return name if len(name)==2 else name[:-1]"
   ]
  },
  {
   "cell_type": "code",
   "execution_count": null,
   "metadata": {},
   "outputs": [],
   "source": [
    "# 광역시가 아닌데 행정구를 가지고 있는 시에 대해 정리를 해준다.\n",
    "\n",
    "import re\n",
    "\n",
    "sigun_candi = ['']*len(election_result)\n",
    "\n",
    "for n in election_result.index:\n",
    "    each = election_result['시군'][n]\n",
    "    if each[:2] in ['수원', '성남','안양','안산','고양',\n",
    "                            '용인','청주','천안','전주','포항','창원']:\n",
    "        sigun_candi[n] = re.split('시', each)[0]+' '+ \\\n",
    "                                                        cut_char_sigu(re.split('시', each)[1])\n",
    "    else:\n",
    "        sigun_candi[n] = cut_char_sigu(each)\n",
    "        \n",
    "sigun_candi[:10]"
   ]
  },
  {
   "cell_type": "code",
   "execution_count": null,
   "metadata": {},
   "outputs": [],
   "source": [
    "# 광역시이름이 저장된 변수 'sido_candi'와 시군구 이름이 저장된 변수 'sigun_candi'를 합친다.\n",
    "# sido_candi 변수에 공란이 있으면 첫 글자가 띄어쓰기가 될 수 있기 때문에 정리를 해준다.\n",
    "\n",
    "ID_candi = [sido_candi[n]+' '+sigun_candi[n] for n in range(0,len(sigun_candi))]\n",
    "\n",
    "ID_candi = [name[1:] if name[0]==' ' else name for name in ID_candi]\n",
    "ID_candi = [name[:2] if name[:2]=='세종' else name for name in ID_candi] # 세종시는 예외 처리한다.\n",
    "\n",
    "ID_candi[100:113]"
   ]
  },
  {
   "cell_type": "code",
   "execution_count": null,
   "metadata": {},
   "outputs": [],
   "source": [
    "# ID_candi 변수를 election_result에 합친다.\n",
    "\n",
    "election_result['ID'] = ID_candi\n",
    "election_result.head(10)"
   ]
  },
  {
   "cell_type": "code",
   "execution_count": null,
   "metadata": {},
   "outputs": [],
   "source": [
    "# 세 후보의 득표수에서 투표자수를 나눠서 각각의 득표율을 계산한다.\n",
    "\n",
    "election_result[['rate_moon','rate_hong','rate_ahn']] = \\\n",
    "            election_result[['moon','hong','ahn']].div(election_result['pop'],  axis=0)\n",
    "election_result[['rate_moon','rate_hong','rate_ahn']] *= 100\n",
    "election_result.head()\n"
   ]
  },
  {
   "cell_type": "code",
   "execution_count": null,
   "metadata": {},
   "outputs": [],
   "source": [
    "# 문 후보가 높은 비율로 득표한 지역이다.\n",
    "\n",
    "election_result.sort_values(['rate_moon'], ascending=[False]).head(10)"
   ]
  },
  {
   "cell_type": "code",
   "execution_count": null,
   "metadata": {},
   "outputs": [],
   "source": [
    "draw_korea_raw = pd.read_excel('../testData/draw_korea_raw.xlsx')\n",
    "draw_korea_raw.head(3)"
   ]
  },
  {
   "cell_type": "code",
   "execution_count": null,
   "metadata": {},
   "outputs": [],
   "source": [
    "draw_korea_raw_starcked = pd.DataFrame(draw_korea_raw.stack())\n",
    "draw_korea_raw_starcked.reset_index(inplace=True)\n",
    "draw_korea_raw_starcked.rename(columns={'level_0':'y', 'level_1':'x', 0:'ID'}, inplace=True)\n",
    "draw_korea_raw_starcked.head()"
   ]
  },
  {
   "cell_type": "code",
   "execution_count": null,
   "metadata": {},
   "outputs": [],
   "source": [
    "draw_korea_raw_starcked.to_csv('../testData/draw_korea_raw.csv', encoding='utf-8', sep=',')"
   ]
  },
  {
   "cell_type": "code",
   "execution_count": null,
   "metadata": {},
   "outputs": [],
   "source": [
    "# 지역별 좌표 정보를 가지고 있는 파일을 불러온다.\n",
    "\n",
    "draw_korea = pd.read_csv('../testData/draw_korea_raw.csv', encoding='utf-8', index_col=0)\n",
    "draw_korea.head()"
   ]
  },
  {
   "cell_type": "markdown",
   "metadata": {},
   "source": [
    "draw_korea의 ID와 election_result의 ID가 일치해야 하기 때문에 서로의 차집합이 공집합인지 알아본다."
   ]
  },
  {
   "cell_type": "code",
   "execution_count": null,
   "metadata": {},
   "outputs": [],
   "source": [
    "set(draw_korea['ID'].unique()) - set(election_result['ID'].unique())"
   ]
  },
  {
   "cell_type": "code",
   "execution_count": null,
   "metadata": {},
   "outputs": [],
   "source": [
    "set(election_result['ID'].unique()) - set(draw_korea['ID'].unique())"
   ]
  },
  {
   "cell_type": "code",
   "execution_count": null,
   "metadata": {},
   "outputs": [],
   "source": [
    "election_result[election_result['ID'] == '고성']"
   ]
  },
  {
   "cell_type": "code",
   "execution_count": null,
   "metadata": {},
   "outputs": [],
   "source": [
    " #고성지역은 강원도와 경남 고성을 구분해준다.\n",
    "election_result.loc[125, 'ID'] = '고성(강원)'\n",
    "election_result.loc[233, 'ID'] = '고성(경남)'\n",
    "\n",
    "election_result[election_result['시군'] == '고성군']"
   ]
  },
  {
   "cell_type": "code",
   "execution_count": null,
   "metadata": {},
   "outputs": [],
   "source": []
  },
  {
   "cell_type": "code",
   "execution_count": null,
   "metadata": {},
   "outputs": [],
   "source": [
    "election_result[election_result['광역시도'] == '경상남도']"
   ]
  },
  {
   "cell_type": "code",
   "execution_count": null,
   "metadata": {},
   "outputs": [],
   "source": [
    "election_result.loc[228, 'ID'] = '창원 합포'\n",
    "election_result.loc[229, 'ID'] = '창원 회원'"
   ]
  },
  {
   "cell_type": "code",
   "execution_count": null,
   "metadata": {},
   "outputs": [],
   "source": [
    "# 부천시 데이터를 3으로 나눈다.데이터 삽입시 index번호를 확인한다.\n",
    "\n",
    "ahn_tmp = election_result.loc[85, 'ahn']/3\n",
    "hong_tmp = election_result.loc[85, 'hong']/3\n",
    "moon_tmp = election_result.loc[85, 'moon']/3\n",
    "pop_tmp = election_result.loc[85, 'pop']/3\n",
    "\n",
    "rate_moon_tmp = election_result.loc[85, 'rate_moon']\n",
    "rate_hong_tmp = election_result.loc[85, 'rate_hong']\n",
    "rate_ahn_tmp = election_result.loc[85, 'rate_ahn']\n",
    "\n",
    "election_result.loc[250] = [ahn_tmp, hong_tmp, moon_tmp, pop_tmp, \n",
    "                           '경기도', '부천시', '부천 소사', \n",
    "                           rate_moon_tmp, rate_hong_tmp, rate_ahn_tmp]\n",
    "election_result.loc[251] = [ahn_tmp, hong_tmp, moon_tmp, pop_tmp, \n",
    "                           '경기도', '부천시', '부천 오정', \n",
    "                           rate_moon_tmp, rate_hong_tmp, rate_ahn_tmp]\n",
    "election_result.loc[252] = [ahn_tmp, hong_tmp, moon_tmp, pop_tmp, \n",
    "                           '경기도', '부천시', '부천 원미', \n",
    "                           rate_moon_tmp, rate_hong_tmp, rate_ahn_tmp]"
   ]
  },
  {
   "cell_type": "code",
   "execution_count": null,
   "metadata": {},
   "outputs": [],
   "source": [
    "election_result.drop([85], inplace=True)\n",
    "election_result[election_result['시군'] == '부천시']"
   ]
  },
  {
   "cell_type": "code",
   "execution_count": null,
   "metadata": {},
   "outputs": [],
   "source": [
    "set(draw_korea['ID'].unique()) - set(election_result['ID'].unique())\n",
    "set(election_result['ID'].unique()) - set(draw_korea['ID'].unique())"
   ]
  },
  {
   "cell_type": "code",
   "execution_count": null,
   "metadata": {},
   "outputs": [],
   "source": [
    "final_elect_data = pd.merge(election_result, draw_korea, how='left', on=['ID'])\n",
    "final_elect_data.head()"
   ]
  },
  {
   "cell_type": "code",
   "execution_count": null,
   "metadata": {},
   "outputs": [],
   "source": [
    "# 마지막으로 득표율 차이를 계산해준다.\n",
    "# (문 후보와 홍 후보의 득표율 차이) -> moon_vs_hong\n",
    "# (문 후보와 안 후보의 득표율 차이) -> moon_vs_ahn\n",
    "# (안 후보와 홍 후보의 득표율 차이) -> ahn_vs_hong\n",
    "\n",
    "final_elect_data['moon_vs_hong'] = final_elect_data['rate_moon'] - \\\n",
    "                                                                final_elect_data['rate_hong']\n",
    "final_elect_data['moon_vs_ahn'] = final_elect_data['rate_moon'] - \\\n",
    "                                                                final_elect_data['rate_ahn']\n",
    "final_elect_data['ahn_vs_hong'] = final_elect_data['rate_ahn'] - \\\n",
    "                                                                final_elect_data['rate_hong']\n",
    "final_elect_data.head()"
   ]
  },
  {
   "cell_type": "markdown",
   "metadata": {},
   "source": [
    "# 시각화-좌표"
   ]
  },
  {
   "cell_type": "code",
   "execution_count": null,
   "metadata": {},
   "outputs": [],
   "source": [
    "# 경계선을 그리는 라인이다.\n",
    "BORDER_LINES = [\n",
    "    [(5, 1), (5,2), (7,2), (7,3), (11,3), (11,0)], # 인천\n",
    "    [(5,4), (5,5), (2,5), (2,7), (4,7), (4,9), (7,9), \n",
    "     (7,7), (9,7), (9,5), (10,5), (10,4), (5,4)], # 서울\n",
    "    [(1,7), (1,8), (3,8), (3,10), (10,10), (10,7), \n",
    "     (12,7), (12,6), (11,6), (11,5), (12, 5), (12,4), \n",
    "     (11,4), (11,3)], # 경기도\n",
    "    [(8,10), (8,11), (6,11), (6,12)], # 강원도\n",
    "    [(12,5), (13,5), (13,4), (14,4), (14,5), (15,5), \n",
    "     (15,4), (16,4), (16,2)], # 충청북도\n",
    "    [(16,4), (17,4), (17,5), (16,5), (16,6), (19,6), \n",
    "     (19,5), (20,5), (20,4), (21,4), (21,3), (19,3), (19,1)], # 전라북도\n",
    "    [(13,5), (13,6), (16,6)], # 대전시\n",
    "    [(13,5), (14,5)], #세종시\n",
    "    [(21,2), (21,3), (22,3), (22,4), (24,4), (24,2), (21,2)], #광주\n",
    "    [(20,5), (21,5), (21,6), (23,6)], #전라남도\n",
    "    [(10,8), (12,8), (12,9), (14,9), (14,8), (16,8), (16,6)], #충청북도\n",
    "    [(14,9), (14,11), (14,12), (13,12), (13,13)], #경상북도\n",
    "    [(15,8), (17,8), (17,10), (16,10), (16,11), (14,11)], #대구\n",
    "    [(17,9), (18,9), (18,8), (19,8), (19,9), (20,9), (20,10), (21,10)], #부산\n",
    "    [(16,11), (16,13)], #울산\n",
    "    [(27,5), (27,6), (25,6)],\n",
    "]"
   ]
  },
  {
   "cell_type": "code",
   "execution_count": null,
   "metadata": {},
   "outputs": [],
   "source": [
    "blockedMap=final_elect_data\n",
    "targetData='moon_vs_hong'\n",
    "print(np.abs(min(blockedMap[targetData])))\n",
    "print(np.abs(max(blockedMap[targetData])))\n",
    "max([ np.abs(min(blockedMap[targetData])), np.abs(max(blockedMap[targetData]))])"
   ]
  },
  {
   "cell_type": "code",
   "execution_count": null,
   "metadata": {},
   "outputs": [],
   "source": [
    "blockedMap.shape"
   ]
  },
  {
   "cell_type": "code",
   "execution_count": null,
   "metadata": {},
   "outputs": [],
   "source": [
    "def drawKorea(targetData, blockedMap, cmapname):\n",
    "    gamma = 0.75\n",
    "    whitelabelmin = 20.\n",
    "    datalabel = targetData\n",
    "\n",
    "    tmp_max = max([ np.abs(min(blockedMap[targetData])), np.abs(max(blockedMap[targetData]))])\n",
    "    vmin, vmax = -tmp_max, tmp_max\n",
    "\n",
    "    mapdata = blockedMap.pivot_table(index='y', columns='x', values=targetData)\n",
    "    masked_mapdata = np.ma.masked_where(np.isnan(mapdata), mapdata)\n",
    "    \n",
    "    plt.figure(figsize=(9, 11))\n",
    "    plt.pcolor(masked_mapdata, vmin=vmin, vmax=vmax, cmap=cmapname, edgecolor='#aaaaaa', linewidth=0.5)\n",
    "\n",
    "    # 지역 이름 표시\n",
    "    for idx, row in blockedMap.iterrows():\n",
    "        # 광역시는 구 이름이 겹치는 경우가 많아서 시단위 이름도 같이 표시한다. \n",
    "        #(중구, 서구)\n",
    "        if len(row['ID'].split())==2:\n",
    "            dispname = '{}\\n{}'.format(row['ID'].split()[0], row['ID'].split()[1])\n",
    "        elif row['ID'][:2]=='고성':\n",
    "            dispname = '고성'\n",
    "        else:\n",
    "            dispname = row['ID']\n",
    "\n",
    "        # 서대문구, 서귀포시 같이 이름이 3자 이상인 경우에 작은 글자로 표시한다.\n",
    "        if len(dispname.splitlines()[-1]) >= 3:\n",
    "            fontsize, linespacing = 10.0, 1.1\n",
    "        else:\n",
    "            fontsize, linespacing = 11, 1.\n",
    "\n",
    "        annocolor = 'white' if np.abs(row[targetData]) > whitelabelmin else 'black'\n",
    "        plt.annotate(dispname, (row['x']+0.5, row['y']+0.5), weight='bold',\n",
    "                     fontsize=fontsize, ha='center', va='center', color=annocolor, linespacing=linespacing)\n",
    "\n",
    "    # 시도 경계 그린다.\n",
    "    for path in BORDER_LINES:\n",
    "        ys, xs = zip(*path)\n",
    "        plt.plot(xs, ys, c='black', lw=2)\n",
    "\n",
    "    plt.gca().invert_yaxis()\n",
    "    plt.axis('off')\n",
    "\n",
    "    cb = plt.colorbar(shrink=.1, aspect=10)\n",
    "    cb.set_label(datalabel)\n",
    "\n",
    "    plt.tight_layout()\n",
    "    plt.show()"
   ]
  },
  {
   "cell_type": "code",
   "execution_count": null,
   "metadata": {},
   "outputs": [],
   "source": [
    "# (문재인 후보 vs 홍준표 후보)의 득표율 차이\n",
    "drawKorea('moon_vs_hong', final_elect_data, 'RdBu')"
   ]
  },
  {
   "cell_type": "code",
   "execution_count": null,
   "metadata": {},
   "outputs": [],
   "source": [
    "# folium를 이용해 결과를 비교 해본다.\n",
    "\n",
    "import folium\n",
    "import json\n",
    "import warnings\n",
    "warnings.simplefilter(action='ignore', category=FutureWarning)\n"
   ]
  },
  {
   "cell_type": "code",
   "execution_count": 133,
   "metadata": {},
   "outputs": [
    {
     "data": {
      "text/html": [
       "<div>\n",
       "<style scoped>\n",
       "    .dataframe tbody tr th:only-of-type {\n",
       "        vertical-align: middle;\n",
       "    }\n",
       "\n",
       "    .dataframe tbody tr th {\n",
       "        vertical-align: top;\n",
       "    }\n",
       "\n",
       "    .dataframe thead th {\n",
       "        text-align: right;\n",
       "    }\n",
       "</style>\n",
       "<table border=\"1\" class=\"dataframe\">\n",
       "  <thead>\n",
       "    <tr style=\"text-align: right;\">\n",
       "      <th></th>\n",
       "      <th>pop</th>\n",
       "      <th>moon</th>\n",
       "      <th>hong</th>\n",
       "      <th>ahn</th>\n",
       "      <th>rate_moon</th>\n",
       "      <th>rate_hong</th>\n",
       "      <th>rate_ahn</th>\n",
       "      <th>y</th>\n",
       "      <th>x</th>\n",
       "      <th>moon_vs_hong</th>\n",
       "      <th>moon_vs_ahn</th>\n",
       "      <th>ahn_vs_hong</th>\n",
       "    </tr>\n",
       "    <tr>\n",
       "      <th>ID</th>\n",
       "      <th></th>\n",
       "      <th></th>\n",
       "      <th></th>\n",
       "      <th></th>\n",
       "      <th></th>\n",
       "      <th></th>\n",
       "      <th></th>\n",
       "      <th></th>\n",
       "      <th></th>\n",
       "      <th></th>\n",
       "      <th></th>\n",
       "      <th></th>\n",
       "    </tr>\n",
       "  </thead>\n",
       "  <tbody>\n",
       "    <tr>\n",
       "      <th>서울 종로</th>\n",
       "      <td>102566.0</td>\n",
       "      <td>42512.0</td>\n",
       "      <td>22325</td>\n",
       "      <td>22313</td>\n",
       "      <td>41.448433</td>\n",
       "      <td>21.766472</td>\n",
       "      <td>21.754773</td>\n",
       "      <td>4</td>\n",
       "      <td>6</td>\n",
       "      <td>19.681961</td>\n",
       "      <td>19.693661</td>\n",
       "      <td>-0.011700</td>\n",
       "    </tr>\n",
       "    <tr>\n",
       "      <th>서울 중구</th>\n",
       "      <td>82852.0</td>\n",
       "      <td>34062.0</td>\n",
       "      <td>17901</td>\n",
       "      <td>19372</td>\n",
       "      <td>41.111862</td>\n",
       "      <td>21.605996</td>\n",
       "      <td>23.381451</td>\n",
       "      <td>5</td>\n",
       "      <td>6</td>\n",
       "      <td>19.505866</td>\n",
       "      <td>17.730411</td>\n",
       "      <td>1.775455</td>\n",
       "    </tr>\n",
       "    <tr>\n",
       "      <th>서울 용산</th>\n",
       "      <td>148157.0</td>\n",
       "      <td>58081.0</td>\n",
       "      <td>35230</td>\n",
       "      <td>32109</td>\n",
       "      <td>39.202333</td>\n",
       "      <td>23.778829</td>\n",
       "      <td>21.672280</td>\n",
       "      <td>6</td>\n",
       "      <td>6</td>\n",
       "      <td>15.423503</td>\n",
       "      <td>17.530053</td>\n",
       "      <td>-2.106549</td>\n",
       "    </tr>\n",
       "    <tr>\n",
       "      <th>서울 성동</th>\n",
       "      <td>203175.0</td>\n",
       "      <td>86686.0</td>\n",
       "      <td>40566</td>\n",
       "      <td>45674</td>\n",
       "      <td>42.665682</td>\n",
       "      <td>19.966039</td>\n",
       "      <td>22.480128</td>\n",
       "      <td>5</td>\n",
       "      <td>7</td>\n",
       "      <td>22.699643</td>\n",
       "      <td>20.185554</td>\n",
       "      <td>2.514089</td>\n",
       "    </tr>\n",
       "    <tr>\n",
       "      <th>서울 광진</th>\n",
       "      <td>240030.0</td>\n",
       "      <td>105512.0</td>\n",
       "      <td>46368</td>\n",
       "      <td>52824</td>\n",
       "      <td>43.957839</td>\n",
       "      <td>19.317585</td>\n",
       "      <td>22.007249</td>\n",
       "      <td>6</td>\n",
       "      <td>7</td>\n",
       "      <td>24.640253</td>\n",
       "      <td>21.950590</td>\n",
       "      <td>2.689664</td>\n",
       "    </tr>\n",
       "  </tbody>\n",
       "</table>\n",
       "</div>"
      ],
      "text/plain": [
       "            pop      moon   hong    ahn  rate_moon  rate_hong   rate_ahn  y  \\\n",
       "ID                                                                            \n",
       "서울 종로  102566.0   42512.0  22325  22313  41.448433  21.766472  21.754773  4   \n",
       "서울 중구   82852.0   34062.0  17901  19372  41.111862  21.605996  23.381451  5   \n",
       "서울 용산  148157.0   58081.0  35230  32109  39.202333  23.778829  21.672280  6   \n",
       "서울 성동  203175.0   86686.0  40566  45674  42.665682  19.966039  22.480128  5   \n",
       "서울 광진  240030.0  105512.0  46368  52824  43.957839  19.317585  22.007249  6   \n",
       "\n",
       "       x  moon_vs_hong  moon_vs_ahn  ahn_vs_hong  \n",
       "ID                                                \n",
       "서울 종로  6     19.681961    19.693661    -0.011700  \n",
       "서울 중구  6     19.505866    17.730411     1.775455  \n",
       "서울 용산  6     15.423503    17.530053    -2.106549  \n",
       "서울 성동  7     22.699643    20.185554     2.514089  \n",
       "서울 광진  7     24.640253    21.950590     2.689664  "
      ]
     },
     "execution_count": 133,
     "metadata": {},
     "output_type": "execute_result"
    }
   ],
   "source": [
    "\n",
    "pop_folium = final_elect_data.set_index('ID')\n",
    "\n",
    "del pop_folium['광역시도']\n",
    "del pop_folium['시군']\n",
    "\n",
    "pop_folium.head()"
   ]
  },
  {
   "cell_type": "code",
   "execution_count": 140,
   "metadata": {},
   "outputs": [],
   "source": [
    "\n",
    "geo_path = '../testData/skorea_municipalities_geo_simple2.json'\n",
    "geo_str = json.load(open(geo_path, encoding='utf-8'))\n",
    "\n",
    "map = folium.Map(location=[36.2002, 127.054], zoom_start=6)\n",
    "map.choropleth(geo_data = geo_str,\n",
    "               data = pop_folium['moon_vs_hong'],\n",
    "               columns = [pop_folium.index, pop_folium['moon_vs_hong']],\n",
    "               fill_color = 'PuBu', #PuRd, YlGnBu\n",
    "               key_on = 'feature.properties.name')"
   ]
  },
  {
   "cell_type": "code",
   "execution_count": null,
   "metadata": {},
   "outputs": [],
   "source": []
  }
 ],
 "metadata": {
  "kernelspec": {
   "display_name": "Python 3",
   "language": "python",
   "name": "python3"
  },
  "language_info": {
   "codemirror_mode": {
    "name": "ipython",
    "version": 3
   },
   "file_extension": ".py",
   "mimetype": "text/x-python",
   "name": "python",
   "nbconvert_exporter": "python",
   "pygments_lexer": "ipython3",
   "version": "3.7.4"
  }
 },
 "nbformat": 4,
 "nbformat_minor": 4
}
