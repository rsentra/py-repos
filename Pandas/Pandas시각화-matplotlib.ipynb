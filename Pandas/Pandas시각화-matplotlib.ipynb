{
 "cells": [
  {
   "cell_type": "markdown",
   "metadata": {},
   "source": [
    "# pyplot, seaborn 혼용\n",
    "순서\n",
    "1.  plt.figure(figsize=10,7))\n",
    "    sns.set(font_scale=1.5)\n",
    "    sns.set_style(\"white\")\n",
    " \n",
    "2. plot: 독립변수x에 대한 y의 변화를 line으로    \n",
    " - x축이 연속적인 series형태인 경우 y축(컬럼)을 선으로 그림  \n",
    " - 입력값은 series 또는 df, 인덱스가 x축  (x축이 없는 경우 자동으로 실수값 할당됨)  \n",
    "  df.plot() 과 plt.plot(df)는 같은 결과나옴   \n",
    "  \n",
    "  [색상과 스타일 ]\n",
    "  plt.plot(x,y,'ro')  \n",
    "   색상: b (blue), g(green), r, c, m, y, k(black) , w   \n",
    "   마커: o (circle), v (역삼각형), ^( 삼각형), s(네모), + , . \n",
    "2. bar : 독립변수x에 대한 y의 변화를 bar로   \n",
    " - x축에 대한 y축의 값을 표현할때 (x축은 index, y축은 컬럼) \n",
    " - 입력값은 series 또는 df, 인덱스가 x축     \n",
    "3. hist  \n",
    " - 시리즈값에 대해 지정한 구간갯수(bin)만큼의 분포도 \n",
    "4. scatter: 독립변수 2개의 상관관계  \n",
    "   \n",
    "   plt.xlabel('x'축\") - x축 제목, y도\n",
    "   plt.title('제목') - 그래프제목\n",
    "   plt.set_xticklabels(lablename,rotation=90) - x축 값들, y도\n",
    "   [legend]\n",
    "    Location String\tLocation Code\n",
    "    ‘best’\t0\n",
    "    ‘upper right’\t1\n",
    "    ‘upper left’\t2\n",
    "    ‘lower left’\t3\n",
    "    ‘lower right’\t4\n",
    "    ‘right’\t5\n",
    "    ‘center left’\t6\n",
    "    ‘center right’\t7\n",
    "    ‘lower center’\t8\n",
    "    ‘upper center’\t9\n",
    "    ‘center’\t10"
   ]
  },
  {
   "cell_type": "code",
   "execution_count": null,
   "metadata": {},
   "outputs": [],
   "source": [
    "import matplotlib.pyplot as plt\n",
    "import matplotlib as mpl\n",
    "import pandas as pd\n",
    "%matplotlib inline \n",
    "#한글 폰트에서 - 깨지는 문제해결\n",
    "mpl.rcParams['axes.unicode_minus']=False\n",
    "fl='E:/글로벌백업(180329)/04.수수료작업/집계.xlsx'\n",
    "df_m3= pd.read_excel(fl,header=0)"
   ]
  },
  {
   "cell_type": "code",
   "execution_count": null,
   "metadata": {},
   "outputs": [],
   "source": [
    "#df_m3[['지점','합계']].plot()\n",
    "c"
   ]
  },
  {
   "cell_type": "code",
   "execution_count": null,
   "metadata": {},
   "outputs": [],
   "source": [
    "#2개의 column에 대해\n",
    "#1. plot\n",
    "#df_m4.plot()\n",
    "plt.plot(df_m4)\n",
    "#2. bar\n",
    "#df_m4.plot(kind='bar')\n",
    "df_m4.plot(kind='bar',stacked=True) #인덱스별 1개 막대에 구성비"
   ]
  },
  {
   "cell_type": "code",
   "execution_count": null,
   "metadata": {},
   "outputs": [],
   "source": [
    "#series에 대한것은 plot\n",
    "#1. plot\n",
    "#df_m3.groupby('지점')['합계'].agg('sum').plot()\n",
    "#2. bar\n",
    "df_m3.groupby('지점')['합계'].agg('sum').plot(kind='bar')\n",
    "#df_m3.groupby('지점')['합계'].agg('sum').plot.bar()"
   ]
  },
  {
   "cell_type": "code",
   "execution_count": null,
   "metadata": {},
   "outputs": [],
   "source": [
    "df_m4['합계'].hist(bins=50)"
   ]
  },
  {
   "cell_type": "code",
   "execution_count": null,
   "metadata": {},
   "outputs": [],
   "source": [
    "plt.scatter(df_m3.장기, df_m3.합계)"
   ]
  },
  {
   "cell_type": "code",
   "execution_count": null,
   "metadata": {},
   "outputs": [],
   "source": [
    "df_m4.plot.line()"
   ]
  },
  {
   "cell_type": "markdown",
   "metadata": {},
   "source": [
    "#### [화면에 여러개 그래프- figure / subplot  \n",
    " fig = plt.figure()  : figure안에 2개의 subplot위치  \n",
    " ax1 = fig.add_subplot(2, 1, 1) :  sub plot1    \n",
    " ax2 = fig.add_subplot(2, 1, 2) :  sub plot2    \n",
    "\n",
    " ax1.plot(x, sin_y, 'b--')\n",
    " ax2.plot(x, cos_y, 'r--')\n",
    " plt.show()"
   ]
  },
  {
   "cell_type": "code",
   "execution_count": null,
   "metadata": {},
   "outputs": [],
   "source": [
    "import numpy as np\n",
    "import matplotlib.pyplot as plt\n",
    "\n",
    "x = np.arange(0.0, 2 * np.pi, 0.1)\n",
    "sin_y = np.sin(x)\n",
    "cos_y = np.cos(x)\n",
    "\n",
    "fig = plt.figure()\n",
    "ax1 = fig.add_subplot(2, 1, 1)  #그래프 그릴 위치 (2행1열, 1번째 sub)  \n",
    "ax2 = fig.add_subplot(2, 1, 2)                   (2행1열, 2번째 sub)  \n",
    "\n",
    "ax1.plot(x, sin_y, 'b--') #각각 그래프 생성\n",
    "ax2.plot(x, cos_y, 'r--')\n",
    "\n",
    "ax1.set_xlabel('x name')  #x축 라벨\n",
    "ax1.set_ylabel('y name)')\n",
    "plt.show()"
   ]
  },
  {
   "cell_type": "markdown",
   "metadata": {},
   "source": [
    "#### 실제 사례 시작\n",
    " - 파일read, 전처리"
   ]
  },
  {
   "cell_type": "code",
   "execution_count": 1,
   "metadata": {},
   "outputs": [],
   "source": [
    "import matplotlib.pyplot as plt\n",
    "import matplotlib as mpl\n",
    "import pandas as pd\n",
    "\n",
    "fl='E:/python/testData/건별업적.xlsx'\n",
    "df= pd.read_excel(fl,header=0)"
   ]
  },
  {
   "cell_type": "code",
   "execution_count": null,
   "metadata": {},
   "outputs": [],
   "source": [
    "df.head(2)"
   ]
  },
  {
   "cell_type": "code",
   "execution_count": 2,
   "metadata": {},
   "outputs": [],
   "source": [
    "import datetime\n",
    "cond1= df.파일타입=='A'\n",
    "fr=pd.to_datetime('2020-02-01',format='%Y-%m-%d')\n",
    "to=pd.to_datetime('2020-02-28',format='%Y-%m-%d')\n",
    "cond2= (df.계약일자 >= fr) & (df.계약일자 <= to)\n",
    "df2=pd.DataFrame(df[cond1 & cond2].groupby(['그룹화지점','계약일자'])['초회보험료'].agg('sum'))\n",
    "df2=df2.reset_index()"
   ]
  },
  {
   "cell_type": "markdown",
   "metadata": {},
   "source": [
    "### 한 화면에 그래프 그리기"
   ]
  },
  {
   "cell_type": "code",
   "execution_count": null,
   "metadata": {},
   "outputs": [],
   "source": [
    "df3=df2[df2.그룹화지점=='엠피성공'][['계약일자','초회보험료']]\n",
    "df3.set_index('계약일자',inplace=True)\n",
    "plt.plot(df3,label='엠피성공')\n",
    "\n",
    "df3=df2[df2.그룹화지점=='엠피송내'][['계약일자','초회보험료']]\n",
    "df3.set_index('계약일자',inplace=True)\n",
    "plt.plot(df3,label='엠피송내')\n",
    "\n",
    "df3=df2[df2.그룹화지점=='엠피의정부'][['계약일자','초회보험료']]\n",
    "df3.set_index('계약일자',inplace=True)\n",
    "plt.plot(df3,label='엠피의정부')\n",
    "\n",
    "plt.legend(loc=0)\n",
    "plt.show()"
   ]
  },
  {
   "cell_type": "markdown",
   "metadata": {},
   "source": [
    "### 한 화면에 그래프 그리기 -loop"
   ]
  },
  {
   "cell_type": "code",
   "execution_count": null,
   "metadata": {},
   "outputs": [],
   "source": [
    "grps=df2.그룹화지점.unique()\n",
    "for grp in grps:\n",
    "    df3=df2[df2.그룹화지점==grp][['계약일자','초회보험료']]\n",
    "    df3.set_index('계약일자',inplace=True)\n",
    "    plt.plot(df3,label=grp)\n",
    "plt.legend(loc=0)\n",
    "plt.show()"
   ]
  },
  {
   "cell_type": "markdown",
   "metadata": {},
   "source": [
    "### 한 화면에 그래프 2개 그리기"
   ]
  },
  {
   "cell_type": "code",
   "execution_count": null,
   "metadata": {},
   "outputs": [],
   "source": [
    "df4=pd.DataFrame(df[cond1 & cond2].groupby(['그룹화지점','계약일자'])['초회보험료'].agg('sum'))"
   ]
  },
  {
   "cell_type": "code",
   "execution_count": 13,
   "metadata": {},
   "outputs": [],
   "source": [
    "fl='D:/글로벌/실적분석/코드파일.xlsx'\n",
    "#fl='E:/글로벌백업(180329)/04.수수료작업/코드목록.xlsx'\n",
    "df_grp= pd.read_excel(fl,sheet_name='지점그룹')\n",
    "\n",
    "df_grp.set_index('지점',inplace=True)\n",
    "df4.reset_index(inplace=True)\n",
    "df4=pd.merge(df4,df_grp,how='inner',left_on='그룹화지점', right_on='지점')\n",
    "df4=df4.rename(columns={'지점그룹_y':'그룹'})"
   ]
  },
  {
   "cell_type": "code",
   "execution_count": 14,
   "metadata": {},
   "outputs": [
    {
     "name": "stderr",
     "output_type": "stream",
     "text": [
      "d:\\Anaconda3\\lib\\site-packages\\ipykernel_launcher.py:12: MatplotlibDeprecationWarning: Non-1D inputs to pie() are currently squeeze()d, but this behavior is deprecated since 3.1 and will be removed in 3.3; pass a 1D array instead.\n",
      "  if sys.path[0] == '':\n"
     ]
    },
    {
     "data": {
      "image/png": "[encoded data removed]",
      "text/plain": [
       "<Figure size 864x576 with 2 Axes>"
      ]
     },
     "metadata": {
      "needs_background": "light"
     },
     "output_type": "display_data"
    }
   ],
   "source": [
    "fig = plt.figure()  \n",
    "ax1 = fig.add_subplot(1, 2, 1) \n",
    "ax2 = fig.add_subplot(1, 2, 2) \n",
    "\n",
    "plt.subplots_adjust(wspace=1.5) \n",
    "#ax3 = fig.add_subplot(2, 2, 4) \n",
    "fig.figsize=(20,10)  #width,height incches\n",
    "\n",
    "df5=pd.DataFrame(df4.groupby('그룹')['초회보험료'].agg('sum'))\n",
    "lbls=df5.index\n",
    "ax1.pie(df5,labels=lbls)\n",
    "#ax1.legend(loc=1)\n",
    "\n",
    "\n",
    "df5=pd.DataFrame(df4[df4.그룹=='지사'].groupby('그룹화지점')['초회보험료'].agg('sum'))\n",
    "df5.reset_index(inplace=True)\n",
    "ax2.barh(df5.그룹화지점,df5.초회보험료)\n",
    "\n",
    "df5=pd.DataFrame(df4[df4.그룹=='직영'].groupby('그룹화지점')['초회보험료'].agg('sum'))\n",
    "df5.reset_index(inplace=True)\n",
    "ax2.barh(df5.그룹화지점,df5.초회보험료)\n",
    "\n",
    "plt.show()"
   ]
  },
  {
   "cell_type": "code",
   "execution_count": null,
   "metadata": {},
   "outputs": [],
   "source": [
    "import matplotlib.font_manager as fm\n",
    "font_list = fm.findSystemFonts(fontpaths = None, fontext = 'ttf')\n",
    "\n",
    "font_list[:]\n"
   ]
  }
 ],
 "metadata": {
  "kernelspec": {
   "display_name": "Python 3",
   "language": "python",
   "name": "python3"
  },
  "language_info": {
   "codemirror_mode": {
    "name": "ipython",
    "version": 3
   },
   "file_extension": ".py",
   "mimetype": "text/x-python",
   "name": "python",
   "nbconvert_exporter": "python",
   "pygments_lexer": "ipython3",
   "version": "3.7.4"
  }
 },
 "nbformat": 4,
 "nbformat_minor": 4
}
