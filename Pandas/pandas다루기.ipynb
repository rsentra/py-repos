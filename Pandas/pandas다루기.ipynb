{
 "cells": [
  {
   "cell_type": "markdown",
   "metadata": {},
   "source": [
    "## apply,map함수  \n",
    " 1.apply   \n",
    "   1) series, dataframe객체 모두 사용 가능  \n",
    "  ```python\n",
    "    #단일인자\n",
    "    def ex_year(col):\n",
    "        return col.split('-')[0]\n",
    "    df['bDate'].apply(ex_year)  \n",
    "    \n",
    "    #multi 인자, 첫값 선택 \n",
    "    def funcA(x,y):\n",
    "        return x,y   #리스트 리턴\n",
    "    df.apply(lambda x:funcA(x['cola'],x['colB'][0]) \n",
    "             \n",
    "  ```    \n",
    " 2.map  \n",
    "   1) apply와 같은 방식으로 사용가능하나 series객체만 사용 가능  \n",
    "      따라서, 인자도 1개만 가능함 -> 복수 인자는 apply사용해야  \n",
    "   2) 아래처럼 map함수내에 dict를 전달하여 값 변환 가능    \n",
    "      df.name.map({'서울':'1','부산':'2','대전':'3'})   "
   ]
  },
  {
   "cell_type": "code",
   "execution_count": null,
   "metadata": {},
   "outputs": [],
   "source": [
    "import pandas as pd\n",
    "dict=[ {'name':'april','cls':'a','bDate':'2018-01-17','salary':300, 'amt':30000.10},\n",
    "       {'name':'babe','cls':'a','bDate':'2018-01-22','salary':400, 'amt':33000.1088},\n",
    "       {'name':'cyan','cls':'b','bDate':'2018-05-08','salary':500, 'amt':36000.1088},\n",
    "       {'name':'cyan','cls':'b','bDate':'2015-11-03','salary':500, 'amt':36000.1077},\n",
    "       {'name':'eric','cls':'c','bDate':'2018-07-10','salary':500, 'amt':36000.1678},\n",
    "       {'name':'gag','cls':'b','bDate':'2015-01-02','salary':500, 'amt':36000.10},\n",
    "       {'name':'little','cls':'d','bDate':'2013-11-02','salary':500, 'amt':36000.15},\n",
    "       {'name':'doct','cls':'a','bDate':'2010-01-02','salary':600, 'amt':56000.1550}]\n",
    "\n",
    "df=pd.DataFrame(dict)"
   ]
  },
  {
   "cell_type": "code",
   "execution_count": null,
   "metadata": {},
   "outputs": [],
   "source": [
    "df.name.map({'cyan':'1','doct':'2','':''}) # map으로 각 항목값을 변환"
   ]
  },
  {
   "cell_type": "code",
   "execution_count": null,
   "metadata": {},
   "outputs": [],
   "source": [
    "def ex_year(col):\n",
    "    return col.split('-')[0]\n",
    "\n",
    "def ex_age(bdate, cdate):\n",
    "    return int(cdate.split('-')[0]) - int(bdate.split('-')[0])"
   ]
  },
  {
   "cell_type": "code",
   "execution_count": null,
   "metadata": {},
   "outputs": [],
   "source": [
    "df['bDate'].apply(ex_age, cdate='2020-02-01')"
   ]
  },
  {
   "cell_type": "markdown",
   "metadata": {},
   "source": [
    "### group by ,count  \n",
    "1.groupby  \n",
    "2.pivot  \n",
    " -column을 row로 변경  "
   ]
  },
  {
   "cell_type": "code",
   "execution_count": null,
   "metadata": {},
   "outputs": [],
   "source": [
    "df.name.value_counts() #name 각각에 대한 건수"
   ]
  },
  {
   "cell_type": "code",
   "execution_count": null,
   "metadata": {},
   "outputs": [],
   "source": [
    "df.name.unique()  #unique한 name리스트"
   ]
  },
  {
   "cell_type": "code",
   "execution_count": null,
   "metadata": {},
   "outputs": [],
   "source": [
    "groupby_class=df.groupby('cls') #그룹 object 생성\n",
    "groupby_class.groups\n",
    "for name,group in groupby_class:\n",
    "    print(name +' : ' + str(len(group)))  #그룹별 건수\n",
    "    print(group)  #그룹화된 df 출력\n",
    "    print(' ')"
   ]
  },
  {
   "cell_type": "code",
   "execution_count": null,
   "metadata": {},
   "outputs": [],
   "source": [
    "df_class_cnt=pd.DataFrame({'count':groupby_class.size()})  #데이터프레임으로"
   ]
  },
  {
   "cell_type": "code",
   "execution_count": null,
   "metadata": {},
   "outputs": [],
   "source": [
    "df_class_cnt=pd.DataFrame({'count':groupby_class.size()}).reset_index  #index을 컬럼이름으로 "
   ]
  },
  {
   "cell_type": "code",
   "execution_count": null,
   "metadata": {},
   "outputs": [],
   "source": [
    "df[df.cls.isin(['a','b'])]"
   ]
  },
  {
   "cell_type": "code",
   "execution_count": null,
   "metadata": {},
   "outputs": [],
   "source": [
    "df.name.value_counts()"
   ]
  },
  {
   "cell_type": "code",
   "execution_count": null,
   "metadata": {},
   "outputs": [],
   "source": [
    "df.pivot(columns='name',values='salary')"
   ]
  },
  {
   "cell_type": "markdown",
   "metadata": {},
   "source": [
    "1. 결측치보정, join (코드변경), groupby, merge, reshape column\n",
    "2. join  "
   ]
  },
  {
   "cell_type": "code",
   "execution_count": null,
   "metadata": {},
   "outputs": [],
   "source": [
    "import pandas as pd\n",
    "fl='D:/글로벌/실적분석/곰스_2002.xlsx'\n",
    "#fl='E:/글로벌백업(180329)/04.수수료작업/201912수수료/계약목록.xlsx'\n",
    "df= pd.read_excel(fl)\n",
    "\n",
    "df= df[df.NO!='합계']   #불필요 데이터 삭제\n",
    "df['지점'].fillna('엠피메트로', inplace=True)  #결측치 보정\n",
    "\n",
    "#지점명 변환 join\n",
    "#fl='D:/글로벌/실적분석/코드파일.xlsx'\n",
    "fl='E:/글로벌백업(180329)/04.수수료작업/코드목록.xlsx'\n",
    "df_org= pd.read_excel(fl,sheet_name='지점변환')\n",
    "df=df.join(df_org.set_index('수금사원명')['변환지점'], on='수금사원명')  \n",
    "df['변환지점']=df['변환지점'].fillna(df.지점)\n",
    "#컬럼 rename\n",
    "df=df.rename(columns={'지점':'원지점','변환지점':'지점'}) "
   ]
  },
  {
   "cell_type": "code",
   "execution_count": null,
   "metadata": {},
   "outputs": [],
   "source": [
    "#그룹by 집계\n",
    "grp=['지점','수금사원명','계약종류']\n",
    "\n",
    "grpval='초회보험료'\n",
    "df_l=pd.DataFrame(df[df.계약종류=='장기'].groupby(grp)[grpval].agg('sum')).sort_values(grp, ascending=False)\n",
    "df_s=pd.DataFrame(df[df.계약종류=='생보'].groupby(grp)[grpval].agg('sum')).sort_values(grp, ascending=False)"
   ]
  },
  {
   "cell_type": "code",
   "execution_count": null,
   "metadata": {},
   "outputs": [],
   "source": [
    "df_l.reset_index(inplace=True)  # index를 컬럼으로\n",
    "df_s.reset_index(inplace=True)\n",
    "joins=['지점','수금사원명']\n",
    "df_m=pd.merge(df_l,df_s,how='outer',on=joins) #컬럼merge ([[안에 필요컬럼만 지정시 아래 필요없음]])\n",
    "#불필요 컬럼삭제, 이름변경\n",
    "df_m=df_m.fillna(0).drop(columns=['계약종류_x','계약종류_y']).rename(columns={'초회보험료_x':'장기','초회보험료_y':'생보'})\n",
    "df_m['합계']=df_m.장기+df_m.생보"
   ]
  },
  {
   "cell_type": "markdown",
   "metadata": {},
   "source": [
    "#### 1)지점그룹값을 다른 df에서 읽어오는 방법(1)  \n",
    "    - 코드파일읽기 -> join으로 '지점그룹' 컬럼 생성\n",
    "    - 결과를 excel로"
   ]
  },
  {
   "cell_type": "code",
   "execution_count": null,
   "metadata": {},
   "outputs": [],
   "source": [
    "#지점그룹을 만들기 : 코드파일읽어 join\n",
    "fl='D:/글로벌/실적분석/코드파일.xlsx'\n",
    "#fl='E:/글로벌백업(180329)/04.수수료작업/코드목록.xlsx'\n",
    "df_grp= pd.read_excel(fl,sheet_name='지점그룹')\n",
    "df_m=df_m.join(df_grp.set_index('지점')['지점그룹'], on='지점') "
   ]
  },
  {
   "cell_type": "code",
   "execution_count": null,
   "metadata": {},
   "outputs": [],
   "source": [
    "df_m[df_m.지점그룹=='직영'].sort_values('합계',ascending=False).head(2)\n",
    "df_m[df_m.지점그룹=='직영'].sort_values('합계',ascending=False).tail(2)"
   ]
  },
  {
   "cell_type": "code",
   "execution_count": null,
   "metadata": {},
   "outputs": [],
   "source": [
    "with pd.ExcelWriter('E:/글로벌백업(180329)/04.수수료작업/집계.xlsx') as writer:  \n",
    "    df_m.to_excel(writer, sheet_name='지점별',index=False)"
   ]
  },
  {
   "cell_type": "code",
   "execution_count": null,
   "metadata": {},
   "outputs": [],
   "source": [
    "# 회사별 집계"
   ]
  },
  {
   "cell_type": "code",
   "execution_count": null,
   "metadata": {},
   "outputs": [],
   "source": [
    "df_co = df[df.계약종류.isin(['장기','생보'])].groupby(['계약종류','보험사','지점'])['초회보험료'].agg(['sum','count'])"
   ]
  },
  {
   "cell_type": "code",
   "execution_count": null,
   "metadata": {},
   "outputs": [],
   "source": [
    "df_co.pivot_table(index=['계약종류','보험사'],aggfunc='sum',values='sum')"
   ]
  },
  {
   "cell_type": "code",
   "execution_count": null,
   "metadata": {},
   "outputs": [],
   "source": [
    "with pd.ExcelWriter('D:/글로벌/실적분석/실적요약.xlsx') as writer:  \n",
    "    df_m.to_excel(writer, sheet_name='지점별',index=False)\n",
    "    df_co.to_excel(writer, sheet_name='회사별',merge_cells=False,float_format='%f')"
   ]
  },
  {
   "cell_type": "markdown",
   "metadata": {},
   "source": [
    "#### 2) 지점그룹값을 읽어오는 다른 방법(2)    \n",
    "   - 코드파일읽기 -> indexing -> 컬럼생성 (이때 index가 같은 series이므로 pandas가 알아서 매칭해주는 원리임)    "
   ]
  },
  {
   "cell_type": "code",
   "execution_count": null,
   "metadata": {},
   "outputs": [],
   "source": [
    "#머지의 다른 방법\n",
    "fl='D:/글로벌/실적분석/코드파일.xlsx'\n",
    "#fl='E:/글로벌백업(180329)/04.수수료작업/코드목록.xlsx'\n",
    "df_grp= pd.read_excel(fl,sheet_name='지점그룹')\n",
    "df_m2=df_m\n",
    "df_m2.set_index('지점',inplace=True)\n",
    "df_grp.set_index('지점',inplace=True)\n",
    "df_m2['지점그룹']=df_grp['지점그룹']  ## df_m2와 df_grp에 같은 컬럼으로 인덱스가 있는 경우\n",
    "df_m2.reset_index()\n",
    "df_grp.reset_index()"
   ]
  },
  {
   "cell_type": "markdown",
   "metadata": {},
   "source": [
    "### df에 대한 for loop  \n",
    "1.iterrows 이용  \n",
    "  속도가 느려 비추천이지만, 꼭 필요할 때 사용  \n",
    "2.apply를 이용  \n",
    "  row단위로 처리하는 함수를 만들어 두고 apply를 이용하여 전체 호출"
   ]
  },
  {
   "cell_type": "code",
   "execution_count": null,
   "metadata": {},
   "outputs": [],
   "source": [
    "for seq, row in df.iterrows():  #DF의 각 행을 LOOP\n",
    "        row['합']=row['국어']+row['수학']++row['영어']\n",
    "        print(seq,'=',list(row))     \n",
    "        if row['국어'] > 80:\n",
    "            print('우수')\n",
    "            \n",
    "''' 위 코드를 한줄로       \n",
    " df['합계']=df.국어 + df.영어 + df.수학\n",
    "'''\n",
    "\n",
    "def grade(row):\n",
    "     row['합']=row['국어']+row['수학']++row['영어']\n",
    "     if row['국어'] > 80:\n",
    "        row['국어등급']='우수'\n",
    "     return row\n",
    "\n",
    "#ss=list(filter(lambda x: (x>80),df['국어'])) \n",
    "df2=df.apply(grade,axis=1)\n",
    "df3=df.apply\n",
    "\n",
    "grades = []\n",
    "\n",
    "for row in df['국어']:\n",
    "    if row >= 90:        grades.append('A')\n",
    "    elif row >= 80:      grades.append('B')\n",
    "    elif row >= 70:      grades.append('C')\n",
    "    else:                grades.append('F')\n",
    "        \n",
    "df['grade'] = grades"
   ]
  },
  {
   "cell_type": "code",
   "execution_count": null,
   "metadata": {},
   "outputs": [],
   "source": [
    " #DF의 각 열을 LOOP  \n",
    "for lab, cont in df.items(): \n",
    "      print(lab,'=',list(cont))"
   ]
  },
  {
   "cell_type": "markdown",
   "metadata": {},
   "source": [
    "### lambda 사용  \n",
    " 간단한 익명함수제작  \n",
    "    lambda x,y:  x+y  [인수: 반환표현식]  \n",
    "    lambda x: 'a' if x==1 else 'b' [인수: 조건표현식]  \n",
    "    lambda x: 'a' if x==1 else ( 'b' if x==2 else 'c')  [elif필요시... 2개이상이면 복잡해지므로 함수 만들어 호출이 편리  "
   ]
  },
  {
   "cell_type": "code",
   "execution_count": null,
   "metadata": {},
   "outputs": [],
   "source": [
    "ret=lambda x,y,z: x+y+z\n",
    "ret(10,11,11)\n",
    "\n",
    "def prt(val):\n",
    "    if val >400:\n",
    "       return '우수'\n",
    "    else: return '미흡'   "
   ]
  },
  {
   "cell_type": "code",
   "execution_count": null,
   "metadata": {},
   "outputs": [],
   "source": [
    "# df.salary * 80을 반환\n",
    "df.salary.map(lambda x: x*80)\n",
    "# lambda식내에서 함수 호출\n",
    "df.salary.map(lambda x: (prt(x)))\n",
    "\n",
    "# if문 간략히\n",
    "df.salary.map(lamda x: '우수' if x<400 else '미흡')"
   ]
  },
  {
   "cell_type": "code",
   "execution_count": null,
   "metadata": {},
   "outputs": [],
   "source": [
    "##함수만들어 호출\n",
    "def getGrade(x):\n",
    "    if x>400:      return 'A'\n",
    "    elif x> 300:   return 'B'\n",
    "    elif x> 200:   return 'C'\n",
    "    else:          return 'D'\n",
    "    \n",
    "df.salary.apply(lambda x: getGrade(x) )"
   ]
  },
  {
   "cell_type": "code",
   "execution_count": null,
   "metadata": {},
   "outputs": [],
   "source": [
    "s=lambda x,y: getGrade(x) \n",
    "s(200,300)"
   ]
  },
  {
   "cell_type": "code",
   "execution_count": null,
   "metadata": {},
   "outputs": [],
   "source": [
    "# dict를 사용하여 1:1 변환\n",
    "dict={'a':'A','b':'B','c':'C','d':'D'}\n",
    "df['cls'].map(lambda x: dict[x])"
   ]
  },
  {
   "cell_type": "markdown",
   "metadata": {},
   "source": [
    "##### 컬럼값 update  \n",
    "1.replace사용  \n",
    "-특정 조건에 맞는 값만 변환 가능  \n",
    "2.map함수이용  \n",
    "-모든 값을 변환시 가능  "
   ]
  },
  {
   "cell_type": "code",
   "execution_count": null,
   "metadata": {},
   "outputs": [],
   "source": [
    "df.name=df.name.replace('april','may')"
   ]
  },
  {
   "cell_type": "markdown",
   "metadata": {},
   "source": [
    "## 컬럼 조작\n",
    " -특정컬럼만 추출, 이동"
   ]
  },
  {
   "cell_type": "code",
   "execution_count": null,
   "metadata": {},
   "outputs": [],
   "source": [
    "## 필요시 함수로 만들어 사용해도 됨\n",
    "colsSelect = ['name','salary']  #대상 컬럼 지정\n",
    "type='move'  #sel-추출, skip-제외, Fmove-알으로 , Bmove- 뒤로\n",
    "cols=[]\n",
    "if type=='incl': \n",
    "     cols= cols + [col for col in df if col in colsSelect] \n",
    "elif type=='excl': \n",
    "     cols= cols=cols + [col for col in df if col not in colsSelect] \n",
    "elif type=='Fmove': \n",
    "     cols= colsSelect + [col for col in df if col not in colsSelect] \n",
    "elif type=='Bmove': \n",
    "     cols= [col for col in df if col not in colsSelect] + colsSelect \n",
    "else : cols=df.columns\n",
    "        \n",
    "df[cols]"
   ]
  },
  {
   "cell_type": "markdown",
   "metadata": {},
   "source": [
    "## 데이터 row 분할 by 범주형 컬럼"
   ]
  },
  {
   "cell_type": "code",
   "execution_count": null,
   "metadata": {},
   "outputs": [],
   "source": [
    "#그룹by로 분할하여 dict로.. 필요에 따라 후 처리하면 됨\n",
    "\n",
    "groupby_cls=df.groupby('cls')\n",
    "#---1. dictionary에 담는 방법\n",
    "dict = {} \n",
    "for name, group in groupby_cls:\n",
    "    dict['분할'+name]= pd.DataFrame(groupby_cls.get_group(name))\n",
    "    print(dict['분할'+name])\n",
    "\n",
    "print(dict.keys())\n",
    "for key in dict.keys():\n",
    "    print(dict[key].shape)\n",
    "    print(dict[key].columns)\n",
    "\n",
    "#---2. list에 담는 방법    \n",
    "dfList=[]\n",
    "for name, group in groupby_cls:\n",
    "    dfList.append( pd.DataFrame(groupby_cls.get_group(name)) )\n",
    "\n",
    "print(len(dfList))"
   ]
  },
  {
   "cell_type": "code",
   "execution_count": 234,
   "metadata": {},
   "outputs": [
    {
     "name": "stdout",
     "output_type": "stream",
     "text": [
      "('a',     name cls       bDate  salary         amt    등급 등급2\n",
      "0  april   a  2018-01-17     300  30000.1000   low   a\n",
      "1   babe   a  2018-01-22     400  33000.1088   low   a\n",
      "7   doct   a  2010-01-02     600  56000.1550  high   c)\n",
      "('b',    name cls       bDate  salary         amt   등급 등급2\n",
      "2  cyan   b  2018-05-08     500  36000.1088  mid   b\n",
      "3  cyan   b  2015-11-03     500  36000.1077  mid   b\n",
      "5   gag   b  2015-01-02     500  36000.1000  mid   b)\n",
      "('c',    name cls       bDate  salary         amt   등급 등급2\n",
      "4  eric   c  2018-07-10     500  36000.1678  mid   b)\n",
      "('d',      name cls       bDate  salary       amt   등급 등급2\n",
      "6  little   d  2013-11-02     500  36000.15  mid   b)\n"
     ]
    },
    {
     "data": {
      "text/plain": [
       "[None, None, None, None]"
      ]
     },
     "execution_count": 234,
     "metadata": {},
     "output_type": "execute_result"
    }
   ],
   "source": [
    "#--3. map함수를 이용하여 분할된 데이터 처리방법\n",
    "def splitBy(grpData):\n",
    "    print(grpData)\n",
    "#   파일로 출력 등 후 처리 로직 넣으면 됨\n",
    "    \n",
    "list(map(splitBy,groupby_cls))"
   ]
  },
  {
   "cell_type": "code",
   "execution_count": 231,
   "metadata": {},
   "outputs": [
    {
     "data": {
      "text/html": [
       "<div>\n",
       "<style scoped>\n",
       "    .dataframe tbody tr th:only-of-type {\n",
       "        vertical-align: middle;\n",
       "    }\n",
       "\n",
       "    .dataframe tbody tr th {\n",
       "        vertical-align: top;\n",
       "    }\n",
       "\n",
       "    .dataframe thead th {\n",
       "        text-align: right;\n",
       "    }\n",
       "</style>\n",
       "<table border=\"1\" class=\"dataframe\">\n",
       "  <thead>\n",
       "    <tr style=\"text-align: right;\">\n",
       "      <th></th>\n",
       "      <th>name</th>\n",
       "      <th>cls</th>\n",
       "      <th>bDate</th>\n",
       "      <th>salary</th>\n",
       "      <th>amt</th>\n",
       "      <th>등급</th>\n",
       "      <th>등급2</th>\n",
       "    </tr>\n",
       "  </thead>\n",
       "  <tbody>\n",
       "    <tr>\n",
       "      <td>0</td>\n",
       "      <td>april</td>\n",
       "      <td>a</td>\n",
       "      <td>2018-01-17</td>\n",
       "      <td>300</td>\n",
       "      <td>30000.1000</td>\n",
       "      <td>low</td>\n",
       "      <td>a</td>\n",
       "    </tr>\n",
       "    <tr>\n",
       "      <td>1</td>\n",
       "      <td>babe</td>\n",
       "      <td>a</td>\n",
       "      <td>2018-01-22</td>\n",
       "      <td>400</td>\n",
       "      <td>33000.1088</td>\n",
       "      <td>low</td>\n",
       "      <td>a</td>\n",
       "    </tr>\n",
       "    <tr>\n",
       "      <td>7</td>\n",
       "      <td>doct</td>\n",
       "      <td>a</td>\n",
       "      <td>2010-01-02</td>\n",
       "      <td>600</td>\n",
       "      <td>56000.1550</td>\n",
       "      <td>high</td>\n",
       "      <td>c</td>\n",
       "    </tr>\n",
       "  </tbody>\n",
       "</table>\n",
       "</div>"
      ],
      "text/plain": [
       "    name cls       bDate  salary         amt    등급 등급2\n",
       "0  april   a  2018-01-17     300  30000.1000   low   a\n",
       "1   babe   a  2018-01-22     400  33000.1088   low   a\n",
       "7   doct   a  2010-01-02     600  56000.1550  high   c"
      ]
     },
     "execution_count": 231,
     "metadata": {},
     "output_type": "execute_result"
    }
   ],
   "source": [
    "dfList[0]"
   ]
  },
  {
   "cell_type": "markdown",
   "metadata": {},
   "source": [
    "## 데이터분할 by 분포 구간"
   ]
  },
  {
   "cell_type": "code",
   "execution_count": 2,
   "metadata": {},
   "outputs": [],
   "source": [
    "#cut-숫자형으로 등급분할 컬럼 추가\n",
    "gd=[0,300,500,900,1000]\n",
    "lbl=['a','b','c','d']\n",
    "df['등급']=pd.cut(df.salary,bins=gd,labels=lbl)"
   ]
  },
  {
   "cell_type": "code",
   "execution_count": 5,
   "metadata": {},
   "outputs": [],
   "source": [
    "# qcut - 숫자형으로 등급분할 컬럼 추가 / 등급개수 지정방식임\n",
    "lbl=['a','b','c']\n",
    "df['등급2']=pd.qcut(df.salary,q=4,labels=lbl,duplicates='drop')"
   ]
  },
  {
   "cell_type": "code",
   "execution_count": 10,
   "metadata": {},
   "outputs": [
    {
     "data": {
      "text/plain": [
       "array([300., 400., 500., 600.])"
      ]
     },
     "execution_count": 10,
     "metadata": {},
     "output_type": "execute_result"
    }
   ],
   "source": [
    "bins_val"
   ]
  },
  {
   "cell_type": "code",
   "execution_count": 7,
   "metadata": {},
   "outputs": [],
   "source": [
    "import numpy as np\n",
    "bins_name=['low','mid','high']\n",
    "count,bins_val=np.histogram(df.salary,bins=3) # 3분할\n",
    "df['등급3']=pd.cut(df.salary, \n",
    "            bins=bins_val,  #경계값 리스트\n",
    "            labels=bins_name,  #bin이름\n",
    "            include_lowest=True) #첫 경계값 포함여부"
   ]
  },
  {
   "cell_type": "markdown",
   "metadata": {},
   "source": [
    "## 비교\n",
    "  - 문자열 포함   \n",
    "    '찾는값' in (var)  #var에 찾는값 부분일치   \n",
    "  - 리스트 포함  \n",
    "    series.isin(list)  \n",
    "  - null체크  \n",
    "     pd.isnull(var)  \n",
    "     pd.notnull(var)  \n",
    "     if var==None  "
   ]
  },
  {
   "cell_type": "code",
   "execution_count": 15,
   "metadata": {},
   "outputs": [
    {
     "name": "stdout",
     "output_type": "stream",
     "text": [
      "False\n",
      "True\n",
      "0    False\n",
      "1    False\n",
      "dtype: bool\n",
      "0    True\n",
      "1    True\n",
      "dtype: bool\n"
     ]
    },
    {
     "data": {
      "text/plain": [
       "True"
      ]
     },
     "execution_count": 15,
     "metadata": {},
     "output_type": "execute_result"
    }
   ],
   "source": [
    "import pandas as pd\n",
    "lis=['홍길동전','이순신']\n",
    "lis2=['홍길동']\n",
    "ser=pd.Series(['홍길동전','이순신'])\n",
    "str='홍길동전'\n",
    "print('홍' in lis) # => false\n",
    "print('홍' in str) # => True  \n",
    "print(ser.isin(lis2)) #=> \n",
    "print(ser.isin(ser))  #=>\n",
    "pd.notnull(str)"
   ]
  },
  {
   "cell_type": "code",
   "execution_count": null,
   "metadata": {},
   "outputs": [],
   "source": []
  }
 ],
 "metadata": {
  "kernelspec": {
   "display_name": "Python 3",
   "language": "python",
   "name": "python3"
  },
  "language_info": {
   "codemirror_mode": {
    "name": "ipython",
    "version": 3
   },
   "file_extension": ".py",
   "mimetype": "text/x-python",
   "name": "python",
   "nbconvert_exporter": "python",
   "pygments_lexer": "ipython3",
   "version": "3.7.4"
  }
 },
 "nbformat": 4,
 "nbformat_minor": 4
}
