{
 "cells": [
  {
   "cell_type": "markdown",
   "metadata": {},
   "source": [
    "## 엑셀 쓰기\n",
    "  -한 파일에 여러 시트쓰기"
   ]
  },
  {
   "cell_type": "code",
   "execution_count": 3,
   "metadata": {},
   "outputs": [],
   "source": [
    "import pandas as pd\n",
    "from pandas import ExcelWriter\n",
    "sales=pd.read_csv('../testData/sales.csv')\n",
    "sales2=sales\n",
    "\n",
    "def save_xls(list_dfs,xlPath):\n",
    "    writer=ExcelWriter(xlPath)\n",
    "    for n, df in enumerate(list_dfs):\n",
    "        df.to_excel(writer,sheet_name='sheet%s'%n)\n",
    "    writer.save()\n",
    "    \n",
    "dList=[sales,sales2]\n",
    "save_xls(dList,'../testData/T0303.xlsx')"
   ]
  },
  {
   "cell_type": "code",
   "execution_count": null,
   "metadata": {},
   "outputs": [],
   "source": [
    "with pd.ExcelWriter('../testData/T0303.xlsx') as writer:  \n",
    "    sales.to_excel(writer, sheet_name='s1',index=False)\n",
    "    sales2.to_excel(writer, sheet_name='s2',merge_cells=False,float_format='%f')"
   ]
  },
  {
   "cell_type": "markdown",
   "metadata": {},
   "source": [
    "### dataframe을 여러 파일에 쓰기"
   ]
  },
  {
   "cell_type": "code",
   "execution_count": 8,
   "metadata": {},
   "outputs": [
    {
     "name": "stdout",
     "output_type": "stream",
     "text": [
      "arguments error\n"
     ]
    },
    {
     "data": {
      "text/plain": [
       "''"
      ]
     },
     "execution_count": 8,
     "metadata": {},
     "output_type": "execute_result"
    }
   ],
   "source": [
    "def save_xlsFiles(list_dfs,list_name, xlPath):\n",
    "    if len(list_dfs) != len(list_name):\n",
    "        print('arguments error')\n",
    "        return ''\n",
    "    \n",
    "    for n, df in enumerate(list_dfs):\n",
    "        filename = xlPath+ '/' + list_name[n] + '.xlsx'\n",
    "        writer=ExcelWriter(filename)\n",
    "        df.to_excel(writer,sheet_name=list_name[n])\n",
    "        writer.save()\n",
    "\n",
    "\n",
    "dList=[sales,sales2]\n",
    "nList=['s1','s2']\n",
    "save_xlsFiles(dList,nList,'../testData')"
   ]
  },
  {
   "cell_type": "markdown",
   "metadata": {},
   "source": [
    "##엑셀 읽기\n",
    "1. 특정시트\n",
    "2. 전체시트\n",
    "3. 시트 한 행씩 읽기"
   ]
  },
  {
   "cell_type": "code",
   "execution_count": null,
   "metadata": {},
   "outputs": [],
   "source": [
    "def ReadExcel(xlPath,SheetName):\n",
    "    xls_file=pd.ExcelFile(xlPath)\n",
    "    data=xls_file.parse(SheetName)\n",
    "    return data\n",
    "#특정시트 읽기\n",
    "data= ReadExcel('../testData/T0303.xlsx','sheet1')"
   ]
  },
  {
   "cell_type": "code",
   "execution_count": null,
   "metadata": {},
   "outputs": [],
   "source": [
    "#전체 시트 읽기 1 \n",
    "file='../testData/T0303.xlsx'\n",
    "xls=pd.ExcelFile(file)\n",
    "sheets=xls.sheet_names\n",
    "len(sheets)\n",
    "data=[]\n",
    "for n, SheetName in enumerate(sheets):\n",
    "    data.append(xls.parse(SheetName))"
   ]
  },
  {
   "cell_type": "code",
   "execution_count": null,
   "metadata": {},
   "outputs": [],
   "source": [
    "#전체 시트 읽기2 - list에 담기\n",
    "data=pd.read_excel('d:/글로벌/실적분석/코드파일.xlsx',sheet_name=None)"
   ]
  },
  {
   "cell_type": "code",
   "execution_count": null,
   "metadata": {},
   "outputs": [],
   "source": [
    "#시트 행 반복\n",
    "for i, row in data[0].iterrows():\n",
    "    print(i,row)"
   ]
  },
  {
   "cell_type": "code",
   "execution_count": null,
   "metadata": {},
   "outputs": [],
   "source": [
    "# df row 순환\n",
    "for seq, row in df.iterrows():  #\n",
    "    print(seq,row['cols1']"
   ]
  },
  {
   "cell_type": "code",
   "execution_count": null,
   "metadata": {},
   "outputs": [],
   "source": [
    "data.append(sales2)"
   ]
  },
  {
   "cell_type": "code",
   "execution_count": null,
   "metadata": {},
   "outputs": [],
   "source": [
    "data[0]"
   ]
  },
  {
   "cell_type": "code",
   "execution_count": null,
   "metadata": {},
   "outputs": [],
   "source": []
  }
 ],
 "metadata": {
  "kernelspec": {
   "display_name": "Python 3",
   "language": "python",
   "name": "python3"
  },
  "language_info": {
   "codemirror_mode": {
    "name": "ipython",
    "version": 3
   },
   "file_extension": ".py",
   "mimetype": "text/x-python",
   "name": "python",
   "nbconvert_exporter": "python",
   "pygments_lexer": "ipython3",
   "version": "3.7.7"
  }
 },
 "nbformat": 4,
 "nbformat_minor": 4
}
