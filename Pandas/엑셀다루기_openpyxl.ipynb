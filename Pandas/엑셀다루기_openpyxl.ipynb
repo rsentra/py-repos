{
 "cells": [
  {
   "cell_type": "markdown",
   "metadata": {},
   "source": [
    "# openpyxl 사용법  [https://openpyxl.readthedocs.io/en/stable/index.html]\n",
    "1. 엑셀 파일 접근 \n",
    "  1) 파일 불러오기  \n",
    "    from openpyxl import load_workbook  \n",
    "    wb = load_workbook(filename = '파일명(절대 경로도 가능)')  \n",
    "  2) 파일 생성하기  \n",
    "    from openpyxl import Workbook  \n",
    "    nwb = Workbook() #시트명 sheet1으로 시트 하나만 있는 엑셀 파일 하나가 생성된다.    \n",
    "  3) 파일 저장하기\n",
    "    wb.save('파일명 or 절대경로')   #확장자 명도 적어주어야 한다.   \n",
    "  4) 파일 닫기\n",
    "    wb.close()  \n",
    "\n",
    "2. 엑셀 시트 접근  \n",
    "  1) 엑셀 시트 접근 (불러온 파일로부터)  \n",
    "    ws = wb['시트이름']    #wb 내의 시트 이름으로 호출한다. 인덱스 번호가 가능한지는 미확인  \n",
    "    ws1 = wb.active       #현재 활성화된 시트를 가져올 때   \n",
    "  2) 엑셀 시트 생성  \n",
    "    nws = nwb.creat_sheet('시트이름')           #맨 마지막에 추가된다.  \n",
    "    nws2 = wb.creat_sheet('시트이름', 시트넘버)  #시트 넘버 자리에 추가  \n",
    "  3) 엑셀 시트 이름 변경  \n",
    "    nws.title = '바꿀 이름'  \n",
    "\n",
    "3. 셀 접근 (불러온 시트로부터)  \n",
    "  1) 셀 내용 수정 #셀 내용 수정. 함수 입력도 가능하다.  \n",
    "    ws['A1'] = '적을 내용'   \n",
    "    ws.cell(row = 숫자, column = 숫자, value = '적을 내용')  \n",
    "  2) 셀 내용 가져오기   \n",
    "    A1 = ws['A1'].value #ws로부터 A1에 담긴 셀값을 가져온다.  \n",
    "  3) 여러 셀에 접근할 때    \n",
    "    (1) 범위 접근 ws['A1':'H1']    \n",
    "    (2) 열 접근   ws[3]    (범위) ws[3:10]    \n",
    "    (3) 행 접근   ws['A']  (범위) ws['A':'D']    \n",
    "  4) 시트 전체를 df로  \n",
    "    df_s=pd.DataFrame(ws.values)  \n",
    "   \n",
    "## 스타일링 관련  \n",
    "1. 파일 수준  \n",
    "  1) wb = load_workbook(filename = '경로/파일명.xlsm', read_only = False, keep_vba=True)  \n",
    "     VBA 살리고 싶을 때   \n",
    "2. 시트 수준  \n",
    "  1) ws.rows   \n",
    "  2) ws.max_row  # 모든 행 개수   \n",
    "  3) ws.max_column # 모든 열 개수   \n",
    "  4) ws.title # 해당 시트 이름을 가져온다   \n",
    "  5) ws.sheet_properties.tabColor = '색상코드' # 시트 탭 색상 변경  \n",
    "  6) ws.merge_cells('A1:B1') #셀 병합  \n",
    "  7) ws.row_dimensions[숫자].height = 30 # 행 높이 수정, 픽셀 단위였던 듯  \n",
    "  8) ws.column_dimensions['A'].width = 30 # 열 너비 수정, 픽셀 단위였던 듯  \n",
    "  9) ws.column_dimensions.auto_size = True # autofit 기능인데 동작 안 함(버그임)  \n",
    "\n",
    "3. 셀 수준\n",
    "  1) ws.cell('A3').row  # 열값만 가져오기, A 반환  \n",
    "  2) ws.cell('A3').column # 행값만 가져오기, 3 반환    \n",
    "  3) cell.font.copy(bold=True) # 해당 셀 굵게   \n",
    "  4) cell.openpyxl.styles.Font(size = 14, color = 'FF0000') # 폰트 크기, 색 수정   \n",
    "\n",
    "## 이미지 넣기  \n",
    " from openpyxl.drawing.image import Image  \n",
    " ws.add_img(Image('경로'), 'A1') # 절대 경로 혹은 같은 폴더에 있는 파일명 입력 (확장자 포함)  \n",
    "\n",
    " 마지막으로 입력된 행 뒤에 이어서 각각의 열에 순서대로 a, b, c를 입력한다.  \n",
    " 리스트를 만들어 반복문 돌리면 각 열을 제어하는 것보다 연산 빠름  \n",
    "ws.append([a, b, c])   "
   ]
  },
  {
   "cell_type": "code",
   "execution_count": 2,
   "metadata": {},
   "outputs": [],
   "source": [
    "import datetime\n",
    "from openpyxl import Workbook\n",
    "\n",
    "wb = Workbook()\n",
    "ws = wb.active\n",
    "ws.title = \"sheet names\"\n",
    "ws[\"A1\"] = \"aa\"\n",
    "for row in range(1, 40):  #행\n",
    "    ws.append(range(600)) #열\n",
    "wb.save(filename = 'test.xlsx')"
   ]
  },
  {
   "cell_type": "code",
   "execution_count": 4,
   "metadata": {},
   "outputs": [],
   "source": [
    "import openpyxl\n",
    "wb= openpyxl.load_workbook('test.xlsx')"
   ]
  },
  {
   "cell_type": "code",
   "execution_count": null,
   "metadata": {},
   "outputs": [],
   "source": [
    "for row in sht.rows:  #전체 row\n",
    "    print([col.value for col in row])"
   ]
  },
  {
   "cell_type": "code",
   "execution_count": null,
   "metadata": {},
   "outputs": [],
   "source": [
    "for row in sht[2:5]:  #2~5 row\n",
    "    print([col.value for col in row])"
   ]
  },
  {
   "cell_type": "code",
   "execution_count": null,
   "metadata": {},
   "outputs": [],
   "source": [
    "for row in sht[1:5]:\n",
    "    print(row[0].value,row[1].value)"
   ]
  },
  {
   "cell_type": "code",
   "execution_count": 4,
   "metadata": {},
   "outputs": [],
   "source": [
    "import pandas as pd\n",
    "df=pd.DataFrame(sht.values)"
   ]
  },
  {
   "cell_type": "code",
   "execution_count": 5,
   "metadata": {},
   "outputs": [],
   "source": [
    "col_nm=list(df.loc[0,:]) #첫행값\n",
    "df.columns=col_nm  #첫행값을 컬럼명으로\n",
    "df.drop([0],axis=0,inplace=True) #첫행 삭제\n",
    "df.dropna(inplace=True,how='all') #결측치 행 삭제 - 모든열이 결측치인 경우"
   ]
  },
  {
   "cell_type": "code",
   "execution_count": null,
   "metadata": {},
   "outputs": [],
   "source": [
    "irow=sht.max_row #로우 개수\n",
    "for i in range(1,irow):\n",
    "    print(sht.cell(row=i,column=1).value)  #셀에 접근"
   ]
  },
  {
   "cell_type": "code",
   "execution_count": null,
   "metadata": {},
   "outputs": [],
   "source": [
    "# (1) 범위 접근 ws['A1':'H1']  \n",
    "#    (2) 열 접근   ws[3]    (범위) ws[3:10]  \n",
    "#    (3) 행 접근   ws['A']  (범위) ws['A':'D']  \n",
    "#dd=pd.DataFrame(sht['a1':'b3'])"
   ]
  },
  {
   "cell_type": "code",
   "execution_count": null,
   "metadata": {},
   "outputs": [],
   "source": [
    "sht['a1':'b3'].value='0'"
   ]
  },
  {
   "cell_type": "code",
   "execution_count": null,
   "metadata": {},
   "outputs": [],
   "source": [
    "ret=lambda x,y,z: x+y+z\n",
    "ret(10,11,11)\n",
    "\n",
    "for lab, cont in df.items():  #DF의 각 열을 LOOP\n",
    "      print(lab,'=',list(cont))\n",
    "\n",
    "map(lambda x: (x>80))"
   ]
  },
  {
   "cell_type": "markdown",
   "metadata": {},
   "source": [
    "##실전"
   ]
  },
  {
   "cell_type": "code",
   "execution_count": null,
   "metadata": {},
   "outputs": [],
   "source": [
    "import datetime\n",
    "import  openpyxl\n",
    "from   openpyxl import workbook\n",
    "\n",
    "wb= openpyxl.load_workbook('../testData/2019-12 롯데정산결과(KJ).xlsx')\n",
    "ws1=wb.active\n",
    "r=ws1.max_row\n",
    "c=ws1.max_column\n"
   ]
  },
  {
   "cell_type": "code",
   "execution_count": 39,
   "metadata": {},
   "outputs": [],
   "source": [
    "def rows_from_range(range_string):\n",
    "    \"\"\"\n",
    "    Get individual addresses for every cell in a range.\n",
    "    Yields one row at a time.\n",
    "    \"\"\"\n",
    "    min_col, min_row, max_col, max_row = range_boundaries(range_string)\n",
    "    rows = range(min_row, max_row + 1)\n",
    "    cols = [get_column_letter(col) for col in range(min_col, max_col + 1)]\n",
    "    for row in rows:\n",
    "        yield tuple('{0}{1}'.format(col, row) for col in cols)"
   ]
  },
  {
   "cell_type": "code",
   "execution_count": 43,
   "metadata": {},
   "outputs": [],
   "source": [
    "s=rows_from_range(\"A1\")"
   ]
  },
  {
   "cell_type": "code",
   "execution_count": 44,
   "metadata": {},
   "outputs": [
    {
     "data": {
      "text/plain": [
       "<generator object rows_from_range at 0x000002168391B6C8>"
      ]
     },
     "execution_count": 44,
     "metadata": {},
     "output_type": "execute_result"
    }
   ],
   "source": [
    "s"
   ]
  },
  {
   "cell_type": "code",
   "execution_count": 49,
   "metadata": {},
   "outputs": [],
   "source": [
    "s=openpyxl.utils.cell.rows_from_range(ws1['b2'])"
   ]
  },
  {
   "cell_type": "code",
   "execution_count": 50,
   "metadata": {},
   "outputs": [
    {
     "data": {
      "text/plain": [
       "generator"
      ]
     },
     "execution_count": 50,
     "metadata": {},
     "output_type": "execute_result"
    }
   ],
   "source": [
    "type(s)"
   ]
  },
  {
   "cell_type": "code",
   "execution_count": null,
   "metadata": {},
   "outputs": [],
   "source": []
  }
 ],
 "metadata": {
  "kernelspec": {
   "display_name": "Python 3",
   "language": "python",
   "name": "python3"
  },
  "language_info": {
   "codemirror_mode": {
    "name": "ipython",
    "version": 3
   },
   "file_extension": ".py",
   "mimetype": "text/x-python",
   "name": "python",
   "nbconvert_exporter": "python",
   "pygments_lexer": "ipython3",
   "version": "3.7.4"
  }
 },
 "nbformat": 4,
 "nbformat_minor": 4
}
