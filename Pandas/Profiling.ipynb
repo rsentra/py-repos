{
 "cells": [
  {
   "cell_type": "code",
   "execution_count": 1,
   "metadata": {},
   "outputs": [],
   "source": [
    "import pandas as pd\n",
    "dict=[ {'name':'april','cls':'a','bDate':'2018-01-17','salary':300, 'amt':30000.10},\n",
    "       {'name':'babe','cls':'a','bDate':'2018-01-22','salary':400, 'amt':33000.1088},\n",
    "       {'name':'cyan','cls':'b','bDate':'2018-05-08','salary':500, 'amt':36000.1088},\n",
    "       {'name':'cyan','cls':'b','bDate':'2015-11-03','salary':500, 'amt':36000.1077},\n",
    "       {'name':'eric','cls':'c','bDate':'2018-07-10','salary':500, 'amt':36000.1678},\n",
    "       {'name':'gag','cls':'b','bDate':'2015-01-02','salary':500, 'amt':36000.10},\n",
    "       {'name':'little','cls':'d','bDate':'2013-11-02','salary':500, 'amt':36000.15},\n",
    "       {'name':'doct','cls':'a','bDate':'2010-01-02','salary':600, 'amt':56000.1550}]\n",
    "\n",
    "df=pd.DataFrame(dict)"
   ]
  },
  {
   "cell_type": "code",
   "execution_count": 2,
   "metadata": {},
   "outputs": [
    {
     "ename": "ModuleNotFoundError",
     "evalue": "No module named 'pandas_profiling'",
     "output_type": "error",
     "traceback": [
      "\u001b[1;31m---------------------------------------------------------------------------\u001b[0m",
      "\u001b[1;31mModuleNotFoundError\u001b[0m                       Traceback (most recent call last)",
      "\u001b[1;32m<ipython-input-2-0e79c940816a>\u001b[0m in \u001b[0;36m<module>\u001b[1;34m\u001b[0m\n\u001b[1;32m----> 1\u001b[1;33m \u001b[1;32mimport\u001b[0m \u001b[0mpandas_profiling\u001b[0m\u001b[1;33m\u001b[0m\u001b[1;33m\u001b[0m\u001b[0m\n\u001b[0m\u001b[0;32m      2\u001b[0m \u001b[0mpr\u001b[0m\u001b[1;33m=\u001b[0m\u001b[0mdf\u001b[0m\u001b[1;33m.\u001b[0m\u001b[0mprofile_report\u001b[0m\u001b[1;33m(\u001b[0m\u001b[1;33m)\u001b[0m \u001b[1;31m# 프로파일링 결과 리포트를 pr에 저장\u001b[0m\u001b[1;33m\u001b[0m\u001b[1;33m\u001b[0m\u001b[0m\n\u001b[0;32m      3\u001b[0m \u001b[1;31m#pr.to_file('./pr_report.html') # pr_report.html 파일로 저장\u001b[0m\u001b[1;33m\u001b[0m\u001b[1;33m\u001b[0m\u001b[1;33m\u001b[0m\u001b[0m\n",
      "\u001b[1;31mModuleNotFoundError\u001b[0m: No module named 'pandas_profiling'"
     ]
    }
   ],
   "source": [
    "import pandas_profiling\n",
    "pr=df.profile_report() # 프로파일링 결과 리포트를 pr에 저장\n",
    "#pr.to_file('./pr_report.html') # pr_report.html 파일로 저장"
   ]
  },
  {
   "cell_type": "code",
   "execution_count": null,
   "metadata": {},
   "outputs": [],
   "source": [
    "pr"
   ]
  },
  {
   "cell_type": "code",
   "execution_count": null,
   "metadata": {},
   "outputs": [],
   "source": []
  }
 ],
 "metadata": {
  "kernelspec": {
   "display_name": "Python 3",
   "language": "python",
   "name": "python3"
  },
  "language_info": {
   "codemirror_mode": {
    "name": "ipython",
    "version": 3
   },
   "file_extension": ".py",
   "mimetype": "text/x-python",
   "name": "python",
   "nbconvert_exporter": "python",
   "pygments_lexer": "ipython3",
   "version": "3.7.4"
  }
 },
 "nbformat": 4,
 "nbformat_minor": 4
}
