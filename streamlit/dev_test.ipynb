{
 "cells": [
  {
   "cell_type": "code",
   "execution_count": null,
   "id": "4ea2d4a5-d298-45b6-9e62-3a3d4d5ec8a0",
   "metadata": {},
   "outputs": [],
   "source": [
    "import pandas as pd\n",
    "import cx_Oracle\n",
    "import datetime"
   ]
  },
  {
   "cell_type": "markdown",
   "id": "919f461c-bdad-4561-9027-11b7e6723b0d",
   "metadata": {},
   "source": [
    "### db"
   ]
  },
  {
   "cell_type": "code",
   "execution_count": null,
   "id": "aa44d19e-4e56-4374-b7e4-63f5b270121d",
   "metadata": {},
   "outputs": [],
   "source": [
    "def get_conn_ora():\n",
    "    \n",
    "    username = \"DPKMAPP\"\n",
    "    password = \"Kms12#$\"\n",
    "    host = \"61.106.19.217\"\n",
    "    port = 33389\n",
    "    database = \"CDB1\"\n",
    "    dsn = f'{host}:{port}/{database}'\n",
    "    encoding = 'UTF-8'\n",
    "\n",
    "    # 오라클 클라이언트를 선언: windows 환경변수에 path를 잡으면 필요없음\n",
    "    try:\n",
    "        cx_Oracle.init_oracle_client(lib_dir=r\"C:\\oracle\\instantclient_21_12\")\n",
    "    except Exception as e:\n",
    "        pass\n",
    "\n",
    "    try:\n",
    "        connection = cx_Oracle.connect(username, password, dsn, encoding=encoding)\n",
    "    except Exception as ex:\n",
    "        print('Could not connect to database:', ex)\n",
    "        return ex\n",
    "\n",
    "    print(\"SUCCESS: Connecting database succeeded\")\n",
    "    return connection\n",
    "\n",
    "def get_kms_datadf(sql):\n",
    "    try:\n",
    "        connection = get_conn_ora()\n",
    "     \n",
    "        with connection.cursor() as cursor:\n",
    "            cursor.execute(sql)\n",
    "            rows = cursor.fetchall()\n",
    "            cols = [x[0].lower() for x in cursor.description]\n",
    "   \n",
    "        df = pd.DataFrame(rows, columns = cols)\n",
    "        for c in df.columns:\n",
    "            if df[c].dtype == object:\n",
    "                df[c] = df[c].astype(\"string\")\n",
    "\n",
    "        connection.close()\n",
    "\n",
    "    except Exception as ex:\n",
    "        err, = ex.args\n",
    "        print('error code :', err.code)\n",
    "        print('error message :', err.message)\n",
    "        return None\n",
    "   \n",
    "    if len(df) ==0:\n",
    "        print('No data found')  \n",
    "        return None\n",
    "    return df\n"
   ]
  },
  {
   "cell_type": "code",
   "execution_count": null,
   "id": "59679bd4-937d-4a9d-88c3-a6374d5a962b",
   "metadata": {},
   "outputs": [],
   "source": [
    "import plotly.express as px\n",
    "df_inq['ym'] = df_inq['dt'].str[:6]\n",
    "fig = px.line(df_inq, x=\"ym\", y=\"inq_cnt\", color='site')\n",
    "fig.show()"
   ]
  },
  {
   "cell_type": "code",
   "execution_count": null,
   "id": "90c168cb-1887-441a-9217-d497ce1f37e5",
   "metadata": {},
   "outputs": [],
   "source": [
    "#컨텐츠 리스트\n",
    "ctgr_cd ='CA'\n",
    "temp = f\" AND CTGR_ID =   '{ctgr_cd}'\" if ctgr_cd !='CA' else  \" AND CTGR_ID = 'CA' \"\n",
    "sql = f\"\"\"\n",
    "        SELECT\n",
    "            AA.CNTNT_ID        \n",
    "            , AA.TITL \n",
    "            , (SELECT CD_NM FROM TBCTKC10 WHERE CD = AA.SAVE_STAT_CD AND GROUP_CD = 'SAVE_STAT_CD') AS CD_NM\n",
    "            , AA.CTGR_ID\n",
    "            , AA.CTGR_PATH\n",
    "            , AA.REG_DTTM\n",
    "            , AA.UPD_DTTM\n",
    "            , ((SELECT COUNT(FILE_KEY) FROM TBCTKK08 WHERE CNTNT_ID = AA.CNTNT_ID AND USE_YN='Y') +\n",
    "               (SELECT COUNT(FILE_KEY) FROM TBCTKK22 WHERE CNTNT_ID = AA.CNTNT_ID AND USE_YN='Y')) AS ATT_CNT\n",
    "            , (SELECT count(*) FROM TBCGPT10 G WHERE G.CNTNT_ID = AA.CNTNT_ID ) AS EMB_CNT\n",
    "            FROM (\n",
    "            SELECT A.CNTNT_ID\n",
    "                ,(CASE WHEN A.SAVE_STAT_CD = '00' THEN \n",
    "                            (SELECT \n",
    "                            (CASE WHEN COUNT(*) > 0 THEN 'Y' ELSE 'N' END) AS AUTH_YN\n",
    "                            FROM TBCTKC21 A\n",
    "                            INNER JOIN TBCTKC23 B\n",
    "                                ON  A.ATRT_GROUP_ID = B.ATRT_GROUP_ID\n",
    "                            WHERE A.ETC_INFO01 > '50') \n",
    "                    ELSE 'Y' END) AS VIEW_YN\n",
    "                , A.TITL\n",
    "                , A.CTGR_ID\n",
    "                , A.REG_DTTM\n",
    "                , A.UPD_DTTM\n",
    "                , BB.CTGR_PATH\n",
    "                , A.SAVE_STAT_CD\n",
    "            FROM TBCTKK01 A\n",
    "            INNER JOIN\n",
    "                (  SELECT  CTGR_ID\n",
    "                    , CTGR_NM\n",
    "                    , CTGR_PATH\n",
    "                    , CONNECT_BY_ISLEAF AS IS_LEAF\n",
    "                    FROM TBCTKK12\n",
    "                    START WITH USE_YN ='Y'\n",
    "                {temp}\n",
    "                CONNECT BY PRIOR CTGR_ID = HGRK_CTGR_ID AND USE_YN ='Y' ) BB\n",
    "            ON  A.CTGR_ID = BB.CTGR_ID\n",
    "            ) AA\n",
    "        WHERE AA.VIEW_YN='Y'\n",
    "        ORDER BY AA.CNTNT_ID desc\n",
    "    \"\"\"\n",
    "df = get_kms_datadf(sql)\n",
    "df['reg_dt'] = df['reg_dttm'].dt.date\n",
    "df['site']   = df['ctgr_path'].apply(lambda x: x.split('>')[1])\n",
    "df_a = df[df['cd_nm']!='삭제'].groupby(['reg_dt'])[['cntnt_id']].count().rename(columns={'cntnt_id':'reg_cnt'}).sort_index(ascending=False)"
   ]
  },
  {
   "cell_type": "code",
   "execution_count": null,
   "id": "3999e40c-00d5-42df-af4a-8f6c86d5dace",
   "metadata": {},
   "outputs": [],
   "source": [
    "from_dt = '20201219'\n",
    "to_dt = '20240119'\n",
    "#일자별 등록현황\n",
    "sql = f\"\"\"\n",
    "   SELECT  \tROW_NUMBER() OVER (ORDER BY A.INQ_CNT DESC)  AS ROW_NUMBER\n",
    "    , A.CNTNT_ID\n",
    "    , A.DT\n",
    "\t, A.TITL\n",
    "\t, A.INQ_CNT\n",
    "\t, A.CTGR_PATH\n",
    "\t, A.REG_DTTM\n",
    "\t, DPKMAPP.FNCTK_GET_USERNAME(A.REGR_ID, A.REGR_DEPT_CD, 'DEPT') AS REGR_NM\n",
    "FROM (\n",
    "\tSELECT   \n",
    "\t\t\t A.CNTNT_ID\n",
    "\t\t   , A.DT\n",
    "\t\t   , MAX(B.TITL)\t\t\t\t\t\t\tAS TITL\n",
    "\t\t   , SUM(nvl(A.INQ_CNT, 0))\t\t\t\t\tAS INQ_CNT\n",
    "\t\t   , MAX(B.CTGR_ID)\t\t\t\t\t\t\tAS CTGR_ID\n",
    "\t\t   , MAX(C.CTGR_PATH) \t\t\t\t\t\tAS CTGR_PATH\n",
    "\t\t   , MAX(B.REG_DTTM) \t\t\t\t\t\tAS REG_DTTM\n",
    "    \t   , MAX(B.REGR_ID)\t\t\t\t\t\t\tAS REGR_ID\n",
    "    \t   , MAX(B.REGR_DEPT_CD)\t\t\t\t\tAS REGR_DEPT_CD\n",
    "\t  FROM DPKMAPP.TBCTKK03 A\t   /* 컨텐츠 마스터  */\n",
    "INNER JOIN DPKMAPP.TBCTKK01 B ON (A.CNTNT_ID = B.CNTNT_ID)\t\t\t\t\t\t\t\n",
    "  INNER JOIN (\n",
    "            SELECT CTGR_ID\n",
    "                 , CTGR_NM\n",
    "                 , CTGR_PATH\n",
    "            FROM DPKMAPP.TBCTKK12\n",
    "            START WITH 1=1\n",
    "\t\t\t AND CTGR_ID      ='CA'\n",
    "            CONNECT BY PRIOR CTGR_ID = HGRK_CTGR_ID AND USE_YN ='Y'\n",
    "       ) C ON (B.CTGR_ID = C.CTGR_ID)  /* 카테고리 */\n",
    "\t WHERE 1=1\n",
    " \tAND DT BETWEEN {from_dt} AND {to_dt}\t\t\t\t\t\t\t\n",
    "  GROUP BY A.CNTNT_ID, A.DT\n",
    "     ) A\n",
    "\"\"\"\n",
    "df_inq = get_kms_datadf(sql)\n",
    "df_inq['req_dt'] = df_inq['reg_dttm'].dt.date\n",
    "df_inq = df_inq.groupby(['req_dt'])[['inq_cnt']].sum().sort_index(ascending=False)"
   ]
  },
  {
   "cell_type": "markdown",
   "id": "6feb9262-089d-4984-be3d-ff7f2bc68b42",
   "metadata": {},
   "source": [
    "### chart"
   ]
  },
  {
   "cell_type": "code",
   "execution_count": null,
   "id": "83a6cbd2-e1d4-4e21-9209-131ba561cfd5",
   "metadata": {},
   "outputs": [],
   "source": [
    "import plotly.graph_objects as go\n",
    "from plotly.subplots import make_subplots\n",
    "\n",
    "# Create figure with secondary y-axis\n",
    "fig = make_subplots(specs=[[{\"secondary_y\": True}]])\n",
    "\n",
    "show_cnt = 30\n",
    "        # Create figure with secondary y-axis\n",
    "fig.add_trace(\n",
    "            go.Scatter(x=df_a.index[:show_cnt], y=df_a['reg_cnt'][:show_cnt], name=\"등록건수\"), row=1, col=1,\n",
    "            secondary_y=False,\n",
    ")\n",
    "fig.add_trace(\n",
    "            go.Scatter(x=df_inq.index[:show_cnt], y=df_inq['inq_cnt'][:show_cnt], name=\"조회건수\"), row=1, col=1,\n",
    "            secondary_y=True,\n",
    ")\n",
    "fig.update_yaxes(title_text=\"등록건수\")\n",
    "fig.update_yaxes(title_text=\"등록건수2\",secondary_y=True)"
   ]
  },
  {
   "cell_type": "code",
   "execution_count": null,
   "id": "a8d6d86f-5027-442d-8f15-378c340c3f3a",
   "metadata": {},
   "outputs": [],
   "source": [
    "dd = df_a.merge(df_inq, how='outer', left_index=True, right_index=True).fillna(0).sort_index(ascending=False)\n",
    "# dd = dd.style.format({'reg_cnt': \"{:.0f}\",'inq_cnt': \"{:.0f}\"})"
   ]
  },
  {
   "cell_type": "markdown",
   "id": "ddfe493a-feba-4999-a5d1-a49ff9b9f724",
   "metadata": {},
   "source": [
    "### loader"
   ]
  },
  {
   "cell_type": "markdown",
   "id": "9dab9c1b-e42f-4856-88dc-7e850a59e4d7",
   "metadata": {},
   "source": [
    "####  unstructed"
   ]
  },
  {
   "cell_type": "code",
   "execution_count": null,
   "id": "2434aed9-a612-4116-899c-d40488a76492",
   "metadata": {},
   "outputs": [],
   "source": [
    "from unstructured.partition.pdf import partition_pdf\n",
    "path = \"static/\"\n",
    "''' 라이브러리문제로 실행 오류발생'''\n",
    "# Extract images, tables, and chunk text\n",
    "raw_pdf_elements = partition_pdf(\n",
    "    filename= path +\"test.pdf\",\n",
    "    extract_images_in_pdf=True,\n",
    "    infer_table_structure=True,\n",
    "    chunking_strategy=\"by_title\",\n",
    "    max_characters=4000,\n",
    "    new_after_n_chars=3800,\n",
    "    combine_text_under_n_chars=2000,\n",
    "    image_output_dir_path=path,\n",
    ")"
   ]
  },
  {
   "cell_type": "code",
   "execution_count": null,
   "id": "3a811f18-67c0-47fb-8166-055348deb4e0",
   "metadata": {},
   "outputs": [],
   "source": [
    "# !pip install opencv-python\n",
    "!pip install numpy --upgrade"
   ]
  },
  {
   "cell_type": "code",
   "execution_count": null,
   "id": "40b6e890-52ed-4aa3-804b-a0f93311b818",
   "metadata": {},
   "outputs": [],
   "source": [
    "!pip install --upgrade h5py"
   ]
  },
  {
   "cell_type": "markdown",
   "id": "1dc4c6b7-7ceb-4058-bb26-5ebed9dccd2a",
   "metadata": {},
   "source": [
    "### PDFloader"
   ]
  },
  {
   "cell_type": "code",
   "execution_count": null,
   "id": "0072d92c-56ca-4818-a908-5111ada6ec08",
   "metadata": {},
   "outputs": [],
   "source": [
    "from langchain.document_loaders import PyPDFLoader\n",
    "from langchain.document_loaders import PyMuPDFLoader"
   ]
  },
  {
   "cell_type": "code",
   "execution_count": null,
   "id": "9876aed1-ff0d-4a30-a4d3-0f54c85ca996",
   "metadata": {},
   "outputs": [],
   "source": [
    "file_name = 'static/test.pdf'\n",
    "loader = PyPDFLoader(file_name)\n",
    "documents = loader.load_and_split()"
   ]
  },
  {
   "cell_type": "code",
   "execution_count": null,
   "id": "558f786d-e5b9-4bb9-a907-beca5803c738",
   "metadata": {},
   "outputs": [],
   "source": [
    "documents"
   ]
  },
  {
   "cell_type": "code",
   "execution_count": null,
   "id": "85d6796b-8d3c-45f1-8ad8-554bc0ef4669",
   "metadata": {},
   "outputs": [],
   "source": [
    "# pip install pymupdf\n",
    "loader = PyMuPDFLoader(file_name)\n",
    "documents2 = loader.load_and_split()"
   ]
  },
  {
   "cell_type": "code",
   "execution_count": null,
   "id": "4f87bc2d-160e-4952-a7ab-c12adc35653b",
   "metadata": {},
   "outputs": [],
   "source": [
    "documents2"
   ]
  },
  {
   "cell_type": "code",
   "execution_count": null,
   "id": "81148e10-535c-4a01-941f-3b16a020d034",
   "metadata": {},
   "outputs": [],
   "source": [
    "# doc = fitz.open(\"static/test.pdf\")\n",
    "doc = fitz.open(\"static/chinese-table.pdf\")"
   ]
  },
  {
   "cell_type": "code",
   "execution_count": null,
   "id": "4933db59-06ff-4f4b-b80c-b413cd31d66b",
   "metadata": {},
   "outputs": [],
   "source": [
    "# doc.get_toc()\n",
    "doc.metadata\n",
    "# doc.page_count\n",
    "# doc.load_page(0)"
   ]
  },
  {
   "cell_type": "code",
   "execution_count": null,
   "id": "5eaf661d-3f9f-4b68-80dc-25341673897c",
   "metadata": {},
   "outputs": [],
   "source": [
    "def show_image(item, title=\"\"):\n",
    "    \"\"\"Display a pixmap.\n",
    "\n",
    "    Just to display Pixmap image of \"item\" - ignore the man behind the curtain.\n",
    "\n",
    "    Args:\n",
    "        item: any PyMuPDF object having a \"get_pixmap\" method.\n",
    "        title: a string to be used as image title\n",
    "\n",
    "    Generates an RGB Pixmap from item using a constant DPI and using matplotlib\n",
    "    to show it inline of the notebook.\n",
    "    \"\"\"\n",
    "    DPI = 150  # use this resolution\n",
    "    import numpy as np\n",
    "    import matplotlib.pyplot as plt\n",
    "\n",
    "    # %matplotlib inline\n",
    "    pix = item.get_pixmap(dpi=DPI)\n",
    "    img = np.ndarray([pix.h, pix.w, 3], dtype=np.uint8, buffer=pix.samples_mv)\n",
    "    plt.figure(dpi=DPI)  # set the figure's DPI\n",
    "    plt.title(title)  # set title of image\n",
    "    _ = plt.imshow(img, extent=(0, pix.w * 72 / DPI, pix.h * 72 / DPI, 0))\n",
    "    \n",
    "import fitz\n",
    "if not hasattr(fitz.Page, \"find_tables\"):\n",
    "    raise RuntimeError(\"This PyMuPDF version does not support the table feature\")\n",
    "    \n",
    "'''표 인식이 잘 안됨'''\n",
    "# doc = fitz.open(\"static/test.pdf\")\n",
    "doc = fitz.open(\"static/chinese-table.pdf\")\n",
    "print(doc)\n",
    "header = \"Header\"  # text in header\n",
    "footer = \"Page %i of %i\"  # text in footer\n",
    "for page in doc:\n",
    "#     print(dir(page))\n",
    "#     page.insert_text((50, 50), header)  # insert header\n",
    "#     page.insert_text(  # insert footer 50 points above page bottom\n",
    "#         (50, page.rect.height - 50),\n",
    "#         footer % (page.number + 1, doc.page_count),\n",
    "#     )\n",
    "    print(page.get_text())\n"
   ]
  },
  {
   "cell_type": "markdown",
   "id": "f1f69e01-c641-440b-a379-1a86b1baf10e",
   "metadata": {},
   "source": [
    "###### find table는 잘 인식되는듯하나 병합셀이 있으면 인식 불능으로 생각됨"
   ]
  },
  {
   "cell_type": "code",
   "execution_count": null,
   "id": "64892b81-6989-4211-9081-68f3905e07da",
   "metadata": {},
   "outputs": [],
   "source": [
    "''' find tables '''\n",
    "page = doc[0]\n",
    "tabs = page.find_tables()  # detect the tables\n",
    "for i,tab in enumerate(tabs):  # iterate over all tables\n",
    "    for cell in tab.header.cells:\n",
    "        page.draw_rect(cell,color=fitz.pdfcolor[\"red\"],width=0.3)\n",
    "    page.draw_rect(tab.bbox,color=fitz.pdfcolor[\"green\"])\n",
    "    print(f\"Table {i} column names: {tab.header.names}, external: {tab.header.external}\")\n",
    "show_image(page, f\"Table & Header BBoxes\")"
   ]
  },
  {
   "cell_type": "code",
   "execution_count": null,
   "id": "df155fb8-286e-4a55-a971-f5a56938be37",
   "metadata": {},
   "outputs": [],
   "source": [
    "page = doc[0]\n",
    "tabs = page.find_tables(horizontal_strategy=\"text\")\n",
    "# print(len(tabs.tables))\n",
    "print( f\"{len(tabs.tables)} tables on {page}\" )\n",
    "tab = tabs[0]\n",
    "for line in tab.extract():  # print cell text for each row\n",
    "    print(line)\n",
    "df = tab.to_pandas()"
   ]
  },
  {
   "cell_type": "code",
   "execution_count": null,
   "id": "0ee11d81-e0a3-4263-ba3b-9275c5463f77",
   "metadata": {},
   "outputs": [],
   "source": [
    "# choose the second table for conversion to a DataFrame\n",
    "tab = tabs[0]\n",
    "df2 = tab.to_pandas()"
   ]
  },
  {
   "cell_type": "markdown",
   "id": "d7622250-3f26-431f-b8ac-48a90506cbdc",
   "metadata": {},
   "source": [
    "### tablua"
   ]
  },
  {
   "cell_type": "code",
   "execution_count": null,
   "id": "d7965c03-2fbb-448b-aa24-c75586e98fd0",
   "metadata": {},
   "outputs": [],
   "source": [
    "import tabula\n",
    "\n",
    "# PDF 파일로부터 테이블 추출\n",
    "tables = tabula.read_pdf(\"static/test.pdf\", pages=\"all\")\n",
    "\n",
    "# 추출된 테이블을 DataFrame으로 변환하여 사용\n",
    "for tab in tables:\n",
    "    print('----------')\n",
    "    print(tab)\n",
    "    "
   ]
  },
  {
   "cell_type": "markdown",
   "id": "9ef524b4-2223-4a14-93a2-a9747c5f7e96",
   "metadata": {},
   "source": [
    "### html header splitter"
   ]
  },
  {
   "cell_type": "code",
   "execution_count": null,
   "id": "adec77fa-0481-4be8-a513-114f9fa8eb61",
   "metadata": {},
   "outputs": [],
   "source": [
    "from langchain_text_splitters import RecursiveCharacterTextSplitter\n",
    "from langchain_text_splitters import HTMLHeaderTextSplitter\n",
    "from langchain_community.document_loaders import BSHTMLLoader\n",
    "\n",
    "url = \"docs/여비규정.html\"\n",
    "\n",
    "headers_to_split_on = [  # 분할할 HTML 헤더 태그와 해당 헤더의 이름을 지정합니다.\n",
    "    (\"h1\", \"Header 1\"),\n",
    "    (\"h2\", \"Header 2\"),\n",
    "    (\"h3\", \"Header 3\"),\n",
    "    (\"h4\", \"Header 4\"),\n",
    "]\n",
    "\n",
    "# HTML 헤더를 기준으로 텍스트를 분할하는 HTMLHeaderTextSplitter 객체를 생성합니다.\n",
    "html_splitter = HTMLHeaderTextSplitter(headers_to_split_on=headers_to_split_on)\n",
    "\n",
    "# URL에서 텍스트를 가져와 HTML 헤더를 기준으로 분할합니다. \n",
    "#(split_text_from_url(),split_text_from_file(),split_text()\n",
    "# html_header_splits = html_splitter.split_text_from_url(url)\n",
    "# loader = BSHTMLLoader(url,'utf-8')\n",
    "# documents = loader.load_and_split()\n",
    "html_header_splits = html_splitter.split_text_from_file(url)\n",
    "\n",
    "chunk_size = 900  # 텍스트를 분할할 청크의 크기를 지정합니다.\n",
    "chunk_overlap = 100  # 분할된 청크 간의 중복되는 문자 수를 지정합니다.\n",
    "text_splitter = RecursiveCharacterTextSplitter(  # 텍스트를 재귀적으로 분할하는 RecursiveCharacterTextSplitter 객체를 생성합니다.\n",
    "    chunk_size=chunk_size, chunk_overlap=chunk_overlap\n",
    ")\n",
    "\n",
    "# HTML 헤더로 분할된 텍스트를 다시 청크 크기에 맞게 분할합니다.\n",
    "splits = text_splitter.split_documents(html_header_splits)\n",
    "\n",
    "# 분할된 텍스트 중 80번째부터 85번째까지의 청크를 출력합니다.\n",
    "for header in splits:\n",
    "    print(f\"{header.page_content}\")\n",
    "    print(f\"{header.metadata}\", end=\"\\n=====================\\n\")"
   ]
  },
  {
   "cell_type": "code",
   "execution_count": null,
   "id": "3fa9465e-e736-48c5-9430-9b2c9d4681fc",
   "metadata": {},
   "outputs": [],
   "source": [
    "for header in splits:\n",
    "    print(f\"{header.page_content}\")\n",
    "    print(f\"{header.metadata}\", end=\"\\n=====================\\n\")"
   ]
  },
  {
   "cell_type": "markdown",
   "id": "a91c0e68-d9ae-4dce-9d84-6f23a379240c",
   "metadata": {},
   "source": [
    "### html tag간소화"
   ]
  },
  {
   "cell_type": "code",
   "execution_count": 1,
   "id": "5ad7aaa4-75ed-44e2-8b2f-2b963b776057",
   "metadata": {},
   "outputs": [],
   "source": [
    "''' 정규표현식을 활용한 tag제거 '''\n",
    "# https://dbrang.tistory.com/1149\n",
    "import re\n",
    "# 함수선언\n",
    "def subResult(regex, repl, text):\n",
    "    value = re.sub(regex, repl, text)\n",
    "#     if value == text:\n",
    "#         print ('# -- '+ regex, '\\n', value, '\\n', '-' * 30)\n",
    "    return value\n",
    "\n",
    "def delete_tag(text,method=\"partial\"):\n",
    "    pattern = r'<style[^>]*>.*?</style>|style=\"[^\"]*\"'       # style= \" \" 태그 제거 \n",
    "    value = subResult(pattern, \"\", text)\n",
    "    if method=='all':\n",
    "        value = subResult(\"<(/)?p[^>]*>\", \"\", value)        # <p~></p~> 태그 제거\n",
    "        value = subResult(\"<(/)?b[^>]*>\", \"\", value)        # <b~></b~> 태그 제거\n",
    "        value = subResult(r\">\\s+<\", \"><\", value)            # 닫는 tag와 시작tag 사이의 공백제거\n",
    "    else:\n",
    "        value = subResult(\"<p[^>]*>\", \"\", value)              # <p~> 태그 제거\n",
    "    value = subResult(\"<(/)?span[^>]*>\", \" \", value)         # <spn~></span~> 태그 제거\n",
    "    value = ' '.join(value.split())                          # 두개 이상의 공백을 하나로\n",
    "    value = value.replace('&nbsp;','')\n",
    "    return value"
   ]
  },
  {
   "cell_type": "code",
   "execution_count": null,
   "id": "e2c2bd21-e336-4c7f-9ec3-8fa1913bd54c",
   "metadata": {},
   "outputs": [],
   "source": [
    "f_name = '52156.html'\n",
    "with open(f'docs/{f_name}','r', encoding='utf-8') as f:\n",
    "    data = f.readlines()\n",
    "    res = ''\n",
    "    for text in data:\n",
    "        value= delete_tag(text)\n",
    "        res += value\n",
    "print(res)\n",
    "\n",
    "o_name = f_name.split('.')[0] + 'cnv.' + f_name.split('.')[1]\n",
    "with open(f'docs/{o_name}','w', encoding='utf-8') as f:\n",
    "            f.write(res)"
   ]
  },
  {
   "cell_type": "code",
   "execution_count": null,
   "id": "ca2d4917-78a7-4a17-b557-8a2068503be4",
   "metadata": {},
   "outputs": [],
   "source": [
    "# res.replace('<br><br>','<br>')  \n",
    "data"
   ]
  },
  {
   "cell_type": "code",
   "execution_count": null,
   "id": "f8d06d79-9882-4ce5-a0c6-be6e075510ea",
   "metadata": {},
   "outputs": [],
   "source": [
    "import json\n",
    "\n",
    "data = {\"name\":\"alice\"}\n",
    "json_string = json.dumps(data)\n",
    "print(json_string)\n",
    "\n",
    "# with open(\"data.json\",\"w\") as f:\n",
    "#     json.dump(data,f)"
   ]
  },
  {
   "cell_type": "code",
   "execution_count": 2,
   "id": "d1e6cf7f-59f9-4acb-9e9c-7769d67d4f38",
   "metadata": {},
   "outputs": [
    {
     "name": "stderr",
     "output_type": "stream",
     "text": [
      "C:\\Users\\hkccloud01\\anaconda3\\lib\\site-packages\\numpy\\_distributor_init.py:30: UserWarning: loaded more than 1 DLL from .libs:\n",
      "C:\\Users\\hkccloud01\\anaconda3\\lib\\site-packages\\numpy\\.libs\\libopenblas.el2c6ple4zyw3eceviv3oxxgrn2nrfm2.gfortran-win_amd64.dll\n",
      "C:\\Users\\hkccloud01\\anaconda3\\lib\\site-packages\\numpy\\.libs\\libopenblas.FB5AE2TYXYH2IJRDKGDGQ3XBKLKTF43H.gfortran-win_amd64.dll\n",
      "C:\\Users\\hkccloud01\\anaconda3\\lib\\site-packages\\numpy\\.libs\\libopenblas64__v0.3.21-gcc_10_3_0.dll\n",
      "  warnings.warn(\"loaded more than 1 DLL from .libs:\"\n",
      "2024-05-02 17:18:49.617 WARNING streamlit.runtime.caching.cache_data_api: No runtime found, using MemoryCacheStorageManager\n",
      "2024-05-02 17:18:49.636 WARNING streamlit.runtime.caching.cache_data_api: No runtime found, using MemoryCacheStorageManager\n"
     ]
    }
   ],
   "source": [
    "from pages import QA_chat as qc\n",
    "from models import database as db\n",
    "from models import html as htm\n",
    "import json"
   ]
  },
  {
   "cell_type": "code",
   "execution_count": 11,
   "id": "531d2e8d-6cc8-43fa-b42a-5219a6b17cdd",
   "metadata": {},
   "outputs": [],
   "source": [
    "def get_sql(cn_id):\n",
    "    return f'''SELECT k01.cntnt_id AS cntnt_id \n",
    "             , k01.titl AS titl_nm\n",
    "             , k13.cntnt_nm AS sec_nm\n",
    "             , k13.cntnt_no as sec_id\n",
    "             , k24.sub_cntnt_nm AS para_nm\n",
    "             , k24.sub_cntnt_no as para_id\n",
    "             , k24.contn AS contn\n",
    "             , bb.ctgr_path\n",
    "        FROM   tbctkk01 k01\n",
    "             , tbctkk13 k13\n",
    "             , tbctkk24 k24\n",
    "             ,(  SELECT  CTGR_ID\n",
    "                        , CTGR_NM\n",
    "                        , CTGR_PATH\n",
    "                        , CONNECT_BY_ISLEAF AS IS_LEAF\n",
    "                        FROM TBCTKK12\n",
    "                        START WITH USE_YN ='Y'\n",
    "                       AND CTGR_ID = 'CA'\n",
    "                CONNECT BY PRIOR CTGR_ID = HGRK_CTGR_ID AND USE_YN ='Y' ) bb\n",
    "        where k01.cntnt_id = {cn_id}\n",
    "          AND k01.cntnt_id = k13.cntnt_id\n",
    "          AND k13.cntnt_id = k24.CNTNT_ID \n",
    "          AND k13.cntnt_no = k24.CNTNT_NO \n",
    "          AND k01.use_yn = 'Y'\n",
    "          AND k13.use_yn = 'Y'\n",
    "          AND k24.use_yn = 'Y'\n",
    "          and k01.CTGR_ID = BB.CTGR_ID\n",
    "        ORDER BY k13.sort_ord, k24.sort_ord'''"
   ]
  },
  {
   "cell_type": "code",
   "execution_count": 15,
   "id": "bc3f8aab-fcee-485d-ae0e-aa1e165e4c82",
   "metadata": {},
   "outputs": [
    {
     "name": "stdout",
     "output_type": "stream",
     "text": [
      "SUCCESS: Connecting database succeeded\n",
      "succ\n"
     ]
    }
   ],
   "source": [
    "# cn_id = 52162\n",
    "# # df = qc.get_kms_contents(cn_id)\n",
    "# sql = get_sql(cn_id)\n",
    "# df = db.get_kms_datadf(sql)\n",
    "\n",
    "# '''간단한 방법이며 이 방법으로 일단 진행시킴'''\n",
    "# dic = {}\n",
    "# temp_dic = {}\n",
    "# titl_nm,tab_nm,sub_nm  = ['', '', '']\n",
    "# sec_i, para_i = [0, 0]\n",
    "\n",
    "# for idx, row in df.iterrows():\n",
    "#     sec_i = sec_i + 1 if row.tab_nm != tab_nm else sec_i\n",
    "#     para_i = para_i + 1 if row.sub_nm != sub_nm else para_i\n",
    "\n",
    "#     temp_dic['titl'] = row['titl_nm']\n",
    "#     temp_dic['section'+str(sec_i)] = row.tab_nm\n",
    "#     temp_dic['paragraph'+str(para_i)] = row.sub_nm\n",
    "#     html_string = htm.make_header(row.contn, row.titl_nm)\n",
    "#     html_string = delete_tag(html_string)\n",
    "#     temp_dic['contents'+str(para_i)] = html_string\n",
    "#     dic.update(temp_dic)\n",
    "#     titl_nm, tab_nm, sub_nm = row.titl_nm,row.tab_nm,row.sub_nm\n",
    "    \n",
    "# metadata = f'id={df.cntnt_id[0]};path={df.ctgr_path[0]}'\n",
    "# dd = {'data':dic, 'metadata': metadata}\n",
    "# o_name = 'docs/' + str(cn_id) + '.json'\n",
    "# with open(o_name, 'w', encoding='utf8') as f:\n",
    "#      f.write(json.dumps(dd, ensure_ascii=False))\n",
    "# print('succ')"
   ]
  },
  {
   "cell_type": "code",
   "execution_count": 33,
   "id": "0fecc811-516e-45de-bbe3-bde110eef083",
   "metadata": {},
   "outputs": [
    {
     "name": "stdout",
     "output_type": "stream",
     "text": [
      "SUCCESS: Connecting database succeeded\n",
      "succ\n"
     ]
    }
   ],
   "source": [
    "cn_id = 52162\n",
    "# df = qc.get_kms_contents(cn_id)\n",
    "sql = get_sql(cn_id)\n",
    "df = db.get_kms_datadf(sql)\n",
    "\n",
    "'''공공사업실 방법 ==> 최종 24.5.2 '''\n",
    "dic = {}\n",
    "temp_dic = {}\n",
    "sec_i, para_i = [0, 0]\n",
    "titl_nm,sec_id,para_id  = ['', '', '']\n",
    "\n",
    "lst = []\n",
    "for idx, row in df.iterrows():\n",
    "    sec_i = sec_i + 1 if row.sec_id != sec_id else sec_i\n",
    "    para_i = 0 if row.sec_id != sec_id else  para_i  #텝이 바뀌면 순번 restart\n",
    "    para_i = para_i + 1 if row.para_id != para_id else para_i\n",
    "    temp_dic = {}\n",
    "    temp_dic['title'] = row.titl_nm\n",
    "    temp_dic['section'] = row.sec_nm\n",
    "    temp_dic['paragraph'] = row.para_nm\n",
    "#     html_string = htm.make_header(row.contn, row.titl_nm)\n",
    "    html_string = row.contn\n",
    "    html_string = delete_tag(html_string,\"all\")\n",
    "    temp_dic['contents'] = html_string\n",
    "    temp_dic['primary_key'] = f'{row.cntnt_id}>{row.sec_id}>{row.para_id}'\n",
    "    temp_dic['path'] = row.ctgr_path\n",
    "    lst.append(temp_dic)\n",
    "    titl_nm, sec_id, para_id = row.titl_nm,row.sec_id,row.para_id\n",
    "\n",
    "dd = dict({'data':lst})\n",
    "o_name = 'docs/' + str(cn_id) + '.json'\n",
    "with open(o_name, 'w', encoding='utf8') as f:\n",
    "     f.write(json.dumps(dd, ensure_ascii=False))\n",
    "print('succ')"
   ]
  },
  {
   "cell_type": "code",
   "execution_count": 34,
   "id": "163f851d-5f18-4bcb-9708-9756875a65ed",
   "metadata": {},
   "outputs": [
    {
     "data": {
      "text/plain": [
       "{'data': [{'title': '기본정책_쿠폰',\n",
       "   'section': '쿠폰',\n",
       "   'paragraph': '쿠폰',\n",
       "   'contents': '1) 권한이 부여된 위블 비즈 관리자에 한해 아래 목적으로 쿠폰을 생성 할 수 있다. 가. 매출 활성화를 위한 이벤트 진행 나. 회원 및 서비스 정책 연계 혜택 지급(충전 리워드 쿠폰, Greener 레벨업 쿠폰 등) 다. 서비스 불만족시 고객 보상 라. 가격 조정이 필요한 대차 2) 생성된 쿠폰은 위블존/차량/상품/기간 등 관리자가 설정한 조건에 따라 발행되며, 회원은 쿠폰코드를 직접 입력하거나 쿠폰북에서 다운로드를 받음으로써 쿠폰을 발급받을 수 있다. 가. 회원 가입 마지막 단계에서 추천인 또는 추천코드를 입력하여 가입 완료시 맵핑된 쿠폰 발급 가능 나. 생성된 쿠폰을 앱내 내 쿠폰북에서 다운로드 가능 다. 생성된 쿠폰 코드를 앱내 내 쿠폰에서 입력하여 발급 가능 라. 서비스 이용 중 특정 시나리오에 조건 만족시 설정된 쿠폰 자동 발급  &#9312;  정회원 가입 완료 시 : 1만원 쿠폰 발급(개인 프로필에 한해 사용 가능)  &#9313;  가입단계에서 마케팅 전채널 수신 동의 시 : 5천원 쿠폰 자동 발급(개인 프로필에 한해 사용 가능)  &#9314;  친구 초대하여 정회원 가입 완료 시 : 추천인, 피추천인 모두 5천원 쿠폰 발급(개인 프로필에 한해 사용 가능), 무제한  &#9315;  Greener 등급 레벨업 시 : 별도 기술  &#9316;  충전 후 차량 반납 시 : 별도 기술 마. 관리자 시스템에서 회원에게 직접 쿠폰을 맵핑하여 발급 가능 3) 발행 가능기간이 지나면 쿠폰북에서 더이상 쿠폰을 발급 받을 수 없다. 4) 발급 받은 쿠폰은 내 쿠폰함으로 옮겨지며 해당 쿠폰의 유효기간(해당 날짜의 23:59까지)이 지나면 더이상 이용할 수 없다. 5) 모든 쿠폰은 결제시 대여요금에 한해 적용되며 대여건별 1개만 사용 가능하다. - 예외 #1. 1 Day+ 상품 구매시 할인율로만 쿠폰 적용이 가능하며 복수의 1Day+를 한번에 구매시 동일한 할인율이 일괄 적용된다. <table border=\"1\" cellspacing=\"0\" cellpadding=\"0\" ><tbody><tr><td > <u> 예시 #1. </u> 구독권의 정기결제의 경우 첫달 구독요금만 쿠폰 적용이 가능하다. </td></tr></tbody></table> 6) 대여 취소시 쿠폰의 유효기간이 남아있는 경우 쿠폰이 원복된다. 7) 쿠폰은 타인에게 양도할 수 없다.',\n",
       "   'primary_key': '52162>1>1.1',\n",
       "   'path': '팔레트>위블비즈 고객센터>업무지식>쿠폰'},\n",
       "  {'title': '기본정책_쿠폰',\n",
       "   'section': '쿠폰',\n",
       "   'paragraph': '회원 등급별 쿠폰',\n",
       "   'contents': '<table border=\"1\" cellspacing=\"0\" cellpadding=\"0\" ><tbody><tr ><td > 등급 구분 </td><td > 등급 부과 기준 </td><td > 혜택 </td></tr><tr ><td > - </td><td > 준회원 </td><td > - </td></tr><tr ><td > Greener Lv.1 </td><td > 정회원 전환 시 </td><td > - </td></tr><tr ><td > Greener Lv.2 </td><td > 월평균 주행거리 500km 이상 </td><td > ㅁ 레벨업 쿠폰 (레벨업 시 자동 발급) -  1 만원 무료 쿠폰 (발급일로부터 30일 이내 사용 가능) ㅁ 월간 쿠폰 (매월 1일 이후 쿠폰북에서 발급) -  5 천원 할인 쿠폰 (발급일로부터 30일 이내, 2만원 이상 결제 시 사용 가능) </td></tr><tr ><td > Greener Lv.3 </td><td > 월평균 주행거리 700km 이상 </td><td > ㅁ 개인 프로필 대여 시 주행요금 km당 5원 할인 ( 대여이용시작 등급 기준 할인 적용,대여기간 중 등급 변경시 미적용) ㅁ 레벨업 쿠폰 (레벨업 시 자동 발급) -  1 만원 무료 쿠폰 (발급일로부터 30일 이내 사용 가능) -  &lsquo; 주말&rsquo; 특가 상품 50% 할인 쿠폰 (발급일로부터 60일 이내 사용 가능) ㅁ 월간 쿠폰 (매월 1일 이후 쿠폰북에서 발급) -  1 만원 할인 쿠폰 (발급일로부터 30일 이내, 3만원 이상 결제 시 사용 가능) </td></tr><tr ><td > Super Greener </td><td > 월평균 주행거리 1,000km 이상, 혹은 &lsquo;프리미엄 구독&rsquo; 상품 이용 기간 동안 </td><td > ㅁ 개인 프로필 대여 시 주행요금 km당 10원 할인 ( 대여이용시작 등급 기준 할인 적용,대여기간 중 등급 변경시 미적용) ㅁ 레벨업 쿠폰 (레벨업 시 자동 발급) -  1 만원 무료 쿠폰 (발급일로부터 30일 이내 사용 가능) X 2장 -  &lsquo; 주말&rsquo; 특가 상품 50% 할인 쿠폰 (발급일로부터  1년 이내 사용 가능) ㅁ 월간 쿠폰 (매월 1일 이후 쿠폰북에서 발급) -  1 만원 할인 쿠폰 (발급일로부터 30일 이내, 3만원 이상 결제 시 사용 가능) </td></tr></tbody></table>',\n",
       "   'primary_key': '52162>1>1.2',\n",
       "   'path': '팔레트>위블비즈 고객센터>업무지식>쿠폰'},\n",
       "  {'title': '기본정책_쿠폰',\n",
       "   'section': '이벤트 쿠폰',\n",
       "   'paragraph': '1/8~1/28 페이백 쿠폰',\n",
       "   'contents': '■페이백 쿠폰 이벤트 ▶ 이벤트 기간 : 1.8~1.28 ▶ 쿠폰 지급 : 2.1 이후 ▶쿠폰 유효기간 : 발급일로부터 14일 이내 1/8~1/28 기간 내 퇴출근 1회권, 주말 1회권, 퇴출근 구독, 프리미엄 구독 이용 완료한 고객(개인용 이용완료)에게 같은 상품 50% 쿠폰을 이용한 만큼 무제한으로 제공 내 쿠폰함에 지급',\n",
       "   'primary_key': '52162>3>3.1',\n",
       "   'path': '팔레트>위블비즈 고객센터>업무지식>쿠폰'},\n",
       "  {'title': '기본정책_쿠폰',\n",
       "   'section': '이벤트 쿠폰',\n",
       "   'paragraph': '1/1~1/31 친구추천 이벤트',\n",
       "   'contents': '■특별 친구 추천 week ▶이벤트기간 : 1/15~1/28 ▶ 쿠폰 유효기간 : 발급일로부터 30일 이내 1) 친구 추천 시, 추천할 때마다 기존 5,000원 + 추가 5,000원 할인 쿠폰 지급 (추천 인원만큼 무제한) 2) 추천 가입자 1명이라도 정회원 전환 시 커피 기프티콘 제공 (1인당 1회)   - 추가 쿠폰 및 기프티콘 2/5 이후 순차 지급 &#9312; 추천 친구 신규 가입 5천원 쿠폰 및 커피 기프티콘: 2/5 이후 순차 지급 &#9313; 추천 친구 정회원 전환 5천원 쿠폰: 정회원 전환 즉시 지급 (=해당 이벤트가 아니어도 자동 발급되는 쿠폰)',\n",
       "   'primary_key': '52162>3>3.2',\n",
       "   'path': '팔레트>위블비즈 고객센터>업무지식>쿠폰'}]}"
      ]
     },
     "execution_count": 34,
     "metadata": {},
     "output_type": "execute_result"
    }
   ],
   "source": [
    "dd"
   ]
  },
  {
   "cell_type": "code",
   "execution_count": 5,
   "id": "1c695a66-2606-4158-8fc1-237ce5d6deed",
   "metadata": {},
   "outputs": [
    {
     "name": "stdout",
     "output_type": "stream",
     "text": [
      "SUCCESS: Connecting database succeeded\n",
      "succ\n"
     ]
    }
   ],
   "source": [
    "cn_id = 52156\n",
    "# df = qc.get_kms_contents(cn_id)\n",
    "sql = get_sql(cn_id)\n",
    "df = db.get_kms_datadf(sql)\n",
    "\n",
    "'''공공사업실 방법 ==> 협의했던 방법(순번부여)'''\n",
    "dic = {}\n",
    "temp_dic = {}\n",
    "titl_nm,sec_nm,para_nm  = ['', '', '']\n",
    "sec_i, para_i = [0, 0]\n",
    "\n",
    "lst = []\n",
    "for idx, row in df.iterrows():\n",
    "    sec_i = sec_i + 1 if row.sec_nm != sec_nm else sec_i\n",
    "    para_i = 0 if row.sec_nm != sec_nm else  para_i  #텝이 바뀌면 순번 restart\n",
    "    para_i = para_i + 1 if row.para_nm != para_nm else para_i\n",
    "    temp_dic = {}\n",
    "    temp_dic['section'+str(sec_i)] = row.sec_nm\n",
    "    temp_dic['paragraph'+str(para_i)] = row.para_nm\n",
    "#     html_string = htm.make_header(row.contn, row.titl_nm)\n",
    "    html_string = row.contn\n",
    "    html_string = delete_tag(html_string,\"all\")\n",
    "    temp_dic['contents'+str(para_i)] = html_string\n",
    "    lst.append(temp_dic)\n",
    "    titl_nm, sec_nm, para_nm = row.titl_nm,row.sec_nm,row.para_nm\n",
    "    \n",
    "# metadata = f'title:{titl_nm},primary_key:{df.cntnt_id[0]},path={df.ctgr_path[0]}'\n",
    "metadata = dict({'title':titl_nm,'primary_key':df.cntnt_id[0], 'path':df.ctgr_path[0]})\n",
    "dd = dict({'data':lst, 'metadata':metadata})\n",
    "o_name = 'docs/' + str(cn_id) + '.json'\n",
    "with open(o_name, 'w', encoding='utf8') as f:\n",
    "     f.write(json.dumps(dd, ensure_ascii=False))\n",
    "print('succ')"
   ]
  },
  {
   "cell_type": "code",
   "execution_count": null,
   "id": "d0ce50dc-7378-42c8-aaca-d78dcd0c8b55",
   "metadata": {},
   "outputs": [],
   "source": [
    "### 트리 구조형태이나 너무 복잡함 ###\n",
    "dic = {}\n",
    "titl_nm,sec_nm,para_nm  = ['', '', '']\n",
    "sec_i, para_i = [0, 0]\n",
    "\n",
    "for idx, row in df.iterrows():\n",
    "#     print(row)\n",
    "    sec_i = sec_i + 1 if row.sec_nm != sec_nm else sec_i\n",
    "    print(sec_i, row.sec_nm)\n",
    "    para_i = para_i + 1 if row.para_nm != para_nm else para_i\n",
    "\n",
    "    dic['titl'] = row['titl_nm']\n",
    "    dic['contents '+str(sec_i)] = {'title': row.sec_nm,\n",
    "                      \"para\": {\n",
    "                        'para'+str(para_i):\n",
    "                            { 'title': row.para_nm,\n",
    "                              'contents': \"ss\" #row.contn\n",
    "                          }\n",
    "                       }\n",
    "                     }\n",
    "    titl_nm, sec_nm, para_nm = row.titl_nm,row.sec_nm,row.para_nm"
   ]
  },
  {
   "cell_type": "code",
   "execution_count": null,
   "id": "589f4674-1b43-49cf-88d7-f8df216b2f36",
   "metadata": {},
   "outputs": [],
   "source": [
    "df.groupby(level=-1).apply(lambda df: df.xs(df.name).to_dict()).to_dict()\n",
    "# df.groupby(level=0)"
   ]
  },
  {
   "cell_type": "code",
   "execution_count": null,
   "id": "7e3ff664-646b-4702-8dbc-2d09846b5dae",
   "metadata": {},
   "outputs": [],
   "source": [
    "df.xs(df.name)"
   ]
  },
  {
   "cell_type": "code",
   "execution_count": null,
   "id": "63bac909-5a84-4066-8826-d8af3579627a",
   "metadata": {},
   "outputs": [],
   "source": [
    "for i in df.groupby(level=0):\n",
    "    print(i)"
   ]
  },
  {
   "cell_type": "code",
   "execution_count": null,
   "id": "1a6db19d-e704-416a-9a49-29f54ab32453",
   "metadata": {},
   "outputs": [],
   "source": [
    "data_json4 = {\n",
    "     \"title\": \"제목명\",\n",
    "     \"section\": {\n",
    "        \"sec1\" : {\n",
    "            \"title\":\"탭1명\",\n",
    "            \"para\": {\n",
    "              \"para1\": { \n",
    "                \"title\" : \"소제목1명\",\n",
    "                \"contents\": \"내용1 html\"\n",
    "              },\n",
    "              \"para2\": { \n",
    "                \"title\" : \"소제목1명\",\n",
    "                \"contents\": \"내용2 html\"\n",
    "             }\n",
    "            }\n",
    "          },\n",
    "\n",
    "          \"sec2\" : {\n",
    "            \"title\":\"탭2명\",\n",
    "            \"para\": {\n",
    "                \"para1\": { \n",
    "                    \"title\" : \"소제목1명\",\n",
    "                    \"contents\": \"내용1 html\"\n",
    "                },\n",
    "                \"para2\": { \n",
    "                    \"title\" : \"소제목1명\",\n",
    "                    \"contents\": \"내용1 html\"\n",
    "                },\n",
    "            }\n",
    "          }\n",
    "        }\n",
    "      }"
   ]
  },
  {
   "cell_type": "code",
   "execution_count": null,
   "id": "3b399fff-be6a-4d8f-8d8e-26c700cf26cc",
   "metadata": {},
   "outputs": [],
   "source": [
    "data_json3"
   ]
  },
  {
   "cell_type": "code",
   "execution_count": null,
   "id": "902568fe-6b69-4b84-aee4-d0e6d12a73b2",
   "metadata": {},
   "outputs": [],
   "source": [
    "data_json4"
   ]
  },
  {
   "cell_type": "code",
   "execution_count": null,
   "id": "69d8066f-01bc-467f-88ac-fa999238d22d",
   "metadata": {},
   "outputs": [],
   "source": [
    "data_json2"
   ]
  },
  {
   "cell_type": "code",
   "execution_count": null,
   "id": "d6e675b8-8bb4-4230-aa3f-7f584f4edba0",
   "metadata": {},
   "outputs": [],
   "source": []
  }
 ],
 "metadata": {
  "kernelspec": {
   "display_name": "Python 3",
   "language": "python",
   "name": "python3"
  },
  "language_info": {
   "codemirror_mode": {
    "name": "ipython",
    "version": 3
   },
   "file_extension": ".py",
   "mimetype": "text/x-python",
   "name": "python",
   "nbconvert_exporter": "python",
   "pygments_lexer": "ipython3",
   "version": "3.8.8"
  }
 },
 "nbformat": 4,
 "nbformat_minor": 5
}
