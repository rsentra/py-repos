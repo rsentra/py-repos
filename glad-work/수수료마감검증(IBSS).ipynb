{
 "cells": [
  {
   "cell_type": "markdown",
   "id": "c786087c-c8e6-4a06-9bb6-6aa2a358c024",
   "metadata": {},
   "source": [
    "ibss마감결과의 오류를 검색 (수수료 정산작업전에 사용)\n",
    "--- goms와 비교/ 월납오류 검출"
   ]
  },
  {
   "cell_type": "code",
   "execution_count": null,
   "id": "2ff25580-f391-4e80-a7cc-c27026ce4c0b",
   "metadata": {},
   "outputs": [],
   "source": [
    "import pandas as pd\n",
    "import GladUtil as gd\n",
    "pd.set_option('display.max_rows', 1000)\n",
    "대상 = ['장기','생보','일반','자동차']\n",
    "미유지 = ['실효','해지','철회','취소']\n",
    "\n",
    "path_ibss ='e:/글로벌백업(180329)/04.수수료작업/202202수수료/'\n",
    "ibss_file = []\n",
    "ibss_file.append('마감실적리스트(장기)-202203241025.xlsx')\n",
    "ibss_file.append('마감실적리스트(생보)-202203241025.xlsx')\n",
    "ibss_file.append('마감실적리스트(일반)-202203241025.xlsx')\n",
    "ibss_file.append('마감실적리스트(자동차)-202203241025.xlsx')\n",
    "goms_file = 'goms.xlsx'\n",
    "\n",
    "gb = '자동차'\n",
    "date_cond = '2022-01-01'\n",
    " \n",
    "in_file = ibss_file[대상.index(gb)]\n",
    "df = pd.read_excel(path_ibss+in_file, header=0, dtype={'증권번호':object})\n",
    "\n",
    "goms_file = 'goms.xlsx'\n",
    "df2 = pd.read_excel(path_ibss+goms_file,header=0, dtype={'증권번호':object})"
   ]
  },
  {
   "cell_type": "code",
   "execution_count": null,
   "id": "859363d3-6153-4bc5-ac87-c9706ab0b2f1",
   "metadata": {},
   "outputs": [],
   "source": [
    "if gb in ('일반','자동차'):\n",
    "    df['보종'] = gb        \n",
    "    if gb == '자동차':\n",
    "        df.rename(columns={'개시일':'계약일','보험료':'월납보험료','납입':'구분'},inplace=True)\n",
    "        df2['상품종류'] = gb\n",
    "    else:\n",
    "        df.rename(columns={'납입보험료':'월납보험료'},inplace=True)\n",
    "    \n",
    "''' ibss - 당월건'''\n",
    "df_ibss = df[['보험회사','증권번호','담당','보종','구분','계약일','월납보험료']].copy()\n",
    "df_ibss = df_ibss[df_ibss['계약일'] >= date_cond]\n",
    "\n",
    "''' goms - 해당 보종'''\n",
    "df_goms = df2[df2['계약종류'] == gb][['보험사','증권번호','수금사원명','계약종류','상품종류','계약상태','계약일자','초회보험료']].copy()\n",
    "\n",
    "''' join 및 값 비교'''\n",
    "df_ply = pd.merge(df_ibss, df_goms, how = 'outer',\n",
    "            on=['증권번호'],indicator = True).reset_index().astype({\"_merge\": str}).fillna(0)\n",
    "df_ply.drop(columns='index',inplace=True)\n",
    "df_ply['보험사'] = df_ply['보험사'].replace({'하나손해보험':'하나손보','AIG손해보험':'AIG손보'})\n",
    "\n",
    "df_ply['사원비교']= [\"일치\" if str(x)[:2] == str(y)[:2]  else \"불일치\" \n",
    "                 for x,y in zip(df_ply['담당'],df_ply['수금사원명'])]\n",
    "\n",
    "df_ply['보종비교']= [\"일치\" if ( str(x) in str(y) or str(y) in str(x) )  else \"불일치\" \n",
    "                 for x,y in zip(df_ply['보종'],df_ply['상품종류'])]\n",
    "\n",
    "df_ply['증번비교']= [\"일치\" if x == 'both'  else ( 'ibss만 존재' if x == 'left_only' else \"goms만 존재\") \n",
    "                 for x in df_ply['_merge'] ]\n",
    "\n",
    "df_ply['회사비교']= [\"일치\" if str(x) == str(y)  else (\"불일치\" if str(z)=='both' else \"\")\n",
    "                 for x,y,z in zip(df_ply['보험회사'],df_ply['보험사'],df_ply['_merge'])]\n",
    "\n",
    "exp = f\"(구분 in {미유지}) and 월납보험료 == 0 \"\n",
    "df_temp = df.query(exp)[['보험회사','증권번호','담당','보종','구분','계약일','월납보험료']]\n",
    "df_temp['보험료비교'] = '월납오류'\n",
    "\n",
    "exp  = f\" ( 사원비교 != '일치') or (보종비교 != '일치') or (증번비교 != '일치') or (회사비교 != '일치') \"\n",
    "df_error = pd.concat([df_ply.query(exp),df_temp])\n",
    "\n",
    "df_error.fillna('').to_excel(f'c:/temp/ibss_마감오류_{gb}.xlsx',index = False)"
   ]
  },
  {
   "cell_type": "markdown",
   "id": "d74017e7",
   "metadata": {},
   "source": [
    "13,25차 환산보험료 변경건 추출"
   ]
  },
  {
   "cell_type": "code",
   "execution_count": 23,
   "id": "e2e1f056",
   "metadata": {},
   "outputs": [
    {
     "name": "stdout",
     "output_type": "stream",
     "text": [
      "end of job\n"
     ]
    }
   ],
   "source": [
    "path_ibss ='e:/글로벌백업(180329)/04.수수료작업/'\n",
    "ym = '202202'\n",
    "goms_file = 'goms.xlsx'\n",
    "gb = '생보'\n",
    "\n",
    "''' ibss - 당월건''' \n",
    "in_file = ibss_file[대상.index(gb)]\n",
    "df = pd.read_excel(f'{path_ibss}{ym}수수료/{in_file}', header=0, dtype={'증권번호':object})\n",
    "\n",
    "df_ibss = df[['보험회사','증권번호','담당','보종','구분','계약일','납입회차','월납보험료','환산보험료']].copy()\n",
    "date_cond = df_ibss['계약일'] >= '2021-01-01'\n",
    "seq_cond = df_ibss['납입회차'].isin([13,25])\n",
    "df_ibss = df_ibss[date_cond & seq_cond]\n",
    "\n",
    "# goms파일 read\n",
    "ym_list = df_ibss['계약일'].str.replace('-','').str[:6].unique()\n",
    "df_goms = pd.DataFrame()\n",
    "g_cols = ['보험사','증권번호','상품종류','계약상태','초회보험료','1차년성적','2차년성적','3차년성적']\n",
    "for i in ym_list:\n",
    "    df2 = pd.read_excel(f'{path_ibss}{i}수수료/{goms_file}',header=0, dtype={'증권번호':object})\n",
    "    df2 = df2[df2['계약종류'] == gb][g_cols].copy()\n",
    "    df_goms = pd.concat([df_goms,df2])\n",
    "\n",
    "''' join 및 값 비교'''\n",
    "\n",
    "df_ply = pd.merge(df_ibss, df_goms, how = 'left',\n",
    "            on=['증권번호'],indicator = True).reset_index().astype({\"_merge\": str}).fillna(0)\n",
    "df_ply.drop(columns='index',inplace=True)\n",
    "dict_s = {13:'2차년성적',25:'3차년성적'}  #환산컬럼\n",
    "df_ply['goms환산'] = df_ply.apply(lambda x: x[dict_s.get(x['납입회차'])],axis=1)\n",
    "exp  = f\" ( 환산보험료 != goms환산)  \"\n",
    "df_error2 = df_ply.query(exp)\n",
    "\n",
    "df_error2.fillna('').to_excel(f'c:/temp/ibss_환산오류_{gb}.xlsx',index = False)\n",
    "print('end of job')"
   ]
  },
  {
   "cell_type": "code",
   "execution_count": 39,
   "id": "68cf127f",
   "metadata": {},
   "outputs": [
    {
     "data": {
      "text/plain": [
       "43"
      ]
     },
     "execution_count": 39,
     "metadata": {},
     "output_type": "execute_result"
    }
   ],
   "source": [
    "# df_ply[['증권번호','환산보험료','goms환산','보험사']]\n",
    "df_error2[['증권번호','환산보험료','goms환산','보험사']]\n"
   ]
  }
 ],
 "metadata": {
  "kernelspec": {
   "display_name": "Python 3",
   "language": "python",
   "name": "python3"
  },
  "language_info": {
   "codemirror_mode": {
    "name": "ipython",
    "version": 3
   },
   "file_extension": ".py",
   "mimetype": "text/x-python",
   "name": "python",
   "nbconvert_exporter": "python",
   "pygments_lexer": "ipython3",
   "version": "3.8.5"
  }
 },
 "nbformat": 4,
 "nbformat_minor": 5
}
