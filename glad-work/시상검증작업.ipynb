{
 "cells": [
  {
   "cell_type": "markdown",
   "id": "d8a9357d-c7b7-44a8-9e5b-3d4ae9021314",
   "metadata": {},
   "source": [
    "### 시상검증용 스크립트(곰스)"
   ]
  },
  {
   "cell_type": "code",
   "execution_count": null,
   "id": "0ad2204d-204e-4c80-bf8b-5c96ee63b28f",
   "metadata": {},
   "outputs": [],
   "source": [
    "import pandas as pd\n",
    "import numpy as np\n",
    "import duckdb\n",
    "from openpyxl import load_workbook\n",
    "\n",
    "repl_dict = {True:'생보',False:'손보'}\n",
    "keywords = ['생명','라이프']\n",
    "def bojong(co_name): #회사명으로 생,손보 구분\n",
    "    return repl_dict.get(any( k in co_name for k in keywords))"
   ]
  },
  {
   "cell_type": "markdown",
   "id": "2440e385-31cf-44f4-bbd1-4237dbc890d3",
   "metadata": {},
   "source": [
    "#### goms산출 파일 및 엑셀 파일 read"
   ]
  },
  {
   "cell_type": "code",
   "execution_count": null,
   "id": "6b658a62-7a9c-4687-8797-313ec23f06c3",
   "metadata": {},
   "outputs": [],
   "source": [
    "path='E:/글로벌백업(180329)/04.수수료작업/202504시상/'\n",
    "# f_name= 'GOMS수입명세-검증.xlsx'\n",
    "f_name= '2025년 4월 업적_수입원장.xlsx'\n",
    "sht = '건별'\n",
    "in_df = pd.read_excel(path+f_name, sheet_name=sht)\n",
    "in_df = in_df[~in_df['보험사'].isna()]\n",
    "in_df['구분'] = in_df['보험사'].apply(lambda x: bojong(x))\n",
    "if '수입원장' in f_name:\n",
    "    vals = ['(지급/환수)시상','리스크공제']\n",
    "    in_df.rename(columns={'적용일':'적용일자'},inplace=True)\n",
    "else:\n",
    "    vals = ['지급','환수','리스크공제']\n",
    "\n",
    "in_sum = pd.pivot_table(in_df, values=vals, index=['구분','적용일자','보험사'],\n",
    "            columns=['시상구분','시상분류'], aggfunc=np.sum, fill_value=0, margins=False, sort=False).reset_index()\n",
    "in_sum.to_clipboard(index=False)\n",
    "in_sum.head(1)\n",
    "print('수입원장 집계 복사완료')"
   ]
  },
  {
   "cell_type": "code",
   "execution_count": null,
   "id": "85c0bd8c-7854-4e1c-8c1e-e892fa43987a",
   "metadata": {},
   "outputs": [],
   "source": [
    "f_name= '2025년 4월 업적_수입원장.xlsx'\n",
    "sht = '항목별'\n",
    "in_df2 = pd.read_excel(path+f_name, sheet_name=sht)\n",
    "in_df2 = in_df2[~in_df2['보험사'].isna()]\n",
    "in_df2['구분'] = in_df2['보험사'].apply(lambda x: bojong(x))\n",
    "vals = '(지급/환수)시상금'\n",
    "in_df2.rename(columns={'적용일':'적용일자'},inplace=True)\n",
    "in_sum2 = pd.pivot_table(in_df2[in_df2['적용일자'].isin(['말일자','10일자'])],\n",
    "                         values=vals, index=['구분','시상구분','적용일자','보험사'],\n",
    "            columns=['시상분류'], aggfunc=np.sum, fill_value=0, margins=False, sort=False).reset_index()\n",
    "in_sum2.to_clipboard(index=False)\n",
    "in_sum2.head(1)\n",
    "print('수입원장 항목별 집계 복사완료')"
   ]
  },
  {
   "cell_type": "code",
   "execution_count": null,
   "id": "b2f05eb9-462c-49d6-a865-1545586f98fd",
   "metadata": {},
   "outputs": [],
   "source": [
    "in_sum2"
   ]
  },
  {
   "cell_type": "code",
   "execution_count": null,
   "id": "32bb346d-2ec2-42bc-b1b5-acd761c14738",
   "metadata": {},
   "outputs": [],
   "source": [
    "path='E:/글로벌백업(180329)/04.수수료작업/202504시상/'\n",
    "f_name= 'GOMS지급명세-검증.xlsx'\n",
    "pay_df = pd.read_excel(path+f_name, sheet_name='지급내역상세조회_상세내역조회', dtype={'증권번호': 'object'})\n",
    "pay_df = pay_df[~pay_df['보험사'].isna()]\n",
    "pay_df['구분'] = pay_df['보험사'].apply(lambda x: bojong(x))\n",
    "pay_df['3단계(지점)시상'] = pay_df['2단계(직할지점)시상'] + pay_df['3단계(지점)시상']\n",
    "\n",
    "pay_sum = pd.pivot_table(pay_df, values=['FC시상계','OR시상계','3단계(지점)시상','5단계(총괄)시상'],\n",
    "                index=['시상구분','구분','보험사'],\n",
    "                columns=['시상분류'], aggfunc=np.sum, fill_value=0, margins=False,\n",
    "                          sort=False).reset_index()\n",
    "pay_sum.to_clipboard(index=False)\n",
    "pay_sum.head(1)\n",
    "print('지급원장 집계 복사완료')"
   ]
  },
  {
   "cell_type": "code",
   "execution_count": null,
   "id": "d9a6b70c-de21-4d7d-88db-022055e75196",
   "metadata": {},
   "outputs": [],
   "source": [
    "pay_sum.to_clipboard(index=False)"
   ]
  },
  {
   "cell_type": "markdown",
   "id": "9c9b4479-980a-47ce-8345-426fd12f00a5",
   "metadata": {},
   "source": [
    "#### 지급명세와 수입명세 데이터 불일치건 찾기"
   ]
  },
  {
   "cell_type": "code",
   "execution_count": null,
   "id": "22d3a34b-7fea-4aad-8497-9d266c5ccb29",
   "metadata": {},
   "outputs": [],
   "source": [
    "''' 사별로 지급과 수입을 비교한다 --건별시상이므로 GA시상금 비교에 사용'''\n",
    "#지급내역\n",
    "pay_corp_sum = pay_df.groupby(['보험사','시상분류'])[['FC시상계','OR시상계']].sum().reset_index()\n",
    "pay_corp_sum['계'] = pay_corp_sum['FC시상계'] + pay_corp_sum['OR시상계']\n",
    "pay_corp_sum.head(1)\n",
    "#수입내역\n",
    "in_corp_sum = in_df.groupby(['보험사','시상분류'])[['(지급/환수)시상','리스크공제']].sum().reset_index()\n",
    "in_corp_sum['계'] = in_corp_sum['(지급/환수)시상'] + in_corp_sum['리스크공제']\n",
    "in_corp_sum.head(1)\n",
    "#비교\n",
    "sum_compare = pd.merge(in_corp_sum, pay_corp_sum, how='outer', on=['보험사','시상분류']).fillna(0)\n",
    "sum_compare['차이'] = sum_compare['계_x'] - sum_compare['계_y']\n",
    "\n",
    "''' =====> 차이건중 FC시상이 있으면 확인 필요 '''\n",
    "sum_compare[sum_compare['차이']!=0]\n"
   ]
  },
  {
   "cell_type": "code",
   "execution_count": null,
   "id": "49caa334-4417-4f5a-b8b4-b1c3162fa5ea",
   "metadata": {},
   "outputs": [],
   "source": [
    "'''건별 비교을 위한 준비 '''\n",
    "pay1_df = in_df\n",
    "pay1_df = pay1_df[~pay1_df['보험사'].isna()]\n",
    "pay1_df['구분'] = pay1_df['보험사'].apply(lambda x: bojong(x))\n",
    "pay1_df.columns\n",
    "pay1_df['(시상금/리스크)합계 시상금'] = pay1_df['(지급/환수)시상'] + pay1_df['리스크공제']\n",
    "\n",
    "시상구분='보험사'\n",
    "시상분류=['GA시상','총괄시상']\n",
    "grp_col1 = ['구분','보험사','지점', '증권번호']\n",
    "pay_pol = pay_df[(pay_df['시상구분']==시상구분) & (pay_df['시상분류'].isin(시상분류))]. \\\n",
    "                 groupby(grp_col1)[['OR시상계','3단계(지점)시상','5단계(총괄)시상']]. \\\n",
    "                 agg('sum').reset_index()\n",
    "pay1_pol = pay1_df[(pay1_df['시상구분']==시상구분) & (pay1_df['시상분류'].isin(시상분류))]. \\\n",
    "                 groupby(grp_col1)[['(지급/환수)시상','리스크공제','(시상금/리스크)합계 시상금']]. \\\n",
    "                 agg('sum').reset_index()\n",
    "mer1_pol = pd.merge(pay1_pol, pay_pol, how='outer', on='증권번호')\n",
    "mer1_pol.fillna(0, inplace=True)\n",
    "mer1_pol['차이'] = mer1_pol['(시상금/리스크)합계 시상금'] - mer1_pol['OR시상계']\n",
    "compare1_df = mer1_pol[mer1_pol['차이']!=0] \n",
    "compare1_df.drop(columns=['지점_y','구분_y'], inplace=True)\n",
    "print('아래 실행하여 불일치건 찾기')"
   ]
  },
  {
   "cell_type": "code",
   "execution_count": null,
   "id": "e737f795-4f08-4fd1-a047-65041ebfb369",
   "metadata": {},
   "outputs": [],
   "source": [
    "검증보종 = None # '손보' # None\n",
    "검증회사 = '삼성화재'\n",
    "# compare_df = compare_df.fillna('')\n",
    "if 검증보종==\"생보\" or 검증보종==\"손보\":\n",
    "    dd = compare1_df[(compare1_df ['구분_x']==검증보종) & (abs(compare1_df ['차이'])>2)]\n",
    "elif 검증회사:\n",
    "    dd = compare1_df[(compare1_df ['보험사_x']==검증회사) & (abs(compare1_df ['차이'])>2)]\n",
    "dd_final = dd[['보험사_x','지점_x','증권번호','(지급/환수)시상','리스크공제','(시상금/리스크)합계 시상금'\n",
    "               ,'OR시상계' ,'차이']]\n",
    "dd_final"
   ]
  },
  {
   "cell_type": "markdown",
   "id": "fba3d332-9610-4044-b935-cd2e0d766bfa",
   "metadata": {},
   "source": [
    "### 지급명세와 총괄기초 데이터 불일치건 찾기"
   ]
  },
  {
   "cell_type": "code",
   "execution_count": null,
   "id": "9dd88946-a6c5-4ca9-8367-93eb837dd8e4",
   "metadata": {},
   "outputs": [],
   "source": [
    "f_name= 'GOMS지급명세-검증.xlsx'\n",
    "pay1_df = pd.read_excel(path+f_name, sheet_name='총괄지급용기초데이터', dtype={'증권번호': 'object'})\n",
    "pay1_df = pay1_df[~pay1_df['보험사'].isna()]\n",
    "pay1_df['구분'] = pay1_df['보험사'].apply(lambda x: bojong(x))\n",
    "print('총괄지급명세')"
   ]
  },
  {
   "cell_type": "code",
   "execution_count": null,
   "id": "b953fe54-afc2-4c97-a892-f3434203e466",
   "metadata": {},
   "outputs": [],
   "source": [
    "시상구분='보험사'\n",
    "시상분류=['GA시상','총괄시상']\n",
    "grp_col1 = ['구분','보험사','지점', '증권번호']\n",
    "pay_pol = pay_df[(pay_df['시상구분']==시상구분) & (pay_df['시상분류'].isin(시상분류))]. \\\n",
    "                 groupby(grp_col1)[['OR시상계','3단계(지점)시상','5단계(총괄)시상']]. \\\n",
    "                 agg('sum').reset_index()\n",
    "pay1_pol = pay1_df[(pay1_df['시상구분']==시상구분) & (pay1_df['시상분류'].isin(시상분류))]. \\\n",
    "                 groupby(grp_col1)[['(지급/환수)시상금','리스크공제','(시상금/리스크)합계 시상금']]. \\\n",
    "                 agg('sum').reset_index()\n",
    "mer1_pol = pd.merge(pay1_pol, pay_pol, how='outer', on='증권번호')\n",
    "mer1_pol.fillna(0, inplace=True)\n",
    "mer1_pol['차이'] = mer1_pol['(시상금/리스크)합계 시상금'] - mer1_pol['OR시상계']\n",
    "compare1_df = mer1_pol[mer1_pol['차이']!=0] \n",
    "compare1_df.drop(columns=['지점_y','구분_y'], inplace=True)\n",
    "print('아래 실행하여 불일치건 찾기')"
   ]
  },
  {
   "cell_type": "code",
   "execution_count": null,
   "id": "81f8b8af-0a19-4996-b31f-6d04c47ba353",
   "metadata": {},
   "outputs": [],
   "source": [
    "검증보종 = None # '손보' # None\n",
    "검증회사 = '삼성화재'\n",
    "# compare_df = compare_df.fillna('')\n",
    "if 검증보종==\"생보\" or 검증보종==\"손보\":\n",
    "    dd = compare1_df[(compare1_df ['구분_x']==검증보종) & (abs(compare1_df ['차이'])>2)]\n",
    "elif 검증회사:\n",
    "    dd = compare1_df[(compare1_df ['보험사_x']==검증회사) & (abs(compare1_df ['차이'])>2)]\n",
    "dd_final = dd[['보험사_x','지점_x','증권번호','(지급/환수)시상금','리스크공제','(시상금/리스크)합계 시상금'\n",
    "               ,'OR시상계' ,'차이']]\n",
    "dd_final"
   ]
  },
  {
   "cell_type": "markdown",
   "id": "7240b9c8-3e48-4271-af8f-1ef88f2f1826",
   "metadata": {},
   "source": [
    "#### 엑셀 시상정산 읽기"
   ]
  },
  {
   "cell_type": "code",
   "execution_count": null,
   "id": "3a259058-d68b-459a-a74a-b22efaeffdd6",
   "metadata": {},
   "outputs": [],
   "source": [
    "path='E:/글로벌백업(180329)/04.수수료작업/202503시상/'\n",
    "f_name= '202503 KJ시상정산.xlsx'\n",
    "#생보, 장기보험 건별 정산\n",
    "cls_nm2 = ['지점','보험회사','증권번호','월납보험료','GLAD','지사시상']\n",
    "xls_df = pd.concat([pd.read_excel(path+f_name, sheet_name='생보', dtype={'증권번호': 'object'})[cls_nm2],\n",
    "                    pd.read_excel(path+f_name, sheet_name='손보', dtype={'증권번호': 'object'})[cls_nm2]])\n",
    "xls_df['구분'] = xls_df['보험회사'].apply(lambda x: bojong(x))\n",
    "xls_df['지사시상'] = [ round(x,0) for x in xls_df['지사시상']]"
   ]
  },
  {
   "cell_type": "markdown",
   "id": "3059c4dc-d203-4dbf-8d42-05aff14f16ea",
   "metadata": {},
   "source": [
    "#### 비교검증(OR시상,지사시상)\n",
    "생보는 총괄시상이 goms 지급내역에 0으로 산출되며, 손보는 리스크 자금 산출방법 차이가 남 "
   ]
  },
  {
   "cell_type": "code",
   "execution_count": null,
   "id": "b64f8dc4-b826-454f-a169-0f2405ed31ea",
   "metadata": {},
   "outputs": [],
   "source": [
    "## 특정회사 검증: 엑셀 vs goms (건별 지급시상금 산출)\n",
    "grp_col1 = ['구분','보험사','지점', '증권번호']\n",
    "grp_col2 = ['구분','보험회사','지점', '증권번호']\n",
    "pay_pol = pay_df.groupby(grp_col1)[['OR시상계','3단계(지점)시상','5단계(총괄)시상']]. \\\n",
    "                 agg('sum').reset_index()\n",
    "xls_pol = xls_df.groupby(grp_col2)[['GLAD','지사시상']].agg('sum').reset_index()\n",
    "mer_pol = pd.merge(xls_pol, pay_pol, how='outer', on='증권번호')\n",
    "#법인시상금 차이\n",
    "mer_pol['차이'] = mer_pol['GLAD'] - mer_pol['OR시상계']\n",
    "#지사 시상금 차이\n",
    "mer_pol['지사차이'] = mer_pol['지사시상'] - mer_pol['3단계(지점)시상']\n",
    "compare_df = mer_pol[mer_pol['차이']!=0] \n",
    "\n",
    "compare_df.drop(columns=['지점_y','구분_y'], inplace=True)"
   ]
  },
  {
   "cell_type": "code",
   "execution_count": null,
   "id": "b449420c-15ee-4d7d-bf5a-7056a0957764",
   "metadata": {},
   "outputs": [],
   "source": [
    "''' 총액 검증 '''\n",
    "검증보종 = '손보' #'손보' # None\n",
    "# 검증회사 = 'DB생명'\n",
    "# compare_df = compare_df.fillna('')\n",
    "if 검증보종==\"생보\" or 검증보종==\"손보\":\n",
    "    dd = compare_df[(compare_df ['구분_x']==검증보종) & (abs(compare_df ['차이'])>2)]\n",
    "elif 검증회사:\n",
    "    dd = compare_df[(compare_df ['보험회사']==검증회사) & (abs(compare_df ['차이'])>2)]\n",
    "dd_final = dd[['보험회사','지점_x','증권번호','GLAD','OR시상계','차이']]\n",
    "dd_final.to_clipboard()\n",
    "dd_final"
   ]
  },
  {
   "cell_type": "code",
   "execution_count": null,
   "id": "ee2080ed-a16e-4847-8cf7-ab495539415b",
   "metadata": {},
   "outputs": [],
   "source": [
    "''' 지사 검증 '''\n",
    "검증보종 = '손보' # None\n",
    "검증회사 = '삼성생명'\n",
    "# compare_df = compare_df.fillna('')\n",
    "if 검증보종==\"생보\" or 검증보종==\"손보\":\n",
    "    dd = compare_df[(compare_df ['구분_x']==검증보종) & (abs(compare_df ['지사차이'])>2)]\n",
    "elif 검증회사:\n",
    "    dd = compare_df[(compare_df ['보험회사']==검증회사) & (abs(compare_df ['지사차이'])>2)]\n",
    "dd_final = dd[['보험회사','지점_x','증권번호','GLAD','지사시상','3단계(지점)시상','5단계(총괄)시상','지사차이']]\n",
    "dd_final.to_clipboard()\n",
    "dd_final"
   ]
  },
  {
   "cell_type": "code",
   "execution_count": null,
   "id": "8e54245a-961f-4528-92ca-96efef5984d8",
   "metadata": {},
   "outputs": [],
   "source": [
    "dd_final['지점_x'].unique()"
   ]
  },
  {
   "cell_type": "code",
   "execution_count": null,
   "id": "15ff726c-9184-469d-b590-6016cede3ac9",
   "metadata": {},
   "outputs": [],
   "source": [
    "# 특정증번 비교\n",
    "pl_no='52420154490000'\n",
    "# 지급내역 산출\n",
    "cls_nm= ['보험사', '증권번호', '시상구분', '시상분류', '지점',\n",
    "         '보험료', 'FC시상계', 'OR시상계', '3단계(지점)시상', '5단계(총괄)시상']\n",
    "pay_df[(pay_df['증권번호']==pl_no) & (pay_df['보험료']!=0)][cls_nm]"
   ]
  },
  {
   "cell_type": "code",
   "execution_count": null,
   "id": "187bc7e0-dfbd-4a8c-b6e6-70179665c7d8",
   "metadata": {},
   "outputs": [],
   "source": [
    "# 수입내역\n",
    "cls_nm3 = ['보험사', '증권번호', '시상구분', '시상분류', '지점',\n",
    "         '보험료', '지급', '환수']\n",
    "in_df[in_df['증권번호']==pl_no][cls_nm3]"
   ]
  },
  {
   "cell_type": "markdown",
   "id": "7aba1dc2-24a0-4447-bd61-6df3d1c43841",
   "metadata": {},
   "source": [
    "#### 본사 시상 건별비교 (수입시상금 vs 지급시상금)"
   ]
  },
  {
   "cell_type": "code",
   "execution_count": null,
   "id": "9d1abe2e-11a5-4672-90af-daf7731b8881",
   "metadata": {},
   "outputs": [],
   "source": [
    "cols = ['보험사','증권번호','보험료','지급','환수']\n",
    "in_list = in_df[in_df['시상구분']=='본사'][cols]\n",
    "in_list['FC시상'] = in_list['지급'] + in_list['환수']\n",
    "in_list.rename({'FC시상계':'FC시상'}, inplace=True)\n",
    "\n",
    "cols = ['보험사','증권번호','보험료','FC시상계']\n",
    "pay_list = pay_df[pay_df['시상구분']=='본사'][cols]\n",
    "pay_list.rename({'FC시상계':'FC시상'}, inplace=True)"
   ]
  },
  {
   "cell_type": "code",
   "execution_count": null,
   "id": "54de0063-dec6-4032-a3ec-7f9b3a870195",
   "metadata": {},
   "outputs": [],
   "source": [
    "''' join 및 값 비교'''\n",
    "df_ply = pd.merge(in_list, pay_list, how = 'outer',\n",
    "            on=['증권번호'],indicator = True).reset_index().astype({\"_merge\": str}).fillna(0)\n",
    "df_ply.drop(columns='index',inplace=True)\n",
    "\n",
    "df_ply['증번비교']= [\"일치\" if x == 'both'  else ( '수입만 존재' if x == 'left_only' else \"지급만 존재\") \n",
    "                 for x in df_ply['_merge'] ]\n",
    "\n",
    "df_ply['회사비교']= [\"일치\" if str(x) == str(y)  else (\"불일치\" if str(z)=='both' else \"\")\n",
    "                 for x,y,z in zip(df_ply['보험사_x'],df_ply['보험사_y'],df_ply['_merge'])]\n",
    "\n",
    "df_ply['시상금비교']= [\"일치\" if round(x) == round(y)  else (\"불일치\" if str(z)=='both' else \"\")\n",
    "                 for x,y,z in zip(df_ply['FC시상'],df_ply['FC시상계'],df_ply['_merge'])]\n",
    "exp  = f\" (증번비교 != '일치') or (회사비교 != '일치') or (시상금비교 != '일치') \"\n",
    "df_error = df_ply.query(exp)\n",
    "df_error.to_clipboard(index=False)"
   ]
  },
  {
   "cell_type": "code",
   "execution_count": null,
   "id": "cbe6a777-f083-44a8-9953-c54091ddecdd",
   "metadata": {},
   "outputs": [],
   "source": []
  }
 ],
 "metadata": {
  "kernelspec": {
   "display_name": "Python 3 (ipykernel)",
   "language": "python",
   "name": "python3"
  },
  "language_info": {
   "codemirror_mode": {
    "name": "ipython",
    "version": 3
   },
   "file_extension": ".py",
   "mimetype": "text/x-python",
   "name": "python",
   "nbconvert_exporter": "python",
   "pygments_lexer": "ipython3",
   "version": "3.10.9"
  }
 },
 "nbformat": 4,
 "nbformat_minor": 5
}
