{
 "cells": [
  {
   "cell_type": "code",
   "execution_count": 3,
   "metadata": {},
   "outputs": [
    {
     "name": "stdout",
     "output_type": "stream",
     "text": [
      "start\n",
      "reading  월별정산_지점사원별_총괄표(2020).xlsx 7월\n",
      "reading  월별정산_지점사원별_총괄표(2020).xlsx 8월\n",
      "reading  월별정산_지점사원별_총괄표(2020).xlsx 9월\n",
      "end\n"
     ]
    }
   ],
   "source": [
    "## 이행보증용 실적 집계\n",
    "import pandas as pd\n",
    "import string\n",
    "dirN='E:/글로벌백업(180329)/월별정산/'\n",
    "fileN='월별정산_지점사원별_총괄표(2020).xlsx'\n",
    "shts=['7월','8월','9월']\n",
    "\n",
    "print('start')    \n",
    "dfAll=pd.DataFrame()\n",
    "\n",
    "l1=list(string.ascii_lowercase) #엑셀 열 이름 만들기\n",
    "cols=l1+list(map(lambda x: 'a'+x,l1))+list(map(lambda x: 'b'+x,l1))\n",
    "\n",
    "cols=cols[:54]\n",
    "def selectDF(df):\n",
    "    cols2=['b','c','d','ae','ap','ar','as','at']  #추출할 엑셀컬럼\n",
    "    df=df.fillna(0)\n",
    "    df2=df.loc[df['c'].str.startswith('MPK',na=False),cols2]\n",
    "    df2.columns=['지점','사번','사원','1.수수료','2.시상','3.OR','4.지원비','5.기타']\n",
    "    df2['합계']=df2.sum(axis=1)\n",
    "    return df2\n",
    "\n",
    "dfAll=pd.DataFrame()\n",
    "for ym in shts:\n",
    "    print('reading ',fileN,ym)\n",
    "    df=pd.read_excel(dirN+fileN,sheet_name=ym,header=2,usecols=\"A:BB\",names=cols)\n",
    "    dfAll=pd.concat([dfAll,selectDF(df)])\n",
    "\n",
    "rows=['지점','사번','사원'] #group by \n",
    "vals=['1.수수료','2.시상','3.OR','4.지원비','5.기타','합계'] #집계할 금액컬럼\n",
    "\n",
    "df_sum=pd.pivot_table(dfAll.loc[dfAll.합계!=0], values=vals,\n",
    "            index=rows,\n",
    "            fill_value=0, aggfunc=sum,dropna=True, )\n",
    "wrt_file=dirN+'_'.join(shts)+\"이행보증대상수수료.xlsx\"\n",
    "with pd.ExcelWriter(wrt_file) as writer:\n",
    "    df_sum.to_excel(writer, sheet_name='지급액',index=True),\n",
    "print('end')"
   ]
  },
  {
   "cell_type": "code",
   "execution_count": 297,
   "metadata": {},
   "outputs": [],
   "source": [
    "l1=list(string.ascii_lowercase)\n",
    "l2=[]\n",
    "l2=l1+list(map(lambda x: 'a'+x,l1))+list(map(lambda x: 'b'+x,l1))"
   ]
  },
  {
   "cell_type": "code",
   "execution_count": 14,
   "metadata": {},
   "outputs": [
    {
     "ename": "AttributeError",
     "evalue": "'Series' object has no attribute 'astypes'",
     "output_type": "error",
     "traceback": [
      "\u001b[1;31m---------------------------------------------------------------------------\u001b[0m",
      "\u001b[1;31mAttributeError\u001b[0m                            Traceback (most recent call last)",
      "\u001b[1;32m<ipython-input-14-c55b30a201b9>\u001b[0m in \u001b[0;36m<module>\u001b[1;34m\u001b[0m\n\u001b[1;32m----> 1\u001b[1;33m \u001b[0mdf_sum\u001b[0m\u001b[1;33m[\u001b[0m\u001b[1;34m'1.수수료'\u001b[0m\u001b[1;33m]\u001b[0m\u001b[1;33m.\u001b[0m\u001b[0mastypes\u001b[0m\u001b[1;33m(\u001b[0m\u001b[0mfloat64\u001b[0m\u001b[1;33m)\u001b[0m\u001b[1;33m\u001b[0m\u001b[1;33m\u001b[0m\u001b[0m\n\u001b[0m",
      "\u001b[1;32m~\\AppData\\Roaming\\Python\\Python37\\site-packages\\pandas\\core\\generic.py\u001b[0m in \u001b[0;36m__getattr__\u001b[1;34m(self, name)\u001b[0m\n\u001b[0;32m   5272\u001b[0m             \u001b[1;32mif\u001b[0m \u001b[0mself\u001b[0m\u001b[1;33m.\u001b[0m\u001b[0m_info_axis\u001b[0m\u001b[1;33m.\u001b[0m\u001b[0m_can_hold_identifiers_and_holds_name\u001b[0m\u001b[1;33m(\u001b[0m\u001b[0mname\u001b[0m\u001b[1;33m)\u001b[0m\u001b[1;33m:\u001b[0m\u001b[1;33m\u001b[0m\u001b[1;33m\u001b[0m\u001b[0m\n\u001b[0;32m   5273\u001b[0m                 \u001b[1;32mreturn\u001b[0m \u001b[0mself\u001b[0m\u001b[1;33m[\u001b[0m\u001b[0mname\u001b[0m\u001b[1;33m]\u001b[0m\u001b[1;33m\u001b[0m\u001b[1;33m\u001b[0m\u001b[0m\n\u001b[1;32m-> 5274\u001b[1;33m             \u001b[1;32mreturn\u001b[0m \u001b[0mobject\u001b[0m\u001b[1;33m.\u001b[0m\u001b[0m__getattribute__\u001b[0m\u001b[1;33m(\u001b[0m\u001b[0mself\u001b[0m\u001b[1;33m,\u001b[0m \u001b[0mname\u001b[0m\u001b[1;33m)\u001b[0m\u001b[1;33m\u001b[0m\u001b[1;33m\u001b[0m\u001b[0m\n\u001b[0m\u001b[0;32m   5275\u001b[0m \u001b[1;33m\u001b[0m\u001b[0m\n\u001b[0;32m   5276\u001b[0m     \u001b[1;32mdef\u001b[0m \u001b[0m__setattr__\u001b[0m\u001b[1;33m(\u001b[0m\u001b[0mself\u001b[0m\u001b[1;33m,\u001b[0m \u001b[0mname\u001b[0m\u001b[1;33m:\u001b[0m \u001b[0mstr\u001b[0m\u001b[1;33m,\u001b[0m \u001b[0mvalue\u001b[0m\u001b[1;33m)\u001b[0m \u001b[1;33m->\u001b[0m \u001b[1;32mNone\u001b[0m\u001b[1;33m:\u001b[0m\u001b[1;33m\u001b[0m\u001b[1;33m\u001b[0m\u001b[0m\n",
      "\u001b[1;31mAttributeError\u001b[0m: 'Series' object has no attribute 'astypes'"
     ]
    }
   ],
   "source": [
    "df_sum['1.수수료'].astypes(float64)"
   ]
  },
  {
   "cell_type": "code",
   "execution_count": 292,
   "metadata": {},
   "outputs": [
    {
     "data": {
      "text/plain": [
       "[8, 11, 15, 19, 23]"
      ]
     },
     "execution_count": 292,
     "metadata": {},
     "output_type": "execute_result"
    }
   ],
   "source": [
    "arr = [-2, 1, 5, 9, 13]\n",
    "new_arr = map(lambda x: x+10, arr)\n",
    "list(new_arr)"
   ]
  }
 ],
 "metadata": {
  "kernelspec": {
   "display_name": "Python 3",
   "language": "python",
   "name": "python3"
  },
  "language_info": {
   "codemirror_mode": {
    "name": "ipython",
    "version": 3
   },
   "file_extension": ".py",
   "mimetype": "text/x-python",
   "name": "python",
   "nbconvert_exporter": "python",
   "pygments_lexer": "ipython3",
   "version": "3.7.4"
  }
 },
 "nbformat": 4,
 "nbformat_minor": 4
}
