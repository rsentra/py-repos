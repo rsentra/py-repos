{
 "cells": [
  {
   "cell_type": "markdown",
   "metadata": {},
   "source": [
    "##### 본사시상 추출- 최종 결과파일로 후처리 수작업 필요"
   ]
  },
  {
   "cell_type": "code",
   "execution_count": null,
   "metadata": {},
   "outputs": [],
   "source": [
    "from openpyxl import load_workbook\n",
    "import pandas as pd\n",
    "import os\n",
    "import GladUtil as glad\n",
    "import re\n",
    "\n",
    "''' 본사시상금을 추출하는 스크립트\n",
    "    입출력 파일명과 업적월,지급월을 수정한 후에 실행하면 출력파일에 시트가 추가됨\n",
    "'''\n",
    "\n",
    "infile ='E:/글로벌백업(180329)/04.수수료작업/202205시상/202205 KJ시상정산-배포.xlsx'\n",
    "outfile = 'E:/글로벌백업(180329)/04.수수료작업/시상이자/본사시상정산_이자.xlsx'\n",
    "\n",
    "sheet_nm = ['생보스팟','한화','KB','농협','MG','롯데','DB','현대','메리츠','흥국','AIG','삼성','처브','하나']\n",
    "업적월 = 202205\n",
    "지급월 = 202206\n",
    "\n",
    "FIX_VAL = [업적월,지급월,'']\n",
    "\n",
    "wb = load_workbook(infile,data_only=True)\n",
    "ws = wb['한화']\n",
    "df = pd.DataFrame(columns=['업적월','지급월','회사','지점','사원','시상금','비고'])\n",
    "\n",
    "''' 각 시트에서 본사 시상금만 추출 ''' \n",
    "for sh in sheet_nm:\n",
    "    ws = wb[sh]\n",
    "    FIX_VAL[2] = sh\n",
    "    \n",
    "    st_yn = 'n'\n",
    "    for cell in ws['a']:\n",
    "        if cell.value:\n",
    "            if '본사' in cell.value:  # 본사 시상금은 시트의 맨 아래에 있어야 함\n",
    "                st_yn = 'y'\n",
    "            if  st_yn =='y':\n",
    "                if '본사' in cell.value or '글래드' in cell.value:  #본사시상명 또는 지점있는 row\n",
    "                    r = cell.row\n",
    "                    vals = []\n",
    "                    if '본사' in cell.value:\n",
    "                       titl = cell.value\n",
    "                       vals = [ cell.value, ' ',' ',' ']\n",
    "                    if '글래드' in cell.value:\n",
    "                        vals = [ x.value for x in ws[r] if x.value !=None ]\n",
    "                    val = [ vals[0],vals[1],vals[len(vals)-1] ]  #지점,이름,시상금\n",
    "                    val.append(titl)\n",
    "                    df.loc[len(df)] = FIX_VAL + val\n",
    "\n",
    "##--공동정산 대상건만 추출\n",
    "df2 = glad.Share_Proc(df,\"공동\",\"본사x\")  # 본사 헤더는 추출하지 않음\n",
    "df2['시상금'] = df2['시상금'].astype('int32',errors='ignore')  \n",
    "df2 = df2[df2['시상금']!=0]\n",
    "df2['내역'] = df2['비고'].apply(lambda x: '환수_'+''.join(re.findall('\\d|\\.',x)) \n",
    "              if '환수' in x else '지급_'+str(업적월))\n",
    "df2.drop(columns='비고',inplace=True)\n",
    "df2.sort_values(by=['내역','회사'],inplace=True)\n",
    "\n",
    "w_mode = 'a' if os.path.isfile(outfile) else 'w'  #파일있으면 append mode\n",
    "with pd.ExcelWriter(outfile, mode = w_mode, engine=\"openpyxl\") as writer:\n",
    "     df2.to_excel(writer, sheet_name=str(업적월), index=False)\n",
    "        \n",
    "print(\"완료\")"
   ]
  },
  {
   "cell_type": "markdown",
   "metadata": {},
   "source": [
    "##### 본사시상 2차년도 정산금-mp정산 생성"
   ]
  },
  {
   "cell_type": "code",
   "execution_count": 85,
   "metadata": {},
   "outputs": [
    {
     "name": "stdout",
     "output_type": "stream",
     "text": [
      "완료\n"
     ]
    }
   ],
   "source": [
    "from openpyxl import load_workbook\n",
    "import pandas as pd\n",
    "import os\n",
    "import GladUtil as glad\n",
    "업적월 = 202205\n",
    "\n",
    "infile =f'E:/글로벌백업(180329)/04.수수료작업/시상이자/본사시상정산_2차년도_{업적월}.xlsx'\n",
    "outfile = f'E:/글로벌백업(180329)/04.수수료작업/시상이자/본사시상정산_2차년도_{업적월}_mp.xlsx'\n",
    "\n",
    "df_dict = pd.read_excel(infile,sheet_name=None)\n",
    "df_all = pd.DataFrame()\n",
    "\n",
    "for sh,df in df_dict.items():\n",
    "    if sh !='요약':\n",
    "        df2 = glad.Share_Proc(df,\"공동\",\"본사x\") \n",
    "        df_all = pd.concat([df_all, df2])\n",
    "\n",
    "df_all = df_all.fillna(0)\n",
    "df_all['작업일'] = df_all['작업일'].astype('str')\n",
    "\n",
    "df_sum = pd.pivot_table(df_all,index=['지점'],columns=['업적월','보험사'],values='정산금',aggfunc='sum',fill_value=0, \n",
    "               margins=False, margins_name='Total').reset_index()\n",
    "\n",
    "직영 = ['글래드레전드','글래드여주','글래드의정부','글래드제이엔제이','글래드씨티엠','글래드프라임-J&J']\n",
    "GLAD_HQ = ['글래드','글래드HL']\n",
    "\n",
    "df_sum['합계'] = df_sum.sum(axis=1, numeric_only=True)\n",
    "df_sum['MP율'] = df_sum['지점'].apply( lambda x: 0.9 if x in GLAD_HQ else ( 0 if x in 직영 else 30 ))\n",
    "df_sum['MP']   = round( df_sum['합계'] * df_sum['MP율'] / 100,0)\n",
    "df_sum.loc[len(df_sum)] = df_sum.sum( numeric_only=True)\n",
    "df_sum['지점'] = df_sum['지점'].fillna('합계')\n",
    "df_sum.drop(columns=('MP율',''), inplace=True)\n",
    "\n",
    "with pd.ExcelWriter(outfile,mode='w',date_format=\"YYYY-MM-DD\") as writer:\n",
    "    df_sum.to_excel(writer, sheet_name='요약')\n",
    "    df_all.to_excel(writer, sheet_name=\"명세\", index =False)\n",
    "    workbook = writer.book\n",
    "    format1 = workbook.add_format({'num_format': '#,##0'})\n",
    "    worksheet = writer.sheets[\"요약\"]\n",
    "    worksheet.set_column('C:Z', None, format1)\n",
    "    worksheet.set_column(0,0,0)\n",
    "    worksheet.set_column('B:B',18)\n",
    "    worksheet1 = writer.sheets[\"명세\"]\n",
    "    worksheet1.set_column('E:H', None, format1)\n",
    "    worksheet.set_row(2, 2, None, {'hidden': True}) #multi-index에서 생성된 빈 row hidden처리\n",
    "  \n",
    "print('완료')"
   ]
  },
  {
   "cell_type": "code",
   "execution_count": null,
   "metadata": {},
   "outputs": [],
   "source": []
  }
 ],
 "metadata": {
  "kernelspec": {
   "display_name": "Python 3.8.5 ('base')",
   "language": "python",
   "name": "python3"
  },
  "language_info": {
   "codemirror_mode": {
    "name": "ipython",
    "version": 3
   },
   "file_extension": ".py",
   "mimetype": "text/x-python",
   "name": "python",
   "nbconvert_exporter": "python",
   "pygments_lexer": "ipython3",
   "version": "3.8.5"
  },
  "orig_nbformat": 4,
  "vscode": {
   "interpreter": {
    "hash": "610a6f344c2137faf927ea819c63f6cee33a2c04455044b28099f39fe9722347"
   }
  }
 },
 "nbformat": 4,
 "nbformat_minor": 2
}
