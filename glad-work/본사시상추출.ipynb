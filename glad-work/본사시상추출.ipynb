{
 "cells": [
  {
   "cell_type": "code",
   "execution_count": null,
   "metadata": {},
   "outputs": [],
   "source": [
    "from openpyxl import load_workbook\n",
    "import pandas as pd\n",
    "import os\n",
    "import GladUtil as glad\n",
    "\n",
    "''' 본사시상금을 추출하는 스크립트'''\n",
    "\n",
    "infile ='E:/글로벌백업(180329)/04.수수료작업/202110시상/202110 KJ시상정산-배포.xlsx'\n",
    "outfile = 'E:/글로벌백업(180329)/04.수수료작업/시상이자/본사시상정산.xlsx'\n",
    "\n",
    "sheet_nm = ['생보스팟','한화','KB','농협','MG','롯데','DB','현대','메리츠','흥국','AIG','삼성','처브','하나']\n",
    "업적월 = 202110\n",
    "지급월 = 202111\n",
    "\n",
    "FIX_VAL = [업적월,지급월,'']\n",
    "\n",
    "wb = load_workbook(infile,data_only=True)\n",
    "ws = wb['한화']\n",
    "df = pd.DataFrame(columns=['업적월','지급월','회사','지점','사원','시상금'])\n"
   ]
  },
  {
   "cell_type": "code",
   "execution_count": null,
   "metadata": {},
   "outputs": [],
   "source": [
    "''' 각 시트에서 본사 시상금만 추출 ''' \n",
    "for sh in sheet_nm:\n",
    "    ws = wb[sh]\n",
    "    FIX_VAL[2] = sh\n",
    "    \n",
    "    st_yn = 'n'\n",
    "    for cell in ws['a']:\n",
    "        if cell.value:\n",
    "            if '본사' in cell.value:  # 본사 시상금은 시트의 맨 아래에 있어야 함\n",
    "                st_yn = 'y'\n",
    "            if  st_yn =='y':\n",
    "                if '본사' in cell.value or '글래드' in cell.value:  #본사시상명 또는 지점있는 row\n",
    "                    r = cell.row\n",
    "                    vals = []\n",
    "                    if '본사' in cell.value:\n",
    "                       # print(cell, cell.value, cell.row)\n",
    "                       vals = [ cell.value, ' ',0]\n",
    "                    if '글래드' in cell.value:\n",
    "                        vals = [ x.value for x in ws[r] if x.value !=None ]\n",
    "                    val = [ vals[0],vals[1],vals[len(vals)-1] ]\n",
    "                    df.loc[len(df)] = FIX_VAL + val"
   ]
  },
  {
   "cell_type": "code",
   "execution_count": null,
   "metadata": {},
   "outputs": [],
   "source": [
    "##--공동정산 대상건만 추출\n",
    "df2 = glad.Share_Proc(df,\"공동\",\"본사\")\n",
    "\n",
    "w_mode = 'a' if os.path.isfile(outfile) else 'w'  #파일있으면 append mode\n",
    "with pd.ExcelWriter(outfile, mode = w_mode, engine=\"openpyxl\") as writer:\n",
    "     df2.to_excel(writer, sheet_name=str(업적월), index=False)\n",
    "        \n",
    "print(\"완료\")"
   ]
  }
 ],
 "metadata": {
  "kernelspec": {
   "display_name": "Python 3.8 (XPython)",
   "language": "python",
   "name": "xpython"
  },
  "language_info": {
   "file_extension": ".py",
   "mimetype": "text/x-python",
   "name": "python",
   "version": "3.8.12"
  }
 },
 "nbformat": 4,
 "nbformat_minor": 4
}
