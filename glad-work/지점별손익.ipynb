{
 "cells": [
  {
   "cell_type": "markdown",
   "metadata": {},
   "source": [
    "##### 수입원장을 읽어서 직할지점 convert\n"
   ]
  },
  {
   "cell_type": "code",
   "execution_count": null,
   "metadata": {},
   "outputs": [],
   "source": [
    "import pandas as pd\n",
    "import GladUtil as glad\n",
    "import time\n",
    "import os\n",
    "\n",
    "team_dict = {'시흥':'글래드시흥','씨티엠':'글래드씨티엠','HL':'글래드HL','강동':'글래드강동'}\n",
    "brh_dict = {'엠피인스모아':'인스모아'}\n",
    "sawon_dict = {'박정호':'글래드강동','허유지':'글래드강동'}\n",
    "\n",
    "''' 글래드내 기준의 지점으로 컨버전 '''\n",
    "# 제이엔제이에서 글래드프라임으로 이동건은 지점명을 제이엔제이로 변경-20210701 \"\n",
    "def glad_prime(df_p):\n",
    "    cond = \" 팀 == '프라임2팀' \"\n",
    "    temp = [ '글래드제이엔제이' if x < '20210701' else '글래드프라임' for x in df_p.query(cond)['계약일자'] ]\n",
    "    cond = df_p['팀'] == '프라임2팀'\n",
    "    df_p.loc[cond ,'지점'] = temp\n",
    "    return df_p\n",
    "\n",
    "def read_source_adv(in_file):\n",
    "    ''' 원장 read '''\n",
    "    print('원장 start reading...')\n",
    "    start = time.time()  # 시작 시간 저장\n",
    "    dfW = pd.read_excel(in_file, header=0, sheet_name='전체',dtype={'계약일자':object})  \n",
    "    print(' 원장 read completion ')\n",
    "\n",
    "    # 직할지점 컬럼 conv\n",
    "    dfW['팀'] = dfW['직할지점']\n",
    "    #--변환하지 않고 프라임2팀 명칭으로 예외처리\n",
    "    # dfW = glad_prime(dfW)\n",
    "    dfW['팀'].fillna('',inplace=True)\n",
    "\n",
    "    # 지점\n",
    "    dfW.loc[:,'지점'].fillna('글래드', inplace=True)  #결측치 보정\n",
    "    dfW.loc[:,'지점'] = dfW['지점'].apply(lambda x: brh_dict.get(x,x))\n",
    "    # 팀 -> 김묘정 -> 사원명으로 변환하여 직할지점 컬럼생성\n",
    "    dfW.loc[:,'직할지점'] = dfW.apply(lambda x: team_dict.get(x['팀'], x['지점']), axis=1)\n",
    "    dfW.loc[:,'직할지점'] = dfW.apply(lambda x: glad.fcConv(x['직할지점'], x['사원번호'], x['계약일자']), axis=1)\t\n",
    "    dfW.loc[:,'직할지점'] = dfW.apply(lambda x: sawon_dict.get(x['사원명'], x['직할지점']), axis=1)\n",
    "\n",
    "    dfW['수수료계'].fillna(0, inplace=True)  #결측치 보정\n",
    "    \n",
    "    print(\"time :\", time.time() - start)  # 현재시각 - 시작시간 = 실행 시간\n",
    "    return dfW\n",
    "\n",
    "\n",
    "DIR_PATH = 'e:/글로벌백업(180329)/04.수수료작업/'\n",
    "ym ='202202'\n",
    "inf_nm = ym + '수수료/'+ ym[0:4]+ ym[4:6]+ '_수입원장.xlsx'\n",
    "in_file = DIR_PATH + inf_nm                   #원장\n",
    "\n",
    "dfW = pd.DataFrame()\n",
    "dfW = read_source_adv(in_file)\n",
    "# dfW.to_excel(in_file.replace('수입원장','수입원장_지점변환'), index = False)\n",
    "\n",
    "''' sheet_nm이 지정된 시트가 존재하면 시트를 삭제 후 생성, 없으면 새로 생성'''\n",
    "sheet_nm = '전체'\n",
    "w_mode = 'a' if os.path.isfile(in_file) else 'w'  #파일있으면 append mode\n",
    "with pd.ExcelWriter(in_file, mode = w_mode, engine=\"openpyxl\") as writer:\n",
    "    workbook = writer.book\n",
    "    try:\n",
    "        workbook.remove(workbook[sheet_nm])\n",
    "    except:\n",
    "        print('create new sheet')\n",
    "    finally:\n",
    "        dfW.to_excel(writer, sheet_name=sheet_nm, index=False)  \n",
    "\n",
    "\n",
    "# df_s = pd.pivot_table(dfW,values=['수수료계'],index=['지점','팀','사원명'],\n",
    "    # columns=['계약종류'],fill_value=0,aggfunc=sum).reset_index()\n",
    "df_s = pd.pivot_table(dfW,values=['수수료계'],index=['지점','팀','사원명','계약종류'],\n",
    "      fill_value=0,aggfunc=sum).reset_index()       \n",
    "print('<<<<<--- job completed --->>>>>')\n"
   ]
  },
  {
   "cell_type": "markdown",
   "metadata": {},
   "source": [
    "##### IBSS파일 읽기"
   ]
  },
  {
   "cell_type": "code",
   "execution_count": null,
   "metadata": {},
   "outputs": [],
   "source": [
    "ibss_file = []\n",
    "ibss_file.append('마감실적리스트(장기)_202202240101.xlsx')\n",
    "ibss_file.append('마감실적리스트(생보)_202202240101.xlsx')\n",
    "ibss_file.append('마감실적리스트(일반)_202202240101.xlsx')\n",
    "ibss_file.append('마감실적리스트(자동차)_202202240101.xlsx')\n",
    "\n",
    "import re\n",
    "df_all = pd.DataFrame()\n",
    "for in_file in ibss_file:\n",
    "    items = re.findall('\\(([^)]+)', in_file) #extracts string in bracket() print items\n",
    "    dfT = pd.read_excel(DIR_PATH  + ym + '수수료/'+in_file, header=0, dtype={'증권번호':object})\n",
    "    dfT['보종'] = items[0]\n",
    "    df = pd.pivot_table(dfT,values=['수수료H','수수료S'],index=['지점','팀','담당','보종'],\n",
    "         fill_value=0,aggfunc=sum).reset_index()\n",
    "    df_all = pd.concat([df_all,df])"
   ]
  },
  {
   "cell_type": "code",
   "execution_count": null,
   "metadata": {},
   "outputs": [],
   "source": [
    "out_file = 'e:/temp/지점손익.xlsx'\n",
    "\n",
    "# with pd.ExcelWriter(out_file,engine='openpyxl',if_sheet_exists='overlay') as writer:\n",
    "#     df_s.to_excel(writer, sheet_name='원장',index=False)\n",
    "#     df_all.to_excel(writer, sheet_name=\"수수료\", index =False)\n",
    "\n",
    "# import openpyxl\n",
    "# book = openpyxl.load_workbook(out_file)\n",
    "# writer = pd.ExcelWriter(out_file, engine='openpyxl', mode='a',if_sheet_exists='overlay')\n",
    "# writer.book = book\n",
    "# writer.sheets = {ws.title: ws for ws in book.worksheets}\n",
    "\n",
    "# for sheetname in writer.sheets:\n",
    "#     print(sheetname)\n",
    "#     if writer.sheets[sheetname] =='원장':\n",
    "#         df_s.to_excel(writer, sheet_name=sheetname,startrow=writer.sheets[sheetname].max_row, index=False,header=False)\n",
    "#     elif writer.sheets[sheetname] =='수수료':\n",
    "#         df_all.to_excel(writer, sheet_name=sheetname,startrow=writer.sheets[sheetname].max_row, index =False)"
   ]
  }
 ],
 "metadata": {
  "kernelspec": {
   "display_name": "Python 3",
   "language": "python",
   "name": "python3"
  },
  "language_info": {
   "codemirror_mode": {
    "name": "ipython",
    "version": 3
   },
   "file_extension": ".py",
   "mimetype": "text/x-python",
   "name": "python",
   "nbconvert_exporter": "python",
   "pygments_lexer": "ipython3",
   "version": "3.8.5"
  }
 },
 "nbformat": 4,
 "nbformat_minor": 4
}
