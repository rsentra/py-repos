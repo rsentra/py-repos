{
 "cells": [
  {
   "cell_type": "markdown",
   "metadata": {},
   "source": [
    "## 롯데손보등 분급 수수료 정산 프로그램 : 본 프로그램 사용시 파일명,회사명 확인 후 실행바람\n",
    "  1. 분급,선급원장 읽기 : 첫행은 반드시 컬럼명이어야  \n",
    "  2. 분급원장 전처리 : kj계약 추출, 문홍주건 정제, 지점코드 세팅  \n",
    "  3. 선급원장 정체: 롯데,장기  \n",
    "  4. 증번,회차별 sort  \n",
    "  5. 선급,분급 차이 산출  \n",
    "  6. 요약,목록 시트 출력  \n",
    " \n",
    " 본 스크립트는 분급수수료정산.py로 제작되어 실행파일화 함: d:/글로벌/분급정산  "
   ]
  },
  {
   "cell_type": "code",
   "execution_count": 131,
   "metadata": {},
   "outputs": [],
   "source": [
    "# import sys\n",
    "# sys.path.insert(0, 'e:/python/mypkgs')\n",
    "import pandas as pd\n",
    "# import mypkgs.GladUtil as glad\n",
    "from python.mypkgs import GladUtil  as glad\n",
    "\n",
    "\n",
    "inFile1='E:/글로벌백업(180329)/04.수수료작업/분급이자/202004_롯데 분급 원장.xlsx'  #분급원장\n",
    "inFile2='E:/글로벌백업(180329)/04.수수료작업/202004수수료/2020-04 수입원장(KJ).xlsx'       #선급원장\n",
    "outFile='E:/글로벌백업(180329)/04.수수료작업/202004수수료/2020-04 롯데정산결과(KJ).xlsx'   #출력파일\n",
    "company='롯데손보'\n",
    "#---------------------------------------------\n",
    "df=pd.read_excel(inFile1, header=0)\n",
    "df=df[df.본부=='MPKJ']\n",
    "df['계약일자']=df.계약일자.map(lambda x: str(x)[:8])\n",
    "df=df[~((df.사원명=='문홍주') & (df.계약일자 < '20180601'))]  #문홍주 구소속건 삭제\n",
    "df=glad.BrhConv(df,'지점그룹')                               #메트로지점분리, 직영/지사구분"
   ]
  },
  {
   "cell_type": "code",
   "execution_count": 122,
   "metadata": {},
   "outputs": [],
   "source": [
    "dfw=pd.read_excel(inFile2, header=0, sheet_name='전체')  "
   ]
  },
  {
   "cell_type": "code",
   "execution_count": 123,
   "metadata": {},
   "outputs": [
    {
     "name": "stderr",
     "output_type": "stream",
     "text": [
      "C:\\Users\\user\\AppData\\Roaming\\Python\\Python37\\site-packages\\pandas\\core\\frame.py:4133: SettingWithCopyWarning: \n",
      "A value is trying to be set on a copy of a slice from a DataFrame\n",
      "\n",
      "See the caveats in the documentation: https://pandas.pydata.org/pandas-docs/stable/user_guide/indexing.html#returning-a-view-versus-a-copy\n",
      "  errors=errors,\n"
     ]
    }
   ],
   "source": [
    "#선급 원장: 기존 방식의 계산값(글로벌 -> MP)\n",
    "df2=dfw[(dfw.보험사==company)&(dfw.계약종류=='장기')]\n",
    "df2.rename(columns={'증권번호':'분급증번'}, inplace=True)"
   ]
  },
  {
   "cell_type": "code",
   "execution_count": 124,
   "metadata": {},
   "outputs": [],
   "source": [
    "#concat를 하기 위해 index순번을 재부여\n",
    "df=df.sort_values(by=['증권번호','납입회차','상태','수수료']).reset_index()\n",
    "df2=df2.sort_values(by=['분급증번','납입회차','상태','수수료계']).reset_index()\n",
    "df=pd.concat([df, df2.수수료계,df2.분급증번], axis=1)  #차례대로 합침\n",
    "df.rename(columns={'수수료계':'선급수수료','수수료':'분급수수료'}, inplace=True)\n",
    "df['차액(선급-분급)']=df.선급수수료 - df.분급수수료"
   ]
  },
  {
   "cell_type": "code",
   "execution_count": 125,
   "metadata": {},
   "outputs": [
    {
     "name": "stderr",
     "output_type": "stream",
     "text": [
      "C:\\Users\\user\\Anaconda3\\lib\\site-packages\\ipykernel_launcher.py:2: FutureWarning: Indexing with multiple keys (implicitly converted to a tuple of keys) will be deprecated, use a list instead.\n",
      "  \n"
     ]
    }
   ],
   "source": [
    "#요약시트 생성\n",
    "dfT=pd.DataFrame(df.groupby('지점')['선급수수료','분급수수료','차액(선급-분급)'].agg('sum'))\n",
    "직영=['엠피레전드','엠피여주','엠피의정부','제이엔제이','씨티엠지점']\n",
    "dfT.loc[dfT.index.isin(직영),'%']=100 \n",
    "dfT.loc[~dfT.index.isin(직영),'%']=70\n",
    "dfT['kj']=dfT['%'] * dfT['차액(선급-분급)'] / 100  #귀속분 산출\n",
    "s1=dfT.sum()    #요약값 산출\n",
    "s1['%']=0       \n",
    "dfT.loc['합계']=s1        #마지막 row에 합계추가\n",
    "dfT['이자']= (dfT['kj'] * 0.03 / 12).astype(int)  #마지막 column열에 이자 3% 적용\n",
    "\n",
    "with pd.ExcelWriter(outFile) as writer:  \n",
    "    dfT.to_excel(writer, sheet_name='요약',index=True)\n",
    "    df.to_excel(writer, sheet_name='목록',index=False) \n",
    "\n",
    "#del dfT,s1\n"
   ]
  },
  {
   "cell_type": "code",
   "execution_count": 126,
   "metadata": {},
   "outputs": [
    {
     "name": "stdout",
     "output_type": "stream",
     "text": [
      "정상종료-------------------------\n",
      "선급수수료-matched = 35,178,813\n",
      "선급수수료-원장 = 35,178,813\n",
      "분급수수료-원장 = 36,759,938\n",
      "선급-분급 차액 = -1,581,125\n"
     ]
    }
   ],
   "source": [
    "if  (df.선급수수료.sum() - df2.수수료계.sum()) != 0:\n",
    "     print('오류발생xxxxxxxxxxxxxxxxxxxxxxxxxx')\n",
    "elif  df.선급수수료.sum() != s1.선급수수료:        \n",
    "     print('오류발생-분급누락건 점검요~ xxxxxxx')\n",
    "        ##분급원장에 없는 증번은 수입원장에서 분급원장으로 건을 복사 후 실행요망\n",
    "else: print('정상종료-------------------------')\n",
    "\n",
    "print('선급수수료-matched = {:,.0f}'.format(s1.선급수수료) )\n",
    "print('선급수수료-원장 = {:,.0f}'.format(df2.수수료계.sum() ))\n",
    "print('분급수수료-원장 = {:,.0f}'.format(df.분급수수료.sum() ) )\n",
    "print('선급-분급 차액 = {:,.0f}'.format(df['차액(선급-분급)'].sum() ) )\n"
   ]
  },
  {
   "cell_type": "code",
   "execution_count": null,
   "metadata": {},
   "outputs": [],
   "source": [
    "temp=df[df.증권번호==df2.증권번호]['NO'].count()"
   ]
  },
  {
   "cell_type": "markdown",
   "metadata": {},
   "source": [
    "###아래는 오류 났을때 사용할 임시 로직  "
   ]
  },
  {
   "cell_type": "code",
   "execution_count": null,
   "metadata": {},
   "outputs": [],
   "source": [
    "df_kj=df.groupby('증권번호')['지급','환수'].sum().sort_values('증권번호')"
   ]
  },
  {
   "cell_type": "code",
   "execution_count": null,
   "metadata": {},
   "outputs": [],
   "source": [
    "df2_kj=pd.DataFrame(df2.groupby('증권번호')['수수료계'].sum()).sort_values('증권번호')"
   ]
  },
  {
   "cell_type": "code",
   "execution_count": null,
   "metadata": {},
   "outputs": [],
   "source": [
    "# 선급원장금액 생성\n",
    "df_kj['원장']=df2_kj.수수료계"
   ]
  },
  {
   "cell_type": "code",
   "execution_count": null,
   "metadata": {},
   "outputs": [],
   "source": [
    "#df[df.증권번호.isin(df3_kj.index)]\n",
    "df_T=df2[['증권번호','납입회차','수수료계']]\n",
    "df=df.join(df_T.set_index(['증권번호','납입회차'])['수수료계'], on=['증권번호','납입회차'])"
   ]
  },
  {
   "cell_type": "code",
   "execution_count": null,
   "metadata": {},
   "outputs": [],
   "source": [
    "df3_kj=df_kj[df_kj.지급+df_kj.환수 != df_kj.원장]"
   ]
  },
  {
   "cell_type": "code",
   "execution_count": null,
   "metadata": {},
   "outputs": [],
   "source": [
    "pd.DataFrame([df.선급수수료.sum(),df.분급수수료.sum(),df['차액(선급-분급)'].sum()],['선급','분급','차액'],columns=['금액'])"
   ]
  },
  {
   "cell_type": "code",
   "execution_count": 132,
   "metadata": {},
   "outputs": [
    {
     "data": {
      "text/plain": [
       "Index(['NO', '지급년월', '적용일', '영수구분', '보험사', '계약종류', '증권번호', 'FC코드', '총괄', '본부',\n",
       "       '지점', '직할지점', '팀', '사원번호', '사원명', '납입회차', '상태', '상품명', '수수료', '보험료',\n",
       "       '원수사성적', '계약일자', '영수일자', '자동차_물건구분', '자동차_보험종목', '지급', '환수', '위촉(Y/N)',\n",
       "       'Unnamed: 28', 'Unnamed: 29'],\n",
       "      dtype='object')"
      ]
     },
     "execution_count": 132,
     "metadata": {},
     "output_type": "execute_result"
    }
   ],
   "source": [
    "df.columns"
   ]
  },
  {
   "cell_type": "code",
   "execution_count": 87,
   "metadata": {},
   "outputs": [
    {
     "data": {
      "text/html": [
       "<div>\n",
       "<style scoped>\n",
       "    .dataframe tbody tr th:only-of-type {\n",
       "        vertical-align: middle;\n",
       "    }\n",
       "\n",
       "    .dataframe tbody tr th {\n",
       "        vertical-align: top;\n",
       "    }\n",
       "\n",
       "    .dataframe thead th {\n",
       "        text-align: right;\n",
       "    }\n",
       "</style>\n",
       "<table border=\"1\" class=\"dataframe\">\n",
       "  <thead>\n",
       "    <tr style=\"text-align: right;\">\n",
       "      <th></th>\n",
       "      <th>증권번호</th>\n",
       "      <th>분급증번</th>\n",
       "    </tr>\n",
       "  </thead>\n",
       "  <tbody>\n",
       "    <tr>\n",
       "      <th>2007</th>\n",
       "      <td>LA20192119663000</td>\n",
       "      <td>LA20192117746000</td>\n",
       "    </tr>\n",
       "    <tr>\n",
       "      <th>2008</th>\n",
       "      <td>LA20192119875000</td>\n",
       "      <td>LA20192119663000</td>\n",
       "    </tr>\n",
       "    <tr>\n",
       "      <th>2009</th>\n",
       "      <td>LA20192121340000</td>\n",
       "      <td>LA20192119875000</td>\n",
       "    </tr>\n",
       "    <tr>\n",
       "      <th>2010</th>\n",
       "      <td>LA20192121544000</td>\n",
       "      <td>LA20192121340000</td>\n",
       "    </tr>\n",
       "    <tr>\n",
       "      <th>2011</th>\n",
       "      <td>LA20192121966000</td>\n",
       "      <td>LA20192121544000</td>\n",
       "    </tr>\n",
       "    <tr>\n",
       "      <th>...</th>\n",
       "      <td>...</td>\n",
       "      <td>...</td>\n",
       "    </tr>\n",
       "    <tr>\n",
       "      <th>2397</th>\n",
       "      <td>LA20202540661000</td>\n",
       "      <td>LA20202535910000</td>\n",
       "    </tr>\n",
       "    <tr>\n",
       "      <th>2398</th>\n",
       "      <td>NaN</td>\n",
       "      <td>LA20202535917000</td>\n",
       "    </tr>\n",
       "    <tr>\n",
       "      <th>2399</th>\n",
       "      <td>NaN</td>\n",
       "      <td>LA20202538853000</td>\n",
       "    </tr>\n",
       "    <tr>\n",
       "      <th>2400</th>\n",
       "      <td>NaN</td>\n",
       "      <td>LA20202540619000</td>\n",
       "    </tr>\n",
       "    <tr>\n",
       "      <th>2401</th>\n",
       "      <td>NaN</td>\n",
       "      <td>LA20202540661000</td>\n",
       "    </tr>\n",
       "  </tbody>\n",
       "</table>\n",
       "<p>387 rows × 2 columns</p>\n",
       "</div>"
      ],
      "text/plain": [
       "                  증권번호              분급증번\n",
       "2007  LA20192119663000  LA20192117746000\n",
       "2008  LA20192119875000  LA20192119663000\n",
       "2009  LA20192121340000  LA20192119875000\n",
       "2010  LA20192121544000  LA20192121340000\n",
       "2011  LA20192121966000  LA20192121544000\n",
       "...                ...               ...\n",
       "2397  LA20202540661000  LA20202535910000\n",
       "2398               NaN  LA20202535917000\n",
       "2399               NaN  LA20202538853000\n",
       "2400               NaN  LA20202540619000\n",
       "2401               NaN  LA20202540661000\n",
       "\n",
       "[387 rows x 2 columns]"
      ]
     },
     "execution_count": 87,
     "metadata": {},
     "output_type": "execute_result"
    }
   ],
   "source": [
    "df.loc[df.증권번호!=df.분급증번][['증권번호','분급증번']]\n",
    "# df[['증권번호','분급증번']]"
   ]
  },
  {
   "cell_type": "code",
   "execution_count": null,
   "metadata": {},
   "outputs": [],
   "source": []
  }
 ],
 "metadata": {
  "kernelspec": {
   "display_name": "Python 3",
   "language": "python",
   "name": "python3"
  },
  "language_info": {
   "codemirror_mode": {
    "name": "ipython",
    "version": 3
   },
   "file_extension": ".py",
   "mimetype": "text/x-python",
   "name": "python",
   "nbconvert_exporter": "python",
   "pygments_lexer": "ipython3",
   "version": "3.7.4"
  }
 },
 "nbformat": 4,
 "nbformat_minor": 4
}
