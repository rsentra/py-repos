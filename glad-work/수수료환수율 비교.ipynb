{
 "cells": [
  {
   "cell_type": "code",
   "execution_count": null,
   "id": "70bbe94d",
   "metadata": {},
   "outputs": [],
   "source": [
    "import pandas as pd\n",
    "import GladUtil as gd\n",
    "pd.set_option('display.max_columns', 100)"
   ]
  },
  {
   "cell_type": "code",
   "execution_count": null,
   "id": "1d984ec3",
   "metadata": {},
   "outputs": [],
   "source": [
    "path ='E:/글로벌백업(180329)/03.수수료&시상/수수료표/환수율/'\n",
    "in_file = '생명환수_2021-04 생보수수료 환수율_202104.xlsx'\n",
    "# in_file = '장기환수_2021-04 손보수수료 환수율_202104.xlsx'\n",
    "보종 = '생보'\n",
    "if 보종 =='생보':\n",
    "    b_type = '보장성1'\n",
    "else: b_type = '보장'\n",
    "\n",
    "#--- 변경 전 환수율 파일을 읽는다--ibss\n",
    "sheet = 'Worksheet'\n",
    "c = '보험사 정산타입 h1 h2 h3 h4 h5 h6 h7 h8 h9 h10 h11 h12 h13 h14 h15 h16 h17 h18 h19 h20 h21 h22 h23 h24'\n",
    "columns = c.split(' ')\n",
    "\n",
    "df = pd.read_excel(path+in_file,sheet_name=sheet,header=2,names=columns,usecols=\"a:Z\")\n",
    "df_temp = pd.read_excel(path+in_file,sheet_name=sheet)\n",
    "rule_nm = df_temp.iloc[0][0]\n",
    "\n",
    "df['정산타입'].fillna(b_type,inplace=True)\n",
    "\n",
    "str_exp = \"h1==100 and (정산타입==@b_type )\"\n",
    "df_bef = df.query(str_exp)\n",
    "df_bef.loc[:,'보험사']= df_bef['보험사'].str.upper()\n",
    "df_bef = df_bef.round(0)\n",
    "df_bef['tot'] = df_bef[columns[2:]].sum(axis=1)"
   ]
  },
  {
   "cell_type": "code",
   "execution_count": null,
   "id": "e625cd75",
   "metadata": {},
   "outputs": [],
   "source": [
    "# df[(df['1h']==100) & (df['정산타입']=='보장성1')]\n",
    "path ='C:/Users/admin/OneDrive/glad/'\n",
    "in_file = '2021-10 생손보수수료 환수율.xlsx'\n",
    "\n",
    "if 보종 == '생보':\n",
    "    sheet = '생보'\n",
    "else: sheet = '손보'\n",
    "c = '보험사 정산타입 h1 h2 h3 h4 h5 h6 h7 h8 h9 h10 h11 h12 h13 h14 h15 h16 h17 h18 h19 h20 h21 h22 h23 h24'\n",
    "columns = c.split(' ')\n",
    "df = pd.read_excel(path+in_file,sheet_name=sheet,header=0,names=columns,usecols=\"a:Z\")\n",
    "str_exp = \"h1==100 and (정산타입==@b_type )\"\n",
    "df_aft = df.query(str_exp)\n",
    "df_aft.loc[:,'보험사']= df_aft['보험사'].str.upper()\n",
    "df_aft = df_aft.round(0)\n",
    "df_aft['tot'] = df_aft[columns[2:]].sum(axis=1)"
   ]
  },
  {
   "cell_type": "code",
   "execution_count": null,
   "id": "dfd68788",
   "metadata": {},
   "outputs": [],
   "source": [
    "#---데이터프레임 비교\n",
    "## https://bio-info.tistory.com/25\n",
    "\n",
    "df = pd.concat([df_aft,df_bef])\n",
    "df = df.reset_index(drop=True) # 인덱스 초기화\n",
    "df.fillna(0, inplace=True)\n",
    "compare_col = df.columns.tolist() # 전체 열 비교\n",
    "# compare_col = df.columns[2:].tolist() # 부분 열 비교\n",
    "# compare_col = df.columns[:5].tolist()  + ['h14','tot']\n",
    "\n",
    "df_grp = df.groupby(compare_col) \n",
    "\n",
    "df_di = df_grp.groups # 딕셔너리로 만들기 \n",
    " \n",
    "# -- 변경된 회사를 display\n",
    "idx = [x[0] for x in df_di.values() if len(x) == 1] # 인덱스 검토\n",
    "df.loc[idx,:] # Same as df.reindex(idx)"
   ]
  },
  {
   "cell_type": "code",
   "execution_count": null,
   "id": "e90bafc1",
   "metadata": {},
   "outputs": [],
   "source": [
    "df.drop_duplicates(subset=df.columns.tolist() ,keep=False)"
   ]
  },
  {
   "cell_type": "code",
   "execution_count": null,
   "id": "8d40817d",
   "metadata": {},
   "outputs": [],
   "source": [
    "# df가 같은지 비교만\n",
    "df_aft.equals(df_bef)"
   ]
  }
 ],
 "metadata": {
  "kernelspec": {
   "display_name": "Python 3",
   "language": "python",
   "name": "python3"
  },
  "language_info": {
   "codemirror_mode": {
    "name": "ipython",
    "version": 3
   },
   "file_extension": ".py",
   "mimetype": "text/x-python",
   "name": "python",
   "nbconvert_exporter": "python",
   "pygments_lexer": "ipython3",
   "version": "3.8.8"
  }
 },
 "nbformat": 4,
 "nbformat_minor": 5
}
