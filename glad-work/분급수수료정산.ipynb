{
 "cells": [
  {
   "cell_type": "markdown",
   "metadata": {},
   "source": [
    "## 롯데,현대,KB등 분급 수수료 정산 프로그램 : 본 프로그램 사용시 파일명,회사명 확인 후 실행바람\n",
    "  1. 분급,선급원장 읽기 : 첫행은 반드시 컬럼명이어야  \n",
    "  2. 분급원장 전처리 : kj계약 추출, 문홍주건 정제, 지점코드 세팅  \n",
    "  3. 선급원장 정체: 롯데,장기  \n",
    "  4. 증번,회차별 sort  \n",
    "  5. 선급,분급 차이 산출  \n",
    "  6. 요약,목록 시트 출력  \n",
    " [실행파일은 사용하지 말것-- 최신버전 아님]\n",
    " 본 스크립트는 분급수수료정산.py로 제작되어 실행파일화 함: d:/글로벌/분급정산  "
   ]
  },
  {
   "cell_type": "code",
   "execution_count": 10,
   "metadata": {},
   "outputs": [],
   "source": [
    "# import sys\n",
    "# sys.path.insert(0, 'e:/python/mypkgs')\n",
    "import pandas as pd\n",
    "# import mypkgs.GladUtil as glad\n",
    "import GladUtil as glad\n",
    "import time\n",
    "dict_comp = {'롯데':'롯데손보','현대':'현대해상','KB':'KB손보','DB':'DB손보','삼성':'삼성화재'}\n",
    "\n",
    "ym ='202012'\n",
    "comp ='KB'\n",
    "company = dict_comp[comp]\n",
    "inf_nm1 ='분급이자/'+ ym+'_'+ comp +' 분급 원장.xlsx'\n",
    "inf_nm2 = ym+ '수수료/'+ ym[0:4]+'-'+ym[4:6]+ ' 수입원장(KJ).xlsx'\n",
    "out_nm  = ym+ '수수료/'+ ym[0:4]+'-'+ym[4:6]+ ' '+comp+'정산결과(KJ).xlsx'\n",
    "# print(inf_nm1)\n",
    "\n",
    "inFile1 = 'E:/글로벌백업(180329)/04.수수료작업/'+inf_nm1                   #분급원장\n",
    "inFile2 = 'E:/글로벌백업(180329)/04.수수료작업/'+inf_nm2                   #선급원장\n",
    "outFile = 'E:/글로벌백업(180329)/04.수수료작업/'+out_nm                    #출력파일\n",
    "\n",
    "df_div = pd.DataFrame()\n",
    "df_div = pd.read_excel(inFile1, header=0,dtype={'증권번호':object})\n",
    "df_div = df_div[df_div.본부=='MPKJ']\n",
    "df_div['계약일자'] = df_div.계약일자.map(lambda x: str(x)[:8])\n",
    "df_div = df_div[~((df_div.사원명=='문홍주') & (df_div.계약일자 < '20180601'))]  #문홍주 구 소속건 삭제\n",
    "df_div = glad.BrhConv(df_div,'지점그룹')                               #메트로지점분리, 직영/지사구분"
   ]
  },
  {
   "cell_type": "markdown",
   "metadata": {},
   "source": [
    "#### 선급원장 읽기는 최초1회만 로직처리됨"
   ]
  },
  {
   "cell_type": "code",
   "execution_count": 11,
   "metadata": {},
   "outputs": [
    {
     "name": "stdout",
     "output_type": "stream",
     "text": [
      "선급원장 start reading...\n",
      "선급원장 end reading\n",
      "time : 361.17282342910767\n"
     ]
    }
   ],
   "source": [
    "#선급 원장: 기존 방식의 계산값(글로벌 -> MP)\n",
    "start = time.time()  # 시작 시간 저장\n",
    "try:\n",
    "    val = str(dfW.head(1)['지급년월'][0])\n",
    "    if val == ym:\n",
    "        raise NameError(\"원장년월 변경필요\")\n",
    "# catch when df1 is None\n",
    "except NameError:    \n",
    "    print('선급원장 start reading...')\n",
    "    dfW = pd.read_excel(inFile2, header=0, sheet_name='전체',dtype={'계약일자':object})  \n",
    "finally:\n",
    "    df_advance = dfW[(dfW.보험사==company)&(dfW.계약종류=='장기')]\n",
    "    df_advance = df_advance.sort_values(by=['증권번호','납입회차','상태','보험료']).reset_index()\n",
    "    print('선급원장 end reading')\n",
    "print(\"time :\", time.time() - start)  # 현재시각 - 시작시간 = 실행 시간"
   ]
  },
  {
   "cell_type": "markdown",
   "metadata": {},
   "source": [
    "#### 분급원장과 선급원장의 건수가 차이나는 경우 -선급건수>분급건수  "
   ]
  },
  {
   "cell_type": "code",
   "execution_count": 12,
   "metadata": {},
   "outputs": [
    {
     "name": "stdout",
     "output_type": "stream",
     "text": [
      "건수차이:  분급원장건수= 7667 선급원장건수= 7759\n",
      "추가건수=  92  / 추가금액= 1356353\n",
      "추가  후: 분급원장건수=  7759 선급원장건수= 7759\n"
     ]
    }
   ],
   "source": [
    "\n",
    "# 선급원장의 항목을 분급원장에 append함\n",
    "if len(df_div)!=len(df_advance):\n",
    "    print('건수차이:  분급원장건수=', len(df_div),\n",
    "                     '선급원장건수=', len(df_advance) )\n",
    "    dt = pd.merge(df_advance,df_div,how='outer',on=['증권번호','납입회차','상태','보험료'],indicator=True).query('_merge == \"left_only\"').drop(columns=['_merge'])\n",
    "    dt2 = pd.merge(df_advance,dt[['증권번호','납입회차','상태','보험료']],how='inner',on=['증권번호','납입회차','상태','보험료'])\n",
    "    cols1 = list(df_div.columns)   #분급원장컬럼\n",
    "    cols2 = list(dt2.columns)  #선급원장컬럼\n",
    "    diff_col = list(set(cols1)-set(cols2))\n",
    "    for i in diff_col:       #선급원장에 컬럼 추가\n",
    "        dt2[i] = \"\"\n",
    "    dt2['수수료'] = dt2['수수료계']\n",
    "    dt2['지급'] = dt2['수수료계']\n",
    "    dt2 = glad.grpConv(dt2,'지점그룹') \n",
    "    df_div = df_div.append(dt2[cols1]) #분급원장에 row추가\n",
    "    print('추가건수= ',len(dt2), ' / 추가금액=' , dt2['수수료'].sum() )\n",
    "    print('추가  후: 분급원장건수= ',len(df_div), '선급원장건수=' , len(df_advance) )\n",
    "else: print('건수일치...= ', len(df_div))\n"
   ]
  },
  {
   "cell_type": "markdown",
   "metadata": {},
   "source": [
    "#### 분급원장 읽기 및 결과파일 생성"
   ]
  },
  {
   "cell_type": "code",
   "execution_count": 13,
   "metadata": {},
   "outputs": [
    {
     "name": "stderr",
     "output_type": "stream",
     "text": [
      "<ipython-input-13-bc61866e16e5>:8: FutureWarning: Indexing with multiple keys (implicitly converted to a tuple of keys) will be deprecated, use a list instead.\n",
      "  dfT = pd.DataFrame(df_div.groupby('지점')['선급수수료','분급수수료','차액(선급-분급)'].agg('sum'))\n"
     ]
    },
    {
     "name": "stdout",
     "output_type": "stream",
     "text": [
      "created..E:/글로벌백업(180329)/04.수수료작업/202012수수료/2020-12 KB정산결과(KJ).xlsx\n"
     ]
    }
   ],
   "source": [
    "#concat를 하기 위해 index순번을 재부여\n",
    "df_div = df_div.sort_values(by=['증권번호','납입회차','상태','보험료']).reset_index()\n",
    "df_div = pd.concat([df_div, df_advance.수수료계], axis=1)  #차례대로 합침\n",
    "df_div.rename(columns = {'수수료계':'선급수수료','수수료':'분급수수료'}, inplace=True)\n",
    "df_div['차액(선급-분급)'] = df_div.선급수수료 - df_div.분급수수료\n",
    "\n",
    "#요약시트 생성\n",
    "dfT = pd.DataFrame(df_div.groupby('지점')['선급수수료','분급수수료','차액(선급-분급)'].agg('sum'))\n",
    "직영 = ['엠피레전드','엠피여주','엠피의정부','제이엔제이','씨티엠지점']\n",
    "dfT.loc[dfT.index.isin(직영),'%'] = 100 \n",
    "dfT.loc[~dfT.index.isin(직영),'%'] = 70\n",
    "dfT['kj'] = dfT['%'] * dfT['차액(선급-분급)'] / 100  #귀속분 산출\n",
    "s1 = dfT.sum()    #요약값 산출\n",
    "s1['%'] = 0       \n",
    "dfT.loc['합계'] = s1        #마지막 row에 합계추가\n",
    "dfT['이자'] = (dfT['kj'] * 0.03 / 12).astype(int)  #마지막 column열에 이자 3% 적용\n",
    "\n",
    "with pd.ExcelWriter(outFile) as writer:  \n",
    "    dfT.to_excel(writer, sheet_name='요약',index=True)\n",
    "    df_div.to_excel(writer, sheet_name='목록',index=False) \n",
    "\n",
    "#del dfT,s1\n",
    "print( 'created..' + outFile)"
   ]
  },
  {
   "cell_type": "markdown",
   "metadata": {},
   "source": [
    "### 정상여부 검증"
   ]
  },
  {
   "cell_type": "code",
   "execution_count": 14,
   "metadata": {},
   "outputs": [
    {
     "name": "stdout",
     "output_type": "stream",
     "text": [
      "정상종료-------------------------\n",
      "선급수수료-matched = 82,111,475\n",
      "선급수수료-원장 = 82,111,475\n",
      "분급수수료-원장 = 69,942,240\n",
      "차액 = 12,169,235\n"
     ]
    }
   ],
   "source": [
    "if  (df_div.선급수수료.sum() - df_advance.수수료계.sum()) != 0:\n",
    "     print('오류발생xxxxxxxxxxxxxxxxxxxxxxxxxx')\n",
    "elif  df_div.선급수수료.sum() != s1.선급수수료:        \n",
    "     print('오류발생-분급누락건 점검요~ xxxxxxx')\n",
    "        ##분급원장에 없는 증번은 수입원장에서 분급원장으로 건을 복사 후 실행요망\n",
    "else: print('정상종료-------------------------')\n",
    "\n",
    "print('선급수수료-matched = {:,.0f}'.format(s1.선급수수료) )\n",
    "print('선급수수료-원장 = {:,.0f}'.format(df_advance.수수료계.sum() ))\n",
    "print('분급수수료-원장 = {:,.0f}'.format(df_div.분급수수료.sum() ) )\n",
    "print('차액 = {:,.0f}'.format(df_div['차액(선급-분급)'].sum() ) )\n"
   ]
  },
  {
   "cell_type": "markdown",
   "metadata": {},
   "source": [
    "### 정상종료시 이자요약표 생성 (당월 + 전월)"
   ]
  },
  {
   "cell_type": "code",
   "execution_count": 15,
   "metadata": {},
   "outputs": [
    {
     "name": "stdout",
     "output_type": "stream",
     "text": [
      "job started... \n",
      "completed===============================================\n"
     ]
    }
   ],
   "source": [
    "''' 당월 요약파일에 전월까지의 요약표를 합치는 작업'''\n",
    "from openpyxl import load_workbook\n",
    "from openpyxl.styles import Font, Color, Alignment, Border, Side, colors\n",
    "\n",
    "def find_row(ws,val):\n",
    "    # for row in ws['a'].iter_rows():\n",
    "    #     for cell in row:\n",
    "    for cell in ws['a']:\n",
    "        if val == cell.value:\n",
    "            return cell.row\n",
    "\n",
    "def set_border(ws, cell_range):\n",
    "    thin = Side(border_style=\"thin\", color=\"000000\")\n",
    "    for row in ws[cell_range]:\n",
    "        for cell in row:\n",
    "            cell.border = Border(top=thin, left=thin, right=thin, bottom=thin)\n",
    "\n",
    "big_blue_text = Font(color=colors.BLUE, size=14)\n",
    "double_border_side = Side(border_style=\"double\")\n",
    "square_border = Border(top=double_border_side,right=double_border_side,bottom=double_border_side,left=double_border_side)\n",
    "            \n",
    "print('job started... ')\n",
    "ym_nm = ym[4:]+'월' \n",
    "# 장월 파일 열기 (from 위 작업)\n",
    "wb = load_workbook(outFile)\n",
    "ws = wb.active\n",
    "\n",
    "# 위치 찾기\n",
    "r = find_row(ws,\"합계\")\n",
    "c = [ col.column for col in ws[1] if col.value =='이자'][0]\n",
    "이자 = ws.cell(r,c).value\n",
    "ws.cell(r,c).font = big_blue_text\n",
    "\n",
    "# 전월 파일 열기\n",
    "bef_ym = str(int(ym[:4])-1)+'12' if int(ym[4:6])-1==0 else ym[:4]+str(int(ym[4:6])-1)\n",
    "befFile = outFile.replace(ym,bef_ym).replace(ym[:4]+'-'+ym[4:], bef_ym[:4]+'-'+bef_ym[4:] )\n",
    "\n",
    "try:\n",
    "    wb1 = None\n",
    "    wb1 = load_workbook(befFile,data_only=True)\n",
    "    ws1 = wb1.active\n",
    "    # -- 전월 파일에서 \n",
    "    r = find_row(ws1, \"이자 정산표\")\n",
    "    # 요약표\n",
    "    sum_tbl = ws1[r:ws1.max_row]\n",
    "\n",
    "    # 행 위치를 같게 만듬\n",
    "    r_cnt = r - ws.max_row - 1\n",
    "    ws.insert_rows(ws.max_row + 1,r_cnt)\n",
    "    ws.cell(ws.max_row+1,1).value = \" \"\n",
    "    # for row in ws[ws.max_row+1: ws.max_row + r_cnt]:\n",
    "    #     row[0].value = \" \"\n",
    "\n",
    "    # 요약표를 복사\n",
    "    # for row in sum_tbl:\n",
    "    for row in ws1.iter_rows(min_row = r,values_only=True):    \n",
    "        ws.append([c for c in row])\n",
    "    wb1.close()\n",
    "    \n",
    "    # 직전 최종월 column\n",
    "    r = find_row(ws, \"이자 정산표\")\n",
    "    c = [ cell.column for cell in ws[r+3] if cell.value is not None][-1]\n",
    "    # 직전 최종월 row\n",
    "    for cell in ws.iter_rows(min_row=r+3, max_row = ws.max_row-1, min_col=c, max_col=c):\n",
    "        if cell[0].value:\n",
    "            mx_r = cell[0].row\n",
    "\n",
    "except FileNotFoundError:    \n",
    "    print('전월파일이 없음-분급정산을 시작하는 회사...',company,' -',ws.max_row)\n",
    "    r= ws.max_row + 2  # next 2 last row\n",
    "    ws.cell(r, 1).value = \"이자 정산표\"  \n",
    "    ws.cell(r+1, 1).value = \"수수료\"  \n",
    "    ws.cell(r+1, 2).value = \"정산월\"\n",
    "    ws.cell(r+2, 1).value = \"지급월\"\n",
    "    ws.cell(r+3, 1).value = \"합계\"  \n",
    "    c = 1\n",
    "    mx_r = r + 2\n",
    "    print('max row .. ', ws.max_row,' head row.. ', r)\n",
    "finally:\n",
    "    \n",
    "    if mx_r == ws.max_row-1:\n",
    "        ws.insert_rows(ws.max_row)\n",
    "  \n",
    "    # 컬럼이 1개이므로 for 문을 1회만 사용하고 첫컬럼인덱스[0] 참조\n",
    "    # 전월이자를 next column(당월)로 복사 \n",
    "    for cell in ws.iter_rows(min_row = r+3, max_row = ws.max_row-1, min_col=c, max_col = c):\n",
    "        rr = cell[0].row\n",
    "        ws.cell(rr, c+1).value =  ws.cell(rr, c).value\n",
    "\n",
    "    # 당월 제목\n",
    "    ws.cell(r+2,c+1).value = ym_nm \n",
    "    ws.cell(mx_r + 1,1).value = ym_nm \n",
    "    # 당월 이자\n",
    "    int_rng = ws.cell(mx_r + 1,c+1)\n",
    "    int_rng.value = 이자\n",
    "    # 당월 누적합계 : 수식으로 넣은 후 openpyxl로 읽으면 해당 셀를 dataonly로 읽을때 none나옴\n",
    "    # a = ws.cell(r+3,c+1).coordinate\n",
    "    # b = ws.cell(mx_r+1,c+1).coordinate\n",
    "    # ws.cell(ws.max_row, c+1).value  = f'=sum({a}:{b})'\n",
    "    sum_val = 0\n",
    "    for row in ws.iter_rows(min_row=r+3, max_row=mx_r+1, min_col=c+1,max_col=c+1,values_only=True):\n",
    "        for cell in row:\n",
    "             sum_val += cell.value\n",
    "    ws.cell(ws.max_row, c+1).value = sum_val\n",
    "\n",
    "    # style \n",
    "    int_rng.font = big_blue_text\n",
    "    ws.cell(ws.max_row, c+1).font = big_blue_text\n",
    "\n",
    "    # coordinate는 'a1' 스타일 주소 \n",
    "    a = ws.cell(r+2,1).coordinate\n",
    "    b = ws.cell(ws.max_row,c+1).coordinate\n",
    "    str_rng = f\"{a}:{b}\"\n",
    "    set_border(ws, str_rng)\n",
    "\n",
    "    str_rng = f\"A:{str(chr(65+c+1))}\"\n",
    "    for row in ws[str_rng]:\n",
    "        for cell in row:\n",
    "             cell.number_format = '#,##0'\n",
    "\n",
    "\n",
    "    wb.save(outFile)\n",
    "    wb.close()\n",
    "    print('completed===============================================')"
   ]
  },
  {
   "cell_type": "markdown",
   "metadata": {},
   "source": [
    "### 만약 오류가 있으면 \n",
    "  선급원장에 증번+회차+상태가 중복이면서 분급원장에 중복수만큼 있지않은경우\n",
    "  1. 아래작업으로 증번확인 후\n",
    "  2. 그 아래 추가작업2 실시\n",
    "  3. 마지막으로 '처음'~'분급원장 읽기 및 결과파일 생성' 직전까지\n",
    "  4. 아래 추가 작업3 실시\n",
    "  4. '분급원장 읽기 및 결과파일 생성' 작업부터 실시"
   ]
  },
  {
   "cell_type": "code",
   "execution_count": 34,
   "metadata": {},
   "outputs": [
    {
     "data": {
      "text/html": [
       "<div>\n",
       "<style scoped>\n",
       "    .dataframe tbody tr th:only-of-type {\n",
       "        vertical-align: middle;\n",
       "    }\n",
       "\n",
       "    .dataframe tbody tr th {\n",
       "        vertical-align: top;\n",
       "    }\n",
       "\n",
       "    .dataframe thead th {\n",
       "        text-align: right;\n",
       "    }\n",
       "</style>\n",
       "<table border=\"1\" class=\"dataframe\">\n",
       "  <thead>\n",
       "    <tr style=\"text-align: right;\">\n",
       "      <th></th>\n",
       "      <th>증권번호</th>\n",
       "      <th>건수일치</th>\n",
       "    </tr>\n",
       "    <tr>\n",
       "      <th>증권번호</th>\n",
       "      <th></th>\n",
       "      <th></th>\n",
       "    </tr>\n",
       "  </thead>\n",
       "  <tbody>\n",
       "  </tbody>\n",
       "</table>\n",
       "</div>"
      ],
      "text/plain": [
       "Empty DataFrame\n",
       "Columns: [증권번호, 건수일치]\n",
       "Index: []"
      ]
     },
     "execution_count": 34,
     "metadata": {},
     "output_type": "execute_result"
    }
   ],
   "source": [
    "#증권번호별 건수를 구한다음 건수 불일치 증번 display\n",
    "counts=pd.DataFrame(df_div.groupby(['증권번호'])['증권번호'].agg('count')).fillna(method='ffill')\n",
    "counts2=pd.DataFrame(df_advance.groupby(['증권번호'])['증권번호'].agg('count')).fillna(method='ffill')\n",
    "counts2['건수일치']=counts2.증권번호==counts.증권번호\n",
    "counts2[counts2.건수일치==False]"
   ]
  },
  {
   "cell_type": "code",
   "execution_count": 10,
   "metadata": {},
   "outputs": [],
   "source": [
    "#추가할 건에 대해 확인 후 작업하여 df에 추가\n",
    "dt3=df_advance[(df_advance.증권번호=='299046164900') & (df_advance.지급구분=='환수')]\n",
    "cols1=list(df_div.columns)   #분급원장컬럼\n",
    "cols2=list(dt3.columns)  #선급원장컬럼\n",
    "diff_col=list(set(cols1)-set(cols2))\n",
    "for i in diff_col:       #선급원장에 컬럼 추가\n",
    "    dt3[i]=\"\"\n",
    "dt3['수수료']=dt3['수수료계']\n",
    "dt3['지급']=dt3['수수료계']"
   ]
  },
  {
   "cell_type": "code",
   "execution_count": null,
   "metadata": {},
   "outputs": [],
   "source": [
    "df=df_div.append(dt3[cols1]) #분급원장에 row추가"
   ]
  },
  {
   "cell_type": "markdown",
   "metadata": {},
   "source": [
    "#### 작업 후 차이가 나는 경우 찾는 방법 2"
   ]
  },
  {
   "cell_type": "code",
   "execution_count": null,
   "metadata": {},
   "outputs": [],
   "source": [
    "df_div_cnt=df_div.groupby(['증권번호'])['증권번호'].count().reset_index(name='cnt')\n",
    "df_advance_cnt=df_advance.groupby(['증권번호'])['증권번호'].count().reset_index(name='cnt')\n",
    "df_cnt=pd.concat([df_advance_cnt,df_div_cnt],join='inner',axis=1)\n",
    "df_cnt.columns=['증권번호','선급건수','증','분급건수']\n",
    "ply=df_cnt.loc[df_cnt.선급건수!=df_cnt.분급건수,'증권번호'].values.tolist()\n",
    "df_advance[df_advance.증권번호.isin(ply)]"
   ]
  },
  {
   "cell_type": "code",
   "execution_count": null,
   "metadata": {},
   "outputs": [],
   "source": [
    "df_div[df_div.분급수수료!=df_div.지급+df_div.환수][['증권번호','분급수수료','지급','환수']]"
   ]
  },
  {
   "cell_type": "code",
   "execution_count": null,
   "metadata": {},
   "outputs": [],
   "source": [
    "#df_div[df_div.증권번호.isin(df3_kj.index)]\n",
    "df_T=df_advance[['증권번호','납입회차','수수료계']]\n",
    "df=df_div.join(df_T.set_index(['증권번호','납입회차'])['수수료계'], on=['증권번호','납입회차'])"
   ]
  }
 ],
 "metadata": {
  "kernelspec": {
   "display_name": "Python 3",
   "language": "python",
   "name": "python3"
  },
  "language_info": {
   "codemirror_mode": {
    "name": "ipython",
    "version": 3
   },
   "file_extension": ".py",
   "mimetype": "text/x-python",
   "name": "python",
   "nbconvert_exporter": "python",
   "pygments_lexer": "ipython3",
   "version": "3.8.5"
  }
 },
 "nbformat": 4,
 "nbformat_minor": 4
}
