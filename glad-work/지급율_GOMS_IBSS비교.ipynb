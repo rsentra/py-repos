{
 "cells": [
  {
   "cell_type": "code",
   "execution_count": 1,
   "id": "b0abcf1f-6655-49ed-a2e7-91ed5230ca08",
   "metadata": {},
   "outputs": [],
   "source": [
    "''' GOMS와 IBSS규정 적용현황을 비교하기 위한 스크립트'''\n",
    "import pandas as pd\n",
    "import numpy as np\n",
    "import GladUtil as gld"
   ]
  },
  {
   "cell_type": "markdown",
   "id": "c28b4312-47af-4426-976c-cbd1bdf08ec7",
   "metadata": {},
   "source": [
    "### goms규정"
   ]
  },
  {
   "cell_type": "code",
   "execution_count": 2,
   "id": "2d1a7a07-a0f8-446b-a3a2-2636ca4eaf52",
   "metadata": {},
   "outputs": [],
   "source": [
    "infile = 'D:/글로벌백업(180329)/05.GOMS수수료작업/규정_GOMS_2106지급.xlsx'\n",
    "df_fc = pd.read_excel(infile,sheet_name='fc',usecols='b:d,g:i,o:r,m',dtype=object)\n",
    "df_fc = df_fc[df_fc.퇴사일자.isnull()]\n",
    "df_fc['지점'] = df_fc.apply(lambda x: gld.Metro(x['지점'], x['직할지점'], x['팀']), axis=1) #글래드 지점 변환\n",
    "\n",
    "df_brh = pd.read_excel(infile,sheet_name='brh',usecols='c,f:h,k:r,j',dtype=object)\n",
    "df_brh = df_brh[df_brh.폐쇄일자.isnull()]\n",
    "df_brh['지점'] = df_brh.apply(lambda x: gld.Metro(x['지점'], x['직할지점'], x['팀']), axis=1) #글래드 지점 변환\n",
    "df_brh['지사'] = df_brh.지점.map(lambda x: '지사'  if x in gld.GROUP2 else ('직영' if x in gld.GROUP1 else '오류')) # 지사구분"
   ]
  },
  {
   "cell_type": "code",
   "execution_count": 3,
   "id": "bad5d7a8-a484-4a3c-8a57-153e17b8d232",
   "metadata": {},
   "outputs": [
    {
     "name": "stdout",
     "output_type": "stream",
     "text": [
      "대_생보_65\n",
      "대_2021-04 손보수수료(GLD_700)\n",
      "대_2020-02 자동차수수료(표준FC_11%)\n",
      "대_201205-글로벌금융공통FC규정\n"
     ]
    }
   ],
   "source": [
    "''' 보종별 glad 기본 규정 find '''\n",
    "FC_LIFE = df_brh[ (df_brh['지점'].isnull()) & (df_brh.직할지점.isnull()) &  (df_brh.FC생보규정 !='미선택') ]['FC생보규정'].values[0]\n",
    "FC_LONG = df_brh[ (df_brh['지점'].isnull()) & (df_brh.직할지점.isnull()) &  (df_brh.FC장기규정 !='미선택') ]['FC장기규정'].values[0]\n",
    "FC_CAR  = df_brh[ (df_brh['지점'].isnull()) & (df_brh.직할지점.isnull()) &  (df_brh.FC자동차규정 !='미선택') ]['FC자동차규정'].values[0]\n",
    "FC_GEN  = df_brh[ (df_brh['지점'].isnull()) & (df_brh.직할지점.isnull()) &  (df_brh.FC일반규정 !='미선택') ]['FC일반규정'].values[0]\n",
    "print(FC_LIFE)\n",
    "print(FC_LONG)\n",
    "print(FC_CAR)\n",
    "print(FC_GEN)\n",
    "\n",
    "''' 지점규정없으면 기본규정을 적용'''\n",
    "df_brh.loc[df_brh['FC생보규정']=='미선택','FC생보규정'] = FC_LIFE\n",
    "df_brh.loc[df_brh['FC장기규정']=='미선택','FC장기규정'] = FC_LONG\n",
    "df_brh.loc[df_brh['FC자동차규정']=='미선택','FC자동차규정'] = FC_CAR\n",
    "df_brh.loc[df_brh['FC일반규정']=='미선택','FC일반규정'] = FC_GEN\n",
    "df_brh.drop_duplicates(inplace=True)\n",
    "\n",
    "''' 지점규정과 join '''\n",
    "df_brh1 = df_brh[['지급년월','지점','직할지점','팀','FC생보규정','FC장기규정','FC자동차규정','FC일반규정','지사']].drop_duplicates()\n",
    "df = df_fc.merge(df_brh1, on=['지점','직할지점','팀'],suffixes=('','_brh'))\n",
    "\n",
    "''' FC규정이 없으면 지점규정을 적용 '''\n",
    "df['FC생보규정'] = [ y if x == '미선택' else x for (x,y) in zip(df['FC생보규정'], df['FC생보규정_brh']) ]\n",
    "df['FC장기규정'] = [ y if x == '미선택' else x for (x,y) in zip(df['FC장기규정'], df['FC장기규정_brh']) ]\n",
    "df['FC자동차규정'] = [ y if x == '미선택' else x for (x,y) in zip(df['FC자동차규정'], df['FC자동차규정_brh']) ]\n",
    "df['FC일반규정'] = [ y if x == '미선택' else x for (x,y) in zip(df['FC일반규정'], df['FC일반규정_brh']) ]\n",
    "\n",
    "cols = df.columns[~df.columns.str.contains('brh')]\n",
    "df = df[cols]\n",
    "df.to_clipboard()"
   ]
  },
  {
   "cell_type": "markdown",
   "id": "cfd0899a-4096-4c9b-9892-d6ef4841163c",
   "metadata": {},
   "source": [
    "### ibss 규정"
   ]
  },
  {
   "cell_type": "code",
   "execution_count": 4,
   "id": "2241da04-816c-404f-82d9-e210b9c29ada",
   "metadata": {},
   "outputs": [],
   "source": [
    "infile = 'D:/글로벌백업(180329)/05.GOMS수수료작업/IBSS규정적용.xlsx'\n",
    "df_ibss = pd.read_excel(infile,skiprows=1,dtype=object)\n",
    "APLY_YM = '202105'\n",
    "PAY_YM  = '202106'\n",
    "cols = '본부 지점 팀 담당 사원번호 생보_적용월 생보_규정 생보_OR 생보_환수율 생보_성과 장기_적용월 장기_규정 장기_OR 장기_환수율 장기_성과 자동차_적용월 자동차_규정 자동차_OR 자동차_성과 일반_적용월 일반_규정'\n",
    "cols = cols.split(' ')\n",
    "df_ibss.columns = cols\n",
    "\n",
    "cols1 = df_ibss.columns[~df_ibss.columns.str.contains('본부|OR|팀|성과')]\n",
    "df_ibss = df_ibss[cols1]\n",
    "df_ibss.fillna('',inplace=True)"
   ]
  },
  {
   "cell_type": "code",
   "execution_count": 5,
   "id": "262f6c2b-5dc8-48e2-946c-715bc3caa36b",
   "metadata": {},
   "outputs": [],
   "source": [
    "keys = ['지점','담당','사원번호']\n",
    "def create_df(df_ibss, 보종명,구분):\n",
    "    aply_nm1 = 보종명+'_적용월'\n",
    "    aply_nm2 = 보종명+'_규정'\n",
    "    df_tmp = df_ibss[df_ibss[aply_nm1] <= APLY_YM]\n",
    "    df_tmp = df_tmp[df_tmp[aply_nm2] !=''][keys + [aply_nm1,aply_nm2 ]]\n",
    "    df_tmp= df_tmp.groupby(keys).max().reset_index()\n",
    "    df_tmp['지급년월'] = PAY_YM\n",
    "    if 구분=='OR':\n",
    "        return df_tmp[df_tmp['담당']==''] \n",
    "    else:\n",
    "        return df_tmp\n",
    "\n",
    "''' 보종별 ibss규정 생성'''\n",
    "df_life = create_df(df_ibss,'생보','FC')\n",
    "df_long = create_df(df_ibss,'장기','FC')\n",
    "df_car  = create_df(df_ibss,'자동차','FC')\n",
    "df_gen  = create_df(df_ibss,'일반','FC')"
   ]
  },
  {
   "cell_type": "markdown",
   "id": "c1bf2ce7-bfe0-4e71-944d-7f0ff1cbdf99",
   "metadata": {},
   "source": [
    "### 비교"
   ]
  },
  {
   "cell_type": "code",
   "execution_count": 7,
   "id": "358c650f-6a22-475f-a902-67ff30aeff0c",
   "metadata": {},
   "outputs": [],
   "source": [
    "def create_compare(df, df2, 보종명,구분):\n",
    "    aply_nm1 = 구분+보종명+'규정'\n",
    "    aply_nm2 = 보종명+'_규정'\n",
    "    df_goms = df[['지급년월','지점','사원명','사원번호',aply_nm1]]\n",
    "    df_comp = df_goms.merge(df2[['사원번호',aply_nm2,'지급년월']],on=['사원번호','지급년월'],indicator=True)\n",
    "    return df_comp\n",
    "\n",
    "''' fc규정비교 : goms vs ibss '''\n",
    "df_comp_life = create_compare(df,df_life,'생보','FC')\n",
    "df_comp_long = create_compare(df,df_long,'장기','FC')\n",
    "df_comp_car  = create_compare(df,df_car,'자동차','FC')\n",
    "df_comp_gen  = create_compare(df,df_gen,'일반','FC')\n",
    "# df_comp_life.head()"
   ]
  },
  {
   "cell_type": "code",
   "execution_count": 10,
   "id": "bf2d6101-ea27-4f4c-a4a6-d2b356875fb2",
   "metadata": {},
   "outputs": [],
   "source": [
    "# df_comp_gen.to_clipboard()\n",
    "outfile = 'D:/글로벌백업(180329)/05.GOMS수수료작업/비교결과_FC.xlsx'\n",
    "with pd.ExcelWriter(outfile) as writer:\n",
    "        df_comp_life.to_excel(writer, sheet_name='생보', index=False)\n",
    "        df_comp_long.to_excel(writer, sheet_name=\"장기\", index =False)\n",
    "        df_comp_car.to_excel(writer, sheet_name=\"자동차\", index =False)\n",
    "        df_comp_gen.to_excel(writer, sheet_name=\"일반\", index =False)"
   ]
  },
  {
   "cell_type": "code",
   "execution_count": 8,
   "id": "ebb03c60-d45a-4098-8700-c4958d44d56c",
   "metadata": {},
   "outputs": [
    {
     "name": "stdout",
     "output_type": "stream",
     "text": [
      "대_OR_2020-02 자동차수수료(성과지점)\n",
      "대_OR_2020-02 자동차수수료(성과지점)\n"
     ]
    }
   ],
   "source": [
    "''' 지사규정 비교 '''\n",
    "# goms 지사\n",
    "df_tmp = df_brh.replace('미선택',np.nan)[['지급년월','지점','OR생보규정','OR장기규정','OR자동차규정','OR일반규정','지사']]\n",
    "df_tmp.dropna(subset=['OR생보규정','OR장기규정','OR자동차규정','OR일반규정'],how='all',inplace=True)\n",
    "df_or_goms = df_tmp[ df_tmp['지사'] != '직영'].drop_duplicates(subset=['지급년월','지점']).sort_values('지점')\n",
    "\n",
    "# ibss지사\n",
    "df_or_ibss_life = create_df(df_ibss,'생보','OR')\n",
    "df_or_ibss_long = create_df(df_ibss,'장기','OR')\n",
    "df_or_ibss_car  = create_df(df_ibss,'자동차','OR')\n",
    "df_or_ibss_gen  = create_df(df_ibss,'일반','OR')\n",
    "''' 지사 기본규정 '''\n",
    "OR_CAR = df_or_goms[ (df_or_goms['지점'].isnull()) &  (df_or_goms.OR자동차규정.notnull()) ] ['OR자동차규정'].values[0]\n",
    "OR_GEN = df_or_goms[ (df_or_goms['지점'].isnull()) &  (df_or_goms.OR일반규정.notnull()) ] ['OR자동차규정'].values[0]\n",
    "print(OR_CAR)\n",
    "print(OR_GEN)\n",
    "df_or_goms.loc[df_or_goms['OR자동차규정'].isnull(),'OR자동차규정'] = OR_CAR\n",
    "df_or_goms.loc[df_or_goms['OR일반규정'].isnull(),'OR일반규정'] = OR_GEN\n",
    "\n",
    "''' ibss규정과 join '''\n",
    "df_or_goms = df_or_goms.merge(df_or_ibss_life[['생보_규정','지점']],on='지점')\n",
    "df_or_goms = df_or_goms.merge(df_or_ibss_long[['장기_규정','지점']],on='지점')\n",
    "df_or_goms = df_or_goms.merge(df_or_ibss_car[['자동차_규정','지점']],on='지점')\n",
    "df_or_goms = df_or_goms.merge(df_or_ibss_gen[['일반_규정','지점']],on='지점')"
   ]
  },
  {
   "cell_type": "code",
   "execution_count": 9,
   "id": "cbcdaaaf-8e47-47a3-99bf-132b774a986d",
   "metadata": {},
   "outputs": [],
   "source": [
    "# df_or_goms.to_clipboard()\n",
    "outfile = 'D:/글로벌백업(180329)/05.GOMS수수료작업/비교결과_OR.xlsx'\n",
    "with pd.ExcelWriter(outfile) as writer:\n",
    "        df_or_goms.to_excel(writer, sheet_name='OR', index=False)"
   ]
  },
  {
   "cell_type": "code",
   "execution_count": null,
   "id": "2b567b9e-2c1d-4dd5-91d2-381ba12eff44",
   "metadata": {},
   "outputs": [],
   "source": []
  }
 ],
 "metadata": {
  "kernelspec": {
   "display_name": "Python 3",
   "language": "python",
   "name": "python3"
  },
  "language_info": {
   "codemirror_mode": {
    "name": "ipython",
    "version": 3
   },
   "file_extension": ".py",
   "mimetype": "text/x-python",
   "name": "python",
   "nbconvert_exporter": "python",
   "pygments_lexer": "ipython3",
   "version": "3.8.8"
  }
 },
 "nbformat": 4,
 "nbformat_minor": 5
}
