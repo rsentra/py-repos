{
 "cells": [
  {
   "attachments": {},
   "cell_type": "markdown",
   "metadata": {},
   "source": [
    "#### 메리츠화재 수수료 재산출"
   ]
  },
  {
   "cell_type": "code",
   "execution_count": 1,
   "metadata": {},
   "outputs": [],
   "source": [
    "import pandas as pd\n",
    "import shutil\n",
    "import os\n",
    "\n",
    "''' 실 디렉토리로 변경하여 사용~~~  '''\n",
    "ym  = '202305'\n",
    "dir0  = f'E:/글로벌백업(180329)/04.수수료작업/{ym}수수료/'\n",
    "fileO = f'{ym}_수입원장(G).xlsx'  #원본\n",
    "fileN = fileO.replace(\"(G)\",\"\")   #복사본\n",
    "if os.path.isfile(dir0+fileN):\n",
    "    os.remove(dir0+fileN)\n",
    "\n",
    "shutil.copyfile(dir0+fileO, dir0+fileN)\n",
    "\n",
    "DICT_RATE = {1:2.59, 7:0.12, 8:0.12, 9:0.12, 10:0.12, 11:0.12, 12:0.12}\n",
    "\n",
    "df = pd.read_excel(dir0+fileN, sheet_name=['전체','메리츠화재'],dtype={'지급년월': 'object','계약일자': 'object', #'납입회차':'int64',\n",
    "                '적용일':'object','FC코드':'object','납입기간':'object','영수일자':'object'})"
   ]
  },
  {
   "cell_type": "code",
   "execution_count": 2,
   "metadata": {},
   "outputs": [
    {
     "name": "stdout",
     "output_type": "stream",
     "text": [
      "메리츠건수 : 총 =  25046 대상=  213 비대상=  24833\n",
      "이전 수수료계=  71668175  신계약성과:  71663209  미유지환수:  0  장기모집:  4966\n",
      "이후 수수료계=  55692830  신계약성과:  55687864  미유지환수:  0  장기모집:  4966\n",
      "차이=  -15975345\n"
     ]
    }
   ],
   "source": [
    "df_m = df['메리츠화재']\n",
    "df_temp = df_m[(df_m['계약종류']=='장기') & (df_m['계약일자']>='20230201') & (df_m['1차년성적']!=0) & (df_m['수수료계']!=0)]\n",
    "df_src = df_m[~((df_m['계약종류']=='장기') & (df_m['계약일자']>='20230201') & (df_m['1차년성적']!=0) & (df_m['수수료계']!=0))]\n",
    "print('메리츠건수 : 총 = ', len(df_temp)+len(df_src), '대상= ', len(df_temp), '비대상= ', len(df_src))\n",
    "\n",
    "import math\n",
    "print('이전 수수료계= ', sum(df_temp['수수료계']),' 신계약성과: ',sum(df_temp['장기신계약성과']),' 미유지환수: ',sum(df_temp['미유지환수']),\n",
    "                            ' 장기모집: ',sum(df_temp['장기모집']))\n",
    "df_new = pd.DataFrame()\n",
    "\n",
    "for idx, row in df_temp.iterrows():\n",
    "    if row['계약일자']:\n",
    "        dd = row['계약일자']\n",
    "    else:\n",
    "        dd='00000000'\n",
    "    pay_seq = row['납입회차']\n",
    "    #     미유지환수 = 수수료계 => 환수\n",
    "    #     수수료계 = 장기모집 + 계약관리 +신계약성과\n",
    "    c_rate = DICT_RATE.get(pay_seq,0)  #해당회차 지급율\n",
    "    #--환수\n",
    "    if row['수수료계'] == row['미유지환수']:\n",
    "        new_val = math.floor(row['미유지환수'] * 259 / 333)      \n",
    "        row['미유지환수'] =  new_val\n",
    "    elif row['수수료계'] == row['장기모집'] + row['장기계약관리'] + row['장기신계약성과']: \n",
    "        new_val = math.floor(row['1차년성적'] * c_rate) #새로운 수수료 = 환산 * new지급율\n",
    "        if pay_seq==1:\n",
    "            row['장기신계약성과'] = new_val\n",
    "        else:\n",
    "            row['장기계약관리'] = new_val\n",
    "  \n",
    "    new_sum = sum(row[33:48])\n",
    "    \n",
    "    # print(idx,' ',pay_seq,' ', row['수수료계'],'=>',new_sum ,' ',row['장기모집'],' ',row['장기신계약성과'],' ', row['미유지환수'])\n",
    "    row['수수료계']   = new_sum\n",
    "    df_new= pd.concat([row.to_frame().T,df_new])\n",
    "    \n",
    "print('이후 수수료계= ', sum(df_new['수수료계']),' 신계약성과: ',sum(df_new['장기신계약성과']),' 미유지환수: ',sum(df_new['미유지환수']),\n",
    "                            ' 장기모집: ',sum(df_new['장기모집']))\n",
    "print('차이= ', sum(df_new['수수료계']) - sum(df_temp['수수료계']))"
   ]
  },
  {
   "cell_type": "code",
   "execution_count": 3,
   "metadata": {},
   "outputs": [
    {
     "name": "stdout",
     "output_type": "stream",
     "text": [
      "메리츠건수(작업후) : 총 =  25046\n",
      "전체시트(작업후) : 총 =  84765\n"
     ]
    }
   ],
   "source": [
    "df_wrt1 = pd.concat([df_src,df_new])\n",
    "print('메리츠건수(작업후) : 총 = ', len(df_wrt1))\n",
    "\n",
    "df_a = df['전체']\n",
    "df_src2 = df_a[df_a['보험사'] != '메리츠화재']\n",
    "df_wrt2 = pd.concat( [df_src2, df_wrt1.iloc[:,:33] ])\n",
    "\n",
    "with pd.ExcelWriter(dir0+fileN,mode=\"a\",engine='openpyxl',if_sheet_exists='replace') as writer:  \n",
    "    df_wrt1.to_excel(writer, sheet_name='메리츠화재',index=False)\n",
    "    df_wrt2.to_excel(writer, sheet_name='전체',index=False)\n",
    "    #서식지정 => 속도가 너무 느림 => 엑셀에서 작업할 것(아래 참조)\n",
    "    # workbook = writer.book\n",
    "    # worksheet = writer.sheets[\"메리츠화재\"]\n",
    "    # worksheet1 = writer.sheets[\"전체\"]\n",
    "    # format0 = workbook.add_format({'bold': True,'font_color':'red','font_size':10})\n",
    "    # format1 = workbook.add_format({'font_name': '맑은 고딕','font_size':9})\n",
    "    # worksheet.set_column(first_col=1, last_col=49, cell_format=format1)\n",
    "   \n",
    "    \n",
    "print('전체시트(작업후) : 총 = ', len(df_wrt2))"
   ]
  },
  {
   "attachments": {},
   "cell_type": "markdown",
   "metadata": {},
   "source": [
    "#### 위 작업종료후 수수료 작업util.xlsm의 원장서식복사를 실행할 것"
   ]
  }
 ],
 "metadata": {
  "kernelspec": {
   "display_name": "Python 3",
   "language": "python",
   "name": "python3"
  },
  "language_info": {
   "codemirror_mode": {
    "name": "ipython",
    "version": 3
   },
   "file_extension": ".py",
   "mimetype": "text/x-python",
   "name": "python",
   "nbconvert_exporter": "python",
   "pygments_lexer": "ipython3",
   "version": "3.8.16"
  }
 },
 "nbformat": 4,
 "nbformat_minor": 4
}
