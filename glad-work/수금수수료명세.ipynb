{
 "cells": [
  {
   "cell_type": "code",
   "execution_count": 1,
   "id": "b06daf2f-d41a-404b-863b-66cf15736381",
   "metadata": {},
   "outputs": [],
   "source": [
    "'''수입원장에서 수금수수료 명세를 추출합니다 '''\n",
    "import pandas as pd\n",
    "import GladUtil as gd\n",
    "\n",
    "ym  = '202504'\n",
    "# dir0  = f'E:/글로벌백업(180329)/04.수수료작업/{ym}수수료/'\n",
    "dir0 = f'e:/글로벌백업(180329)/04.수수료작업/{ym}수수료/'\n",
    "         \n",
    "file0 = f'{ym}_수입원장.xlsx'  #원본\n",
    "\n",
    "ff = dir0+file0\n",
    "df = pd.read_excel(ff, sheet_name='피스토스수금', header=3, usecols='a:l').iloc[:13]"
   ]
  },
  {
   "cell_type": "markdown",
   "id": "8e90b566-d0c1-4152-bf92-e10903d783b9",
   "metadata": {},
   "source": [
    "### 가온 수금명세 추출"
   ]
  },
  {
   "cell_type": "code",
   "execution_count": 2,
   "id": "fd72e492-95d8-42e4-9548-21808e5ae311",
   "metadata": {},
   "outputs": [
    {
     "name": "stdout",
     "output_type": "stream",
     "text": [
      "*한화,흥국만 제목이 '장기고객관리', 기타회사는 모두 '수금'이어야 맞음\n",
      "AIG손보 : 수금  : processing\n",
      "DB손보 : 수금관리  : processing\n",
      "MG손보 : 수금  : processing\n",
      "흥국화재 : 장기고객관리  : processing\n",
      "현대해상 : 수금  : processing\n",
      "한화손보 : 장기고객관리  : processing\n",
      "KB손보 : 수금  : processing\n",
      "롯데손보 : 수금  : processing\n",
      "메리츠화재 : 장기수금  : processing\n",
      "농협손보 : 수금  : processing\n",
      "삼성화재 : 장기수금  : processing\n",
      "하나손보 : 수금수수료  : processing\n",
      "completed... 수금합계=  2041820.75\n"
     ]
    }
   ],
   "source": [
    "brh = '글래드가온'  #지점\n",
    "ins = '장기'        #보종\n",
    "fc_code = [\"GLD803173002\", \"GLD033143019\", \"GLD803141001\", \"GLD803143004\",\n",
    "           \"GLD033143015\", \"GLD033143010\", \"GLD803153002\"]\n",
    "col = ['보험사','증권번호','계약종류','지점','사원번호','사원명','FC코드','계약일자',\n",
    "       '계약자명','납입회차','상태','보험료','영수일자']\n",
    "df_all = pd.DataFrame()\n",
    "\n",
    "print(\"*한화,흥국만 제목이 '장기고객관리', 기타회사는 모두 '수금'이어야 맞음\")\n",
    "for idx, row in df[['보험사','수금 값열','수금값 제목']].iterrows():\n",
    "    cols = col + [ row['수금값 제목'] ]\n",
    "    if row['보험사'] !='계':\n",
    "        df_temp = pd.DataFrame()\n",
    "        print(row['보험사'], ':', row['수금값 제목'], \" : processing\") \n",
    "        df_temp = (pd.read_excel(ff,sheet_name=row['보험사'], usecols=cols, dtype={'증권번호': 'object','계약일자': 'object'})\n",
    "                  .rename(columns={row['수금값 제목']:'총괄수금수수료'}))\n",
    "        if brh:\n",
    "            df_temp = df_temp[(df_temp['지점']==brh) & (df_temp['계약종류']==ins)]\n",
    "        df_all = pd.concat([df_all, df_temp])\n",
    "        \n",
    "df_all['지사수금수수료']= df_all['총괄수금수수료'] * .95\n",
    "\n",
    "df_all['피스토스'] = False\n",
    "cond = (df_all['사원번호'].isin( fc_code)) & (df_all['계약일자']<'20181101')\n",
    "df_all.loc[cond,'피스토스'] = True #피스토스 모집건\n",
    "cond = df_all['피스토스']== True\n",
    "df_pistos = df_all[df_all['피스토스']== True] # 피스토스 모집건 명세 (정산용df로 복사)\n",
    "\n",
    "#요약\n",
    "df_all.loc[cond, '지사수금수수료'] = 0 #피스토스 모집건은 수금 미지급\n",
    "df_sum = pd.pivot_table(df_all,index=[\"보험사\"],\n",
    "               values=[\"지사수금수수료\"],\n",
    "               aggfunc=sum,fill_value=0,margins=True, margins_name=\"Total\").reset_index()\n",
    "\n",
    "file0 = f'{ym}_글래드가온 수금수수료명세.xlsx'\n",
    "with pd.ExcelWriter(dir0+file0,mode=\"w\",engine='openpyxl') as writer:  \n",
    "    df_sum.to_excel(writer, sheet_name='요약',index=False)\n",
    "    df_all.to_excel(writer, sheet_name='수금명세',index=False)\n",
    "print(\"completed... 수금합계= \", df_all['지사수금수수료'].sum())"
   ]
  },
  {
   "cell_type": "markdown",
   "id": "3c6a6c99-4033-47f7-a0c9-dc9fda24f330",
   "metadata": {},
   "source": [
    "#### 피스토스 수금정산표"
   ]
  },
  {
   "cell_type": "code",
   "execution_count": 3,
   "id": "66ecca45-db4d-4e43-8cac-42c4a60f6c84",
   "metadata": {},
   "outputs": [
    {
     "name": "stdout",
     "output_type": "stream",
     "text": [
      "피스토스_수금 = 4,724,347\n",
      "피스토스_수금2= 1,063,105\n",
      "피스to가온_수금 = 728,416\n",
      "피스to가온_수금2= 273,591\n",
      "202504 월 최종정산금=  5,051,754\n",
      ">>> 피스토스 수금 정산금 파일 생성 완료\n"
     ]
    }
   ],
   "source": [
    "## 다른방법.. openpyxl 사용\n",
    "피스토스_수금 = df.iloc[12,11] * 0.95  #수금전체\n",
    "피스토스_수금2 = df.iloc[12,9] * 0.95  #수금(공동정산대상)\n",
    "print('피스토스_수금 =', '{:,.0f}'.format(피스토스_수금))\n",
    "print('피스토스_수금2=', '{:,.0f}'.format(피스토스_수금2))\n",
    "\n",
    "#피스->가온 이동사원의 수금(all)\n",
    "피스to가온_수금 = df_pistos['지사수금수수료'].sum()\n",
    "#피스->가온 이동사원의 수금(공동정산대상)\n",
    "피스to가온_수금2= df_pistos[(df_pistos['계약일자']>='20140101') & (df_pistos['계약일자']<'20161201')]['지사수금수수료'].sum()\n",
    "print('피스to가온_수금 =', '{:,.0f}'.format( 피스to가온_수금))\n",
    "print('피스to가온_수금2=', '{:,.0f}'.format( 피스to가온_수금2))\n",
    "\n",
    "피스토스_수금정산금 = 피스토스_수금 + 피스to가온_수금 - ( 피스토스_수금2 * 0.3 + 피스to가온_수금2 * 0.3)\n",
    "print(ym,'월','최종정산금= ', '{:,.0f}'.format(피스토스_수금정산금))\n",
    "#정산 결과 파일 생성-------------------\n",
    "file0 = f'{ym}_글래드피스토스정산금.xlsx'\n",
    "dat = {'금액': [피스토스_수금,피스to가온_수금,피스토스_수금2,피스to가온_수금2],\n",
    "     '글래드%': [100, 100, -30,  -30]}\n",
    "index = ['피스토스수금','가온수금','피스토스(14~16.11)의30%','가온(14~16.11)의30%']\n",
    "df_res = pd.DataFrame(dat, index)\n",
    "\n",
    "df_res['정산지급액'] = df_res['금액'] * df_res['글래드%'] / 100\n",
    "df_res.loc['Total',['금액','글래드%','정산지급액']] =df_res['금액'].sum(),0,df_res['정산지급액'].sum()\n",
    "\n",
    "file0 = f'{ym}_글래드피스토스정산금.xlsx'\n",
    "df_res.to_excel(dir0+file0)\n",
    "\n",
    "# 미사용 -- openpxl\n",
    "# import openpyxl\n",
    "# wb = openpyxl.Workbook()\n",
    "# ws = wb.active\n",
    "# ws.cell(1,1).value = 'A. 수금수수료 합계'\n",
    "# ws.cell(1,2).value = 피스토스_수금\n",
    "# ws.cell(2,1).value = 'B. 수금수수료 합계(2014~2016.11)'\n",
    "# ws.cell(2,2).value = 피스토스_수금2\n",
    "# ws.cell(3,1).value = 'C. 가온 이동사원 수금 합계'\n",
    "# ws.cell(3,2).value = 피스to가온_수금\n",
    "# ws.cell(4,1).value = 'D. 가온 이동사원 수금 합계(2014~2016.11)'\n",
    "# ws.cell(4,2).value = 피스to가온_수금2\n",
    "# ws.cell(5,1).value = \"E. 최종정산금= A + C - (B + D)*30%\"\n",
    "# ws.cell(5,2).value = 피스토스_수금정산금\n",
    "# wb.save(dir0+file0)\n",
    "\n",
    "print(\">>> 피스토스 수금 정산금 파일 생성 완료\")"
   ]
  },
  {
   "cell_type": "code",
   "execution_count": null,
   "id": "c21c5953-2613-44dd-8282-4c3abefa6378",
   "metadata": {},
   "outputs": [],
   "source": []
  },
  {
   "cell_type": "markdown",
   "id": "648e94df-2287-4c60-9407-ed49be163c44",
   "metadata": {},
   "source": [
    "#### 피스토스 사원 수금명세 추출"
   ]
  },
  {
   "cell_type": "code",
   "execution_count": 4,
   "id": "fe95f265-2917-4ef9-883a-f3b592333f0b",
   "metadata": {},
   "outputs": [
    {
     "name": "stdout",
     "output_type": "stream",
     "text": [
      "AIG손보 : 수금  : processing\n",
      "DB손보 : 수금관리  : processing\n",
      "MG손보 : 수금  : processing\n",
      "흥국화재 : 장기고객관리  : processing\n",
      "현대해상 : 수금  : processing\n",
      "한화손보 : 장기고객관리  : processing\n",
      "KB손보 : 수금  : processing\n",
      "롯데손보 : 수금  : processing\n",
      "메리츠화재 : 장기수금  : processing\n",
      "농협손보 : 수금  : processing\n",
      "삼성화재 : 장기수금  : processing\n",
      "하나손보 : 수금수수료  : processing\n",
      "end of job\n"
     ]
    }
   ],
   "source": [
    "brh = '글래드피스토스'  #지점\n",
    "ins = '장기'           #보종\n",
    "fc_name = [\"고경숙\",\"홍미숙\"]\n",
    "\n",
    "col = ['보험사','증권번호','계약종류','지점','사원번호','사원명','FC코드','계약일자','계약자명']\n",
    "df_all = pd.DataFrame()\n",
    "for idx, row in df[['보험사','수금 값열','수금값 제목']].iterrows():\n",
    "    cols = col + [ row['수금값 제목'] ]\n",
    "    if row['보험사'] !='계':\n",
    "        print(row['보험사'], ':', row['수금값 제목'], \" : processing\") \n",
    "        df_temp = pd.DataFrame()\n",
    "        df_temp = (pd.read_excel(ff,sheet_name=row['보험사'], usecols=cols, dtype={'증권번호': 'object','계약일자': 'object'})\n",
    "                  .rename(columns={row['수금값 제목']:'총괄수금수수료'}))\n",
    "        if brh:\n",
    "            df_temp = df_temp[df_temp['지점']==brh]\n",
    "        if ins:    \n",
    "            df_temp = df_temp[df_temp['계약종류']==ins]\n",
    "        df_all = pd.concat([df_all, df_temp])\n",
    "df_all['수금수수료']= df_all['총괄수금수수료'] * .95\n",
    "\n",
    "# 피스토스 수금은 95%값\n",
    "df_wrt1 = df_all.drop(columns='총괄수금수수료')\n",
    "# 사원수금은 100%값을 추출함 : 정산 오류가 있었음\n",
    "# df_wrt2 = (df_all.query(\"계약일자 >= '20200801'  and  사원명 in (@fc_name) \")\n",
    "#             .drop(columns='수금수수료')\n",
    "#             .rename(columns={'총괄수금수수료':'수금수수료'}))\n",
    "df_wrt2 = df_all.query(\"계약일자 >= '20200801'  and  사원명 in (@fc_name) \")\n",
    "df_sum = pd.pivot_table(df_all, index='사원명',\n",
    "               values=[\"총괄수금수수료\",\"수금수수료\"],\n",
    "               aggfunc=sum,fill_value=0,margins=True, margins_name=\"Total\").reset_index()\n",
    "df_sum2 = pd.pivot_table(df_wrt2, index='사원명',\n",
    "               values=[\"총괄수금수수료\",\"수금수수료\"],\n",
    "               aggfunc=sum,fill_value=0,margins=True, margins_name=\"Total\").reset_index()\n",
    "\n",
    "file0 = f'{ym}_수금수수료명세(피스토스).xlsx'\n",
    "with pd.ExcelWriter(dir0+file0, mode=\"w\", engine='openpyxl') as writer:  \n",
    "    df_sum.to_excel(writer, sheet_name='요약',index=False)\n",
    "    df_wrt1.to_excel(writer, sheet_name='피스토스',index=False)\n",
    "    df_sum2.to_excel(writer, sheet_name='요약(고경숙,홍미숙)',index=False)\n",
    "    df_wrt2.to_excel(writer, sheet_name='사원(고경숙,홍미숙)',index=False)\n",
    "    \n",
    "print('end of job')"
   ]
  },
  {
   "cell_type": "code",
   "execution_count": null,
   "id": "2c00eeaa-6279-4263-98f6-352ae582642d",
   "metadata": {},
   "outputs": [],
   "source": [
    "# pd.pivot_table?\n",
    "df_sum = pd.pivot_table(df_all, index='지점',columns=['사원명'],\n",
    "               values=[\"총괄수금수수료\",\"수금수수료\"],\n",
    "               aggfunc=sum,fill_value=0,margins=True, margins_name=\"Total\").reset_index()\n",
    "df_sum.swaplevel(axis=1).sort_index(axis=1,ascending=[True,False])"
   ]
  },
  {
   "cell_type": "code",
   "execution_count": 22,
   "id": "697ce95b-aca0-4cbb-9011-cb4c60e86ac7",
   "metadata": {},
   "outputs": [
    {
     "data": {
      "text/html": [
       "<div>\n",
       "<style scoped>\n",
       "    .dataframe tbody tr th:only-of-type {\n",
       "        vertical-align: middle;\n",
       "    }\n",
       "\n",
       "    .dataframe tbody tr th {\n",
       "        vertical-align: top;\n",
       "    }\n",
       "\n",
       "    .dataframe thead th {\n",
       "        text-align: right;\n",
       "    }\n",
       "</style>\n",
       "<table border=\"1\" class=\"dataframe\">\n",
       "  <thead>\n",
       "    <tr style=\"text-align: right;\">\n",
       "      <th></th>\n",
       "      <th>사원명</th>\n",
       "      <th>수금수수료</th>\n",
       "      <th>총괄수금수수료</th>\n",
       "    </tr>\n",
       "  </thead>\n",
       "  <tbody>\n",
       "    <tr>\n",
       "      <th>0</th>\n",
       "      <td>고경숙</td>\n",
       "      <td>152226.1</td>\n",
       "      <td>160238</td>\n",
       "    </tr>\n",
       "    <tr>\n",
       "      <th>1</th>\n",
       "      <td>홍미숙</td>\n",
       "      <td>166084.7</td>\n",
       "      <td>174826</td>\n",
       "    </tr>\n",
       "    <tr>\n",
       "      <th>2</th>\n",
       "      <td>Total</td>\n",
       "      <td>318310.8</td>\n",
       "      <td>335064</td>\n",
       "    </tr>\n",
       "  </tbody>\n",
       "</table>\n",
       "</div>"
      ],
      "text/plain": [
       "     사원명     수금수수료  총괄수금수수료\n",
       "0    고경숙  152226.1   160238\n",
       "1    홍미숙  166084.7   174826\n",
       "2  Total  318310.8   335064"
      ]
     },
     "execution_count": 22,
     "metadata": {},
     "output_type": "execute_result"
    }
   ],
   "source": [
    "df_sum2 = pd.pivot_table(df_wrt2, index='사원명',\n",
    "               values=[\"총괄수금수수료\",\"수금수수료\"],\n",
    "               aggfunc=sum,fill_value=0,margins=True, margins_name=\"Total\").reset_index()\n",
    "df_sum2"
   ]
  }
 ],
 "metadata": {
  "kernelspec": {
   "display_name": "Python 3 (ipykernel)",
   "language": "python",
   "name": "python3"
  },
  "language_info": {
   "codemirror_mode": {
    "name": "ipython",
    "version": 3
   },
   "file_extension": ".py",
   "mimetype": "text/x-python",
   "name": "python",
   "nbconvert_exporter": "python",
   "pygments_lexer": "ipython3",
   "version": "3.10.9"
  }
 },
 "nbformat": 4,
 "nbformat_minor": 5
}
