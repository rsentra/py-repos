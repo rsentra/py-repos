{
 "cells": [
  {
   "cell_type": "code",
   "execution_count": null,
   "id": "b06daf2f-d41a-404b-863b-66cf15736381",
   "metadata": {},
   "outputs": [],
   "source": [
    "'''수입원장에서 피스토스 수금수수료 명세를 추출합니다 '''\n",
    "import pandas as pd\n",
    "import GladUtil as gd\n",
    "\n",
    "ym  = '202401'\n",
    "# dir0  = f'E:/글로벌백업(180329)/04.수수료작업/{ym}수수료/'\n",
    "dir0 = f'd:/글로벌백업(180329)/04.수수료작업/{ym}수수료/'\n",
    "         \n",
    "file0 = f'{ym}_수입원장.xlsx'  #원본\n",
    "brh = '글래드피스토스'  #지점\n",
    "ins = '장기'           #보종\n",
    "fc_name = [\"고경숙\",\"홍미숙\"]\n",
    "\n",
    "ff = dir0+file0\n",
    "df = pd.read_excel(ff, sheet_name='피스토스수금', header=3, usecols='a:l').iloc[:13]"
   ]
  },
  {
   "cell_type": "code",
   "execution_count": null,
   "id": "fe95f265-2917-4ef9-883a-f3b592333f0b",
   "metadata": {},
   "outputs": [],
   "source": [
    "col = ['보험사','증권번호','계약종류','지점','사원번호','사원명','FC코드','계약일자','계약자명']\n",
    "df_all = pd.DataFrame()\n",
    "for idx, row in df[['보험사','수금 값열','수금값 제목']].iterrows():\n",
    "    cols = col + [ row['수금값 제목'] ]\n",
    "    if row['보험사'] !='계':\n",
    "        df_temp = (pd.read_excel(ff,sheet_name=row['보험사'], usecols=cols, dtype={'증권번호': 'object','계약일자': 'object'})\n",
    "                  .rename(columns={row['수금값 제목']:'총괄수금수수료'}))\n",
    "        if brh:\n",
    "            df_temp = df_temp[df_temp['지점']==brh]\n",
    "        if ins:    \n",
    "            df_temp = df_temp[df_temp['계약종류']==ins]\n",
    "        df_all = pd.concat([df_all, df_temp])\n",
    "df_all['수금수수료']= df_all['총괄수금수수료'] * .95\n",
    "\n",
    "# 피스토스 수금은 95%값\n",
    "df_wrt1 = df_all.drop(columns='총괄수금수수료')\n",
    "# 사원수금은 100%값을 추출함 : 정산 오류가 있었음\n",
    "df_wrt2 = (df_all.query(\"계약일자 >= '20200801'  and  사원명 in (@fc_name) \")\n",
    "            .drop(columns='수금수수료')\n",
    "            .rename(columns={'총괄수금수수료':'수금수수료'}))\n",
    "\n",
    "file0 = f'{ym}_수금수수료명세(피스토스).xlsx'\n",
    "with pd.ExcelWriter(dir0+file0,mode=\"w\",engine='openpyxl') as writer:  \n",
    "    df_wrt1.to_excel(writer, sheet_name='피스토스',index=False)\n",
    "    df_wrt2.to_excel(writer, sheet_name='사원(고경숙,홍미숙)',index=False)"
   ]
  }
 ],
 "metadata": {
  "kernelspec": {
   "display_name": "Python 3",
   "language": "python",
   "name": "python3"
  },
  "language_info": {
   "codemirror_mode": {
    "name": "ipython",
    "version": 3
   },
   "file_extension": ".py",
   "mimetype": "text/x-python",
   "name": "python",
   "nbconvert_exporter": "python",
   "pygments_lexer": "ipython3",
   "version": "3.8.8"
  }
 },
 "nbformat": 4,
 "nbformat_minor": 5
}
