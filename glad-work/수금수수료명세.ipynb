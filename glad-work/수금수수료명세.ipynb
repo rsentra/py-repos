{
 "cells": [
  {
   "cell_type": "code",
   "execution_count": 14,
   "id": "b06daf2f-d41a-404b-863b-66cf15736381",
   "metadata": {},
   "outputs": [],
   "source": [
    "'''수입원장에서 피스토스 수금수수료 명세를 추출합니다 '''\n",
    "import pandas as pd\n",
    "import GladUtil as gd\n",
    "\n",
    "ym  = '202409'\n",
    "# dir0  = f'E:/글로벌백업(180329)/04.수수료작업/{ym}수수료/'\n",
    "# dir0 = f'd:/글로벌백업(180329)/04.수수료작업/{ym}수수료/'\n",
    "dir0 = f'N:/. Personal_folder/내 문서/GLAD/글로벌백업(180329)/04.수수료작업/{ym}수수료/'\n",
    "         \n",
    "file0 = f'{ym}_수입원장.xlsx'  #원본\n"
   ]
  },
  {
   "cell_type": "code",
   "execution_count": 15,
   "id": "442a4a20",
   "metadata": {},
   "outputs": [],
   "source": [
    "# 가온 수금명세 추출\n",
    "brh = '글래드가온'  #지점\n",
    "ff = dir0+file0\n",
    "#피스토스 모집건 제외 조건: 사번 일치 + 20181101 이전계약\n",
    "fc_code = ['GLD803173002','GLD033143019','GLD803141001','GLD803143004','GLD033143015','GLD033143010','GLD803153002']\n",
    "c_date='20181101'\n",
    "\n",
    "df = pd.read_excel(ff, sheet_name='피스토스수금', header=3, usecols='a:c').iloc[:12]\n",
    "\n",
    "df_all = pd.DataFrame()\n",
    "for i, row in df.iterrows():\n",
    "    co_name = row['보험사']\n",
    "    col = row['수금 값열']\n",
    "    col_name = row['수금값 제목']\n",
    "    # print(co_name, col)\n",
    "    if co_name != '계':\n",
    "       df_list = pd.read_excel(ff, sheet_name=co_name, usecols=f'a:ah,{col}', dtype={'계약일자':'object'})\n",
    "       df_list = df_list[(df_list['지점'] == brh) & (df_list[col_name] != 0)].copy()\n",
    "       df_list = df_list[~((df_list['사원번호'].isin(fc_code)) & (df_list['계약일자']<c_date))].copy().rename(columns={col_name:'수금수수료'})\n",
    "       df_all = pd.concat([df_all, df_list])\n",
    "       print(co_name, df_list['수수료계'].sum(), df_list['수금수수료'].sum())\n",
    "\n",
    "df_sum = df_all.groupby(['보험사'])['수금수수료'].sum().reset_index()\n",
    "df_sum['지급액'] = round(df_sum['수금수수료'] * 0.95,0)\n",
    "df_all.drop(columns='수수료계',inplace=True)\n",
    "\n",
    "file0 = f'{ym}_{brh}_수금수수료명세.xlsx'\n",
    "with pd.ExcelWriter(dir0+file0,mode=\"w\",engine='openpyxl') as writer:  \n",
    "    df_sum.to_excel(writer, sheet_name='수금요약',index=False)\n",
    "    df_all.to_excel(writer, sheet_name='수금명세',index=False)\n",
    "\n",
    "print('end')\n"
   ]
  },
  {
   "cell_type": "code",
   "execution_count": null,
   "id": "fe95f265-2917-4ef9-883a-f3b592333f0b",
   "metadata": {},
   "outputs": [],
   "source": [
    "# 피스토스 수금명세 추출\n",
    "brh = '글래드피스토스'  #지점\n",
    "ins = '장기'           #보종\n",
    "fc_name = [\"고경숙\",\"홍미숙\"]\n",
    "\n",
    "ff = dir0+file0\n",
    "df = pd.read_excel(ff, sheet_name='피스토스수금', header=3, usecols='a:l').iloc[:13]\n",
    "\n",
    "col = ['보험사','증권번호','계약종류','지점','사원번호','사원명','FC코드','계약일자','계약자명']\n",
    "df_all = pd.DataFrame()\n",
    "for idx, row in df[['보험사','수금 값열','수금값 제목']].iterrows():\n",
    "    cols = col + [ row['수금값 제목'] ]\n",
    "    if row['보험사'] !='계':\n",
    "        df_temp = (pd.read_excel(ff,sheet_name=row['보험사'], usecols=cols, dtype={'증권번호': 'object','계약일자': 'object'})\n",
    "                  .rename(columns={row['수금값 제목']:'총괄수금수수료'}))\n",
    "        if brh:\n",
    "            df_temp = df_temp[df_temp['지점']==brh]\n",
    "        if ins:    \n",
    "            df_temp = df_temp[df_temp['계약종류']==ins]\n",
    "        df_all = pd.concat([df_all, df_temp])\n",
    "df_all['수금수수료']= df_all['총괄수금수수료'] * .95\n",
    "\n",
    "# 피스토스 수금은 95%값\n",
    "df_wrt1 = df_all.drop(columns='총괄수금수수료')\n",
    "# 사원수금은 100%값을 추출함 : 정산 오류가 있었음\n",
    "df_wrt2 = (df_all.query(\"계약일자 >= '20200801'  and  사원명 in (@fc_name) \")\n",
    "            .drop(columns='수금수수료')\n",
    "            .rename(columns={'총괄수금수수료':'수금수수료'}))\n",
    "\n",
    "file0 = f'{ym}_수금수수료명세(피스토스).xlsx'\n",
    "with pd.ExcelWriter(dir0+file0,mode=\"w\",engine='openpyxl') as writer:  \n",
    "    df_wrt1.to_excel(writer, sheet_name='피스토스',index=False)\n",
    "    df_wrt2.to_excel(writer, sheet_name='사원(고경숙,홍미숙)',index=False)"
   ]
  }
 ],
 "metadata": {
  "kernelspec": {
   "display_name": "base",
   "language": "python",
   "name": "base"
  },
  "language_info": {
   "codemirror_mode": {
    "name": "ipython",
    "version": 3
   },
   "file_extension": ".py",
   "mimetype": "text/x-python",
   "name": "python",
   "nbconvert_exporter": "python",
   "pygments_lexer": "ipython3",
   "version": "3.8.8"
  }
 },
 "nbformat": 4,
 "nbformat_minor": 5
}
