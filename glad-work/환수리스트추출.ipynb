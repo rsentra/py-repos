{
 "cells": [
  {
   "cell_type": "code",
   "execution_count": null,
   "id": "a696b257-68fd-403a-82eb-2d3d0f82446d",
   "metadata": {},
   "outputs": [],
   "source": [
    "import pandas as pd\n",
    "import GladUtil as gd\n",
    "import os\n",
    "import duckdb\n",
    "path ='e:/글로벌백업(180329)/04.수수료작업/'\n",
    "years = ['2021','2022','2023','2024']\n",
    "ym_list = [ i+str(j+1).rjust(2,'0') for i in years for j in range(12)]\n",
    "#작업대상 기간 \n",
    "ym_list = [ i for i in ym_list if i >= '202104' and i <'202404']\n",
    "\n",
    "#파일목록 추출\n",
    "file_list = []\n",
    "for i in ym_list:\n",
    "    path_name = f'{path}{i}수수료/'\n",
    "    f_list = os.listdir(path_name)\n",
    "    file_list = file_list + [ path_name + file for file in f_list if file.startswith(\"마감실적리스트\") and\n",
    "                 ('장기' in file or '생보' in file or '생명' in file)]\n",
    "#미유지건 수수료 명세    \n",
    "df_comm = pd.DataFrame()\n",
    "cols = ['지점','담당','보험회사','정산월구분','월납보험료','수수료S','구분','증권번호','영수일','납입회차']\n",
    "for full_name in file_list:\n",
    "    # print(full_name)\n",
    "    jong = '장기' if '장기' in full_name else '생보'\n",
    "    df2 = pd.read_excel(full_name,header=0,usecols=cols, dtype={'증권번호':object,'정산월구분':object}) \n",
    "    df2 = df2[~df2['구분'].str.contains('초회|계속')]\n",
    "    df2['보종'] = jong\n",
    "    df_comm = pd.concat([df_comm,df2])\n",
    "print('end of file list')\n",
    "\n",
    "df_comm['정산월구분'] = df_comm['정산월구분'].str.replace('-','')"
   ]
  },
  {
   "cell_type": "code",
   "execution_count": 179,
   "id": "6e3b4fc0-c57e-4bd9-9a95-1baef4c52cff",
   "metadata": {},
   "outputs": [],
   "source": [
    "# 증권번호 기준으로 제일 늦게 환수가 발생한 건만 남김\n",
    "df_temp = df_comm[df_comm['수수료S'] <= 0].sort_values(['증권번호','영수일'])\n",
    "df_comm2 = df_temp.drop_duplicates(['증권번호'], keep='last')  #증번중복은 마지막 건만 추출"
   ]
  },
  {
   "cell_type": "code",
   "execution_count": 130,
   "id": "9cf8c638-5b6e-47a1-9af7-db4bbc2a3956",
   "metadata": {},
   "outputs": [
    {
     "name": "stderr",
     "output_type": "stream",
     "text": [
      "C:\\Users\\admin\\anaconda3\\lib\\site-packages\\openpyxl\\styles\\stylesheet.py:226: UserWarning: Workbook contains no default style, apply openpyxl's default\n",
      "  warn(\"Workbook contains no default style, apply openpyxl's default\")\n"
     ]
    }
   ],
   "source": [
    "'''금김원 제출대상 목록'''\n",
    "path ='e:/글로벌백업(180329)/금감원/GLAD.xlsx'\n",
    "df_list = pd.read_excel(path,header=0,dtype={'증권번호':object}) "
   ]
  },
  {
   "cell_type": "code",
   "execution_count": 186,
   "id": "8f853c8e-9ff9-4049-850c-2c3137eaece2",
   "metadata": {},
   "outputs": [],
   "source": [
    "# join \n",
    "query_string = f'''\n",
    "     SELECT a.*, b.보험회사,left(b.정산월구분,6) as 정산월, b.월납보험료, b.수수료S, b.구분, b.영수일, b.보종\n",
    "          from df_list a LEFT OUTER JOIN df_comm2 b\n",
    "            ON a.증권번호 = b.증권번호 '''\n",
    "df_result = duckdb.query(query_string).to_df()\n",
    "df_result.to_clipboard()"
   ]
  },
  {
   "cell_type": "code",
   "execution_count": 187,
   "id": "8af41317-4952-4924-a247-26f5aac44f4b",
   "metadata": {},
   "outputs": [],
   "source": []
  },
  {
   "cell_type": "markdown",
   "id": "3dbd93e7-7427-4882-92b5-19892c3e96b1",
   "metadata": {},
   "source": [
    "## 이하는 확인용"
   ]
  },
  {
   "cell_type": "code",
   "execution_count": 197,
   "id": "faacc87f-e7f2-4405-8503-9a7b7ab517b6",
   "metadata": {},
   "outputs": [
    {
     "data": {
      "text/html": [
       "<div>\n",
       "<style scoped>\n",
       "    .dataframe tbody tr th:only-of-type {\n",
       "        vertical-align: middle;\n",
       "    }\n",
       "\n",
       "    .dataframe tbody tr th {\n",
       "        vertical-align: top;\n",
       "    }\n",
       "\n",
       "    .dataframe thead th {\n",
       "        text-align: right;\n",
       "    }\n",
       "</style>\n",
       "<table border=\"1\" class=\"dataframe\">\n",
       "  <thead>\n",
       "    <tr style=\"text-align: right;\">\n",
       "      <th></th>\n",
       "      <th>지점</th>\n",
       "      <th>담당</th>\n",
       "      <th>보험회사</th>\n",
       "      <th>정산월구분</th>\n",
       "      <th>월납보험료</th>\n",
       "      <th>수수료S</th>\n",
       "      <th>구분</th>\n",
       "      <th>납입회차</th>\n",
       "      <th>영수일</th>\n",
       "      <th>증권번호</th>\n",
       "      <th>보종</th>\n",
       "    </tr>\n",
       "  </thead>\n",
       "  <tbody>\n",
       "    <tr>\n",
       "      <th>1728</th>\n",
       "      <td>글래드아이리치</td>\n",
       "      <td>이미경</td>\n",
       "      <td>흥국화재</td>\n",
       "      <td>NaN</td>\n",
       "      <td>-59999</td>\n",
       "      <td>-20748</td>\n",
       "      <td>실효</td>\n",
       "      <td>1</td>\n",
       "      <td>2021-10-01</td>\n",
       "      <td>42145013090000</td>\n",
       "      <td>장기</td>\n",
       "    </tr>\n",
       "  </tbody>\n",
       "</table>\n",
       "</div>"
      ],
      "text/plain": [
       "           지점   담당  보험회사 정산월구분  월납보험료   수수료S  구분  납입회차         영수일  \\\n",
       "1728  글래드아이리치  이미경  흥국화재   NaN -59999 -20748  실효     1  2021-10-01   \n",
       "\n",
       "                증권번호  보종  \n",
       "1728  42145013090000  장기  "
      ]
     },
     "execution_count": 197,
     "metadata": {},
     "output_type": "execute_result"
    }
   ],
   "source": [
    "pl_no = '42145013090000'\n",
    "df_comm[df_comm['증권번호']==pl_no]\n",
    "# df_temp[df_temp.증권번호==pl_no]\n",
    "# df_result[df_result.증권번호==pl_no]\n",
    "# df_comm2[df_comm2.증권번호==pl_no]"
   ]
  },
  {
   "cell_type": "code",
   "execution_count": 196,
   "id": "027c10e6-cf26-4a1b-91d5-2a343b6135c0",
   "metadata": {},
   "outputs": [
    {
     "data": {
      "text/html": [
       "<div>\n",
       "<style scoped>\n",
       "    .dataframe tbody tr th:only-of-type {\n",
       "        vertical-align: middle;\n",
       "    }\n",
       "\n",
       "    .dataframe tbody tr th {\n",
       "        vertical-align: top;\n",
       "    }\n",
       "\n",
       "    .dataframe thead th {\n",
       "        text-align: right;\n",
       "    }\n",
       "</style>\n",
       "<table border=\"1\" class=\"dataframe\">\n",
       "  <thead>\n",
       "    <tr style=\"text-align: right;\">\n",
       "      <th></th>\n",
       "      <th>지점</th>\n",
       "      <th>담당</th>\n",
       "      <th>보험회사</th>\n",
       "      <th>정산월구분</th>\n",
       "      <th>월납보험료</th>\n",
       "      <th>수수료S</th>\n",
       "      <th>구분</th>\n",
       "      <th>납입회차</th>\n",
       "      <th>영수일</th>\n",
       "      <th>증권번호</th>\n",
       "      <th>보종</th>\n",
       "    </tr>\n",
       "  </thead>\n",
       "  <tbody>\n",
       "  </tbody>\n",
       "</table>\n",
       "</div>"
      ],
      "text/plain": [
       "Empty DataFrame\n",
       "Columns: [지점, 담당, 보험회사, 정산월구분, 월납보험료, 수수료S, 구분, 납입회차, 영수일, 증권번호, 보종]\n",
       "Index: []"
      ]
     },
     "execution_count": 196,
     "metadata": {},
     "output_type": "execute_result"
    }
   ],
   "source": [
    "df_comm[df_comm['정산월구분']=='NaN']"
   ]
  }
 ],
 "metadata": {
  "kernelspec": {
   "display_name": "Python 3 (ipykernel)",
   "language": "python",
   "name": "python3"
  },
  "language_info": {
   "codemirror_mode": {
    "name": "ipython",
    "version": 3
   },
   "file_extension": ".py",
   "mimetype": "text/x-python",
   "name": "python",
   "nbconvert_exporter": "python",
   "pygments_lexer": "ipython3",
   "version": "3.10.9"
  }
 },
 "nbformat": 4,
 "nbformat_minor": 5
}
