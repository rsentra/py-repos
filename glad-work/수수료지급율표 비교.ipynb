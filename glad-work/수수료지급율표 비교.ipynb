{
 "cells": [
  {
   "cell_type": "code",
   "execution_count": null,
   "metadata": {},
   "outputs": [],
   "source": [
    "import pandas as pd\n",
    "import GladUtil as gd"
   ]
  },
  {
   "cell_type": "markdown",
   "metadata": {},
   "source": [
    "## 수수료 지급율 변경전후 비교"
   ]
  },
  {
   "cell_type": "code",
   "execution_count": null,
   "metadata": {},
   "outputs": [],
   "source": [
    "## glad표준 엑셀 파일\n",
    "path ='C:/Users/User/Desktop/myga/'\n",
    "in_file = '수수료(2021.4)선지급형_생보.xlsx'\n",
    "sheet = '생명보험(회사)'\n",
    "\n",
    "c = '회사 보종 상품명 납기 환산율 환산율2 환산율3 1회 수입P1 2회 3회 4회 5회 6회 7회 8회 9회 10회 11회 12회 지급계1y 수입p1y 13회 14회 15회 16회 17회 18회 19회 20회 21회 22회 23회 24회 지급계2y 수입P2y 25회 26회 27회 28회 29회 30회 31회 32회 33회 34회 35회 36회 지급계3y 수입P3y 지급계 수입P 비고'\n",
    "columns = c.split(' ')\n",
    "\n",
    "def pre_proc(df):\n",
    "    df['회사'].fillna(method='ffill',inplace=True)\n",
    "    df['보종'] = df.보종.replace(0,None)\n",
    "    df['보종'].fillna(method='ffill',inplace=True)\n",
    "    df.loc[:,'보종'] = df['보종'].str.replace('\\n','').str.replace(' ','')\n",
    "    df.loc[:,'회사'] = df['회사'].str.replace('\\n','').str.replace(' ','')\n",
    "    df.fillna(0,inplace=True )\n",
    "    return df\n",
    "\n",
    "path ='C:/Users/User/Desktop/myga/'\n",
    "in_file = '수수료(2021.4)선지급형_생보.xlsx'\n",
    "sheet = '생명보험(회사)'\n",
    "\n",
    "df = pd.read_excel(path+in_file,sheet_name=sheet,header=4,names=columns)\n",
    "df4 = pre_proc(df)\n",
    "\n",
    "path ='C:/Users/User/Desktop/myga/'\n",
    "in_file = '수수료(2021.1)선지급형_생보.xlsx'\n",
    "sheet = '생명보험(회사)'\n",
    "\n",
    "df = pd.read_excel(path+in_file,sheet_name=sheet,header=4,names=columns)\n",
    "df1 = pre_proc(df)"
   ]
  },
  {
   "cell_type": "code",
   "execution_count": null,
   "metadata": {},
   "outputs": [],
   "source": [
    "df_join = df4.join(df1.set_index(['회사','보종','납기'])[['1회','환산율','지급계2y','지급계3y','지급계']], on=(['회사','보종','납기']), rsuffix='1월')"
   ]
  },
  {
   "cell_type": "code",
   "execution_count": null,
   "metadata": {},
   "outputs": [],
   "source": [
    "# df1.set_index(['회사','보종','납기'])\n",
    "\n",
    "df_join['총지급율변동'] = df_join['지급계'] - df_join['지급계1월']\n",
    "df_join['1회지급율변동'] = df_join['1회'] - df_join['1회1월']\n",
    "df_join['2차년지급율변동'] = df_join['지급계2y'] - df_join['지급계2y1월']\n",
    "df_join['3차년지급율변동'] = df_join['지급계3y'] - df_join['지급계3y1월']\n",
    "df_join[ (abs(df_join['총지급율변동']) > 0.1) | (abs(df_join['1회지급율변동']) > 0.1)]"
   ]
  },
  {
   "cell_type": "code",
   "execution_count": null,
   "metadata": {},
   "outputs": [],
   "source": [
    "df4['구분']='변경후'\n",
    "df1['구분']='변경전'\n",
    "# df_outer = pd.concat([df4,df1]).sort_values(['회사','보종','구분'])\n",
    "df_concat = pd.concat([df1.set_index(['회사','보종','납기']),df4.set_index(['회사','보종','납기'])],join='inner')"
   ]
  },
  {
   "cell_type": "code",
   "execution_count": null,
   "metadata": {},
   "outputs": [],
   "source": [
    "# df_concat.to_excel(\"d:/temp.xlsx\")"
   ]
  },
  {
   "cell_type": "code",
   "execution_count": null,
   "metadata": {},
   "outputs": [],
   "source": [
    "df=pd.DataFrame({\"a\":[10,20,30],\"b\":[50,130,450],\"c\":[\"a\",\"bb\",\"cc\"]})\n",
    "dfa=pd.DataFrame({\"a\":[10,20,30],\"b\":[51,131,451],\"d\":[\"a\",\"bb\",\"cc\"],\"c\":[\"ad\",\"bdb\",\"dcc\"]}, index=[1,2,3])\n",
    "# cols=[\"a\",\"b\"]\n",
    "# df[cols].diff()\n",
    "pd.concat([df,dfa],join='inner', axis=1)"
   ]
  },
  {
   "cell_type": "code",
   "execution_count": null,
   "metadata": {},
   "outputs": [],
   "source": [
    "df = pd.merge(df1, df4, how='inner', on=['회사','보종','납기'])\n",
    "df"
   ]
  },
  {
   "cell_type": "code",
   "execution_count": null,
   "metadata": {},
   "outputs": [],
   "source": [
    "from functools import reduce\n",
    "dfs = [df1, df4]\n",
    "cols = [*df1.columns]\n",
    "reduce(lambda left,right: pd.merge(left,right,on=cols), dfs)"
   ]
  },
  {
   "cell_type": "code",
   "execution_count": null,
   "metadata": {},
   "outputs": [],
   "source": [
    "list(df1.columns)\n"
   ]
  }
 ],
 "metadata": {
  "kernelspec": {
   "display_name": "Python 3",
   "language": "python",
   "name": "python3"
  },
  "language_info": {
   "codemirror_mode": {
    "name": "ipython",
    "version": 3
   },
   "file_extension": ".py",
   "mimetype": "text/x-python",
   "name": "python",
   "nbconvert_exporter": "python",
   "pygments_lexer": "ipython3",
   "version": "3.7.7"
  }
 },
 "nbformat": 4,
 "nbformat_minor": 4
}
