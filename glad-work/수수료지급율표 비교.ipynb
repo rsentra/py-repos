{
 "cells": [
  {
   "cell_type": "code",
   "execution_count": null,
   "metadata": {},
   "outputs": [],
   "source": [
    "import pandas as pd\n",
    "import GladUtil as gd"
   ]
  },
  {
   "cell_type": "markdown",
   "metadata": {},
   "source": [
    "## 수수료 지급율 변경전후 비교"
   ]
  },
  {
   "cell_type": "code",
   "execution_count": 33,
   "metadata": {},
   "outputs": [],
   "source": [
    "## glad표준 엑셀 파일\n",
    "# path ='C:/Users/User/Desktop/myga/'\n",
    "bojong = '생보'\n",
    "sheet =  '생명보험(회사)' if bojong == '생보' else '손해보험(회사)'\n",
    "\n",
    "path = 'E:/글로벌백업(180329)/03.수수료&시상/glad수수료규정/원수사지급율/'\n",
    "in_file1 = f'수수료(2021.11)선지급형_{bojong}.xlsx'  #당월\n",
    "in_file2 = f'수수료(2021.9)선지급형_{bojong}.xlsx'  #전월\n",
    "outfile = f'e:/temp/{bojong}수수료변경_2111.xlsx'\n",
    "c = '회사 보종 상품명 납기 환산율 환산율2 환산율3 1회 수입P1 2회 3회 4회 5회 6회 7회 8회 9회 10회 11회 12회 지급계1y 수입p1y 13회 14회 15회 16회 17회 18회 19회 20회 21회 22회 23회 24회 지급계2y 수입P2y 25회 26회 27회 28회 29회 30회 31회 32회 33회 34회 35회 36회 지급계3y 수입P3y 지급계 수입P 비고'\n",
    "columns = c.split(' ')\n",
    "\n",
    "def pre_proc(df):\n",
    "    df['회사'].fillna(method='ffill',inplace=True)\n",
    "    df['보종'] = df.보종.replace(0,None)\n",
    "    df['보종'].fillna(method='ffill',inplace=True)\n",
    "    df.loc[:,'보종'] = df['보종'].str.replace('\\n','').str.replace(' ','')\n",
    "    df.loc[:,'회사'] = df['회사'].str.replace('\\n','').str.replace(' ','')\n",
    "    df.fillna(0,inplace=True )\n",
    "    df = df[df['지급계']!=0]\n",
    "    return df\n",
    "\n",
    "\n",
    "df = pd.read_excel(path+in_file1,sheet_name=sheet,header=4,names=columns,usecols=\"a:ba\")\n",
    "df_aft = pre_proc(df)\n",
    "\n",
    "df = pd.read_excel(path+in_file2,sheet_name=sheet,header=4,names=columns,usecols=\"a:ba\")\n",
    "df_bef = pre_proc(df)"
   ]
  },
  {
   "cell_type": "code",
   "execution_count": 34,
   "metadata": {},
   "outputs": [
    {
     "name": "stderr",
     "output_type": "stream",
     "text": [
      "C:\\Users\\admin\\anaconda3\\lib\\site-packages\\pandas\\core\\indexing.py:1787: SettingWithCopyWarning: \n",
      "A value is trying to be set on a copy of a slice from a DataFrame.\n",
      "Try using .loc[row_indexer,col_indexer] = value instead\n",
      "\n",
      "See the caveats in the documentation: https://pandas.pydata.org/pandas-docs/stable/user_guide/indexing.html#returning-a-view-versus-a-copy\n",
      "  self._setitem_single_column(loc, val, pi)\n"
     ]
    }
   ],
   "source": [
    "df_join = df_aft.join(df_bef.set_index(['회사','보종','납기'])[['환산율','환산율2','환산율3','1회','지급계2y','지급계3y','지급계']], \n",
    "                      on=(['회사','보종','납기']), rsuffix='_변경전')\n",
    "# df_bef.set_index(['회사','보종','납기'])\n",
    "df_join['총지급율변동'] = df_join['지급계'] - df_join['지급계_변경전']\n",
    "df_join['초회지급율변동'] = df_join['1회'] - df_join['1회_변경전']\n",
    "df_join['2차년지급율변동'] = df_join['지급계2y'] - df_join['지급계2y_변경전']\n",
    "df_join['3차년지급율변동'] = df_join['지급계3y'] - df_join['지급계3y_변경전']\n",
    "df_join.fillna(0,inplace=True)\n",
    "\n",
    "# df_changed = df_join[ (abs(df_join['총지급율변동']) > 0.05) | (abs(df_join['초회지급율변동']) > 0.05)]\n",
    "exp = f\"abs(초회지급율변동) > 0.05 or abs(총지급율변동) > 0.05 or 지급계_변경전==0\"\n",
    "df_changed = df_join.query(exp)\n",
    "changed = df_changed.iloc[:,4:] * 100   # %를 숫자로\n",
    "# df_changed.iloc[:, 4:] = changed      # waring나와 loc로 변경\n",
    "df_changed.loc[:, df_changed.columns[4:]] = changed\n",
    "\n",
    "df_changed.to_excel(outfile)\n",
    "# pd.set_option('display.max_columns', 100)\n",
    "# df_changed"
   ]
  },
  {
   "cell_type": "code",
   "execution_count": null,
   "metadata": {},
   "outputs": [],
   "source": [
    "# -------------------------------------"
   ]
  },
  {
   "cell_type": "code",
   "execution_count": null,
   "metadata": {},
   "outputs": [],
   "source": [
    "# drop_duplicates를 이용한 데이터프레임 비교\n",
    "df_all = pd.concat([df_aft,df_bef])\n",
    "# df_all.drop_duplicates(subset=df_all.columns.tolist() ,keep=False)\n",
    "compare_col = ['회사', '보종','납기','1회','지급계']\n",
    "df_all.drop_duplicates(subset=compare_col ,keep=False)"
   ]
  },
  {
   "cell_type": "code",
   "execution_count": null,
   "metadata": {},
   "outputs": [],
   "source": []
  },
  {
   "cell_type": "code",
   "execution_count": null,
   "metadata": {},
   "outputs": [],
   "source": [
    "df_aft['구분']='변경후'\n",
    "df_bef['구분']='변경전'\n",
    "# df_outer = pd.concat([df_aft,df_bef]).sort_values(['회사','보종','구분'])\n",
    "df_concat = pd.concat([df_bef.set_index(['회사','보종','납기']),df_aft.set_index(['회사','보종','납기'])],join='inner')"
   ]
  },
  {
   "cell_type": "code",
   "execution_count": null,
   "metadata": {},
   "outputs": [],
   "source": [
    "df_concat"
   ]
  },
  {
   "cell_type": "code",
   "execution_count": null,
   "metadata": {},
   "outputs": [],
   "source": [
    "df=pd.DataFrame({\"a\":[10,20,30],\"b\":[50,130,450],\"c\":[\"a\",\"bb\",\"cc\"]})\n",
    "dfa=pd.DataFrame({\"a\":[10,20,30],\"b\":[51,131,451],\"d\":[\"a\",\"bb\",\"cc\"],\"c\":[\"ad\",\"bdb\",\"dcc\"]}, index=[1,2,3])\n",
    "# cols=[\"a\",\"b\"]\n",
    "# df[cols].diff()\n",
    "pd.concat([df,dfa],join='inner', axis=1)"
   ]
  },
  {
   "cell_type": "code",
   "execution_count": null,
   "metadata": {},
   "outputs": [],
   "source": [
    "df = pd.merge(df_bef, df_aft, how='inner', on=['회사','보종','납기'])\n",
    "df.columns"
   ]
  },
  {
   "cell_type": "code",
   "execution_count": null,
   "metadata": {},
   "outputs": [],
   "source": [
    "from functools import reduce\n",
    "dfs = [df_bef, df_aft]\n",
    "cols = [*df_bef.columns]\n",
    "reduce(lambda left,right: pd.merge(left,right,on=cols), dfs)"
   ]
  },
  {
   "cell_type": "code",
   "execution_count": null,
   "metadata": {},
   "outputs": [],
   "source": [
    "list(df_bef.columns)"
   ]
  }
 ],
 "metadata": {
  "kernelspec": {
   "display_name": "Python 3",
   "language": "python",
   "name": "python3"
  },
  "language_info": {
   "codemirror_mode": {
    "name": "ipython",
    "version": 3
   },
   "file_extension": ".py",
   "mimetype": "text/x-python",
   "name": "python",
   "nbconvert_exporter": "python",
   "pygments_lexer": "ipython3",
   "version": "3.8.8"
  }
 },
 "nbformat": 4,
 "nbformat_minor": 4
}
