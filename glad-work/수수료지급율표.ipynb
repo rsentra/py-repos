{
 "cells": [
  {
   "cell_type": "markdown",
   "metadata": {},
   "source": [
    "### 수수료 엑셀을 읽어 지급율 row를 만든다"
   ]
  },
  {
   "cell_type": "code",
   "execution_count": 2,
   "metadata": {},
   "outputs": [],
   "source": [
    "import pandas as pd"
   ]
  },
  {
   "cell_type": "markdown",
   "metadata": {},
   "source": [
    "### mp서식을 읽는 방법"
   ]
  },
  {
   "cell_type": "code",
   "execution_count": 86,
   "metadata": {},
   "outputs": [],
   "source": [
    "지점='표준'\n",
    "대상='사원'\n",
    "일괄적용율=1\n",
    "보종='생보'\n",
    "\n",
    "path='E:/글로벌백업(180329)/03.수수료&시상/수수료규정/수수료개정_2021/'\n",
    "in_file='2021년 생명보험 수수료_20210201.xlsx'\n",
    "# in_file='2021년 손해보험 수수료(20210210).xlsx'\n",
    "sheet='회사'\n",
    "\n",
    "c='회사 보종 환산율 상품명 1회 1차년율 1차년회차 2차년율 2차년회차 3차년율 3차년회차 tot'\n",
    "columns=c.split(' ')\n",
    "use_cols='a:d,e,g:h,l:m,q:r,v'\n",
    "df=pd.read_excel(path+in_file,sheet_name=sheet,header=4,usecols=use_cols,dtype={'a': 'str', 'b': 'str'})\n",
    "df.columns=columns\n",
    "df['회사'].fillna(method='ffill',inplace=True)\n",
    "df['보종'].fillna(method='ffill',inplace=True)\n",
    "df['tot'].fillna(method='ffill',inplace=True)\n",
    "df.loc[:,'회사']= df['회사'].str.replace('\\n','')\n",
    "df.fillna(0,inplace=True )"
   ]
  },
  {
   "cell_type": "code",
   "execution_count": 87,
   "metadata": {},
   "outputs": [],
   "source": [
    "''' 서식에 대한 전처리'''\n",
    "key_col=['회사','보종','tot','1회']\n",
    "df_t=df[key_col]\n",
    "df_t.loc[:,'회차']='1회'\n",
    "\n",
    "key_col=['회사','보종','tot','회차','율']\n",
    "df_t.rename(columns={'1회':'율'},inplace=True)\n",
    "df_rate=df_t[key_col]\n",
    "\n",
    "key_col=['회사','보종','tot','1차년회차','1차년율']\n",
    "df_t=df[key_col].rename(columns={'1차년회차':'회차','1차년율':'율'})\n",
    "df_rate=pd.concat([df_rate,df_t])\n",
    "\n",
    "key_col=['회사','보종','tot','2차년회차','2차년율']\n",
    "df_t=df[key_col].rename(columns={'2차년회차':'회차','2차년율':'율'})\n",
    "df_rate=pd.concat([df_rate,df_t])\n",
    "\n",
    "key_col=['회사','보종','tot','3차년회차','3차년율']\n",
    "df_t=df[key_col].rename(columns={'3차년회차':'회차','3차년율':'율'})\n",
    "df_rate=pd.concat([df_rate,df_t])\n",
    "\n",
    "df_rate=df_rate[df_rate['율']!=0]\n",
    "df_rate['회사율']=df_rate['율']\n",
    "df_rate['율']= round(df_rate['율']*일괄적용율,4)\n",
    "df_rate.loc[:,'회차']= [str(x).replace('회','') for x in df_rate['회차']] "
   ]
  },
  {
   "cell_type": "code",
   "execution_count": 88,
   "metadata": {},
   "outputs": [],
   "source": [
    "'''각 회차별 생성'''\n",
    "df_all=pd.DataFrame()\n",
    "for i,row in df_rate.iterrows():\n",
    "    for cnt in str(row['회차']).split(','):\n",
    "        cnt1=cnt;  cnt2=cnt\n",
    "        if '~' in cnt:\n",
    "            cnt1,cnt2=cnt.split('~') \n",
    "        row['회차']=cnt1\n",
    "        row['회차T']=cnt2\n",
    "        df_all=df_all.append(row)"
   ]
  },
  {
   "cell_type": "code",
   "execution_count": 89,
   "metadata": {},
   "outputs": [],
   "source": [
    "'''출력을 위한 파생항목 생성'''\n",
    "df_rate_tbl=df_all\n",
    "df_rate_tbl=df_rate_tbl.astype({'회차':'int64','회차T':'int64'})\n",
    "df_rate_tbl['구분']=대상\n",
    "df_rate_tbl['지점']=지점\n",
    "df_rate_tbl = df_rate_tbl[['구분','회사','보종','율','회차','회차T','지점','회사율','tot']]\n",
    "\n",
    "df_rate_tbl.sort_values(by=['회사','보종','회차','회차T'],ascending=[False,True,True,True],inplace=True)\n",
    "df_rate_tbl['temp']=df_rate_tbl['회사율']*(df_rate_tbl['회차T']-df_rate_tbl['회차']+1)\n",
    "df_rate_tbl['tot_compare']=df_rate_tbl.groupby(['회사','보종']).temp.transform('sum')\n",
    "df_rate_tbl.drop('temp',axis=1, inplace=True)\n",
    "\n",
    "'''tot와 tot_compare가 다르면 엑셀 수식오류 검증해봐야함'''\n",
    "\n",
    "outFile=f'E:/temp/{지점}_{보종} 지급율.xlsx' \n",
    "with pd.ExcelWriter(outFile) as writer:  \n",
    "    df_rate_tbl.to_excel(writer, sheet_name='지급율',index=False)"
   ]
  },
  {
   "cell_type": "markdown",
   "metadata": {},
   "source": [
    "### 아래는 mp서식읽은 결과로 glad방식(회차별로 column)을 만드는 작업"
   ]
  },
  {
   "cell_type": "code",
   "execution_count": null,
   "metadata": {},
   "outputs": [],
   "source": [
    "df_all=pd.DataFrame()\n",
    "for i,row in df_rate.iterrows():\n",
    "    for cnt in str(row['회차']).split(','):\n",
    "        cnt1=cnt;  cnt2=cnt\n",
    "        if '~' in cnt:\n",
    "            cnt1,cnt2=cnt.split('~') \n",
    "        for x in range(int(cnt1),int(cnt2)+1):\n",
    "            row['회차'] = x\n",
    "            df_all=df_all.append(row)\n",
    "        "
   ]
  },
  {
   "cell_type": "code",
   "execution_count": null,
   "metadata": {},
   "outputs": [],
   "source": [
    "df_rate_tbl=df_all\n",
    "df_rate_tbl=df_rate_tbl.astype({'회차':'int64'})\n",
    "\n",
    "df_rate_tbl['구분']=대상\n",
    "df_rate_tbl['지점']=지점\n",
    "df_rate_tbl = df_rate_tbl[['구분','회사','보종','율','회차']]\n",
    "\n",
    "df_rate_tbl.sort_values(by=['회사','보종'],ascending=[False,True],inplace=True)\n",
    "df_rate_tbl = pd.pivot_table(df_rate_tbl,index=['구분','회사','보종'],columns='회차',values=['율'])\n",
    "df_rate_tbl = df_rate_tbl.fillna(0)            \n",
    "df_rate_tbl.reset_index(inplace=True)\n",
    "df_rate_tbl.columns=df_rate_tbl.columns.get_level_values(1) #multi index -> single index\n",
    "\n",
    "outFile=f'E:/temp/{지점}_{보종} 회차별지급율.xlsx' \n",
    "with pd.ExcelWriter(outFile) as writer:  \n",
    "    df_rate_tbl.to_excel(writer, sheet_name='지급율',index=False)"
   ]
  },
  {
   "cell_type": "markdown",
   "metadata": {},
   "source": [
    "### 수수료 파일 비교"
   ]
  },
  {
   "cell_type": "code",
   "execution_count": null,
   "metadata": {},
   "outputs": [],
   "source": [
    "''' 두개의 수수료 파일 총 지급율을 비교하여 차이나는 건 추출'''\n",
    "dt2=df_rate2.groupby(['회사','보종'])['회사율'].sum().reset_index()\n",
    "dt1=df_rate1.groupby(['회사','보종'])['회사율'].sum().reset_index()\n",
    "dt_merge= pd.merge(dt2,dt1,on=['회사','보종'],how='left')\n",
    "dt_merge[dt_merge['회사율_x'] != dt_merge['회사율_y']]"
   ]
  },
  {
   "cell_type": "markdown",
   "metadata": {},
   "source": [
    "### glad표준파일"
   ]
  },
  {
   "cell_type": "code",
   "execution_count": 60,
   "metadata": {},
   "outputs": [],
   "source": [
    "## glad표준 엑셀 파일\n",
    "지점='조은'\n",
    "대상='사원'\n",
    "일괄적용율=1.0\n",
    "보종='손보'\n",
    "\n",
    "path='E:/글로벌백업(180329)/03.수수료&시상/수수료규정/수수료개정_2021/지점별/'\n",
    "in_file='엠피조은_생손보수수료_202101.xlsx'\n",
    "sheet='엠피조은- 손보 - 이설화,김성희 '\n",
    "c='회사 보종 상품명 납기 환산율 환산율2 환산율3 1회 수입P1 2회 3회 4회 5회 6회 7회 8회 9회 10회 11회 12회 지급계1y 수입p1y 13회 14회 15회 16회 17회 18회 19회 20회 21회 22회 23회 24회 지급계2y 수입P2y 25회 26회 27회 28회 29회 30회 31회 32회 33회 34회 35회 36회 지급계3y 수입P3y 지급계 수입P 비고'\n",
    "columns=c.split(' ')\n",
    "df=pd.read_excel(path+in_file,sheet_name=sheet,header=4,names=columns)\n",
    "df['회사'].fillna(method='ffill',inplace=True)\n",
    "df.fillna(0,inplace=True )"
   ]
  },
  {
   "cell_type": "code",
   "execution_count": 8,
   "metadata": {},
   "outputs": [],
   "source": [
    "# df=df.iloc[35:47]\n",
    "# 컬럼중 회차별 지급율이 있는 컬럼만 추출-- 키워드는 '회'\n",
    "value_col=[x for x in columns if x.endswith('회') ]\n",
    "df_rate=df.melt(id_vars=['회사','보종'],value_vars=value_col,var_name='회차',value_name='율')\n",
    "df_rate=df_rate[df_rate['율']!=0]     #지급율 없으면 제거\n",
    "df_rate['회사율']=df_rate['율']\n",
    "df_rate['율']= round(df_rate['율']*일괄적용율,4) #소수 4자리 반올림 \n",
    "df_rate.loc[:,'회차']= [str(x).replace('회','') for x in df_rate['회차']]\n",
    "df_rate=df_rate.astype({'회차':'int64'})\n",
    "df_rate['회차T']= df_rate['회차'] \n",
    "df_rate['구분']=대상\n",
    "df_rate['지점']=지점\n",
    "df_rate=df_rate[['구분','회사','보종','율','회차','회차T','지점','회사율']]\n",
    "df_rate.sort_values(by=['회사','보종','회차'],ascending=[False,True,True],inplace=True)\n",
    "\n",
    "outFile=f'E:/temp/{지점}{보종} 지급율.xlsx' \n",
    "with pd.ExcelWriter(outFile) as writer:  \n",
    "    df_rate.to_excel(writer, sheet_name='지급율',index=False)"
   ]
  },
  {
   "cell_type": "code",
   "execution_count": 5,
   "metadata": {},
   "outputs": [],
   "source": [
    "## glad표준 엑셀 파일(아이리치)--임시용\n",
    "지점='아이리치'\n",
    "대상='사원'\n",
    "일괄적용율=1.0\n",
    "보종='손보'\n",
    "\n",
    "path='E:/temp/'\n",
    "in_file='book1.xlsx'\n",
    "sheet='Sheet1'\n",
    "c='회사 보종 환산율 1회 7회 8회 9회 10회 11회 12회 13회 14회 15회 지급계'\n",
    "columns=c.split(' ')\n",
    "df=pd.read_excel(path+in_file,sheet_name=sheet,header=0,names=columns)\n",
    "df['회사'].fillna(method='ffill',inplace=True)\n",
    "df.fillna(0,inplace=True )"
   ]
  },
  {
   "cell_type": "markdown",
   "metadata": {},
   "source": [
    "### 보종명 변환"
   ]
  },
  {
   "cell_type": "code",
   "execution_count": 77,
   "metadata": {},
   "outputs": [],
   "source": [
    "path='E:/temp/'\n",
    "in_file='2018기준율-생보-변환전.xlsx'\n",
    "sheet='Sheet1'\n",
    "\n",
    "c='회사 보종 환산율 상품명 1회 1차년율 1차년회차 2차년율 2차년회차 3차년율 3차년회차 tot'\n",
    "df=pd.read_excel(path+in_file,sheet_name=sheet)\n",
    "df=df.fillna('')"
   ]
  },
  {
   "cell_type": "code",
   "execution_count": 78,
   "metadata": {},
   "outputs": [],
   "source": [
    "b_list=['일반보장','일반종신','변액종신','연금','변액연금','저축','일반연금','변액적립','중저가',\n",
    "        '보장','종신','보장2','보장3','보장4','경영인정기','적립','변액','양한방',\n",
    "        '일반보장-경영','연금-7년','연금-5년','일반보장(경영인)','']\n",
    "c_list=['보장성1','종신1','변액종신1','연금1','변액연금1','저축1','연금1','변액적립1','중저가1',\n",
    "        '보장성1','종신1','보장성2','보장성3','보장성4','보장성1','변액적립1','변액연금1','양한방',\n",
    "        '일반보장-경영','연금-7년','연금-5년','일반보장(경영인)','']\n",
    "conv_dict=dict(zip(b_list,c_list))"
   ]
  },
  {
   "cell_type": "code",
   "execution_count": 79,
   "metadata": {},
   "outputs": [],
   "source": [
    "lis=[5,15,25,35,45,55,65,75,85]\n",
    "for i in lis:\n",
    "#     print(i)\n",
    "    df[i]=df[i].map(lambda x: conv_dict[x])"
   ]
  },
  {
   "cell_type": "code",
   "execution_count": 81,
   "metadata": {},
   "outputs": [],
   "source": [
    "df.to_excel('e:/temp/2018기준율-생보-변환후.xlsx')"
   ]
  },
  {
   "cell_type": "code",
   "execution_count": null,
   "metadata": {},
   "outputs": [],
   "source": []
  }
 ],
 "metadata": {
  "kernelspec": {
   "display_name": "Python 3",
   "language": "python",
   "name": "python3"
  },
  "language_info": {
   "codemirror_mode": {
    "name": "ipython",
    "version": 3
   },
   "file_extension": ".py",
   "mimetype": "text/x-python",
   "name": "python",
   "nbconvert_exporter": "python",
   "pygments_lexer": "ipython3",
   "version": "3.8.5"
  }
 },
 "nbformat": 4,
 "nbformat_minor": 4
}
