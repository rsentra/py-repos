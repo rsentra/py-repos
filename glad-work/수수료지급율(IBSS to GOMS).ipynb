{
 "cells": [
  {
   "cell_type": "markdown",
   "metadata": {},
   "source": [
    "## ibss to goms convert (지급율)"
   ]
  },
  {
   "cell_type": "code",
   "execution_count": null,
   "metadata": {},
   "outputs": [],
   "source": [
    "import pandas as pd\n",
    "import GladUtil as gd\n",
    "\n",
    "COMP_LONG = {'흥국화재':'흥국','한화손보':'한화','현대해상':'현대','삼성화재':'삼성','농협손보':'농협','DB손보':'DB','KB손보':'KB','메리츠손보':'메리츠',\n",
    "             '롯데손보':'롯데','MG손보':'MG','AIG손해보험':'AIG','처브손해보험':'처브','하나손해보험':'하나','DAS':'DAS','메리츠화재':'메리츠'}\n",
    "DICT_JONG = {'보장성':'보장','재물성':'재물','연금성':'연금','저축성':'저축','실손':'실손'}\n",
    "\n",
    "new_comp = dict([(value, key) for key, value in COMP_LONG.items()])\n",
    "new_jong = dict([(value, key) for key, value in DICT_JONG.items()])\n"
   ]
  },
  {
   "cell_type": "code",
   "execution_count": null,
   "metadata": {},
   "outputs": [],
   "source": [
    "path = 'E:/글로벌백업(180329)/03.수수료&시상/glad수수료규정/4.수수료Table(Upload)/ibss업로드/'\n",
    "in_file = '장기_2022-02 손보수수료(GLD-900)_202202.xlsx'\n",
    "\n",
    "sheet = 'Worksheet'\n",
    "c = '회사 보종 실손시작회 기간1-시작 기간1-끝 기간1-요율 기간2-시작 기간2-끝 기간2-요율 기간3-시작 기간3-끝 기간3-요율 기간4-시작 기간4-끝 기간4-요율 기간5-시작 기간5-끝 기간5-요율 기간6-시작 기간6-끝 기간6-요율 기간7-시작 기간7-끝 기간7-요율 기간8-시작 기간8-끝 기간8-요율 기간9-시작 기간9-끝 기간9-요율 기간10-시작 기간10-끝 기간10-요율'\n",
    "columns = c.split(' ')\n",
    "columns = columns[:24]\n",
    "\n",
    "df = pd.read_excel(path+in_file,sheet_name=sheet,header=2,names=columns)\n",
    "df_temp = pd.read_excel(path+in_file,sheet_name=sheet)\n",
    "rule_nm = df_temp.iloc[0][0]\n",
    "df['정산구분'] = '원수사성적'\n",
    "df['정산패턴명'] = rule_nm\n",
    "df['상품군분류'] = '소분류'\n",
    "df['회사'] = df['회사'].apply(lambda x: gd.convertByVal(x,new_comp))\n",
    "df['보종'] = df['보종'].apply(lambda x: gd.convertByVal(x,new_jong))\n",
    "df.sort_values(by=['회사','보종'],ascending=[True,True],inplace=True)\n",
    "df = df[df.회사 != 'DAS']\n",
    "\n",
    "columns.insert(0,\"정산구분\")\n",
    "columns.insert(1,\"정산패턴명\")\n",
    "columns.insert(3,\"상품군분류\")\n",
    "columns.remove(\"실손시작회\")\n",
    "\n",
    "df_unload = df[columns]\n",
    "df_unload = df_unload.fillna(\"\")\n",
    "df_unload = df_unload[df_unload['기간1-요율']!='']\n",
    "#--빈행 1개 삽입\n",
    "import numpy as np\n",
    "dt = pd.DataFrame([[np.nan] * len(df_unload.columns)], columns=df_unload.columns)\n",
    "dt = dt.append(df_unload, ignore_index=True)\n",
    "\n",
    "in_file = in_file.replace(\"IBSS\",\"GOMS\")\n",
    "outFile = f'E:/글로벌백업(180329)/03.수수료&시상/glad수수료규정/4.수수료Table(Upload)/goms업로드/{in_file}' \n",
    "with pd.ExcelWriter(outFile) as writer:  \n",
    "    dt.to_excel(writer, sheet_name='규정생성관리',index=False)"
   ]
  },
  {
   "cell_type": "markdown",
   "metadata": {},
   "source": [
    "## ibss to goms (환수규정)"
   ]
  },
  {
   "cell_type": "code",
   "execution_count": 38,
   "metadata": {},
   "outputs": [],
   "source": [
    "COMP_LIFE = {'흥국생명':'흥국','한화생명':'한화','푸르덴셜생명':'푸르','카디프생명':'카디프','처브라이프':'처브','오렌지라이프':'오렌지','신한생명':'신한','삼성생명':'삼성',\n",
    "             '미래에셋생명':'미래','메트라이프생명':'메트','라이나생명':'라이나','동양생명':'동양','농협생명':'농협','교보생명':'교보','KDB생명':'kdb','KB생명':'KB','IBK연금보험':'IBK',\n",
    "             'DGB생명':'DGB','DB생명':'DB','ABL생명':'ABL','AIA생명':'AIA','푸본현대생명':'현대','PCA생명':'PCA'}\n",
    "new_comp_li = dict([(value, key) for key, value in COMP_LIFE.items()])"
   ]
  },
  {
   "cell_type": "code",
   "execution_count": 41,
   "metadata": {},
   "outputs": [],
   "source": [
    "path ='E:/글로벌백업(180329)/03.수수료&시상/glad수수료규정/4.수수료Table(Upload)/환수율/'\n",
    "in_file = '생명환수_2022-02 생보수수료 환수율_202202.xlsx'\n",
    "보종 = '생보'\n",
    "\n",
    "sheet = 'Worksheet'\n",
    "c = '보험사 정산타입 1회 2회 3회 4회 5회 6회 7회 8회 9회 10회 11회 12회 13회 14회 15회 16회 17회 18회 19회 20회 21회 22회 23회 24회'\n",
    "columns = c.split(' ')\n",
    "\n",
    "df = pd.read_excel(path+in_file,sheet_name=sheet,header=2,names=columns)\n",
    "df_temp = pd.read_excel(path+in_file,sheet_name=sheet)\n",
    "rule_nm = df_temp.iloc[0][0]\n",
    "\n",
    "df.rename(columns={\"보험사\":\"회사\"}, inplace=True)\n",
    "df['규정명'] = rule_nm\n",
    "df['상품군'] = '전체'\n",
    "df['상품군분류'] = '전체'\n",
    "df['상태'] = '해지'\n",
    "if 보종 == '손보':\n",
    "    df['회사'] = df['회사'].apply(lambda x: gd.convertByVal(x,new_comp))\n",
    "else:\n",
    "    df['회사'] = df['회사'].apply(lambda x: gd.convertByVal(x,new_comp_li))\n",
    "df = df[~df['회사'].isin(['DAS','기타'])]\n",
    "\n",
    "# df['보종'] = df['보종'].apply(lambda x: gd.convertByVal(x,new_jong))\n",
    "# df.sort_values(by=['회사','보종'],ascending=[True,True],inplace=True)\n",
    "\n",
    "columns.insert(0,\"규정명\")\n",
    "columns.insert(2,\"상품군분류\")\n",
    "columns.insert(3,\"상품군\")\n",
    "columns.insert(4,\"상태\")\n",
    "columns[1] = \"회사\"\n",
    "columns.remove(\"정산타입\")\n",
    "\n",
    "df_unload = df[columns]\n",
    "df_unload = df_unload.fillna(\"\")\n",
    "df_unload.loc[df_unload.회사==\"기본적용\", \"회사\"]=\"기본\"\n",
    "for i in range(25,37):\n",
    "    df_unload[ str(i) + '회' ] = \"\"\n",
    "df_unload[ '37회이후' ] = \"\"    \n",
    "    \n",
    "df_unload = df_unload.drop_duplicates()\n",
    "# 1 column shift to left\n",
    "# df_unload = pd.concat([df_unload.iloc[:,:5],df_unload.iloc[:,5:].shift(periods=-1, axis=\"columns\").fillna(\"\")],axis=1)\n",
    "\n",
    "# 기본 100율 생성 (1~37회) 및 상태별 row생성\n",
    "df_temp = df_unload[df_unload['회사']=='기본'].copy()\n",
    "df_temp.iloc[:,5:] = 100\n",
    "df_temp[\"상태\"] = \"부활\"\n",
    "df_temp2 = pd.concat([df_temp, df_temp.replace('부활','취소'),df_temp.replace('부활','철회'),df_temp.replace('부활','무효'),\n",
    "                      df_temp.replace('부활','품질보증'),df_temp.replace('부활','민원해지'),df_temp.replace('부활','승환')])\n",
    "\n",
    "df_unload = pd.concat([df_unload, df_unload.replace('해지','해약'),df_unload.replace('해지','실효'),df_unload.replace('해지','감액')])\n",
    "    \n",
    "df_unload = pd.concat([df_unload, df_temp2])\n",
    "df_unload.sort_values(by=['회사','상태'],ascending=[True,True],inplace=True)\n",
    "# 생보는 해지일 경우 모든 회차100%환수\n",
    "if 보종 == '생보':\n",
    "    df_unload.loc[df_unload['상태']=='해지',df_unload.columns[5:]] = 100\n",
    "\n",
    "outFile = f'E:/글로벌백업(180329)/03.수수료&시상/glad수수료규정/4.수수료Table(Upload)/환수율/GOMS_{in_file}'\n",
    "\n",
    "with pd.ExcelWriter(outFile) as writer:  \n",
    "    df_unload.to_excel(writer, sheet_name='규정생성관리',index=False)"
   ]
  },
  {
   "cell_type": "markdown",
   "metadata": {},
   "source": [
    "## ibss to goms (자동차)"
   ]
  },
  {
   "cell_type": "code",
   "execution_count": null,
   "metadata": {},
   "outputs": [],
   "source": [
    "path ='E:/글로벌백업(180329)/03.수수료&시상/glad수수료규정/4.수수료Table(Upload)/ibss업로드/'\n",
    "in_file = '자동차_2021-09 자동차수수료(표준FC_11%)_202109.xlsx'\n",
    "sheet = 'Worksheet'\n",
    "c = '상품 삼성화재 현대해상 KB손보 메리츠화재 DB손보 한화손보 롯데손보 흥국화재 MG손보 농협손보 DAS AIG손해보험 처브손해보험 하나손해보험 기타'\n",
    "columns = c.split(' ')\n",
    "\n",
    "df = pd.read_excel(path+in_file,sheet_name=sheet,header=2,names=columns)\n",
    "df_temp = pd.read_excel(path+in_file,sheet_name=sheet)\n",
    "rule_nm = df_temp.iloc[0][0]\n",
    "\n",
    "df['규정명'] = rule_nm\n",
    "df['정산구분'] = '자동차보험료'\n",
    "df['구분'] = '자동차'\n",
    "df = df[df.상품 != '이륜용도']\n",
    "\n",
    "columns.insert(0,\"정산구분\")\n",
    "columns.insert(1,\"규정명\")\n",
    "columns.insert(2,\"구분\")\n",
    "columns.remove(\"DAS\")\n",
    "columns.remove(\"기타\")\n",
    "\n",
    "df_unload = df[columns]\n",
    "df_unload = df_unload.fillna('')\n",
    "\n",
    "outFile = f'E:/글로벌백업(180329)/03.수수료&시상/glad수수료규정/4.수수료Table(Upload)/goms업로드/GOMS_{in_file}' \n",
    "with pd.ExcelWriter(outFile) as writer:  \n",
    "    df_unload.to_excel(writer, sheet_name='규정생성관리',index=False)"
   ]
  }
 ],
 "metadata": {
  "interpreter": {
   "hash": "ef7f9a8012d9131766e31894c279374cc63c73121ed4db3b9e67a294a4bf0e74"
  },
  "kernelspec": {
   "display_name": "Python 3.8.5 64-bit ('base': conda)",
   "name": "python3"
  },
  "language_info": {
   "codemirror_mode": {
    "name": "ipython",
    "version": 3
   },
   "file_extension": ".py",
   "mimetype": "text/x-python",
   "name": "python",
   "nbconvert_exporter": "python",
   "pygments_lexer": "ipython3",
   "version": "3.8.5"
  }
 },
 "nbformat": 4,
 "nbformat_minor": 4
}
