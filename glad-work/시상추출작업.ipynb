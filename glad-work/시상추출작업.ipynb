{
 "cells": [
  {
   "cell_type": "markdown",
   "id": "d8a9357d-c7b7-44a8-9e5b-3d4ae9021314",
   "metadata": {},
   "source": [
    "### 시상작업용 스크립트(비공개시상)\n",
    "1. 코드\n",
    "2. 시상파일을 열어서 파일,시트,추출컬럼을 지정 후 작업(n번은 작업순번 유의)\n",
    "3. n번 작업결과를 join"
   ]
  },
  {
   "cell_type": "code",
   "execution_count": 1,
   "id": "0ad2204d-204e-4c80-bf8b-5c96ee63b28f",
   "metadata": {},
   "outputs": [],
   "source": [
    "import pandas as pd\n",
    "import duckdb\n",
    "from openpyxl import load_workbook\n",
    "\n",
    "path='d:/사용인코드(KJ).xlsx'\n",
    "cd_df = pd.read_excel(path,usecols='C,E,G',dtype={'사번':object})\n",
    "cd_df.columns = ['사번','이름','지점']"
   ]
  },
  {
   "cell_type": "code",
   "execution_count": null,
   "id": "68a3ee46-ed81-489a-9f60-99370ce32b9a",
   "metadata": {},
   "outputs": [],
   "source": [
    "'''작업경로 설정 및 파일 목록 출력 '''\n",
    "path ='E:/글로벌백업(180329)/04.수수료작업/202408시상/시상파일/비공개/'\n",
    "path2 = '20241010_정산_손보_1차_배포(총괄)/'\n",
    "\n",
    "import os\n",
    "flist = os.listdir(f'{path}{path2}')\n",
    "for i,x in enumerate(flist):\n",
    "    print(i, x)\n",
    "# data = pd.read_excel(f'{path}',sheet_name=None)\n",
    "# data.keys()\n",
    "# wb = load_workbook(r_path,read_only=True,data_only=True)\n",
    "# wb.sheetnames"
   ]
  },
  {
   "cell_type": "code",
   "execution_count": null,
   "id": "5b54f28b-4a8f-4e5e-b68d-b26daa8ed6ec",
   "metadata": {},
   "outputs": [],
   "source": [
    "file_nm = '20240710_AF_08_202212_메리츠화재_분급보전_배포.xlsx'\n",
    "r_path = f'{path}{path2}{file_nm}'\n",
    "wb = load_workbook(r_path,read_only=True,data_only=True)\n",
    "print(wb.sheetnames)\n",
    "# sel = input(\"your choice?\")\n",
    "# sht_name = wb.sheetnames[int(sel)-1]\n",
    "# pd.DataFrame(wb[sht_name].values)"
   ]
  },
  {
   "cell_type": "code",
   "execution_count": null,
   "id": "9515e2c6-4938-4222-8adf-a56e1724433d",
   "metadata": {},
   "outputs": [],
   "source": [
    "'''작업대상 시트에서 추출 '''\n",
    "#---------------------------------------------------------------------\n",
    "no = 28\n",
    "file_nm = flist[no]\n",
    "print(file_nm)\n",
    "r_path = f'{path}{path2}{file_nm}'\n",
    "헤더, 단위 =  1, 1 #금액 단위가 천원일 경우 1000입력\n",
    "ym = '202310' #시상업적월\n",
    "'''작업순서를 지정하고 1번~3번까지 작업가능함..2번이상 작업한 경우 아래의 join query로 합산처리'''\n",
    "sht = '2차년법인(23.7월~)' #또는 아래처럼 숫자로\n",
    "seq = 1 #작업순서 ; 1.시상, 2~3: 확정 또는 환수\n",
    "\n",
    "총괄, 시상, 사번 = 'aj','ai','o'\n",
    "#환수컬럼을 지정할때만 사용, 환수시트만 집계시 시상컬럼은 0이 있는 컬럼으로 임의지정!!\n",
    "환수 = '' \n",
    "환수 = None if 환수=='' else 환수\n",
    "''' ------------------------------ '''\n",
    "if seq == 1:\n",
    "    df_2nd = pd.DataFrame()\n",
    "    df_3rd = pd.DataFrame()\n",
    "\n",
    "hdr = 헤더-1 \n",
    "dic = {'총괄':총괄,'사번':사번,'시상':시상}\n",
    "if 환수:\n",
    "    dic['환수'] = 환수\n",
    "dic = dict(sorted(dic.items(),key=lambda item: str(len(item[1]))+item[1]))\n",
    "use_cols= list(dic.values())\n",
    "\n",
    "df = pd.read_excel(f'{r_path}',header=hdr,sheet_name=sht,usecols=','.join(use_cols),\n",
    "                  dtype=str)\n",
    "df.columns=dic.keys()\n",
    "print('read count: ', len(df))\n",
    "df = df[df['총괄']=='GLAD']\n",
    "df = df.astype({'시상':float})\n",
    "if 환수:\n",
    "    df = df.astype({'환수':float})\n",
    "if \"*\" in str(df.iloc[0,0]):\n",
    "    df['사번'] = df['사번'].str.replace('*','')\n",
    "\n",
    "# join\n",
    "c_name = 'a.환수'\n",
    "query_string = f'''\n",
    "     SELECT c.지점, c.이름, sum(a.시상) as 시상, c.사번 as 사번,\n",
    "            sum({ 0 if 환수 is None else c_name}) as 환수\n",
    "       FROM df a left outer JOIN cd_df c \n",
    "         ON a.사번 = c.사번\n",
    "       GROUP BY c.지점, c.이름, c.사번 '''\n",
    "df_result = duckdb.query(query_string).to_df()\n",
    "df_result['시상'] = df_result['시상'] * 단위\n",
    "df_result['환수'] = df_result['환수'] * 단위\n",
    "print('error :', df_result[df_result['사번']==None])\n",
    "\n",
    "if seq==1:\n",
    "    df_1st = df_result.copy()\n",
    "elif seq==2:\n",
    "    df_2nd = df_result.copy()\n",
    "elif seq==3:\n",
    "    df_3rd = df_result.copy()\n",
    "\n",
    "df_result.insert(2,\"업적월\",ym)\n",
    "df_result['확정'] = df_result['시상']\n",
    "df_result['시상'] = 0\n",
    "df_result = df_result[(df_result['확정'] !=0) | (df_result['환수'] !=0)]\n",
    "df_result.drop(columns='사번').to_clipboard(index=False, header=False)\n",
    "print(\"please paste clipboard to excel\")\n",
    "print(df_result.head(2), '\\n')\n",
    "print('Total 시상:', df_result['확정'].sum() , ' 환수:', df_result['환수'].sum() if 환수 else 0)"
   ]
  },
  {
   "cell_type": "code",
   "execution_count": null,
   "id": "4dabad9e-33ba-4fb5-8eed-592c3295d5ac",
   "metadata": {},
   "outputs": [],
   "source": [
    "# df_2nd['시상'].sum()\n",
    "# df_1st = df_2nd.copy()\n",
    "# df_1st['시상'] = df_1st['시상'] * 1000\n",
    "df_result['시상'] = df_result['시상'] * 1000\n",
    "df_result.to_clipboard(index=False, header=False)\n",
    "# dic"
   ]
  },
  {
   "cell_type": "code",
   "execution_count": null,
   "id": "aee4b519-62d3-4676-af89-fd95a2abc285",
   "metadata": {},
   "outputs": [],
   "source": [
    "df_1st.to_clipboard(index=False, header=False)"
   ]
  },
  {
   "cell_type": "code",
   "execution_count": null,
   "id": "73dbe9e9-ad75-4cdb-825a-7843b575bfde",
   "metadata": {},
   "outputs": [],
   "source": [
    "df_result[['지점','이름','업적월','시상','환수','확정']].to_clipboard(index=False)"
   ]
  },
  {
   "cell_type": "code",
   "execution_count": null,
   "id": "1b5e18db-dcfd-421a-a85e-303df2ecc770",
   "metadata": {},
   "outputs": [],
   "source": [
    "''' 최초,확정 시상을 join '''\n",
    "#확정시상이 두 개일경우 합친 후 조인\n",
    "if len(df_3rd) > 0:\n",
    "   df_all = pd.concat([df_2nd,df_3rd]).groupby(['지점','이름'])[['시상','환수']].sum().reset_index()\n",
    "else:\n",
    "   df_all = df_2nd\n",
    "    \n",
    "query_string = f'''\n",
    "     SELECT case when a.지점 is null then b.지점 else a.지점 end as 지점,\n",
    "            case when a.이름 is null then b.이름 else a.이름 end as 이름,\n",
    "            a.시상 as 최초,(a.환수+ifnull(b.환수,0)) as 환수\n",
    "            ,b.시상 as 확정\n",
    "       FROM df_1st a  full outer JOIN df_all b\n",
    "         ON a.지점 = b.지점 \n",
    "         AND a.이름 = b.이름\n",
    "        '''\n",
    "df_res = duckdb.query(query_string).to_df()\n",
    "df_res.insert(2,\"업적월\",ym)\n",
    "# df_res.insert(4,\"환수\",0)\n",
    "df_res.to_clipboard(index=False, header=False)\n",
    "print(df_res.head(2),'\\n')\n",
    "print('Total 최초:', df_res['최초'].sum(), ' 환수:', df_res['환수'].sum(), '확정:', df_res['확정'].sum() )"
   ]
  },
  {
   "cell_type": "code",
   "execution_count": null,
   "id": "5d60bc39-b829-4416-87dd-448ffb95ca60",
   "metadata": {},
   "outputs": [],
   "source": [
    "print(df_1st['시상'].sum(),' ', df_1st['환수'].sum())\n",
    "print(df_all['시상'].sum(),' ', df_all['환수'].sum())\n",
    "print(df_2nd['시상'].sum(),' ', df_2nd['환수'].sum())\n",
    "print(df_3rd['시상'].sum(),' ', df_3rd['환수'].sum())"
   ]
  },
  {
   "cell_type": "code",
   "execution_count": null,
   "id": "71b53697-7211-429f-9932-ee15738a3b6e",
   "metadata": {},
   "outputs": [],
   "source": [
    "# len(df_3rd)\n",
    "df_2nd = df_2nd1.copy()\n",
    "# df_result.drop(columns='사번').to_clipboard(index=False, header=False)"
   ]
  },
  {
   "cell_type": "markdown",
   "id": "e1f36325-3f1b-49da-afb7-d2aaeb1ae2d0",
   "metadata": {},
   "source": [
    "### 증권별  (주로 본사2차년 시상)"
   ]
  },
  {
   "cell_type": "code",
   "execution_count": 2,
   "id": "ddb958d8-c50d-42fc-9a81-4ff5b7092abe",
   "metadata": {},
   "outputs": [
    {
     "name": "stdout",
     "output_type": "stream",
     "text": [
      "0 20250610_AF_02_202307-202402_삼성화재_영업활성화(2차년)_배포.xlsx\n",
      "1 20250610_AF_04_202307-202402_MG손보_영업활성화(2차년)_배포.xlsx\n",
      "2 20250610_AF_07_202307-202402_현대해상_영업활성화(2차년)_배포.xlsx\n",
      "3 20250610_AF_09_202307-202402_KB손보_영업활성화(2차년)_배포.xlsx\n",
      "4 20250610_AF_13_202306-202402_하나손보_영업활성화(2차년)_배포.xlsx\n",
      "5 20250610_AF_14_202307-202402_롯데손보_영업활성화(2차년)_배포.xlsx\n",
      "6 20250610_AF_17_202307-202401_농협손보_영업활성화(2차년)_배포.xlsx\n",
      "7 20250610_AF_18_202307-202402_한화손보_영업활성화(2차년)_배포.xlsx\n",
      "8 20250610_AF_20_202306-202402_메리츠화재_환수보전(2차년)_배포.xlsx\n",
      "9 20250610_AF_21_202306-202401_메리츠화재_분급보전(2차년)_배포.xlsx\n",
      "10 20250610_AF_19_202306-202402_메리츠화재_영업활성화(2차년)_배포.xlsx\n",
      "11 20250610_AF_25_202307-202402_DB손보_영업활성화(2차년)_배포.xlsx\n",
      "12 20250610_AF_27_202307-202402_흥국화재_영업활성화(2차년)_배포.xlsx\n",
      "13 ~$20250610_AF_04_202307-202402_MG손보_영업활성화(2차년)_배포.xlsx\n"
     ]
    }
   ],
   "source": [
    "'''작업경로 설정 및 파일 목록 출력 '''\n",
    "path ='E:/글로벌백업(180329)/04.수수료작업/202504시상/시상파일/비공개/'\n",
    "path2 = '20250610_정산_손보_1차_배포(총괄)/'\n",
    "\n",
    "import os\n",
    "flist = os.listdir(f'{path}{path2}')\n",
    "flist = [ i for i in  flist if '2차' in i ]  #2차년 목록\n",
    "\n",
    "for i,x in enumerate(flist):\n",
    "    print(i, x)"
   ]
  },
  {
   "cell_type": "code",
   "execution_count": 42,
   "id": "ed479be2-05aa-42e4-bff5-c5983b50c101",
   "metadata": {},
   "outputs": [
    {
     "name": "stdout",
     "output_type": "stream",
     "text": [
      "20250610_AF_13_202306-202402_하나손보_영업활성화(2차년)_배포.xlsx   23.06 2차년\n",
      "read count:  614\n",
      "Total:  -29248.4\n"
     ]
    },
    {
     "data": {
      "text/html": [
       "<div>\n",
       "<style scoped>\n",
       "    .dataframe tbody tr th:only-of-type {\n",
       "        vertical-align: middle;\n",
       "    }\n",
       "\n",
       "    .dataframe tbody tr th {\n",
       "        vertical-align: top;\n",
       "    }\n",
       "\n",
       "    .dataframe thead th {\n",
       "        text-align: right;\n",
       "    }\n",
       "</style>\n",
       "<table border=\"1\" class=\"dataframe\">\n",
       "  <thead>\n",
       "    <tr style=\"text-align: right;\">\n",
       "      <th></th>\n",
       "      <th>지점</th>\n",
       "      <th>이름</th>\n",
       "      <th>업적월</th>\n",
       "      <th>증권번호</th>\n",
       "      <th>실적</th>\n",
       "      <th>지급시상</th>\n",
       "      <th>상태</th>\n",
       "      <th>환수율</th>\n",
       "      <th>환수</th>\n",
       "    </tr>\n",
       "  </thead>\n",
       "  <tbody>\n",
       "    <tr>\n",
       "      <th>0</th>\n",
       "      <td>글래드가온</td>\n",
       "      <td>강은선2</td>\n",
       "      <td>202306</td>\n",
       "      <td>60424-1888</td>\n",
       "      <td>15000</td>\n",
       "      <td>30000.0</td>\n",
       "      <td>해지</td>\n",
       "      <td>-20.0</td>\n",
       "      <td>-6000.0</td>\n",
       "    </tr>\n",
       "  </tbody>\n",
       "</table>\n",
       "</div>"
      ],
      "text/plain": [
       "      지점    이름     업적월        증권번호     실적     지급시상  상태   환수율      환수\n",
       "0  글래드가온  강은선2  202306  60424-1888  15000  30000.0  해지 -20.0 -6000.0"
      ]
     },
     "execution_count": 42,
     "metadata": {},
     "output_type": "execute_result"
    }
   ],
   "source": [
    "no = 4\n",
    "file_nm = flist[no]\n",
    "r_path = f'{path}{path2}{file_nm}'\n",
    "헤더, 단위 =  1, 1 #금액 단위가 천원일 경우 1000입력\n",
    "환수만 = True\n",
    "\n",
    "ym = '202306' #시상업적월\n",
    "sht = '23.06 2차년' #또는 아래처럼 숫자로\n",
    "print(file_nm, ' ', sht)\n",
    "\n",
    "환수, 총괄 = 'cx', 't'\n",
    "증번, 사번, 실적, 시상, 상태 = 'b', 'g', 'u','v','ct'\n",
    "\n",
    "hdr = 헤더-1 \n",
    "dic = {'총괄':총괄,'사번':사번,'시상':시상,'실적':실적,'증번':증번,'환수':환수,'상태':상태}\n",
    "dic = dict(sorted(dic.items(),key=lambda item: str(len(item[1]))+item[1]))\n",
    "use_cols= list(dic.values())\n",
    "\n",
    "df = pd.read_excel(f'{r_path}',header=hdr,sheet_name=sht,usecols=','.join(use_cols),\n",
    "                  dtype=str)\n",
    "df.columns=dic.keys()\n",
    "print('read count: ', len(df))\n",
    "df = df.astype({'증번':'string'})\n",
    "df['환수'] = df['환수'].fillna(0)\n",
    "df = df[df['총괄']=='GLAD']\n",
    "if len(df)==0:\n",
    "    print(\"no data ------------\")\n",
    "df = df.astype({'시상':float})\n",
    "df = df.astype({'환수':float})\n",
    "if \"*\" in str(df.iloc[0,0]):\n",
    "    df['사번'] = df['사번'].str.replace('*','')\n",
    "if  환수만:\n",
    "    df_list = df[df['환수']!=0]\n",
    "    print('Total: ', df_list['환수'].sum())\n",
    "else:\n",
    "    df_list = df[df['환수']!=0]\n",
    "    \n",
    "query_string = f'''\n",
    "     SELECT c.지점, c.이름, a.증번 as 증권번호, a.실적 as 실적, a.시상 as 지급시상\n",
    "            ,a.상태 as 상태\n",
    "            ,(a.환수 / a.시상)* 100 as 환수율\n",
    "            ,a.환수 as 환수\n",
    "       FROM df_list a left outer JOIN cd_df c \n",
    "         ON a.사번 = c.사번\n",
    "       ORDER BY c.지점, c.이름 '''\n",
    "\n",
    "df_res = duckdb.query(query_string).to_df()\n",
    "df_res.insert(2,\"업적월\",ym)\n",
    "df_res.to_clipboard(index=False, header=True)\n",
    "df_res.head(1)"
   ]
  },
  {
   "cell_type": "code",
   "execution_count": 32,
   "id": "ae815c48-3cef-420f-a5d8-e7da7ff75b33",
   "metadata": {},
   "outputs": [],
   "source": [
    "# df=df.astype({'증번':'string'})\n",
    "# df.dtypes\n",
    "df_res.to_clipboard(index=False, header=True)"
   ]
  },
  {
   "cell_type": "code",
   "execution_count": 27,
   "id": "ce1425c7-d2cd-4257-9fde-2e6cd8aceb14",
   "metadata": {},
   "outputs": [],
   "source": [
    "df_res.groupby(['지점','이름']).sum('지급시상').reset_index().to_clipboard()"
   ]
  },
  {
   "cell_type": "markdown",
   "id": "bee5ae3f-a748-402b-aab7-61f3ddb0ddd6",
   "metadata": {},
   "source": [
    "### 환수건을 복사하는 스크립트(본사시상)"
   ]
  },
  {
   "cell_type": "code",
   "execution_count": 8,
   "id": "1a925b34-e85f-4de3-b4a3-0bc482ced628",
   "metadata": {},
   "outputs": [
    {
     "name": "stdout",
     "output_type": "stream",
     "text": [
      "0 20250310_GF_01_202312-202501_MG손보_영업활성화_배포.xlsx\n",
      "1 20250310_GF_02_202408-202501_AIG손보_영업활성화_배포.xlsx\n",
      "2 20250310_GF_03_202312-202501_삼성화재_영업활성화_배포.xlsx\n",
      "3 20250310_GF_04_202312-202501_현대해상_영업활성화_배포.xlsx\n",
      "4 20250310_GF_05_202406-202501_라이나손보_영업활성화_배포.xlsx\n",
      "5 20250310_GF_06_202312-202501_KB손보_영업활성화_배포.xlsx\n",
      "6 20250310_GF_07_202312-202501_롯데손보_영업활성화_배포.xlsx\n",
      "7 20250310_GF_08_202312-202501_메리츠화재_영업활성화_배포.xlsx\n",
      "8 20250310_GF_09_202311-202501_농협손보_영업활성화_배포.xlsx\n",
      "9 20250310_GF_10_202312-202501_하나손보_영업활성화_배포.xlsx\n",
      "10 20250310_GF_11_202312-202501_한화손보_영업활성화_배포.xlsx\n",
      "11 20250310_GF_12_202312-202501_DB손보_영업활성화_배포.xlsx\n",
      "12 20250310_GF_13_202312-202501_흥국화재_영업활성화_배포.xlsx\n",
      "13 ~$20250310_GF_03_202312-202501_삼성화재_영업활성화_배포.xlsx\n"
     ]
    }
   ],
   "source": [
    "'''작업경로 설정 및 파일 목록 출력 '''\n",
    "path ='E:/글로벌백업(180329)/04.수수료작업/202501시상/시상파일/'\n",
    "path2 = '20250310_본사_손보_1차_배포(총괄)/'\n",
    "\n",
    "import os\n",
    "flist = os.listdir(f'{path}{path2}')\n",
    "# flist = [ i for i in  flist if '2차' in i ]\n",
    "\n",
    "for i,x in enumerate(flist):\n",
    "    print(i, x)"
   ]
  },
  {
   "cell_type": "code",
   "execution_count": 11,
   "id": "13ee4372-40c2-4e3f-ac11-c3d8fdaac873",
   "metadata": {},
   "outputs": [
    {
     "name": "stdout",
     "output_type": "stream",
     "text": [
      "0.0\n"
     ]
    }
   ],
   "source": [
    "'''작업경로 설정 및 파일 목록 출력 '''\n",
    "def a_num(col):\n",
    "    num1 = ord(col[0].upper())-65\n",
    "    if len(col)==2:\n",
    "        num2 = ord(col[1].upper())-65 + 26\n",
    "    else: num2 = 0\n",
    "    if num1 > 0 and len(col)==2:\n",
    "        num1 = num1 * 26\n",
    "    return num1 + num2\n",
    "    \n",
    "query_string = f'''\n",
    "     SELECT c.지점, c.이름, a.*\n",
    "       FROM df a left outer JOIN cd_df c \n",
    "         ON a.사번 = c.사번\n",
    "        '''\n",
    "\n",
    "no = 7\n",
    "file_nm = flist[no]\n",
    "\n",
    "r_path = f'{path}{path2}{file_nm}'\n",
    "헤더 = 3\n",
    "sht = '2411환수' #또는 아래처럼 숫자로\n",
    "총괄, 사번, 환수 = 'ec','c','el'\n",
    "총괄, 사번, 환수 = a_num(총괄), a_num(사번), a_num(환수)\n",
    "\n",
    "df = pd.read_excel(f'{r_path}',skiprows=헤더-1,sheet_name=sht,dtype={사번:'str'})\n",
    "cols = list(df.columns)\n",
    "cols[총괄],cols[사번],cols[환수] = '총괄','사번','환수금'\n",
    "df.columns = cols\n",
    "df = df[(df['총괄']=='GLAD')]\n",
    "df['환수금'] = df['환수금'].fillna(0)\n",
    "df = df[df['환수금']!=0]\n",
    "\n",
    "df_result = duckdb.query(query_string).to_df()\n",
    "df_result.to_clipboard(index=False)\n",
    "print(df_result['환수금'].sum())"
   ]
  },
  {
   "cell_type": "code",
   "execution_count": null,
   "id": "3a48cbec-46b1-4f9b-b50d-241e142334c2",
   "metadata": {},
   "outputs": [],
   "source": [
    "pd.read_excel?"
   ]
  },
  {
   "cell_type": "code",
   "execution_count": null,
   "id": "7a470577-a062-4a66-80b9-97086108ea84",
   "metadata": {},
   "outputs": [],
   "source": [
    "ym='202408'\n",
    "import tabula\n",
    "root_dir = 'E:/글로벌백업(180329)'\n",
    "in_file = fr\"{root_dir}\\04.수수료작업\\{ym}시상\\2024년10월총괄명세서(GLAD_10일자_순번1).pdf\"\n",
    "df = tabula.read_pdf(in_file, pages='all')"
   ]
  },
  {
   "cell_type": "code",
   "execution_count": null,
   "id": "dbdd1785-5c97-42ce-84fe-df972158fe13",
   "metadata": {},
   "outputs": [],
   "source": [
    "df_amt = df[9]\n",
    "df_amt['금액']= df_amt['금액'].str.replace(',','')\n",
    "df_amt = df_amt.astype({'금액':'float'})\n",
    "print('정산시상 총액 = ',df_amt[df_amt['시상구분']=='정산']['금액'].sum())\n",
    "print(' ----- details ----------')\n",
    "# print(df_amt[df_amt['시상구분']=='정산'])\n",
    "\n",
    "print('본사시상 총액 = ',df_amt[df_amt['시상구분']=='본사']['금액'].sum())"
   ]
  },
  {
   "cell_type": "markdown",
   "id": "e63f5202-9854-41f5-bb45-a1bb5a85d8ea",
   "metadata": {},
   "source": [
    "### 생보 총괄,지사 시상 지급율을 추출(기지급)"
   ]
  },
  {
   "cell_type": "code",
   "execution_count": 24,
   "id": "e28fc831-607c-446e-9bb1-5ab576b6ea4b",
   "metadata": {},
   "outputs": [
    {
     "data": {
      "text/html": [
       "<div>\n",
       "<style scoped>\n",
       "    .dataframe tbody tr th:only-of-type {\n",
       "        vertical-align: middle;\n",
       "    }\n",
       "\n",
       "    .dataframe tbody tr th {\n",
       "        vertical-align: top;\n",
       "    }\n",
       "\n",
       "    .dataframe thead th {\n",
       "        text-align: right;\n",
       "    }\n",
       "</style>\n",
       "<table border=\"1\" class=\"dataframe\">\n",
       "  <thead>\n",
       "    <tr style=\"text-align: right;\">\n",
       "      <th></th>\n",
       "      <th>담당</th>\n",
       "      <th>계약일</th>\n",
       "      <th>증권번호</th>\n",
       "      <th>보험회사</th>\n",
       "      <th>월납보험료</th>\n",
       "      <th>GLAD</th>\n",
       "      <th>시상율</th>\n",
       "      <th>총괄율</th>\n",
       "      <th>지사율</th>\n",
       "      <th>총괄값</th>\n",
       "      <th>지사값</th>\n",
       "    </tr>\n",
       "  </thead>\n",
       "  <tbody>\n",
       "    <tr>\n",
       "      <th>86</th>\n",
       "      <td>전용순</td>\n",
       "      <td>2024-12-26</td>\n",
       "      <td>00302172469</td>\n",
       "      <td>신한생명</td>\n",
       "      <td>87822.0</td>\n",
       "      <td>175644.0</td>\n",
       "      <td>2.0</td>\n",
       "      <td>0.0</td>\n",
       "      <td>0.0</td>\n",
       "      <td>0.0</td>\n",
       "      <td>0.0</td>\n",
       "    </tr>\n",
       "  </tbody>\n",
       "</table>\n",
       "</div>"
      ],
      "text/plain": [
       "     담당         계약일         증권번호  보험회사    월납보험료      GLAD  시상율  총괄율  지사율  총괄값  \\\n",
       "86  전용순  2024-12-26  00302172469  신한생명  87822.0  175644.0  2.0  0.0  0.0  0.0   \n",
       "\n",
       "    지사값  \n",
       "86  0.0  "
      ]
     },
     "execution_count": 24,
     "metadata": {},
     "output_type": "execute_result"
    }
   ],
   "source": [
    "''' 시상지급율을 출력 '''\n",
    "import pandas as pd\n",
    "\n",
    "ym = '202412'\n",
    "pols = ['00302172469']\n",
    "\n",
    "path =f'E:/글로벌백업(180329)/04.수수료작업/{ym}시상'\n",
    "path2 = f'{ym} KJ시상정산.xlsx'\n",
    "in_file = path + '/' + path2\n",
    "cols= ['담당','계약일', '증권번호','보험회사','월납보험료', 'GLAD', '시상율','총괄율', '지사율','총괄값', '지사값']\n",
    "df = pd.read_excel(in_file, sheet_name='생보',dtype={'증권번호':str})\n",
    "df[df['증권번호'].isin(pols)][cols]\n"
   ]
  },
  {
   "cell_type": "code",
   "execution_count": null,
   "id": "e76d37a8-a97a-497a-ac98-7deda2b1e428",
   "metadata": {},
   "outputs": [],
   "source": []
  }
 ],
 "metadata": {
  "kernelspec": {
   "display_name": "Python 3 (ipykernel)",
   "language": "python",
   "name": "python3"
  },
  "language_info": {
   "codemirror_mode": {
    "name": "ipython",
    "version": 3
   },
   "file_extension": ".py",
   "mimetype": "text/x-python",
   "name": "python",
   "nbconvert_exporter": "python",
   "pygments_lexer": "ipython3",
   "version": "3.10.9"
  }
 },
 "nbformat": 4,
 "nbformat_minor": 5
}
