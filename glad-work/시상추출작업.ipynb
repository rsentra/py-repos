{
 "cells": [
  {
   "cell_type": "markdown",
   "id": "d8a9357d-c7b7-44a8-9e5b-3d4ae9021314",
   "metadata": {},
   "source": [
    "### 시상작업용 스크립트(비공개시상)\n",
    "1. 코드\n",
    "2. 시상파일을 열어서 파일,시트,추출컬럼을 지정 후 작업(n번은 작업순번 유의)\n",
    "3. n번 작업결과를 join"
   ]
  },
  {
   "cell_type": "code",
   "execution_count": 1,
   "id": "0ad2204d-204e-4c80-bf8b-5c96ee63b28f",
   "metadata": {},
   "outputs": [],
   "source": [
    "import pandas as pd\n",
    "import duckdb\n",
    "from openpyxl import load_workbook\n",
    "\n",
    "path='d:/사용인코드(KJ).xlsx'\n",
    "cd_df = pd.read_excel(path,usecols='C,E,G',dtype={'사번':object})\n",
    "cd_df.columns = ['사번','이름','지점']"
   ]
  },
  {
   "cell_type": "code",
   "execution_count": 5,
   "id": "68a3ee46-ed81-489a-9f60-99370ce32b9a",
   "metadata": {},
   "outputs": [],
   "source": [
    "path ='E:/글로벌백업(180329)/04.수수료작업/202405시상/시상파일/비공개/'\n",
    "path2 = '20240710_정산_손보_1차_배포(총괄)/'\n",
    "file_nm = '20240710_AF_01_202212_KB손보_영업활성화(총괄)_배포.xlsx'\n",
    "ym = '202212' #시상업적월\n",
    "r_path = f'{path}{path2}{file_nm}'\n",
    "# data = pd.read_excel(f'{path}',sheet_name=None)\n",
    "# data.keys()\n",
    "# wb = load_workbook(r_path,read_only=True,data_only=True)\n",
    "# wb.sheetnames"
   ]
  },
  {
   "cell_type": "code",
   "execution_count": 18,
   "id": "9515e2c6-4938-4222-8adf-a56e1724433d",
   "metadata": {},
   "outputs": [
    {
     "name": "stdout",
     "output_type": "stream",
     "text": [
      "read count:  10689\n",
      "error : Empty DataFrame\n",
      "Columns: [지점, 이름, 시상, 사번, 환수]\n",
      "Index: []\n",
      "please paste clipboard to excel\n",
      "      지점   이름     업적월  시상       사번   환수         확정\n",
      "0  글래드조은  김명주  202212   0  4025050  0.0   584640.0\n",
      "1  글래드조은  김민화  202212   0  4025091  0.0  1964499.0 \n",
      "\n",
      "Total 시상: 13061326.0  환수: 0\n"
     ]
    }
   ],
   "source": [
    "file_nm = '20240710_AF_03_202301_KB손보_영업활성화(재정산)_배포.xlsx'\n",
    "r_path = f'{path}{path2}{file_nm}'\n",
    "헤더 =  4\n",
    "'''작업순서를 지정하고 1번~3번까지 작업가능함..2번이상 작업한 경우 아래의 join query로 합산처리'''\n",
    "\n",
    "seq = 2 #작업순서 ; 시상, 2:\n",
    "sht = 'KB_영업활성화(23.01)'\n",
    "총괄, 시상, 사번 = 'bm','bl','h'\n",
    "환수 = ''  #None\n",
    "환수 = None if 환수=='' else 환수\n",
    "''' ------------------------------ '''\n",
    "if seq > 1:\n",
    "    df_3rd = pd.DataFrame()\n",
    "\n",
    "hdr = 헤더-1 \n",
    "dic = {'총괄':총괄,'사번':사번,'시상':시상}\n",
    "if 환수:\n",
    "    dic['환수'] = 환수\n",
    "dic = dict(sorted(dic.items(),key=lambda item: str(len(item[1]))+item[1]))\n",
    "use_cols= list(dic.values())\n",
    "\n",
    "df = pd.read_excel(f'{r_path}',header=hdr,sheet_name=sht,usecols=','.join(use_cols),\n",
    "                  dtype=str)\n",
    "df.columns=dic.keys()\n",
    "print('read count: ', len(df))\n",
    "df = df[df['총괄']=='GLAD']\n",
    "df = df.astype({'시상':float})\n",
    "if 환수:\n",
    "    df = df.astype({'환수':float})\n",
    "if \"*\" in df.iloc[0,0]:\n",
    "    df['사번'] = df['사번'].str.replace('*','')\n",
    "\n",
    "# join\n",
    "c_name = 'a.환수'\n",
    "query_string = f'''\n",
    "     SELECT c.지점, c.이름, sum(a.시상) as 시상, c.사번 as 사번,\n",
    "            sum({ 0 if 환수 is None else c_name}) as 환수\n",
    "       FROM df a left outer JOIN cd_df c \n",
    "         ON a.사번 = c.사번\n",
    "       GROUP BY c.지점, c.이름, c.사번 '''\n",
    "df_result = duckdb.query(query_string).to_df()\n",
    "print('error :', df_result[df_result['사번']==None])\n",
    "\n",
    "if seq==1:\n",
    "    df_1st = df_result.copy()\n",
    "elif seq==2:\n",
    "    df_2nd = df_result.copy()\n",
    "elif seq==3:\n",
    "    df_3rd = df_result.copy()\n",
    "\n",
    "df_result.insert(2,\"업적월\",ym)\n",
    "df_result['확정'] = df_result['시상']\n",
    "df_result['시상'] = 0\n",
    "df_result.drop(columns='사번').to_clipboard(index=False, header=False)\n",
    "print(\"please paste clipboard to excel\")\n",
    "print(df_result.head(2), '\\n')\n",
    "print('Total 시상:', df_result['확정'].sum() , ' 환수:', df_result['환수'].sum() if 환수 else 0)"
   ]
  },
  {
   "cell_type": "code",
   "execution_count": null,
   "id": "4dabad9e-33ba-4fb5-8eed-592c3295d5ac",
   "metadata": {},
   "outputs": [],
   "source": [
    "# df_2nd['시상'].sum()\n",
    "# df_1st = df_2nd.copy()\n",
    "df_1st['시상'] = df_1st['시상'] * 1000"
   ]
  },
  {
   "cell_type": "code",
   "execution_count": 15,
   "id": "73dbe9e9-ad75-4cdb-825a-7843b575bfde",
   "metadata": {},
   "outputs": [],
   "source": [
    "df_result[['지점','이름','업적월','시상','환수','확정']].to_clipboard(index=False)"
   ]
  },
  {
   "cell_type": "code",
   "execution_count": 19,
   "id": "1b5e18db-dcfd-421a-a85e-303df2ecc770",
   "metadata": {},
   "outputs": [
    {
     "name": "stdout",
     "output_type": "stream",
     "text": [
      "      지점   이름     업적월          최초   환수         확정\n",
      "0  글래드조은  김명주  202212   365400.00  0.0   584640.0\n",
      "1  글래드조은  김민화  202212  1227812.25  0.0  1964499.0 \n",
      "\n",
      "Total 최초: 8487111.5  환수: 0.0 확정: 13061326.0\n"
     ]
    }
   ],
   "source": [
    "''' 최초,확정 시상을 join '''\n",
    "#확정시상이 두 개일경우 합친 후 조인\n",
    "df_all = pd.concat([df_2nd,df_3rd]).groupby(['지점','이름'])[['시상','환수']].sum().reset_index()\n",
    "\n",
    "query_string = f'''\n",
    "     SELECT a.지점, a.이름, a.시상 as 최초, a.환수 as 환수, b.시상 as 확정\n",
    "       FROM df_1st a  full outer JOIN df_all b\n",
    "         ON a.지점 = b.지점 \n",
    "         AND a.이름 = b.이름\n",
    "        '''\n",
    "df_res = duckdb.query(query_string).to_df()\n",
    "df_res.insert(2,\"업적월\",ym)\n",
    "# df_res.insert(4,\"환수\",0)\n",
    "df_res.to_clipboard(index=False, header=False)\n",
    "print(df_res.head(2),'\\n')\n",
    "print('Total 최초:', df_res['최초'].sum(), ' 환수:', df_res['환수'].sum(), '확정:', df_res['확정'].sum() )"
   ]
  },
  {
   "cell_type": "code",
   "execution_count": null,
   "id": "5d60bc39-b829-4416-87dd-448ffb95ca60",
   "metadata": {},
   "outputs": [],
   "source": [
    "print(df_all['시상'].sum())\n",
    "print(df_2nd['시상'].sum())\n",
    "print(df_3rd['시상'].sum())"
   ]
  }
 ],
 "metadata": {
  "kernelspec": {
   "display_name": "Python 3 (ipykernel)",
   "language": "python",
   "name": "python3"
  },
  "language_info": {
   "codemirror_mode": {
    "name": "ipython",
    "version": 3
   },
   "file_extension": ".py",
   "mimetype": "text/x-python",
   "name": "python",
   "nbconvert_exporter": "python",
   "pygments_lexer": "ipython3",
   "version": "3.10.9"
  }
 },
 "nbformat": 4,
 "nbformat_minor": 5
}
