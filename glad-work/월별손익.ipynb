{
 "cells": [
  {
   "cell_type": "code",
   "execution_count": null,
   "id": "0de5fd1a-9464-47b1-a9b3-790c0b292b4e",
   "metadata": {},
   "outputs": [],
   "source": [
    "import os\n",
    "import re\n",
    "import pandas as pd\n",
    "import GladUtil as gd\n",
    "\n",
    "ym  = '202212'\n",
    "dir0  = f'e:/글로벌백업(180329)/04.수수료작업/{ym}수수료/'\n",
    "fileN = f'{ym}_수입원장.xlsx'\n",
    "cols = ['지점','직할지점','사원번호','사원명','수수료계','계약일자','게약종류']\n",
    "print('reading ',fileN)\n",
    "\n",
    "df = pd.read_excel(dir0+fileN, sheet_name='전체', usecols=cols, dtype={'계약일자': str})\n",
    "\n",
    "# -- 지점변환\n",
    "f = r'e:\\글로벌백업(180329)\\77.EXCEL\\My VBA\\KJ정산작업Util_4.0.xlsm'\n",
    "s = '정산작업'\n",
    "df1 = pd.read_excel(f, sheet_name=s, skiprows=5, usecols='i,j,l,n,p,r')\n",
    "d1_brh  = df1.iloc[:,[0,1]].dropna()\n",
    "d1_team = df1.iloc[:,[2,3]].dropna()\n",
    "d1_fc   = df1.iloc[:,[4,5]].dropna()\n",
    "d1 = dict(zip(d1_brh.iloc[:,0]  ,d1_brh.iloc[:,1]))\n",
    "d2 = dict(zip(d1_team.iloc[:,0] ,d1_team.iloc[:,1]))\n",
    "d3 = dict(zip(d1_fc.iloc[:,0]   ,d1_fc.iloc[:,1]))\n",
    "\n",
    "df['지점'].fillna('글래드',inplace=True)\n",
    "df['변환지점'] = df.apply(lambda x: d1.get(x['지점'],x['지점']),axis=1)\n",
    "df['변환지점'] = df.apply(lambda x: d2.get(x['직할지점'],x['변환지점']),axis=1)\n",
    "df['변환지점'] = df.apply(lambda x: d3.get(x['사원번호'],x['변환지점']),axis=1)\n",
    "# -- 요약\n",
    "df_sum = df.groupby(['변환지점','계약종류'])['수수료계'].sum().reset_index()\n",
    "df_sum.rename(columns = {'지점':'원지점','변환지점':'지점'}, inplace=True)\n",
    "df_sum.loc[:, \"지사\"] = df_sum.지점.map(lambda x: '지사'  if x in gd.GROUP2 \n",
    "                                    else ('직영' if x in gd.GROUP1 else '오류'))\n"
   ]
  },
  {
   "cell_type": "code",
   "execution_count": null,
   "id": "63c9263c-e255-4b5d-a164-f394266ddaf9",
   "metadata": {},
   "outputs": [],
   "source": [
    "\n",
    "file_list = os.listdir(dir0)\n",
    "# print(file_list)\n",
    "file_list2= [ s for s in file_list if \"마감실적리스트\" in s]\n",
    "dfAll = pd.DataFrame()\n",
    "\n",
    "for fname in file_list2: \n",
    "    bojong = ''.join(re.findall('\\(([^)]+)',  fname))\n",
    "    print(bojong,' ', fname)\n",
    "    df1 = pd.read_excel(f'{dir0}{fname})\n",
    "    df1 = df1[df1['본부'] == 'GLAD']\n",
    "    dfT = df1.groupby(['지점'])[['수수료H','수수료S']].sum().reset_index()\n",
    "    dfT['계약종류'] = bojong\n",
    "    dfAll = pd.concat([dfAll,dfT])\n",
    "\n",
    "dfAll.loc[:, \"지사\"] = dfAll.지점.map(lambda x: '지사'  if x in gd.GROUP2 \n",
    "                                    else ('직영' if x in gd.GROUP1 else '오류'))\n",
    "dfAll.to_clipboard()"
   ]
  },
  {
   "cell_type": "markdown",
   "id": "c051dee1-820e-4238-aa72-85a88c9e3241",
   "metadata": {},
   "source": [
    "##### 시상금"
   ]
  },
  {
   "cell_type": "code",
   "execution_count": 176,
   "id": "1be081b7-a1f2-40e7-a7c3-0e0509efa42d",
   "metadata": {},
   "outputs": [
    {
     "name": "stdout",
     "output_type": "stream",
     "text": [
      "reading  202212 KJ시상정산.xlsx\n"
     ]
    }
   ],
   "source": [
    "dir1  = f'e:/글로벌백업(180329)/04.수수료작업/{ym}시상/'\n",
    "fileN = f'{ym} KJ시상정산.xlsx'\n",
    "cols = ['지점','장기법인','생보법인','일반','자동차','장기수입','장기지급','생보수입','생보지급']\n",
    "print('reading ',fileN)\n",
    "\n",
    "df3 = pd.read_excel(dir1+fileN, sheet_name='정산', usecols='b,e,h,i,j,k:n',skiprows=22)\n",
    "df3.columns = cols\n",
    "df3 = df3.iloc[:df3[df3['지점']=='계'].index[0]].dropna()\n",
    "df3 = df3[df3['지점'].str.contains('글래드')]\n",
    "df3['손보시상'] = df3['장기법인'] + df3['일반'] + df3['자동차'] + \\\n",
    "                  df3['장기수입'] - df3['장기지급'] \n",
    "df3['생보시상'] = df3['생보법인'] + df3['생보수입'] - df3['생보지급'] \n",
    "df3[['지점','손보시상','생보시상']].to_clipboard()"
   ]
  },
  {
   "cell_type": "code",
   "execution_count": 175,
   "id": "6098f061-7c36-4eb0-9658-2685ac5e4351",
   "metadata": {},
   "outputs": [
    {
     "data": {
      "text/plain": [
       "26497908.847555242"
      ]
     },
     "execution_count": 175,
     "metadata": {},
     "output_type": "execute_result"
    }
   ],
   "source": [
    "df3['손보시상'].sum() + df3['생보시상'].sum() "
   ]
  },
  {
   "cell_type": "code",
   "execution_count": 177,
   "id": "8e2d0d9e-71ae-458a-a279-a98b8bc37826",
   "metadata": {},
   "outputs": [],
   "source": [
    "dfAll.to_clipboard()"
   ]
  }
 ],
 "metadata": {
  "kernelspec": {
   "display_name": "Python 3",
   "language": "python",
   "name": "python3"
  },
  "language_info": {
   "codemirror_mode": {
    "name": "ipython",
    "version": 3
   },
   "file_extension": ".py",
   "mimetype": "text/x-python",
   "name": "python",
   "nbconvert_exporter": "python",
   "pygments_lexer": "ipython3",
   "version": "3.8.5"
  }
 },
 "nbformat": 4,
 "nbformat_minor": 5
}
