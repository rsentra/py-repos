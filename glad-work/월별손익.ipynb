{
 "cells": [
  {
   "cell_type": "markdown",
   "id": "def1f48f-5f85-41e3-b627-6874f5e2463d",
   "metadata": {},
   "source": [
    "#### 수수료 (수입,지급)"
   ]
  },
  {
   "cell_type": "code",
   "execution_count": 11,
   "id": "0de5fd1a-9464-47b1-a9b3-790c0b292b4e",
   "metadata": {},
   "outputs": [
    {
     "name": "stdout",
     "output_type": "stream",
     "text": [
      "reading  202302_수입원장(G).xlsx\n"
     ]
    }
   ],
   "source": [
    "import os\n",
    "import re\n",
    "import pandas as pd\n",
    "import GladUtil as gd\n",
    "\n",
    "# -- 수입원장\n",
    "root_dir = f'e:/글로벌백업(180329)'\n",
    "ym  = '202302'\n",
    "dir0  = f'{root_dir}/04.수수료작업/{ym}수수료/'\n",
    "fileN = f'{ym}_수입원장(G).xlsx'\n",
    "cols = ['지점','직할지점','사원번호','사원명','수수료계','계약일자','계약종류']\n",
    "print('reading ',fileN)\n",
    "\n",
    "df = pd.read_excel(dir0+fileN, sheet_name='전체', usecols=cols, dtype={'계약일자': str})\n",
    "\n",
    "# -- 지점변환\n",
    "f = fr'{root_dir}\\77.EXCEL\\My VBA\\KJ정산작업Util_4.0.xlsm'\n",
    "s = '정산작업'\n",
    "df1 = pd.read_excel(f, sheet_name=s, skiprows=5, usecols='i,j,l,n,p,r')\n",
    "d1_brh  = df1.iloc[:,[0,1]].dropna()\n",
    "d1_team = df1.iloc[:,[2,3]].dropna()\n",
    "d1_fc   = df1.iloc[:,[4,5]].dropna()\n",
    "d1 = dict(zip(d1_brh.iloc[:,0]  ,d1_brh.iloc[:,1]))\n",
    "d2 = dict(zip(d1_team.iloc[:,0] ,d1_team.iloc[:,1]))\n",
    "d3 = dict(zip(d1_fc.iloc[:,0]   ,d1_fc.iloc[:,1]))\n",
    "\n",
    "df['지점'].fillna('글래드',inplace=True)\n",
    "df['변환지점'] = df.apply(lambda x: d1.get(x['지점'],x['지점']),axis=1)\n",
    "df['변환지점'] = df.apply(lambda x: d2.get(x['직할지점'],x['변환지점']),axis=1)\n",
    "df['변환지점'] = df.apply(lambda x: d3.get(x['사원번호'],x['변환지점']),axis=1)\n",
    "\n",
    "# -- 요약\n",
    "df_sum = df.groupby(['변환지점','계약종류'])['수수료계'].sum().reset_index()\n",
    "df_sum.rename(columns = {'지점':'원지점','변환지점':'지점'}, inplace=True)\n",
    "df_sum.loc[:, \"지사\"] = df_sum.지점.map(lambda x: '지사'  if x in gd.GROUP2 \n",
    "                                    else ('직영' if x in gd.GROUP1 else '오류'))\n",
    "\n",
    "df_sum.to_clipboard(index=False)\n",
    "del d1, d2, d3, d1_brh, d1_team, d1_fc\n",
    "print('end')"
   ]
  },
  {
   "cell_type": "code",
   "execution_count": 12,
   "id": "63c9263c-e255-4b5d-a164-f394266ddaf9",
   "metadata": {},
   "outputs": [
    {
     "name": "stdout",
     "output_type": "stream",
     "text": [
      "자동차   마감실적리스트(자동차)-202303270600.xlsx\n",
      "일반   마감실적리스트(일반)-202303270600.xlsx\n",
      "장기   마감실적리스트(장기)-202303270600.xlsx\n",
      "생보   마감실적리스트(생보)-202303270600.xlsx\n",
      "end\n"
     ]
    }
   ],
   "source": [
    "# -- 수수료지급\n",
    "file_list = os.listdir(dir0)\n",
    "# print(file_list)\n",
    "file_list2= [ s for s in file_list if s.startswith(\"마감실적리스트\")]\n",
    "dfAll = pd.DataFrame()\n",
    "\n",
    "for fname in file_list2: \n",
    "    bojong = ''.join(re.findall('\\(([^)]+)',  fname))\n",
    "    print(bojong,' ', fname)\n",
    "    if (bojong == '생보' or bojong == '장기'):\n",
    "          cols = ['본부','지점','월납보험료','수수료H','수수료S','구분']\n",
    "    elif bojong == '자동차':\n",
    "          cols = ['본부','지점','보험료',    '수수료H','수수료S','납입']\n",
    "    else: cols = ['본부','지점','납입보험료','수수료H','수수료S','구분']\n",
    "    \n",
    "    df1 = pd.DataFrame()\n",
    "    df1 = pd.read_excel(f'{dir0}{fname}', index_col=False, usecols=cols)\n",
    "    df1.columns = ['본부','지점','보험료','수수료H','수수료S','구분']\n",
    "#     print(df1.dtypes)\n",
    "#     print(df1.head(1))\n",
    "    df1 = df1[df1['본부'] == 'GLAD']\n",
    "    if (bojong == '생보' or bojong == '장기'):\n",
    "        df1['보험료'] = df1['보험료'] * df1['구분'].str.contains('초회|철회|취소')\n",
    "    dfT = df1.groupby(['지점'])[['수수료H','수수료S','보험료']].sum().reset_index()\n",
    "    dfT['계약종류'] = bojong\n",
    "    dfAll = pd.concat([dfAll,dfT])\n",
    "\n",
    "dfAll.loc[:, \"지사\"] = dfAll.지점.map(lambda x: '지사'  if x in gd.GROUP2 \n",
    "                                    else ('직영' if x in gd.GROUP1 else '오류'))\n",
    "dfAll.to_clipboard(index=False)\n",
    "print('end2')"
   ]
  },
  {
   "cell_type": "markdown",
   "id": "c051dee1-820e-4238-aa72-85a88c9e3241",
   "metadata": {},
   "source": [
    "#### 시상금"
   ]
  },
  {
   "cell_type": "code",
   "execution_count": 19,
   "id": "1be081b7-a1f2-40e7-a7c3-0e0509efa42d",
   "metadata": {},
   "outputs": [
    {
     "name": "stdout",
     "output_type": "stream",
     "text": [
      "reading  202302 KJ시상정산.xlsx\n",
      "end3\n"
     ]
    }
   ],
   "source": [
    "dir1  = f'{root_dir}/04.수수료작업/{ym}시상/'\n",
    "fileN = f'{ym} KJ시상정산.xlsx'\n",
    "cols = ['지점','장기법인','생보법인','일반','자동차','장기수입','장기지급','생보수입','생보지급']\n",
    "print('reading ',fileN)\n",
    "\n",
    "df3 = pd.read_excel(dir1+fileN, sheet_name='정산', usecols='b,e,h,i,j,k:n',skiprows=22)\n",
    "df3.columns = cols\n",
    "df3 = df3.iloc[:df3[df3['지점']=='계'].index[0]].dropna()\n",
    "df3 = df3[df3['지점'].str.contains('글래드')]\n",
    "df3['손보시상'] = df3['장기법인'] + df3['일반'] + df3['자동차'] + \\\n",
    "                  df3['장기수입'] - df3['장기지급'] \n",
    "df3['생보시상'] = df3['생보법인'] + df3['생보수입'] - df3['생보지급'] \n",
    "# df3[['지점','손보시상','생보시상']].to_clipboard(index=False)\n",
    "df3.to_clipboard(index=False)\n",
    "print('end3')"
   ]
  },
  {
   "cell_type": "markdown",
   "id": "84bc553a-5562-43d5-8ce3-59735fb3b922",
   "metadata": {},
   "source": [
    "#### 기타수수료"
   ]
  },
  {
   "cell_type": "code",
   "execution_count": 20,
   "id": "6098f061-7c36-4eb0-9658-2685ac5e4351",
   "metadata": {},
   "outputs": [
    {
     "name": "stdout",
     "output_type": "stream",
     "text": [
      "end4\n"
     ]
    }
   ],
   "source": [
    "dir2  = f'{root_dir}/04.수수료작업/{ym}수수료/'\n",
    "fileN = f'기타수수료 지급의뢰-{ym}.xlsx'\n",
    "cols= ['항목','지점','금액','지급자']\n",
    "\n",
    "df4 = pd.read_excel(dir2+fileN,usecols='c:f',skiprows=2)\n",
    "df4.columns = cols\n",
    "df4 = df4.dropna()\n",
    "df4.to_clipboard(index=False)\n",
    "print('end4')"
   ]
  },
  {
   "cell_type": "markdown",
   "id": "6bb87545-bf3c-42de-a74c-74da6b66f9fd",
   "metadata": {},
   "source": [
    "#### 본사공제"
   ]
  },
  {
   "cell_type": "code",
   "execution_count": 24,
   "id": "d0a67a62-6ba5-466b-931b-52887de1ea71",
   "metadata": {},
   "outputs": [
    {
     "name": "stderr",
     "output_type": "stream",
     "text": [
      "'pages' argument isn't specified.Will extract only from page 1 by default.\n",
      "Got stderr: 4월 15, 2023 11:21:55 오전 org.apache.pdfbox.pdmodel.font.PDCIDFontType0 <init>\n",
      "WARNING: Using fallback Batang for CID-keyed font Dotum,Bold\n",
      "4월 15, 2023 11:21:58 오전 org.apache.pdfbox.pdmodel.font.PDCIDFontType0 <init>\n",
      "WARNING: Using fallback Batang for CID-keyed font Dotum,Bold\n",
      "\n"
     ]
    },
    {
     "name": "stdout",
     "output_type": "stream",
     "text": [
      "end5\n"
     ]
    }
   ],
   "source": [
    "import tabula\n",
    "\n",
    "in_file = fr\"{root_dir}\\04.수수료작업\\202301시상\\{ym[:4]}년{ym[4:]}월총괄명세서(GLAD_전체).pdf\"\n",
    "df = tabula.read_pdf(in_file)\n",
    "dft = df[5]\n",
    "dd1 = dft.iloc[:,:2]\n",
    "dd2 = dft.iloc[:,3:]\n",
    "dd1.insert(0,'항목','기타공제')\n",
    "dd2.insert(0,'항목','일반공제')\n",
    "\n",
    "df5 = pd.concat([dd1, dd2.rename(columns={'내역.1':'내역','금액.1':'금액',})]).dropna()\n",
    "df5['금액'] = df5['금액'].str.replace(',','').astype(float)\n",
    "# -- 일반공제의 양수 -> 음수로 변환\n",
    "df5['금액'] = [ x*-1  if y=='일반공제' else x  for(x,y)  in zip(df5['금액'], df5['항목'] )]\n",
    "del dd2, dd1\n",
    "df5.insert(0,'년월','202301', allow_duplicates=True)\n",
    "df5['대상'] = ~df5['내역'].str.contains('총합|본사운영비|리스크')\n",
    "print('end5')"
   ]
  },
  {
   "cell_type": "markdown",
   "id": "95cfd844-7924-4e9b-9509-7627bb6fb2c2",
   "metadata": {},
   "source": [
    "#### 결과출력"
   ]
  },
  {
   "cell_type": "code",
   "execution_count": 33,
   "id": "f37c285c-8106-467f-bb4e-31976037dc49",
   "metadata": {},
   "outputs": [
    {
     "name": "stdout",
     "output_type": "stream",
     "text": [
      "completed\n"
     ]
    }
   ],
   "source": [
    "outFile = f'{root_dir}/월별정산/지점손익_{ym}.xlsx'\n",
    "w_mode = 'a' if os.path.isfile(outFile) else 'w'  #파일있으면 append mode\n",
    "\n",
    "if '실적월' in df_sum.columns:\n",
    "    pass\n",
    "else:\n",
    "    df_sum.insert(0,\"실적월\",ym)\n",
    "    dfAll.insert(0,\"실적월\",ym)\n",
    "    df3.insert(0,\"실적월\",ym)\n",
    "    df4.insert(0,\"실적월\",ym)\n",
    "\n",
    "with pd.ExcelWriter(outFile, mode = w_mode, engine=\"openpyxl\",if_sheet_exists='replace') as writer:\n",
    "    df_sum.to_excel(writer, sheet_name=\"수입\",index=False)\n",
    "    dfAll.to_excel(writer, sheet_name=\"지급\",index=False)\n",
    "    df3.to_excel(writer, sheet_name=\"시상\",index=False)\n",
    "    df4.to_excel(writer, sheet_name=\"기타\",index=False)\n",
    "    df5.to_excel(writer, sheet_name=\"본사공제\",index=False)\n",
    "print('completed')"
   ]
  }
 ],
 "metadata": {
  "kernelspec": {
   "display_name": "Python 3",
   "language": "python",
   "name": "python3"
  },
  "language_info": {
   "codemirror_mode": {
    "name": "ipython",
    "version": 3
   },
   "file_extension": ".py",
   "mimetype": "text/x-python",
   "name": "python",
   "nbconvert_exporter": "python",
   "pygments_lexer": "ipython3",
   "version": "3.8.5"
  }
 },
 "nbformat": 4,
 "nbformat_minor": 5
}
