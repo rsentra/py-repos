{
 "cells": [
  {
   "cell_type": "markdown",
   "metadata": {},
   "source": [
    "1. 각 월별 곰스 파일을 읽어온다  \n",
    "2. 데이터 전처리   \n",
    "  - 계약상태를 해당월 말일 기준으로\n",
    "  - 메트로 산하 지점 코드 => 실코드로 전환  (지점공란은 엠피메트로, 직할지점 HL지점, 씨티엠지점,제이엔제이는 지점으로 승격, 팀 시흥1팀은 엠피시흥)\n",
    "  - 직영,지사 구분값 \n",
    "  - 계약일자가 해당월의 몇번째 영업일인지 생성\n",
    "\n",
    "3. 시각화: 전체/ 직영 구분 plot\n",
    "  - 당월,전년동기 라인 그래프\n",
    "  - 최근 4개월  라인그래프\n",
    "  - 당월 일자별 막대그래프 "
   ]
  },
  {
   "cell_type": "code",
   "execution_count": null,
   "metadata": {},
   "outputs": [],
   "source": []
  },
  {
   "cell_type": "markdown",
   "metadata": {},
   "source": [
    "## 1.기초 데이터 일기 및 전처리"
   ]
  },
  {
   "cell_type": "code",
   "execution_count": 1,
   "metadata": {},
   "outputs": [
    {
     "name": "stdout",
     "output_type": "stream",
     "text": [
      "20.05월 -- Processing\n",
      "20.04월 -- Processing\n",
      "20.03월 -- Processing\n",
      "20.02월 -- Processing\n",
      "19.05월 -- Processing\n"
     ]
    }
   ],
   "source": [
    "import pandas as pd\n",
    "import mypkgs.MyDateUtil as MyU  #자체 유틸리티 클래스 로딩\n",
    "import mypkgs.GladUtil as glad\n",
    "\n",
    "from datetime import date, datetime\n",
    "import warnings\n",
    "warnings.filterwarnings('ignore')\n",
    "import seaborn as sns\n",
    "import matplotlib.pyplot as plt\n",
    "%matplotlib inline \n",
    "outdir='d:/글로벌/실적분석/'  #그래르를 저장할 위치\n",
    "\n",
    "data=pd.read_excel('d:/글로벌/실적분석/코드파일.xlsx',sheet_name=None)\n",
    "#data=pd.read_excel('e:/python/testData/코드파일.xlsx',sheet_name=None)\n",
    "\n",
    "df_Files=data['분석파일']\n",
    "# df_Conv=data['지점변환']\n",
    "# df_Grp=data['지점그룹']\n",
    "df_Fc=data['사원']\n",
    "\n",
    "getDT = MyU.getDateUtil()\n",
    "\n",
    "strTodate= lambda x: date(int(dt.split('-')[0]), int(dt.split('-')[1]), int(dt.split('-')[2]) )\n",
    "firstDate= lambda x: datetime(x.year,x.month,1) #해당월의 1일\n",
    "\n",
    "dfList=[pd.DataFrame()]*len(df_Files)\n",
    "def preProc(dfT,Method):\n",
    "    dfT= dfT[(dfT.NO!='합계') & (dfT.계약종류.isin(['장기','생보']))]   #불필요 데이터 삭제\n",
    "    \n",
    "    dfT.rename(columns={'납입주기(방법)':'납입방법'}, inplace=True)\n",
    "    temp = dfT.loc[dfT['납입방법']=='년납','초회보험료'] / 12\n",
    "    dfT.loc[dfT.납입방법=='년납','초회보험료'] = temp\n",
    "    del temp\n",
    "    temp = dfT.loc[dfT['납입방법']=='일시납','초회보험료'] / dfT.loc[dfT.납입방법=='일시납','납입기간']\n",
    "    dfT.loc[dfT.납입방법=='년납','초회보험료'] = temp\n",
    "    del temp\n",
    "    \n",
    "    dfT['계약일자']=pd.to_datetime(dfT.계약일자,format='%Y-%m-%d')\n",
    "    dfT['최종상태변경일']=pd.to_datetime(dfT.최종상태변경일,format='%Y-%m-%d')\n",
    "    dfT['말일']=pd.to_datetime(dfT.계약일자.map(getDT.get_lastday))\n",
    "     \n",
    "    dfT['월말계약상태']= dfT.계약상태\n",
    "    dfT.loc[dfT.말일 < dfT.최종상태변경일,'월말계약상태']='정상'\n",
    "    if Method=='계약월':\n",
    "        dfT=dfT[dfT.월말계약상태=='정상']  #계약월 기준인 경우 계약월말 정상건만 추출\n",
    " \n",
    "    dfT=glad.BrhConv(dfT,'지점그룹')  #지점그룹 생성 / 메트로 코드 분리\n",
    "    dfT['영업일차']=dfT.계약일자.map(getDT.get_workdaysMonth)\n",
    "#    dfT['영업일차']=dfT.apply(lambda x: getDT.get_workdays(firstDate(x['계약일자']),x['계약일자']),axis=1)\n",
    "    dfT['월']= dfT.계약일자.map(lambda x: datetime.strftime(x,\"%Y-%m\")[2:]+'월')\n",
    "    return dfT\n",
    "\n",
    "\n",
    "dfAll=[]\n",
    "dfAll=pd.DataFrame()\n",
    "maxDay=0  #최대영업일수\n",
    "##각 파일별 df를 list\n",
    "for seq, row in df_Files.iterrows():\n",
    "    print(row[0],'-- Processing')\n",
    "    df=pd.read_excel(row[1]+row[2])\n",
    "    df= preProc(df,'계약월')\n",
    "    df= df.reset_index().drop(columns='index')\n",
    "    dfList[seq]=df\n",
    "    maxDay=max(maxDay, df.영업일차.max()) \n",
    "    #   그래프 그리는 로직 필요\n",
    "    \n",
    "maxDay += 1    \n",
    "#내근직 및 퇴사자 제거\n",
    "df_Fc=df_Fc[df_Fc.퇴사일자.isna()]   \n",
    "df_Fc=df_Fc[~df_Fc.업무구분.isin(['내근직'])]\n",
    "df_Fc=df_Fc[(df_Fc.생보등록일.notnull() & df_Fc.생보말소일.isnull()) | (df_Fc.손보등록일.notnull() & df_Fc.손보말소일.isnull())]\n",
    "df_Fc=glad.BrhConv(df_Fc,'지점그룹') \n",
    "df_Fc=df_Fc.loc[:,['지점그룹','지점','사원번호','사원명']]\n"
   ]
  },
  {
   "cell_type": "code",
   "execution_count": 20,
   "metadata": {},
   "outputs": [],
   "source": [
    "# df = pd.pivot_table(dfList[0], values='초회보험료',\n",
    "#                        index=['지점그룹', '지점'],\n",
    "#                        columns=['월','계약종류'],\n",
    "#                        fill_value=0, aggfunc=sum, dropna=True, ).sort_index(axis=1,ascending=False\n",
    "df=df.reset_index().sort_values(by=['지점그룹','지점'],ascending=[False,True])"
   ]
  },
  {
   "cell_type": "code",
   "execution_count": 23,
   "metadata": {},
   "outputs": [
    {
     "data": {
      "text/plain": [
       "9        엠피라온\n",
       "10      엠피레전드\n",
       "11      엠피메트로\n",
       "12       엠피성공\n",
       "13       엠피송내\n",
       "14     엠피아이리치\n",
       "15       엠피여주\n",
       "16      엠피의정부\n",
       "0       씨티엠지점\n",
       "1        엠피가온\n",
       "2        엠피경기\n",
       "3        엠피상동\n",
       "4        엠피시흥\n",
       "5     엠피제이엔제이\n",
       "6        엠피조은\n",
       "7       엠피프라임\n",
       "8      엠피피스토스\n",
       "Name: (지점, ), dtype: object"
      ]
     },
     "execution_count": 23,
     "metadata": {},
     "output_type": "execute_result"
    }
   ],
   "source": [
    "df['지점','']"
   ]
  },
  {
   "cell_type": "code",
   "execution_count": null,
   "metadata": {},
   "outputs": [],
   "source": [
    "# cols=['월']\n",
    "cols=['월']\n",
    "# df=pd.concat([dfList[0],dfList[1],dfList[2],dfList[3],dfList[4]])\n",
    "df=pd.concat([dfList[0],dfList[1]])\n",
    "df['초회보험료']=round(df.초회보험료/1000,1)\n",
    "dd=pd.pivot_table(df, values='초회보험료',\n",
    "                       index=['계약종류','보험사'],\n",
    "                       columns=cols,\n",
    "                       fill_value=0, aggfunc=sum,dropna=True, ).sort_index(axis=1,ascending=False)\n",
    "dd=pd.concat([d.append(d.sum().rename((k, 'Total'))) for k, d in dd.groupby(level=0)])\n",
    "dd=pd.concat([dd.loc['생보',:].rename(columns=lambda x: '1'+x).reset_index().rename(columns={'보험사':'생보'}),\n",
    "        dd.loc['장기',:].rename(columns=lambda x: '2'+x).reset_index().rename(columns={'보험사':'장기'})],axis=1)\n"
   ]
  },
  {
   "cell_type": "code",
   "execution_count": null,
   "metadata": {},
   "outputs": [],
   "source": [
    "cols='월'\n",
    "maxDay=dfList[0].영업일차.max()\n",
    "df=pd.concat([dfList[0],dfList[1],dfList[2],dfList[3]])\n",
    "d1=df[(df.지점그룹=='직영') &  (df.영업일차 <= maxDay)]\n",
    "# d1=df[(df.영업일차<= maxDay) ]\n",
    "dd=pd.pivot_table(d1, values='초회보험료',\n",
    "                       index=['지점','수금사원명'],\n",
    "                       columns=cols,\n",
    "                       fill_value=0, aggfunc=sum,dropna=True, ).sort_index(axis=1,ascending=False)"
   ]
  },
  {
   "cell_type": "code",
   "execution_count": null,
   "metadata": {},
   "outputs": [],
   "source": [
    "col=[]\n",
    "dd.columns.map(lambda x: col.append(x))\n",
    "cc=col[:]\n",
    "idx=-1\n",
    "for i,k in enumerate(cc):\n",
    "    if i < len(col)-1:\n",
    "        newcol= k+'g'\n",
    "        print(k,'=',newcol)\n",
    "        idx= idx + 2  #중간에 컬럼삽입\n",
    "        dd.insert(idx, newcol, dd[col[i]]-dd[col[i+1]])\n",
    "col=[]\n",
    "dd.columns.map(lambda x: col.append(x))\n",
    "d1=dd.sort_values(by=col[0],ascending=False)[col[0]].head(20)\n",
    "d2=dd.sort_values(by=col[1],ascending=False)[col[1]].head(20)\n",
    "d3=dd.sort_values(by=col[1],ascending=True)[col[1]].head(20)\n",
    "\n",
    "# dd.sort_values(by='20-05월',ascending=False)\n",
    "# dd.sort_values(by='gr',ascending=False)\n",
    "# dd.sort_values(by='gr')\n",
    "# dfList[0].영업일차.max()"
   ]
  },
  {
   "cell_type": "code",
   "execution_count": null,
   "metadata": {},
   "outputs": [],
   "source": [
    "dl"
   ]
  },
  {
   "cell_type": "code",
   "execution_count": null,
   "metadata": {},
   "outputs": [],
   "source": [
    "# dd.loc['t']=dd.sum()\n",
    "# dd.loc['Row_Total1'] = dd.sum(numeric_only=True, axis=0)\n",
    "# dd.sum(numeric_only=True, axis=0)\n",
    "# dd.append(dd.sum().rename('Total')).assign(Total=lambda d: d.sum(1) \n",
    "dd=pd.concat([d.append(d.sum().rename((k, 'Total'))) for k, d in dd.groupby(level=0)])\n",
    "dd=pd.concat([dd.loc['생보',:].reset_index(),dd.loc['장기',:].reset_index()],axis=1)\n",
    "dd\n",
    "# pd.concat([d.append(d.sum().rename((k, 'Total'))) for k, d in dd.groupby(level=0)])"
   ]
  },
  {
   "cell_type": "code",
   "execution_count": null,
   "metadata": {},
   "outputs": [],
   "source": [
    "# for i in col:\n",
    "#     d1=dd.head(10).style.format({i: \"{:,.0f}\"})\n",
    "print(i in list(col))"
   ]
  },
  {
   "cell_type": "code",
   "execution_count": null,
   "metadata": {},
   "outputs": [],
   "source": [
    "import numpy as np\n",
    "# df=pd.DataFrame(dfList[0].groupby(['지점그룹','지점','월'])['초회보험료'].agg('sum'))\n",
    "# df2=pd.DataFrame(dfList[1].groupby(['지점그룹','지점','월'])['초회보험료'].agg('sum'))\n",
    "# df=pd.concat([df,df2])\n",
    "# df=df.pivot_table( index=['지점', '지점그룹'],columns='월',values='초회보험료')\n",
    "# df=df.reset_index()\n",
    "# dft=pd.DataFrame(df[col].sum(axis=0)).transpose()\n",
    "# dft['지점그룹']='total'\n",
    "# dft['지점']=''\n",
    "\n",
    "# # df.sort_values(by=['지점그룹','지점'],ascending=[False,True])\n",
    "# # df\n",
    "# #subtotal\n",
    "# df=df.groupby(['지점그룹']).apply(lambda sub_df: sub_df.pivot_table(index=['지점'], \n",
    "#                                 values=['20-03월','20-04월'], aggfunc='sum', margins=True)).reset_index()\n",
    "# df\n",
    "# pd.DataFrame(df.groupby('지점그룹')['20-03월','20-04월'].agg('sum'))\n",
    "\n",
    "\n",
    "# dft['지점']='total'\n",
    "# df_jik=pd.DataFrame(df[df.지점그룹=='직영'].groupby(['지점그룹'])[col].sum()).reset_index()\n",
    "df_jik= df[(df.지점그룹=='직영') & (df.지점=='All') ]\n",
    "\n",
    "# df_jik2=pd.DataFrame(df_jik[col].apply(lambda x: round(x*100/dft[col]), axis=1))\n",
    "# df.append(pd.DataFrame(df_jik2))\n",
    "# for idx,val in ss.items():\n",
    "#     print(val)\n",
    "#     print(sum(ss.values))\n",
    "#     txt = txt + idx + ' ' + '{0:,.0f}'.format(val/1000) + ' ({0:.0f}%)'.format(val/sum(ss.values)*100)\n"
   ]
  },
  {
   "cell_type": "code",
   "execution_count": null,
   "metadata": {},
   "outputs": [],
   "source": [
    "# pivot\n",
    "# table = pd.pivot_table(dt, values='초회보험료',\n",
    "#                        index=['지점그룹', '지점'],\n",
    "#                        columns=['월'],\n",
    "#                        fill_value=0, aggfunc=sum, dropna=True, )\n",
    "# #subtotal grandtotal\n",
    "# s=pd.concat([\n",
    "#     d.append(d.sum().rename((k, 'Total')))\n",
    "#     for k, d in table.groupby(level=0)\n",
    "# ]).append(table.sum().rename(('Grand', 'Total')))"
   ]
  },
  {
   "cell_type": "code",
   "execution_count": null,
   "metadata": {},
   "outputs": [],
   "source": [
    "def dfMake():\n",
    "    월=list(range(0,maxDay))\n",
    "    일차=list(range(1,maxDay+1))\n",
    "    실적= [0]* maxDay\n",
    "    누계= [0]* maxDay\n",
    "    dfd=pd.DataFrame()\n",
    "    dfd=pd.DataFrame({'월':월,'일차':일차,'실적':실적,'누계':누계})\n",
    "    return dfd\n",
    "\n",
    "def workDates(dt):\n",
    "    wd1=date(dt.year,dt.month,1)\n",
    "    wd2=getDT.get_lastday(wd1)\n",
    "    return getDT.get_workdates(wd1,wd2)\n",
    "\n",
    "dfSum=pd.DataFrame()\n",
    "workDateList=[] #당월의 영업일 list\n",
    "thisMonth= dfList[0].월.max()  #가장 최근월을 당월로 설정\n",
    "prevMonth=''\n",
    "\n",
    "# 각 df 반복\n",
    "for seq, dfRow in enumerate(dfList):\n",
    "#     print(dfRow.월[0],len(dfRow),' 건--processing')\n",
    "    df_Temp = pd.DataFrame(dfRow.groupby(['월','영업일차'])['초회보험료'].agg('sum')).reset_index()  #집계\n",
    "    df_Temp['초회보험료']=round(df_Temp['초회보험료']/ 1000,0)\n",
    "    df_Temp['csum'] = df_Temp.groupby(['월'])['초회보험료'].cumsum()  #누계생성\n",
    "    dfd = dfMake()\n",
    "    dfd['월']=df_Temp.월[0]   #컬럼 초기화\n",
    "    dfd['실적']=0\n",
    "    dfd['누계']=0\n",
    "    for seq1, row in enumerate(df_Temp.iterrows()):    # groupby df를 dfSum에 복사\n",
    "        dfd.iloc[seq1]=[row[1][0],row[1][1],row[1][2],row[1][3]]\n",
    "    \n",
    "    dfd['누계']=  dfd.실적.expanding().sum()  #빈 row의 값을 채움\n",
    "#     dfd['실적']=  dfd.누계.expanding().sum()\n",
    "    if dfRow.월[0]== thisMonth:\n",
    "        workDateList=workDates(dfRow.계약일자[0])\n",
    "        dfThis= dfd\n",
    "    elif dfRow.월[0] > prevMonth:\n",
    "        prevMonth=dfRow.월[0]\n",
    "        \n",
    "    dfSum=pd.concat([dfSum,dfd])\n",
    "    del dfd\n",
    "    "
   ]
  },
  {
   "cell_type": "markdown",
   "metadata": {},
   "source": [
    "## 월별 실적 추세"
   ]
  },
  {
   "cell_type": "code",
   "execution_count": null,
   "metadata": {},
   "outputs": [],
   "source": [
    "\n",
    "# Window 의 한글 폰트 설정\n",
    "import matplotlib.font_manager as fm\n",
    "\n",
    "fm.get_fontconfig_fonts()\n",
    "font_location = 'c:/windows/Fonts/gulim.ttc'\n",
    "font_name = fm.FontProperties(fname=font_location).get_name()\n",
    "\n",
    "fontprop = fm.FontProperties(fname=\"./MalgunGothic.ttf\", size=24)\n",
    "font = {'family' : font_name,\n",
    "        'weight' : 'bold',\n",
    "        'size'   : 16}\n",
    "plt.rc('font', **font)  # pass in the font dict as kwargs\n",
    "\n",
    "fontprop = fm.FontProperties(fname=font_location, size=24)\n",
    "\n",
    "plt.rc('axes', unicode_minus=False)\n",
    "plt.figure(figsize=(20,10))\n",
    "# plt.set_size_inches(20, 10)\n",
    "# sns.set(font_scale=1.0)  sns를 사용하면 한글깨짐\n",
    "# sns.set_style(\"white\")\n",
    "\n",
    "plt.rcParams[\"font.family\"] = font_name\n",
    "plt.rcParams['font.size'] = 12.\n",
    "plt.rcParams['xtick.labelsize'] = 12.\n",
    "plt.rcParams['ytick.labelsize'] = 12.\n",
    "plt.rcParams['axes.labelsize'] = 13. #축 라벨 \n",
    "plt.rcParams['axes.grid'] = True \n",
    "\n",
    "plt.style.context('dark_background')\n",
    "palette = sns.color_palette(\"muted\", len(dfSum.월.unique())) #각 월 컬러지정\n",
    "\n",
    "#그래프가 밀리는 현상 제거용\n",
    "dfSum['s일차']=dfSum.일차 - 1\n",
    "dfThis['s일차']=dfThis.일차 - 1\n",
    "\n",
    "mx= dfThis[dfThis.실적>0].index.max()  #당월최종영업일\n",
    "s=dfSum.shape[0]/(len(dfSum.월.unique()))   #각월의 최종일\n",
    "plt.title(\"월별 실적 추세\",fontproperties=fontprop,fontdict=font)\n",
    "g=sns.lineplot(x='s일차', y=\"누계\", hue='월',linewidth=2, data=dfSum,palette=palette)  #월별 실적 line 그래프\n",
    "g=sns.lineplot(x='s일차', y=\"누계\",linewidth=5,color=palette[0],marker='*', data=dfThis)\n",
    "for i,val in enumerate(dfSum.누계):  #당월 마지막 영업일, 각월의 최종일에 누계표시\n",
    "    if  i==mx:\n",
    "        g.text(x=i,y=round(val),s='{:,d}'.format(int(val)),ha='center')\n",
    "    if  (i+1) %s==0:\n",
    "        g.text(x=s-0.5,y=round(val),s='{:,d}'.format(int(val)),ha='center')\n",
    "        \n",
    "g=sns.barplot(x=\"s일차\", y=\"실적\",  data=dfThis)   #당월 bar\n",
    "for i,val in enumerate(dfThis.실적):\n",
    "    g.text(x=i,y=round(val),s='{:,d}'.format(int(val)),ha='center')\n",
    "\n",
    "dfSum.drop(columns='s일차',inplace=True)\n",
    "dfThis.drop(columns='s일차',inplace=True)\n",
    "\n",
    "txt=''\n",
    "ss=dfList[0].groupby(['지점그룹'])['초회보험료'].sum()\n",
    "for idx,val in ss.items():\n",
    "    txt = txt + idx + ' ' + '{0:,.0f}'.format(val/1000) + ' ({0:.0f}%)'.format(val/sum(ss.values)*100)\n",
    "    txt = txt + '\\n'\n",
    "txt = txt + '합계' + ' ' + '{0:,.0f}'.format(sum(ss.values)/1000) + '  ♠~♠'\n",
    "txt=txt.rstrip()    \n",
    "plt.text( s/3, dfSum.누계.max()*0.9, txt, bbox=dict(boxstyle='square', color='yellowgreen'),fontsize=20)\n",
    "\n",
    "plt.ylabel(\"누계\",rotation=45)\n",
    "plt.xlabel(\"영업일차\")\n",
    "plt.xticks(range(0,23),workDateList,rotation = 45)\n",
    "plt.legend()\n",
    "plt.savefig(outdir+'report1.png',dpi=120)\n",
    "plt.show()"
   ]
  },
  {
   "cell_type": "code",
   "execution_count": null,
   "metadata": {},
   "outputs": [],
   "source": [
    "# dfList[0].계약일자.map(lambda x: x.strftime('%Y-%m-%d'))\n",
    "# df=df[df.계약종류.isin(['장기','생보'])]   #불필요 데이터 삭제\n",
    "workDateList"
   ]
  },
  {
   "cell_type": "markdown",
   "metadata": {},
   "source": [
    "## 지점별 실적\n",
    "  - 히트맵"
   ]
  },
  {
   "cell_type": "code",
   "execution_count": null,
   "metadata": {},
   "outputs": [],
   "source": [
    "fig,(ax1,ax2) = plt.subplots(1,2, sharey=False)\n",
    "plt.subplots_adjust(wspace=.8)\n",
    "plt.tight_layout()\n",
    "fig.set_size_inches(20, 10)\n",
    "\n",
    "fp=dfList[0].groupby(['지점','계약일자'])['초회보험료'].count().reset_index()\n",
    "fp['일자']= fp.계약일자.map(lambda x: datetime.strftime(x,'%d'))\n",
    "fp1 = fp.pivot('지점','일자','초회보험료').fillna(0)\n",
    "g=sns.heatmap(fp1, annot=True, fmt='.3g', cmap=sns.light_palette('red'),ax=ax1)\n",
    "g.set_title('일자별 건수')\n",
    "g.set_xlabel(\"Date\",rotation=45)\n",
    "g.set_ylabel(\"Branch\",rotation=60)\n",
    "\n",
    "fp=dfList[0].groupby(['지점','계약일자'])['초회보험료'].sum().reset_index()\n",
    "fp['일자']= fp.계약일자.map(lambda x: datetime.strftime(x,'%d'))\n",
    "fp['초회보험료']=round(fp['초회보험료']/10000,0)\n",
    "fp1 = fp.pivot('지점','일자','초회보험료').fillna(0)\n",
    "g=sns.heatmap(fp1, annot=True, fmt='.3g', cmap=sns.light_palette('blue'),ax=ax2)\n",
    "g.set_title('일자별 실적(만원)')\n",
    "g.set_xlabel(\"Date\",rotation=45)\n",
    "g.set_ylabel(\"Branch\",rotation=60)\n",
    "plt.savefig(outdir+'report2.png',dpi=120)"
   ]
  },
  {
   "cell_type": "code",
   "execution_count": null,
   "metadata": {},
   "outputs": [],
   "source": [
    "##sns 두개를 하나에 그리기\n",
    "fig,(ax1,ax2) = plt.subplots(1,2, sharey=False)\n",
    "plt.subplots_adjust(wspace=.8)\n",
    "\n",
    "fig.set_size_inches(20, 10)\n",
    "# print(fig.get_size_inches)\n",
    "\n",
    "#당월건 분석\n",
    "dfT=dfList[0].loc[dfList[0].월==thisMonth]\n",
    "dfT=pd.pivot_table(dfT,index=['지점그룹','지점'],columns='계약종류',values='초회보험료'\n",
    "     ,aggfunc=sum,fill_value=0).reset_index()\n",
    "# if not dfT.columns.contains('생보'):  #생보없으면 생성\n",
    "#     dfT['생보']=0\n",
    "    \n",
    "dfT['합']=dfT.장기+dfT.생보\n",
    "dfT.iloc[:,2:5]=dfT.iloc[:,2:5]/1000  #천원단위\n",
    "df1= dfT\n",
    "\n",
    "# 1번 그래프 : 지점별 실적\n",
    "ax1.bar(df1.지점, df1.합,color='g',label='생보')\n",
    "ax1.bar(df1.지점, df1.장기,color='blue',label='장기')\n",
    "ax1.set_xticklabels(df1.지점, rotation=-45)\n",
    "ax1.set_title('실적-지점/구성비',fontdict=font)\n",
    "ax1.set_xlabel(\"지점\")\n",
    "ax1.set_ylabel(\"실적\",rotation=45)\n",
    "ax1.legend()\n",
    "\n",
    "# 2번 그래프 : 직영사원 top10\n",
    "dfT=dfList[0].loc[dfList[0].월==thisMonth]\n",
    "df1=dfT[dfT.지점그룹=='직영'].groupby(['지점','수금사원명'])['초회보험료'].sum().reset_index().sort_values(by='초회보험료',ascending=False).head(20)\n",
    "df1['초회보험료']=df1.초회보험료 /1000\n",
    "g= sns.barplot(x=\"수금사원명\", y=\"초회보험료\",data=df1, ax = ax2)\n",
    "g.set_xticklabels(g.get_xticklabels(), rotation=45,\n",
    "                  horizontalalignment='right',\n",
    "                  fontweight='light',\n",
    "                  fontsize='11'\n",
    "                 )\n",
    "ax2.set_title('직영사원Top20',fontdict=font)\n",
    "ax2.set_ylabel(\"실적\",rotation=45)\n",
    "ax2.set_xlabel(\"X=우수사원\")\n",
    "# ax2.legend()\n",
    "\n",
    "plt.tight_layout()\n",
    "plt.savefig(outdir+'report3.png',dpi=120)"
   ]
  },
  {
   "cell_type": "code",
   "execution_count": null,
   "metadata": {},
   "outputs": [],
   "source": [
    "# dd=pd.DataFrame(dfT.지점.unique(),columns=['지점'])\n",
    "dd=pd.concat([dfList[0],dfList[1]])\n",
    "dfT=pd.pivot_table(dd,index=['지점그룹','지점'],columns='계약종류',values='초회보험료'\n",
    "     ,aggfunc=sum,fill_value=0).reset_index()"
   ]
  },
  {
   "cell_type": "code",
   "execution_count": null,
   "metadata": {},
   "outputs": [],
   "source": [
    "# for col in df.계약종류.unique():\n",
    "#     print(dfT[col])\n",
    "# lis=[]\n",
    "# lis.append(li)\n",
    "# lis.append(li2)\n",
    "round(dfT['장기']/1000)"
   ]
  },
  {
   "cell_type": "markdown",
   "metadata": {},
   "source": [
    "## 실적 변동"
   ]
  },
  {
   "cell_type": "code",
   "execution_count": null,
   "metadata": {},
   "outputs": [],
   "source": [
    "##sns 전월대비 상승,하락 사원(직영지점/사원)\n",
    "#당월건 분석\n",
    "plt.rcParams['axes.unicode_minus']=True\n",
    "for seq, dfRow in enumerate(dfList):\n",
    "    if dfRow.월[0]==thisMonth:\n",
    "        dfThis1=dfRow\n",
    "    elif dfRow.월[0]==prevMonth:\n",
    "        dfPrev1=dfRow\n",
    "    \n",
    "dfT=pd.concat([dfThis1,dfPrev1])\n",
    "m= dfList[0].영업일차.max()\n",
    "dfT=dfT[(dfT.지점그룹=='직영') & (dfT.영업일차<=m)]\n",
    "\n",
    "dfT=pd.pivot_table(dfT,index=['지점','수금사원명'],columns='월',values='초회보험료'\n",
    "     ,aggfunc=sum,fill_value=0).reset_index()\n",
    "\n",
    "fig,(ax1,ax2) = plt.subplots(1,2, sharey=False)\n",
    "ax1= plt.subplot(221)  #top left\n",
    "ax2= plt.subplot(222)  #top right\n",
    "ax3= plt.subplot(212)  #bottom\n",
    "plt.subplots_adjust(wspace=.8)\n",
    "fig.set_size_inches(20, 10)\n",
    "\n",
    "# 1.전월대비-지점\n",
    "df1=dfT\n",
    "df1['차']= (df1.iloc[:,3]-df1.iloc[:,2]) /1000\n",
    "df1=df1.groupby('지점')['차'].agg('sum').reset_index().sort_values(by='차')\n",
    "sns.barplot(x=df1.지점,y=df1.차,ax=ax1)\n",
    "ax1.axhline(0, color=\"k\", clip_on=False)\n",
    "ax1.set_title('전월대비증감-직영',fontdict=font)\n",
    "# ax1.set_xlabel(\"지점\")\n",
    "ax1.set_ylabel(\"실적\",rotation=45)\n",
    "\n",
    "# 2.전월대비-사원별\n",
    "df1=dfT\n",
    "df1['차']= (df1.iloc[:,3]-df1.iloc[:,2]) /1000\n",
    "df1=df1.sort_values(by='차')\n",
    "sns.barplot(x=df1.수금사원명, y=df1.차, palette=\"vlag\", ax=ax3)\n",
    "ax3.axhline(0, color=\"k\", clip_on=False)\n",
    "ax3.set_ylabel(\"증감\",rotation=45)\n",
    "ax3.set_xticklabels(df1.수금사원명, rotation=-45)\n",
    "ax3.set_xlabel(\"전월대비증감-직영 사원별\")\n",
    "\n",
    "# 3. 지점 구성비 (당월)\n",
    "plt.subplots_adjust(wspace=.8)\n",
    "df2=dfList[0][dfThis1.지점그룹=='직영'].groupby(['지점'])['초회보험료'].sum().reset_index().sort_values(by='초회보험료',ascending=False).head(10)\n",
    "df2['초회보험료']=df2.초회보험료 / 1000\n",
    "df2['구성비']=df2.초회보험료/df2.초회보험료.sum()\n",
    "ex=[0]*df2.shape[0]\n",
    "ex[:3]=[0.08,0.06,0.04]  #상위1,2개 exploding\n",
    "ax2.pie(df2.구성비, labels=df2.지점, autopct='%1.1f%%',\n",
    "         shadow=False, startangle=45,explode=ex)\n",
    "ax2.axis('equal')  # Equal aspect ratio ensures that pie is drawn as a circle.\n",
    "ax2.set_title('직영- 지점 M/S',fontdict=font)\n",
    "# ax2.set_xlabel(\"지점\")\n",
    "ax2.set_ylabel(\"실적\",rotation=45)\n",
    "\n",
    "plt.tight_layout()\n",
    "plt.savefig(outdir+'report4.png',dpi=120)\n",
    "del dfThis1, dfPrev1"
   ]
  },
  {
   "cell_type": "code",
   "execution_count": null,
   "metadata": {},
   "outputs": [],
   "source": [
    "dfT.sort_values(by='차',ascending=True)\n"
   ]
  },
  {
   "cell_type": "code",
   "execution_count": null,
   "metadata": {},
   "outputs": [],
   "source": [
    "# dd=pd.concat([dfList[0],dfList[1]])\n",
    "dt=pd.pivot_table(dd,index=['지점그룹','지점'],columns='월',values='초회보험료'\n",
    "     ,aggfunc=np.sum,fill_value=0,dropna=True)"
   ]
  },
  {
   "cell_type": "code",
   "execution_count": null,
   "metadata": {},
   "outputs": [],
   "source": [
    "pd.concat([\n",
    "    d.append(d.sum().rename((k, 'Total')))\n",
    "    for k, d in dt.groupby(level=0)\n",
    "]).append(dt.sum().rename(('Grand', 'Total')))\n"
   ]
  },
  {
   "cell_type": "code",
   "execution_count": null,
   "metadata": {},
   "outputs": [],
   "source": [
    "pd.concat([\n",
    "    d.append(d.sum().rename((k, 'Total')))\n",
    "    for k, d in dt.groupby(level=0)\n",
    "])"
   ]
  },
  {
   "cell_type": "code",
   "execution_count": null,
   "metadata": {},
   "outputs": [],
   "source": [
    "dg"
   ]
  },
  {
   "cell_type": "code",
   "execution_count": null,
   "metadata": {},
   "outputs": [],
   "source": [
    "len(dfList[0])+len(dfList[1])+len(dfList[2])"
   ]
  },
  {
   "cell_type": "markdown",
   "metadata": {},
   "source": [
    "## 지점별 가동율"
   ]
  },
  {
   "cell_type": "code",
   "execution_count": null,
   "metadata": {},
   "outputs": [],
   "source": [
    "# df_Fc=pd.read_excel('d:/글로벌/실적분석/코드파일.xlsx',sheet_name='사원')\n",
    "for seq, dfRow in enumerate(dfList):\n",
    "    if dfRow.월[0]==thisMonth:\n",
    "        dfThis2=dfRow\n",
    "    elif dfRow.월[0]==prevMonth:\n",
    "        dfPrev2=dfRow\n",
    "        \n",
    "df_t=df_Fc.join(dfThis2.groupby('수금사원명')['초회보험료'].agg('sum'), on='사원명')  \n",
    "df_t['월']=dfThis2.loc[0,'월']\n",
    "df_t1=df_Fc.join(dfPrev2.groupby('수금사원명')['초회보험료'].agg('sum'), on='사원명')  \n",
    "df_t1['월']=dfPrev2.loc[0,'월']\n",
    "del dfThis2, dfPrev2\n",
    "\n",
    "df_wk=pd.concat([df_t,df_t1])\n",
    "df_wk['가동']=df_wk.초회보험료.map(lambda x: 1 if x>0 else 0)\n",
    "df_wk['초회보험료']=df_wk['초회보험료'].fillna(0)\n",
    "\n",
    "\n",
    "import matplotlib.pyplot as plt\n",
    "%matplotlib inline \n",
    "\n",
    "fdict={'fontsize':16, 'fontweight':20,'color':'r'}\n",
    "fig,(ax1,ax2) = plt.subplots(1,2, sharey=False)\n",
    "ax1= plt.subplot(221)  #top left\n",
    "ax2= plt.subplot(222)  #top right\n",
    "plt.subplots_adjust(wspace=.2)\n",
    "fig.set_size_inches(20, 10)\n",
    "dft=df_wk.groupby(['지점그룹','지점','월'])['가동'].agg(['sum','count']).reset_index()\n",
    "dft.rename(columns={'sum':'가동','count':'재적'},inplace=True)\n",
    "dft['가동율']= dft.가동 / dft.재적 * 100\n",
    "\n",
    "dft1= dft[(dft.지점그룹=='직영') & (dft.월== dft.월.max())]\n",
    "sns.barplot(data=dft1,x=dft1.지점, y=dft1['재적'], ax=ax1)\n",
    "ax1.set_xticklabels(ax1.get_xticklabels(), rotation=-45)\n",
    "ax1.set_title('재적FC',fontdict=fdict)\n",
    "ax1.set_xlabel(\" \")\n",
    "for i,val in enumerate(dft1.재적):\n",
    "    ax1.text(x=i,y=round(val),s=round(val),ha='center')\n",
    "\n",
    "dft1= dft[dft.지점그룹=='직영']\n",
    "ax2.set_xticklabels(ax2.get_xticklabels(), rotation=-45)\n",
    "ax2.set_title('가동율',fontdict=fdict)\n",
    "ax2.set_ylabel(\"%\",rotation=90)\n",
    "\n",
    "sns.barplot(data=dft1,x=dft1.지점, y=dft1['가동율'], hue='월',  ax=ax2)\n",
    "for i,val in enumerate(dft1.가동율):\n",
    "    ax2.text(x=i/2,y=round(val),s=round(val),ha='left')\n",
    "ax2.set_xlabel(\" \")\n",
    "    \n",
    "plt.savefig(outdir+'report5.png',dpi=120) "
   ]
  },
  {
   "cell_type": "markdown",
   "metadata": {},
   "source": [
    "## 그래프 이미지를 합쳐서 저장"
   ]
  },
  {
   "cell_type": "code",
   "execution_count": null,
   "metadata": {},
   "outputs": [],
   "source": [
    "from PIL import ImageSequence, Image\n",
    "import glob\n",
    "import sys\n",
    "import os\n",
    "# outdir='e:/python/5.Exercise on Glad/'\n",
    "\n",
    "def create_aggregated_tiff(input_tiffs):\n",
    "    im_list = []\n",
    "    for tiff_path in input_tiffs:\n",
    "#         print(tiff_path)\n",
    "        img = Image.open(open(tiff_path,'rb'))\n",
    "        for page in ImageSequence.Iterator(img):\n",
    "            print(page)\n",
    "            im_list.append(page)\n",
    "#             print(len(im_list))\n",
    "    print(im_list[0])\n",
    "    return im_list\n",
    "    #im_list.save(\"test.tif\", compression=\"tiff_deflate\", save_all=True)\n",
    "\n",
    "input_tiffs = [outdir+'./report1.png',\n",
    "               outdir+'./report2.png',\n",
    "               outdir+'./report3.png',\n",
    "               outdir+'./report4.png',\n",
    "               outdir+'./report5.png'\n",
    "               ]\n",
    "lst = create_aggregated_tiff(input_tiffs=input_tiffs)\n",
    "#     print(lst[0])\n",
    "img1 = lst[0]\n",
    "img1.save(outdir+\"reportAll.tif\", save_all=True, append_images=lst[1:])"
   ]
  },
  {
   "cell_type": "markdown",
   "metadata": {},
   "source": [
    "## 당월 계약-건당보험료 상위20%"
   ]
  },
  {
   "cell_type": "code",
   "execution_count": null,
   "metadata": {},
   "outputs": [],
   "source": [
    "import numpy as np\n",
    "\n",
    "df=dfList[0].copy()\n",
    "# bins_name=['1/4','2/4','3/4','4/4']\n",
    "bins_val=[0]\n",
    "bins_name=[]\n",
    "count=5\n",
    "for i in range(1,count+1):\n",
    "    bins_name.append(str(i)+'/'+str(count))\n",
    "    bins_val.append(df.초회보험료.quantile(i/count))\n",
    "    \n",
    "print(bins_val)\n",
    "# count,bins_val=np.histogram(df.초회보험료,bins=4) # 3분할\n",
    "df['등급']=pd.cut(df.초회보험료, \n",
    "            bins=bins_val,  #경계값 리스트\n",
    "            labels=bins_name,  #bin이름\n",
    "            include_lowest=True) #첫 경계값 포함여부\n",
    "\n",
    "gd=[max(bins_name)]\n",
    "cond=(df.등급.isin(gd)) & (df.계약일자>='2020-03-01')\n",
    "cond2=(df.지점그룹=='직영')\n",
    "cols=['지점','수금사원명','계약자','계약일자','초회보험료','상품종류']\n",
    "df.loc[cond&cond2,cols ].sort_values(by=['지점','수금사원명'])"
   ]
  },
  {
   "cell_type": "code",
   "execution_count": null,
   "metadata": {},
   "outputs": [],
   "source": [
    "# bins_name=['1/4','2/4','3/4','4/4']\n",
    "# count,bins_val=np.histogram(df.초회보험료,bins=4) # 3분할\n",
    "# df.초회보험료.rank(method='first')\n",
    "# df.nlargest(100,  '초회보험료')['초회보험료']\n",
    "# bins_val=[0]\n",
    "# count=4\n",
    "# for i in range(1,count+1):\n",
    "#     print(i)\n",
    "#     bins_val.append(df.초회보험료.quantile(i/count))\n",
    "# # bins_val\n",
    "# df.to_csv('d:/tt.csv',encoding='cp949')\n",
    "bins_name.reverse()\n",
    "[bins_name[len(bins_name)-1]]"
   ]
  },
  {
   "cell_type": "markdown",
   "metadata": {},
   "source": [
    "## -------------------------------------위까지 마지막  \n",
    "   아래는 유지율 산출..  "
   ]
  },
  {
   "cell_type": "code",
   "execution_count": null,
   "metadata": {},
   "outputs": [],
   "source": [
    "data=pd.read_excel('d:/글로벌/실적분석/코드파일.xlsx',sheet_name='유지율파일')\n",
    "df=pd.read_excel(data.폴더명[0]+data.파일명[0])\n",
    "df=preProc(df,'현재월')\n",
    "\n",
    "en='2020-03-01'\n",
    "st=df.계약일자[0]\n",
    "en=datetime.strptime(en,'%Y-%m-%d')\n",
    "seqNo= (en.year-st.year)*12+(en.month-st.month) -2  #납입회차\n",
    "\n",
    "#미유지건 전처리\n",
    "code=['정상','부활']\n",
    "code1=['철회','반송','취소','품보']\n",
    "df['유지상태']=df.계약상태.map(lambda x: '정상' if x in(code) else ( '철취' if x in(code1) else '미유지'))\n",
    "#2회 납입지연건은 '미유지'처리\n",
    "df.loc[(df.유지상태=='정상') & (df.납입방법=='월납') & (df.납입회차< seqNo-2),'유지상태']='미유지'\n",
    "\n",
    "dft=pd.pivot_table(df, index=['지점그룹','지점','수금사원명','계약종류'],columns='유지상태',values='초회보험료'\n",
    "     ,aggfunc=sum,fill_value=0).reset_index()\n",
    "dft['유지율']=(dft.정상/ (dft.정상+dft.미유지) * 100).fillna(0)\n",
    "dft['철취율']=(dft.철취/ (dft.정상+dft.미유지+dft.철취) * 100).fillna(0)"
   ]
  },
  {
   "cell_type": "code",
   "execution_count": null,
   "metadata": {},
   "outputs": [],
   "source": [
    "fig,(ax1,ax2) = plt.subplots(1,2, sharey=False)\n",
    "ax1= plt.subplot(221)  #top left\n",
    "ax2= plt.subplot(222)  #top right\n",
    "plt.subplots_adjust(wspace=.2)\n",
    "fig.set_size_inches(20, 12)\n",
    "\n",
    "brh=['직영']\n",
    "dft1=dft[dft.지점그룹.isin(brh)]\n",
    "dft1=pd.pivot_table(dft1, index=['지점그룹','지점','계약종류'],values=['미유지','정상','철취']\n",
    "     ,aggfunc=sum,fill_value=0).reset_index()\n",
    "dft1['유지율']=(dft1.정상/ (dft1.정상+dft1.미유지) * 100).fillna(0)\n",
    "dft1['철취율']=(dft1.철취/ (dft1.정상+dft1.미유지+dft1.철취) * 100).fillna(0)\n",
    "sns.barplot(data=dft1,x=dft1.지점, y=dft1['유지율'],hue='계약종류', ax=ax1)\n",
    "sns.lineplot(data=dft1,x=dft1.지점, y=dft1['철취율'],ax=ax1)\n",
    "ax1.set_xticklabels(ax1.get_xticklabels(), rotation=-45)\n",
    "ax1.set_title('13회차 유지율')\n",
    "\n",
    "dft1=dft[(dft.지점그룹.isin(brh)) & (dft.계약종류=='장기')].sort_values('유지율').head(20)\n",
    "sns.barplot(data=dft1,x=dft1.수금사원명, y=dft1['유지율'],hue='계약종류', ax=ax2)\n",
    "ax2.set_xticklabels(ax2.get_xticklabels(), rotation=-45)\n",
    "ax2.set_title('유지율 bottom20')"
   ]
  },
  {
   "cell_type": "code",
   "execution_count": null,
   "metadata": {},
   "outputs": [],
   "source": []
  },
  {
   "cell_type": "code",
   "execution_count": null,
   "metadata": {},
   "outputs": [],
   "source": [
    "p=pd.Period(2019,freq='A-DEC')"
   ]
  },
  {
   "cell_type": "code",
   "execution_count": null,
   "metadata": {},
   "outputs": [],
   "source": [
    "data.최종상태변경일=pd.to_datetime(data.최종상태변경일,format='%Y-%m-%d')"
   ]
  },
  {
   "cell_type": "code",
   "execution_count": null,
   "metadata": {},
   "outputs": [],
   "source": [
    "pd.date_range('1/1/2019','6/30/2019',freq='m')\n",
    "# rng=pd.period_range('1/1/2019','6/30/2019',freq='d')"
   ]
  },
  {
   "cell_type": "code",
   "execution_count": null,
   "metadata": {},
   "outputs": [],
   "source": [
    "import pandas as pd\n",
    "import mypkgs.MyDateUtil as MyU  #자체 유틸리티 클래스 로딩\n",
    "from datetime import date, datetime\n",
    "df=pd.read_excel('e:/python/testData/test.xlsx')"
   ]
  },
  {
   "cell_type": "code",
   "execution_count": null,
   "metadata": {},
   "outputs": [],
   "source": [
    "'시흥' in ('엠피시1')"
   ]
  },
  {
   "cell_type": "code",
   "execution_count": null,
   "metadata": {},
   "outputs": [],
   "source": [
    "#--그래프에 값을 표시하는 사례\n",
    "# barh 함수(bar 위치의 배열, 구체적인 수치의 배열, algin='center', height=0.5)를 통해 각 인덱스와 값을 입력\n",
    "rects = plt.barh(ind, diff.sort_values()[:20].values, align='center', height=0.5)\n",
    "# yticks 함수를 통해 각 인덱스와 이름 태그를 입력\n",
    "plt.yticks(ind, diff.sort_values()[:20].index)\n",
    "# 막대마다 수치를 달아주는 작업\n",
    "for i, rect in enumerate(rects):\n",
    "    # text 함수(값이 출력되는 X 축의 위치, 값이 출력되는 Y 축의 위치, 해당 위치에 출력할 값을 전달)를 통해 수치 매핑\n",
    "    ax.text(0.95 * rect.get_width(),\n",
    "            rect.get_y() + rect.get_height() / 2.0,\n",
    "            str(round(diff.sort_values()[:20].values[i], 2)) + '%',\n",
    "            ha='left', va='center', bbox=dict(boxstyle=\"round\", fc=(0.5, 0.9, 0.7), ec=\"0.1\"))\n",
    "            \n",
    "plt.show()"
   ]
  },
  {
   "cell_type": "code",
   "execution_count": null,
   "metadata": {},
   "outputs": [],
   "source": [
    "import pandas as pd\n",
    "import seaborn as sns\n",
    "import numpy as np\n",
    "import matplotlib.pyplot as plt\n",
    "\n",
    "f, axes = plt.subplots(2, 10, sharex=True, gridspec_kw={\"height_ratios\":(.35, .35)}, \n",
    "                                    figsize = (12, 6))\n",
    "\n",
    "print(f.get_size_inches)\n",
    "\n",
    "df = pd.DataFrame(np.random.randint(0,100,size=(100, 10)),columns=list('ABCDEFGHIJ'))\n",
    "\n",
    "for i, c in enumerate(df):\n",
    "    sns.boxplot(df[c], ax=axes[0,i])\n",
    "    axes[1,i].hist(df[c])\n",
    "plt.tight_layout()\n",
    "plt.show()\n"
   ]
  },
  {
   "cell_type": "code",
   "execution_count": null,
   "metadata": {},
   "outputs": [],
   "source": []
  }
 ],
 "metadata": {
  "kernelspec": {
   "display_name": "Python 3",
   "language": "python",
   "name": "python3"
  },
  "language_info": {
   "codemirror_mode": {
    "name": "ipython",
    "version": 3
   },
   "file_extension": ".py",
   "mimetype": "text/x-python",
   "name": "python",
   "nbconvert_exporter": "python",
   "pygments_lexer": "ipython3",
   "version": "3.7.4"
  }
 },
 "nbformat": 4,
 "nbformat_minor": 4
}
