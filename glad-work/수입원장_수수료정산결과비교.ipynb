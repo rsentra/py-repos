{
 "cells": [
  {
   "cell_type": "code",
   "execution_count": null,
   "id": "51f86d27-1d2f-42c7-8b8e-51fa68a673f7",
   "metadata": {},
   "outputs": [],
   "source": [
    "import pandas as pd\n",
    "import shutil\n",
    "import os\n",
    "\n",
    "''' 실 디렉토리로 변경하여 사용~~~  '''\n",
    "ym  = '202401'\n",
    "dir0  = f'd:/글로벌백업(180329)/04.수수료작업/{ym}수수료/'\n",
    "file0 = f'{ym}_수입원장.xlsx'  #원본\n",
    "# df = pd.read_excel(dir0+file0, sheet_name=['전체','메리츠화재'],dtype={'증권번호':'object'})\n",
    "df = pd.read_excel(dir0+file0, sheet_name=None,dtype={'증권번호':object})"
   ]
  },
  {
   "cell_type": "code",
   "execution_count": 34,
   "id": "39c9fbb9-deb2-4e24-8210-0a9405bed375",
   "metadata": {},
   "outputs": [],
   "source": [
    "dict_s = {'AIG손해보험':'수금','DB손보':'수금관리','MG손보':'수금','흥국화재':'장기고객관리',\n",
    "   '현대해상':'수금','한화손보':'장기고객관리','KB손보':'수금','롯데손보':'수금',\n",
    "   '메리츠화재':'장기수금','농협손보':'수금','삼성화재':'장기수금',\n",
    "   '하나손해보험':'수금수수료','처브손해보험':' '}\n",
    "cols = ['지점','보험사','증권번호','상태','납입회차','보험료','수수료계']"
   ]
  },
  {
   "cell_type": "code",
   "execution_count": 37,
   "id": "42203cae-893c-4b96-8f5c-356f36c8e0a6",
   "metadata": {},
   "outputs": [],
   "source": [
    "df_all = pd.DataFrame()\n",
    "qry = \"계약종류 == '장기' and (지점 == '글래드피스토스' or 지점 == '글래드가온')\"\n",
    "\n",
    "for k,v in df.items():\n",
    "    if k in dict_s.keys():\n",
    "        temp_col = dict_s.get(k)\n",
    "        if temp_col == ' ':\n",
    "            df_temp = v.query(qry)[ cols].copy()\n",
    "            df_temp['수금'] = 0\n",
    "        else:\n",
    "            df_temp = v.query(qry)[ cols + [temp_col] ].copy()\n",
    "        df_temp.rename(columns={temp_col:'수금수수료'}, inplace=True)\n",
    "        df_all = pd.concat([df_all, df_temp])\n"
   ]
  },
  {
   "cell_type": "code",
   "execution_count": 38,
   "id": "53a62853-2405-4050-9bd3-4dbd696d3621",
   "metadata": {},
   "outputs": [],
   "source": [
    "path_ibss = f'd:/글로벌백업(180329)/04.수수료작업/{ym}수수료/'\n",
    "ibss_file = '마감실적리스트(장기)-202402270600.xlsx'\n",
    "df_i = pd.read_excel(path_ibss+ibss_file, header=0, dtype={'증권번호':object})\n",
    "qry = \"지점 == '글래드피스토스' or 지점 == '글래드가온'\"\n",
    "df_i = df_i.query(qry)"
   ]
  },
  {
   "cell_type": "code",
   "execution_count": 39,
   "id": "58ed2e73-371a-415c-b907-e574334175aa",
   "metadata": {},
   "outputs": [],
   "source": [
    "qry = \"지점 == '글래드피스토스' or 지점=='글래드가온'\"\n",
    "cols = ['지점','보험회사','증권번호','구분','월납보험료','수수료H']\n",
    "df_i = df_i.query(qry)[cols]"
   ]
  },
  {
   "cell_type": "code",
   "execution_count": 40,
   "id": "b31db4f5-acab-4588-a728-c5772644e49b",
   "metadata": {},
   "outputs": [],
   "source": [
    "df_all = pd.merge(df_all, df_i, how = 'left',\n",
    "            on=['증권번호'],indicator = True).reset_index().astype({\"_merge\": str}).fillna(0)"
   ]
  },
  {
   "cell_type": "code",
   "execution_count": 43,
   "id": "ffa30cdc-0452-4e16-8e24-4375df564f83",
   "metadata": {},
   "outputs": [],
   "source": [
    "df_all['차이'] = df_all['수수료계'] * 0.95 - df_all['수수료H']\n",
    "df_all[df_all['차이'] !=0].to_clipboard()"
   ]
  },
  {
   "cell_type": "code",
   "execution_count": null,
   "id": "e6fc7fe8-6a46-438c-9c03-325055d610f9",
   "metadata": {},
   "outputs": [],
   "source": []
  }
 ],
 "metadata": {
  "kernelspec": {
   "display_name": "Python 3",
   "language": "python",
   "name": "python3"
  },
  "language_info": {
   "codemirror_mode": {
    "name": "ipython",
    "version": 3
   },
   "file_extension": ".py",
   "mimetype": "text/x-python",
   "name": "python",
   "nbconvert_exporter": "python",
   "pygments_lexer": "ipython3",
   "version": "3.8.8"
  }
 },
 "nbformat": 4,
 "nbformat_minor": 5
}
