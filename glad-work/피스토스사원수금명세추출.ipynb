{
 "cells": [
  {
   "cell_type": "code",
   "execution_count": 91,
   "metadata": {},
   "outputs": [],
   "source": [
    "import pandas as pd\n",
    "infile = 'E:/글로벌백업(180329)/04.수수료작업/202204수수료/202204_글래드피스토스2팀 수금정산.xlsx'\n",
    "outfile = 'E:/글로벌백업(180329)/04.수수료작업/202204수수료/202204_글래드피스토스2팀 수금정산_요약.xlsx'\n",
    "\n",
    "dict_s = {'AIG손해보험':'수금','DB손보':'수금관리','MG손보':'수금','흥국화재':'장기고객관리',\n",
    "   '현대해상':'수금','한화손보':'장기고객관리','KB손보':'수금','롯데손보':'수금',\n",
    "   '메리츠화재':'장기수금','농협손보':'수금','삼성화재':'장기수금'}\n",
    "cols =['보험사','증권번호','사원명','계약일자','계약자명','상품군','납입회차','보험료','영수일자']\n",
    "\n",
    "df = pd.read_excel(infile,sheet_name=None,dtype={'증권번호':object})\n",
    "df_all = pd.DataFrame()\n",
    "\n",
    "for k,v in df.items():\n",
    "    if k in dict_s.keys():\n",
    "        temp_col = dict_s.get(k)\n",
    "        df_temp = v[ cols + [temp_col] ].copy()\n",
    "        df_temp.rename(columns={temp_col:'수금수수료'}, inplace=True)\n",
    "        df_all = pd.concat([df_all, df_temp])\n",
    "\n",
    "df_sum = pd.pivot_table(df_all,index=['보험사'],columns='사원명',values='수금수수료',aggfunc='sum',fill_value=0, \n",
    "               margins=True, margins_name='Total').reset_index()\n",
    "\n",
    "with pd.ExcelWriter(outfile) as writer:\n",
    "    df_sum.to_excel(writer, sheet_name='요약', index=False)\n",
    "    df_all.sort_values(['사원명','보험사']).to_excel(writer, sheet_name=\"명세\", index =False)\n",
    "    workbook = writer.book\n",
    "    format1 = workbook.add_format({'num_format': '#,##0'})\n",
    "    worksheet = writer.sheets[\"요약\"]\n",
    "    worksheet.set_column('B:D', None, format1)\n"
   ]
  }
 ],
 "metadata": {
  "interpreter": {
   "hash": "ef7f9a8012d9131766e31894c279374cc63c73121ed4db3b9e67a294a4bf0e74"
  },
  "kernelspec": {
   "display_name": "Python 3.8.5 ('base')",
   "language": "python",
   "name": "python3"
  },
  "language_info": {
   "codemirror_mode": {
    "name": "ipython",
    "version": 3
   },
   "file_extension": ".py",
   "mimetype": "text/x-python",
   "name": "python",
   "nbconvert_exporter": "python",
   "pygments_lexer": "ipython3",
   "version": "3.8.5"
  },
  "orig_nbformat": 4
 },
 "nbformat": 4,
 "nbformat_minor": 2
}
