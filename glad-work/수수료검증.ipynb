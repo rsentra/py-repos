{
 "cells": [
  {
   "cell_type": "markdown",
   "metadata": {},
   "source": [
    "##수수료 검증  \n",
    "1. 엑셀파일 read - 그룹설정- 미산출건 추출 - 오류유형컬럼생성 - 엑셀write"
   ]
  },
  {
   "cell_type": "code",
   "execution_count": null,
   "metadata": {},
   "outputs": [],
   "source": [
    "import pandas as pd\n",
    "\n",
    "df=pd.read_excel('E:/글로벌백업(180329)/04.수수료작업/202001수수료/마감실적리스트(장기)-202002251035.xlsx')"
   ]
  },
  {
   "cell_type": "code",
   "execution_count": null,
   "metadata": {},
   "outputs": [],
   "source": [
    "tt='경기지점\t방이\t씨티엠지점\t엠피가온\t엠피상동\t엠피시흥\t엠피조은\t제이엔제이\t프라임\t피스토스\t아이리치\tHL지점\t강동지점\t라온지점\t레전드지점\t메트로\t성공지점\t송내\t여주지점\t의정부'\n",
    "tt=tt.split('\\t')\n",
    "tt2='지사\t지사\t지사\t지사\t지사\t지사\t지사\t지사\t지사\t지사\t지점2\t직영\t직영\t직영\t직영\t직영\t직영\t직영\t직영\t직영'\n",
    "tt2=tt2.split('\\t')\n",
    "brh_grp=pd.DataFrame({'지점':tt,'grp':tt2})\n",
    "del tt,tt2"
   ]
  },
  {
   "cell_type": "code",
   "execution_count": null,
   "metadata": {},
   "outputs": [],
   "source": [
    "##지점그룹\n",
    "df=pd.merge(df,brh_grp,how='left',on='지점')"
   ]
  },
  {
   "cell_type": "code",
   "execution_count": null,
   "metadata": {},
   "outputs": [],
   "source": [
    "#1. 미산출건 리스트업\n",
    "condS=df.수수료S==0\n",
    "condH=((df.grp.isin(['지사','지점2'])) & (df.수수료H==0))\n",
    "cond2=df.납입회차<=1\n",
    "cond3=df.구분=='초회'\n",
    "#df2=df[cond&cond2&cond3].loc[:,['지점','grp','수수료H','수수료S','증권번호','납입회차','보종','담당명','보험회사']]\n",
    "df2=df[condS&cond2&cond3]   #사원오류\n",
    "df2=pd.concat([df2,df[condH&cond2&cond3]]) #지점오류\n",
    "\n",
    "df2=df2.assign(오류유형=df2.수수료S.apply(lambda x: '사원er' if x==0  else '지점er' ))\n",
    "df2.to_excel('E:/글로벌백업(180329)/04.수수료작업/202001수수료/python_err.xlsx')"
   ]
  },
  {
   "cell_type": "code",
   "execution_count": null,
   "metadata": {},
   "outputs": [],
   "source": []
  }
 ],
 "metadata": {
  "kernelspec": {
   "display_name": "Python 3",
   "language": "python",
   "name": "python3"
  },
  "language_info": {
   "codemirror_mode": {
    "name": "ipython",
    "version": 3
   },
   "file_extension": ".py",
   "mimetype": "text/x-python",
   "name": "python",
   "nbconvert_exporter": "python",
   "pygments_lexer": "ipython3",
   "version": "3.7.4"
  }
 },
 "nbformat": 4,
 "nbformat_minor": 4
}
