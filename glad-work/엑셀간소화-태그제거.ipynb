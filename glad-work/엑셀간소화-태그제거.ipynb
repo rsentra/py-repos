{
 "cells": [
  {
   "cell_type": "code",
   "execution_count": null,
   "metadata": {},
   "outputs": [],
   "source": [
    "import pandas as pd\n",
    "import os\n",
    "pd.set_option('display.max_rows', 1000)\n",
    "\n",
    "path_ibss ='e:/글로벌백업(180329)/04.수수료작업/202104수수료/'\n",
    "in_file = '마감실적리스트(장기)-202105261605.xlsx'\n",
    " \n",
    "df = pd.read_excel(path_ibss+in_file, header=0, dtype={'증권번호':object})\n",
    "\n",
    "os.rename(path_ibss+in_file, path_ibss+in_file.replace(\".xlsx\",\"\")+\"_원본.xlsx\")\n",
    "df.to_excel(path_ibss+in_file,sheet_name=\"Worksheet\",index = False)"
   ]
  }
 ],
 "metadata": {
  "kernelspec": {
   "display_name": "Python 3",
   "language": "python",
   "name": "python3"
  },
  "language_info": {
   "codemirror_mode": {
    "name": "ipython",
    "version": 3
   },
   "file_extension": ".py",
   "mimetype": "text/x-python",
   "name": "python",
   "nbconvert_exporter": "python",
   "pygments_lexer": "ipython3",
   "version": "3.8.5"
  }
 },
 "nbformat": 4,
 "nbformat_minor": 4
}
