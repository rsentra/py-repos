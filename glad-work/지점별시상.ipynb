{
 "cells": [
  {
   "cell_type": "markdown",
   "metadata": {},
   "source": [
    "##### 시상파일을 읽어서 지점,사원,회사별로 작성 \n"
   ]
  },
  {
   "cell_type": "code",
   "execution_count": 8,
   "metadata": {},
   "outputs": [],
   "source": [
    "import pandas as pd\n",
    "import GladUtil as glad\n",
    "import time\n",
    "import os\n",
    "\n",
    "COLS_NAME = ['지점','담당','보험회사','시상금','지사지급','구분']\n",
    "C_DICT = {'한화':'한화손보','KB':'KB손보','농협':'농협손보','MG':'MG손보','롯데':'롯데손보','DB':'DB손보',\n",
    "          '현대':'현대해상','메리츠':'메리츠화재','흥국':'흥국화재','AIG':'AIG손보','삼성':'삼성화재',\n",
    "          '하나':'하나손보','처브':'처브손보'}\n",
    "DIR_PATH = 'e:/글로벌백업(180329)/04.수수료작업/'\n",
    "\n",
    "ym ='202312'\n",
    "inf_nm = ym + '시상/'+ ym[0:4]+ ym[4:6]+ ' KJ시상정산.xlsx'\n",
    "in_file = DIR_PATH + inf_nm                   #원장\n",
    "\n",
    "data = pd.read_excel(in_file, sheet_name = None)"
   ]
  },
  {
   "cell_type": "code",
   "execution_count": 9,
   "metadata": {},
   "outputs": [],
   "source": [
    "''' fc시상 '''\n",
    "# 사원시상 정산 행\n",
    "cols = data['정산'].iloc[86].values.tolist()\n",
    "cols[:2] = ['지점','담당']\n",
    "# 데이터부\n",
    "dfw = data['정산'].iloc[88:].fillna(0)\n",
    "dfw.columns = cols\n",
    "dfw = dfw[dfw['계'] != 0 ].iloc[: ,:17].copy()\n",
    "# 열을 행으로 변환\n",
    "df_fc = (dfw.melt(id_vars=['지점','담당'])\n",
    "            .rename(columns={'value':'시상금','variable':'보험회사'})\n",
    "            .astype({'시상금':'float64'}))\n",
    "# 보험사명 변환\n",
    "df_fc['보험회사'] = df_fc['보험회사'].apply(lambda x: glad.convertByVal(x,C_DICT))\n",
    "# fc시상 지급율 적용\n",
    "dict_r = {'글래드시흥':94, '글래드조은':95, '글래드방이':95}\n",
    "df_fc['지사지급'] = df_fc.apply(lambda x: x['시상금'] * dict_r.get(x['지점'],100) / 100, axis=1)\n",
    "df_fc['구분' ] = 'FC_시상'\n",
    "\n",
    "df_fc = df_fc[df_fc['보험회사'] != '계'][COLS_NAME]"
   ]
  },
  {
   "cell_type": "code",
   "execution_count": 4,
   "metadata": {},
   "outputs": [],
   "source": [
    "''' 법인-생보 '''\n",
    "df_life = data['생보'].groupby(['지점','담당','보험회사'])[['GLAD','지사시상합']].sum().reset_index()\n",
    "df_life['구분'] = '법인_생보'\n",
    "df_life.columns = COLS_NAME\n",
    "\n",
    "'''법인-손보'''\n",
    "df_long = data['손보'].groupby(['지점','담당','보험회사'])[['GLAD시상','지사시상']].sum().reset_index()\n",
    "df_long['구분'] = '법인_장기'\n",
    "df_long.columns = COLS_NAME\n",
    "\n",
    "''' 법인-일반'''\n",
    "df_gen = data['일반'].groupby(['지점','담당','보험회사'])[['시상금']].sum().reset_index()\n",
    "df_gen['지사'] = 0\n",
    "df_gen['구분'] = '법인_일반'\n",
    "df_gen.columns = COLS_NAME\n",
    "\n",
    "'''법인-자동차'''\n",
    "df_car = data['자동차'].groupby(['지점','담당','보험회사'])[['시상금']].sum().reset_index()\n",
    "df_car['지사'] = 0\n",
    "df_car['구분'] = '법인_자동차'\n",
    "df_car.columns = COLS_NAME"
   ]
  },
  {
   "cell_type": "code",
   "execution_count": 6,
   "metadata": {},
   "outputs": [],
   "source": [
    "'''2차년도 시상'''\n",
    "inf_nm = '시상이자/'+ '본사시상정산_2차년도_'+ym[0:4]+ ym[4:6]+ '.xlsx'\n",
    "in_file = DIR_PATH + inf_nm                   #원장\n",
    "data = pd.read_excel(in_file, sheet_name = None)\n",
    "\n",
    "dfw = pd.DataFrame()\n",
    "for k in data.keys():\n",
    "    if k !='요약':\n",
    "        df1 = data[k][['보험사','지점','사원','정산금']]\n",
    "        dfw = pd.concat([dfw, df1])\n",
    "\n",
    "df_year2 = dfw.groupby(['지점','사원','보험사'])[['정산금']].sum().reset_index()\n",
    "df_year2['지급'] = 0\n",
    "df_year2['구분'] = '본사_2차년도'\n",
    "df_year2.columns = COLS_NAME\n",
    "\n",
    "''' 모든 시상을 합침 '''\n",
    "df_all = pd.concat([df_fc, df_life, df_long, df_car, df_gen, df_year2])\n",
    "df_all = df_all[df_all['시상금']!=0]"
   ]
  },
  {
   "cell_type": "code",
   "execution_count": 7,
   "metadata": {},
   "outputs": [],
   "source": [
    "df_all.to_clipboard(index=False)"
   ]
  }
 ],
 "metadata": {
  "kernelspec": {
   "display_name": "Python 3 (ipykernel)",
   "language": "python",
   "name": "python3"
  },
  "language_info": {
   "codemirror_mode": {
    "name": "ipython",
    "version": 3
   },
   "file_extension": ".py",
   "mimetype": "text/x-python",
   "name": "python",
   "nbconvert_exporter": "python",
   "pygments_lexer": "ipython3",
   "version": "3.10.9"
  }
 },
 "nbformat": 4,
 "nbformat_minor": 4
}
