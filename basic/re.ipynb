{
 "cells": [
  {
   "cell_type": "markdown",
   "metadata": {},
   "source": [
    "https://regexr.com/ 에서 연습 가능\n",
    "1.  정규표현삭\n",
    "문자열 규칙을 식으로 정의하여 규칙에 맞는 문자를 추출할때\n",
    "[]  대괄호 사이의 문자들과 매치\n",
    "[0-9] 0~9 each number\n",
    "[123] 1,2,3 each number\n",
    "[0-9]+  +는 최소1번 이상 연속의 의미   [\\d]]도 같은 결과. 즉, 모든 숫자\n",
    "[\\D] 대문자는 not의 의미  즉, 좌측은 숫자외 모든 문자\n",
    "[\\w] 모든 문자,숫자  ( 한글제외) , 즉 [a-zA-Z0-9]\n",
    "[\\W] 위 반대. 즉 한글,특수기호 등, 즉 [^a-zA-Z0-9]\n",
    "[a-zA-Z] 소,대문자\n",
    "[가-힣] 한글\n",
    "[\\s] 공백   [\\S]    [\\S] 공백아닌것\n",
    "[abc] 'abc'를 의미\n",
    "\n",
    "a.c  a와b사이에 반드시 1문자/  . 임의의 한 문자( \\n 제외)\n",
    "a[.]c a.c와 매치  []안의 .는 모든 문자가 아닌 문자.을 의미\n",
    "a?c  a와c사이에 반드시 0~1문자\n",
    "a*c  a와c사이에 반드시 0~n문자\n",
    "a+c  a와c사이에 1~n\n",
    "\n",
    "\\d{3,4} 연속된 숫자 3 또는 4개\n",
    "\\d{2,3}[\\s-]?\\d{3,4}[\\s-]?\\d{4}   2~3- 3~4-4자리 숫자 전화번호 (공백 또는 - 구분자)\n",
    "\\d{2~5} 2~5회 반복\n",
    "\n",
    "2. 사용\n",
    "import re\n",
    "p=re.compile('[a-z]+')\n",
    "m=p.match('pyh')  \n",
    "\n",
    "match: 처음부터\n",
    "search: 문자열 전체 탐색\n",
    "findall : 매치결과를 리스트로  리턴\n",
    "finditer : 매치결과를 반복 가능한 객체로 리턴\n",
    "\n"
   ]
  },
  {
   "cell_type": "code",
   "execution_count": 1,
   "metadata": {},
   "outputs": [],
   "source": [
    "import re\n",
    "p=re.compile('[a-z]+')"
   ]
  },
  {
   "cell_type": "code",
   "execution_count": 4,
   "metadata": {},
   "outputs": [
    {
     "name": "stdout",
     "output_type": "stream",
     "text": [
      "<re.Match object; span=(0, 6), match='python'>\n"
     ]
    }
   ],
   "source": [
    "m=p.match(\"python\")\n",
    "print(m)"
   ]
  },
  {
   "cell_type": "code",
   "execution_count": 6,
   "metadata": {},
   "outputs": [
    {
     "name": "stdout",
     "output_type": "stream",
     "text": [
      "None\n"
     ]
    }
   ],
   "source": [
    "m=p.match(\"3 python\")\n",
    "print(m)"
   ]
  },
  {
   "cell_type": "code",
   "execution_count": null,
   "metadata": {},
   "outputs": [],
   "source": []
  }
 ],
 "metadata": {
  "kernelspec": {
   "display_name": "Python 3",
   "language": "python",
   "name": "python3"
  },
  "language_info": {
   "codemirror_mode": {
    "name": "ipython",
    "version": 3
   },
   "file_extension": ".py",
   "mimetype": "text/x-python",
   "name": "python",
   "nbconvert_exporter": "python",
   "pygments_lexer": "ipython3",
   "version": "3.7.4"
  }
 },
 "nbformat": 4,
 "nbformat_minor": 4
}
