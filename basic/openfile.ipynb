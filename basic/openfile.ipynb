{
 "cells": [
  {
   "cell_type": "code",
   "execution_count": null,
   "metadata": {},
   "outputs": [],
   "source": [
    "import psutil\n",
    "for p in psutil.process_iter():\n",
    "#     print(p)\n",
    "    if 'EXCEL.EXE' in p.name():\n",
    "        print(p)\n",
    "        print(p.name)\n",
    "#         print(psutil.Process(p.pid).as_dict())\n",
    "        print(psutil.Process(p.pid).open_files())"
   ]
  },
  {
   "cell_type": "code",
   "execution_count": 127,
   "metadata": {},
   "outputs": [
    {
     "name": "stdout",
     "output_type": "stream",
     "text": [
      "20212 EXCEL.EXE  C:\\Users\\User\\Downloads\\~$2019년 손해보험 수수료(20191201).xlsx\n",
      "Tue Jun 23 10:04:48 2020\n",
      "20212 EXCEL.EXE  C:\\Users\\User\\Downloads\\2019년 손해보험 수수료(20191201).xlsx\n",
      "Wed Jun 17 15:36:56 2020\n",
      "20212 EXCEL.EXE  C:\\Users\\User\\Downloads\\계약리스트(생명)-202006230951.xls\n",
      "Tue Jun 23 09:52:25 2020\n"
     ]
    }
   ],
   "source": [
    "import psutil\n",
    "import time,os\n",
    "for p2 in psutil.process_iter():\n",
    "    if 'EXCEL.EXE' in p2.name():\n",
    "        for file in (p2.info['open_files'] or []) : # & ('EXCEL.EXE' in p.name):\n",
    "            if file.path.endswith(('.xls','.xlsx')):\n",
    "                print(\"%-5s %-10s %s\" % (p2.pid, p2.info['name'][:10], file.path))\n",
    "                print(time.ctime(os.path.getmtime(file.path)))              \n"
   ]
  },
  {
   "cell_type": "code",
   "execution_count": 122,
   "metadata": {},
   "outputs": [
    {
     "name": "stdout",
     "output_type": "stream",
     "text": [
      "20212 EXCEL.EXE  C:\\Users\\User\\Downloads\\~$2019년 손해보험 수수료(20191201).xlsx\n",
      "20212 EXCEL.EXE  C:\\Users\\User\\Downloads\\2019년 손해보험 수수료(20191201).xlsx\n"
     ]
    }
   ],
   "source": [
    "for p in psutil.process_iter(['name', 'open_files']):\n",
    "      for file in p.info['open_files'] or []:\n",
    "          if file.path.endswith('.xlsx'):\n",
    "              print(\"%-5s %-10s %s\" % (p.pid, p.info['name'][:10], file.path))"
   ]
  },
  {
   "cell_type": "code",
   "execution_count": null,
   "metadata": {},
   "outputs": [],
   "source": []
  }
 ],
 "metadata": {
  "kernelspec": {
   "display_name": "Python 3",
   "language": "python",
   "name": "python3"
  },
  "language_info": {
   "codemirror_mode": {
    "name": "ipython",
    "version": 3
   },
   "file_extension": ".py",
   "mimetype": "text/x-python",
   "name": "python",
   "nbconvert_exporter": "python",
   "pygments_lexer": "ipython3",
   "version": "3.7.7"
  }
 },
 "nbformat": 4,
 "nbformat_minor": 4
}
