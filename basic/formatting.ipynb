{
 "cells": [
  {
   "cell_type": "markdown",
   "metadata": {},
   "source": [
    "# 문자열 포맷팅  \n",
    " 1. % operator\n",
    " 2. str.format\n",
    " 3. f-string : 가장 빠르고 편리  "
   ]
  },
  {
   "cell_type": "code",
   "execution_count": 3,
   "metadata": {},
   "outputs": [
    {
     "data": {
      "text/plain": [
       "'hello= fisrt second'"
      ]
     },
     "execution_count": 3,
     "metadata": {},
     "output_type": "execute_result"
    }
   ],
   "source": [
    "'hello= %s %s'%('fisrt','second') "
   ]
  },
  {
   "cell_type": "code",
   "execution_count": 4,
   "metadata": {},
   "outputs": [
    {
     "data": {
      "text/plain": [
       "'hello= first second'"
      ]
     },
     "execution_count": 4,
     "metadata": {},
     "output_type": "execute_result"
    }
   ],
   "source": [
    "'hello= {} {}'.format('first','second')"
   ]
  },
  {
   "cell_type": "code",
   "execution_count": 13,
   "metadata": {},
   "outputs": [
    {
     "name": "stdout",
     "output_type": "stream",
     "text": [
      "hello = first + second\n",
      "sum = 3\n",
      "value= 1.568\n",
      "value= 2.4582790521\n",
      "hello     \n",
      "     hello\n",
      "  hello   \n",
      "hello_____\n",
      "HELLO\n"
     ]
    }
   ],
   "source": [
    "##f-string\n",
    "fi ='first'\n",
    "se ='second'\n",
    "test = f'hello = {fi} + {se}'\n",
    "print(test)\n",
    "\n",
    "##연산도 가능\n",
    "fi=1\n",
    "se=2\n",
    "test = f'sum = {fi + se}'\n",
    "print(test)\n",
    "\n",
    "##숫자 포맷팅\n",
    "fi=1.56789\n",
    "print(f'value= {fi:0.3f}')\n",
    "print(f'value= {fi * fi}') #연산\n",
    "\n",
    "#자리수 등\n",
    "ss='hello'\n",
    "print(f'{ss:<10}') #좌측정렬\n",
    "print(f'{ss:>10}') #우측정렬\n",
    "print(f'{ss:^10}') #중앙정렬\n",
    "print(f'{ss:_<10}') #좌측정렬\n",
    "\n",
    "print(f'{ss.upper()}') #함수호출"
   ]
  },
  {
   "cell_type": "code",
   "execution_count": 27,
   "metadata": {},
   "outputs": [
    {
     "name": "stdout",
     "output_type": "stream",
     "text": [
      "1000\n",
      "1000.00\n",
      "result= 12,345 < 345,678\n"
     ]
    }
   ],
   "source": [
    "#숫자\n",
    "print('%d'%1000)\n",
    "print('%.2f'%1000)\n",
    "val=12345\n",
    "val2=345678\n",
    "print('result= {0:,.0f} < {1:,.0f}'.format(val,val2))  #자리수,dict형태로 지정"
   ]
  }
 ],
 "metadata": {
  "kernelspec": {
   "display_name": "Python 3",
   "language": "python",
   "name": "python3"
  },
  "language_info": {
   "codemirror_mode": {
    "name": "ipython",
    "version": 3
   },
   "file_extension": ".py",
   "mimetype": "text/x-python",
   "name": "python",
   "nbconvert_exporter": "python",
   "pygments_lexer": "ipython3",
   "version": "3.7.4"
  }
 },
 "nbformat": 4,
 "nbformat_minor": 4
}
