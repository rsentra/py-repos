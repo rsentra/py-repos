{
 "cells": [
  {
   "cell_type": "markdown",
   "metadata": {},
   "source": [
    "## os\n",
    "os.chdir(path)\t디렉토리 변경\t\t\n",
    "os.getcwd()\t함수는 현재 작업 디렉터리의 위치를 가져올 때 쓰입니다.\t\t \n",
    "os.access(path, mode)\t입력받은 <path>에 대해서 <mode>에 해당하는 작업이 가능한지의 여부를 반환합니다.\t\t\n",
    "  모드(mode)\t설명\t\t\n",
    "  F_OK\t해당 path의 존재 여부를 확인\t\t\n",
    "  R_OK\t해당 path의 읽기 가능여부 확인\t\t\n",
    "  W_OK\t해당 path의 쓰기 가능여부 확인\t\t\n",
    "  X_OK\t해당 path의 실행 가능여부 확인\t\t\n",
    "os.listdir(path)\t\t해당 경로(path)에 존재하는 파일과 디렉터리들의 리스트를 반환합니다.\t\n",
    "os.mkdir(path[, mode])\t\t<path>에 해당하는 디렉터리를 생성합니다.\t\n",
    "os.makedirs(path[, mode])\t\t인자로 전달된 디렉터리를 재귀적으로 생성합니다.\t\n",
    "os.remove(path), os.unlink(path)\t\t파일을 삭제 합니다.\t\n",
    "os.rmdir(path)\t\t디렉터리를 삭제합니다. 단, 디렉터리는 비어있어야만 합니다.\t\n",
    "os.removedirs(path)\t\t디렉터리를 연달아 삭제합니다.\t\n",
    "\t\t\t\n",
    "os.rename(src, dst)\t\tsrc를 dst로 이름을 변경하거나 이동합니다. 파일이나 디렉터리에 대해서 모두 적용 됩니다.\t\n",
    "os.renames(src, dst)\t\tsrc를 dst로 이름을 변경하거나 이동합니다. rename과 다른점은 이동 시에 필요한 디렉터리들을 자동생성\t\n",
    "os.stat(path)\t\t경로에 해당하는 정보를 얻어옵니다.\t\n",
    "os.utime(path, times)\t\t경로에 해당하는 파일에 대해 액세스 시간(access time)과 수정 시간(modified time)을 <times>로 수정\t\n",
    "os.walk(top[, topdown=True[, onerror=None[, followlinks=False]]])\t\ttop으로 지정된 디렉터리를 순회하며 경로, 디렉터리명을 순차적으로 반환합니다.\t\n",
    "os.umask(mask)\t\t이후 오픈 되는 파일이나 디렉터리에 (mode & ~umask)와 같이 적용됩니다.\t\n",
    "os.pipe()\t\t파이프를 생성합니다. 함수를 실행하면 읽기, 쓰기 전용 파이프의 파일 디스크립터가 반환됩니다.\t\n",
    "os.fdopen(fd[, mode[, bufsize]])\t\t파일 디스크립터를 이용해 파일 객체를 생성합니다.\t\n",
    "os.popen(command[, mode[, bufsize]])\t\t인자로 전달된 command를 수행하며 파이프를 엽니다.\t\n",
    "os.name\t\t파이썬이 실행되는 운영체제의 이름을 나타냅니다. (ex: 'nt', 'posix', 'mac'등...)\t\n",
    "os.environ\t\t환경변수들을 나타내는 사전입니다.\t\n",
    "os.getpid()\t\t현재 프로세스 아이디를 반환합니다.\t\n",
    "os.getenv(varname[, value])\t\t환경 변수의 값을 얻어 옵니다. 다만 해당 환경 변수가 없을 경우에는 인자로 전달된 <value>값을\t\n",
    "os.putenv(varname, value)\t\t\t\n",
    "os.strerror(code)\t\t\t\n",
    "os.system(command)\t\t<command>를 실행하며, 성공한 경우 0을 반환합니다.\t\n",
    "os.startfile(path[, operation])\t\t<path>를 os에서 지정된 프로그램으로 실행합니다.\t\n",
    "os.execl(path, arg0, arg1, ...)\t\t위의 함수는 현재 프로세스에서 새로운 프로그램을 수행시키며 리턴은 하지 않습니다.\t\n",
    "os.execle(path, arg0, arg1, ..., env)\t\t\t\n",
    "os.execlp(file, arg0, arg1, ...)\t\t\t\n",
    "os.execlpe(file, arg0, arg1, ..., env)\t\t\t\n",
    "os.execv(path, args)\t\t\t\n",
    "os.execve(path, args, env)\t\t\t\n",
    "os.execvp(file, args)\t\t\t\n",
    "os.execvpe(file, args, env)\t\t\t"
   ]
  },
  {
   "cell_type": "markdown",
   "metadata": {},
   "source": []
  },
  {
   "cell_type": "markdown",
   "metadata": {},
   "source": [
    "#  os.path\n",
    "sys.modules.keys() 현재 세션, 또는 프로그램안에서 사용되는 모든 모듈을 보여준다.  \n",
    "sys.getrefcount(object)  \n",
    "sys.exc_info() returns a tuple with the latest exception's type, value, and traceback object  \n",
    "os.getpid() 유니크한 프로세스 ID를 보여준다.  \n",
    "os.path.isdir(r'c:\\python32') True  \n",
    "os.path.isfile(r'c:\\python32\\python.exe') True  \n",
    "os.path.isfile(r'c:\\python32\\python') False  \n",
    "os.path.isfile(r'c:\\python32\\afwef') False  \n",
    "os.path.exists(r'c:\\python32') True  \n",
    "os.path.exists(r'c:\\python32\\python.exe') True  \n",
    "os.path.exists(r'c:\\python32\\asdf') False  \n",
    "\n",
    "os.path.getsize(r'c:\\python32')   \n",
    "os.path.getsize(r'c:\\python32\\python.exe') 26624  \n",
    "\n",
    "os.path.split(r'c:\\temp\\test\\python\\hello.exe') ('c:\\\\temp\\\\test\\\\python', 'hello.exe') 파일부분과 폴더부분을 서로 잘라준다.  \n",
    "os.path.join(r'c:\\temp', 'hello.exe')  c:\\\\temp\\\\hello.exe' 서로 합침..   \n",
    "name = r'c:\\temp\\python\\data.txt' os.path.dirname(name), os.path.basename(name) ('c:\\\\temp\\\\python', 'data.txt') 폴더, 파일을 보여준다. 파일이 없거나.. 형식에 맞지 않으면 아무것도 안나온다.    \n",
    "\n",
    " os.path.splitext(name)   ('c:\\\\temp\\\\python\\\\data', '.txt') 확장자만 따로 떨어뜨린다.  \n",
    "\n",
    " pathname = r'c:\\PP4thEd\\Examples\\PP4E\\pyDemos.pyw'  \n",
    " os.path.split(pathname)  ('c:\\\\PP4thEd\\\\Examples\\\\PP4E', 'pyDemos.pyw')  \n",
    " pathname.split(os.sep)  ['c:', 'PP4thEd', 'Examples', 'PP4E', 'pyDemos.pyw']  \n",
    "\n",
    "os.sep.join(pathname.split(os.sep)) 'c:\\\\PP4thEd\\\\Examples\\\\PP4E\\\\pyDemos.pyw'   \n",
    "os.sep   os.path.join(*pathname.split(os.sep)) 'c:PP4thEd\\\\Examples\\\\PP4E\\\\pyDemos.pyw' 마지막 결과물에 주목할 필요가 있다. c:\\ 이게 아니라 c: 이렇게 나왔다.    \n",
    "os.path.normpath(mixed) 'C;\\\\temp\\\\public\\\\files\\\\index.html' 리눅스와 윈도우 디렉토리 포맷이 섞이거나, 잘못 써졌을때..  고치는 방법.  \n",
    "\n",
    "\n",
    "os.path.abspath('temp')  'e:\\\\@work\\\\temp' 현재 폴더에 새로운 디렉토리나, 파일명등을 붙이는 방법 실제로 있을 필요는 없다.   "
   ]
  },
  {
   "cell_type": "markdown",
   "metadata": {},
   "source": []
  },
  {
   "cell_type": "markdown",
   "metadata": {},
   "source": [
    "## time \n",
    "[ struct_time 시퀀스 객체 ]\t\n",
    "tm_year\t년도(예: 1982, 1999, 2009)  \n",
    "tm_mon\t월(1~12)  \n",
    "tm_mday\t일(1~31)  \n",
    "tm_hour\t시(0~23)  \n",
    "tm_min\t분(0~59)  \n",
    "tm_sec\t초(0~61)  \n",
    "tm_wday\t각 요일을 숫자로 나타냅니다. (월요일은 '0' 입니다)  \n",
    "tm_yday\t1월 1일부터 오늘까지 누적된 날짜를 반환 (1~366)  \n",
    "tm_isdst\t일광절약 시간제(서머타임)를 나타냅니다 (0, 1, -1)  \n",
    "\t\n",
    "[ time 모듈 함수 ]\t  \n",
    "time.time()\t1970년 1월 1일 자정 이후로 누적된 초를 float 단위로 반환  \n",
    "time.sleep(secs)\t현재 동작 중인프로세스를 주어진 초만큼 정지  \n",
    "time.gmtime([secs])\t입력된 초를 변환하여, UTC기준의 struct_time 시퀀스 객체로 반환(인자가 입력되지 않은 경우, time()을 이용하여 현재 시간을 변환)  \n",
    "time.localtime([secs])\t입력된 초를 변환하여, 지방표준시 기준의 struct_time 시퀀스\t객체를 반환 (인자가 입력되지 않은 경우, time()을 이용하여 현재\t시간  time.asctime([t])\tstruct_time 시퀀스 객체를 인자로 받아서\t'Sun Mar 15 18:49:28:2009'와 같은 형태로 반환  \n",
    "time.mktime(t)\t지방표준시인 struct_time 시퀀스 객체를 인자로 받아서 time()과\t같은 누적된 초를 반환  \n",
    "time.strftime(format,[, t])\tstruct_time 객체를 사용자가 정의한 형식으로 변경하여\t문자열로 반환  \n",
    "time.strptime(string[, format])\t사용자가 정의한 형식 문자열을 struct_time 객체로 변환  \n",
    "\t\n",
    "[ 형식 지정자 ]\t\n",
    "%y\t연도를 축약하여 표시  \n",
    "%Y\t연도를 축약하지 않고 표시  \n",
    "%b\t축약된 월 이름  \n",
    "%B\t축약되지 않은 월 이름  \n",
    "%m\t숫자로 표현한 월(01~12)  \n",
    "%d\t일(01~31)  \n",
    "%H\t24시를 기준으로 한 시(00~23)   \n",
    "%I\t12시를 기준으로 한 시(01~12)  \n",
    "%M\t분(00~59)  \n",
    "%S\t초(00~61)  \n",
    "%p\t오전(AM) / 오후(PM)을 표시  \n",
    "%a\t축약된 요일 이름  \n",
    "%A\t축약되지 않은 요일 이름  \n",
    "%w\t요일을 숫자로 표시(예: 일요일(0))  \n",
    "%j\t1월 1일부터 누적된 날짜(001~366)  "
   ]
  },
  {
   "cell_type": "code",
   "execution_count": 15,
   "metadata": {},
   "outputs": [
    {
     "name": "stdout",
     "output_type": "stream",
     "text": [
      "2020\n",
      "1592690308\n"
     ]
    }
   ],
   "source": [
    "import time\n",
    "cur=time.gmtime()\n",
    "print(cur.tm_year)\n",
    "print(int(time.time()))"
   ]
  },
  {
   "cell_type": "markdown",
   "metadata": {},
   "source": [
    "# datetime\n",
    "[클래스들]  \n",
    "class datetime.date\t일반적으로 사용되는 그레고리안 달력의 년,월,일을 나타냄  \n",
    "class datetime.time\t시간을 시,분,초,마이크로 초,시간대로 나타냅니다.  \n",
    "class datetime.datetime\tdate클래스와 time클래스의 조합으로 년,월,일,시,분,초,마이크로 초,시간대 정보를 나타냅니다.  \n",
    "class datetime.timedelta\t두 날짜 혹은 시간 사이의 기간을 표현합니다.  \n",
    "\n",
    "[ date 클래스 ]\t \n",
    "datetime.date(year, month, day)\t \n",
    " 일반적으로 사용되는 년, 월, 일로 표기되는 현재 그레고리안 달력의 날짜를 표현합니다.\t\n",
    " 숫자로 년, 월, 일을 입력 받아서 date 객체를 생성합니다.\t\n",
    " 만약 입력된 인자가 아래의 조건을 따르지 않는 경우, ValueError가 발생합니다.\t\n",
    " datetime.MINYEAR(1) <= year <= datetime.MAXYEAR(9999)\t \n",
    " 1 <= month <= 12\t \n",
    " 1 <= day <= 해당 월의 날짜\t\n",
    "\n",
    "[ date 객체를 반환하는 클래스 메서드 ]┓\t\n",
    "date.fromtimestamp(timestamp)\t타임스탬프 값을 인자로 받아서 date 객체를 반환  \n",
    "date.fromordinal(ordinal)\t1년1월1일 이후로 누적된 날짜로부터 date 객체를 반환  \n",
    "date.today()\t현재 시스템의 오늘 날짜 date 객체를 반환  \n",
    "\t\n",
    "[ date 객체 속성 ]\t\n",
    "속성\t내용\n",
    "date.year\t년(읽기 전용)  \n",
    "date.month\t월(읽기 전용)  \n",
    "date.day\t일(읽기 전용)  \n",
    "date.max\tdate 객체의 최대값(9999년 12월 31일)  \n",
    "date.min\tdate 객체의 최소값(1년 1월 1일)  \n",
    "\n",
    "[ date 객체를 이용하여 다른 값/형식으로 변환하는 메서드 ]\t\n",
    "date.replace(year, month, day)\t입력된 인자로 변경된 date 객체를 반환. \t원본 객체는 변경되지 않습니다.  \n",
    "date.timetuple()\tdate 객체의 값을 time.struct_time 시퀀스 객체에 할당.  해당되는 정보가 없는 시,분,초는 '0'으로 초기화 됩니다.    \n",
    "date.toordinal()\t1년1월1일 이후로 date객체까지 누적된 날짜를 반환    \n",
    "date.weekday()\t요일을 정수로 변환하여 반환 (예:월요일=0, 일요일=6)  (€: date(2011, 12, 24).weekday() == 5 )  \n",
    "date.isoweekday()\tdate.weekday()와 동일하나 월요일=1 ~ 일요일=7로 나타냄.  (€: date(2011, 12, 24).isoweekday() == 6 )  \n",
    "\t\n",
    "[ 그 외 date 객체의 출력 형태를 변경하는 메서드 ]\t\n",
    "date.isoformat()\tdate 객체의 정보를 'YYYY-MM-DD' 형태의 문자열로 반환  \n",
    "date.ctime()\tdate 객체의 정보를 'Sun Mar 15 00:00:00 2009' 형태의 문자열로 반환. 시,분,초에 대한 정보는 '0'으로 초기화 됩니다.  \n",
    "date.strftime(format)\t지정된 포맷에 맞춰 date 객체의 정보를 문자열로 반환합니다.    \n",
    "\t\n",
    "[ time 클래스 ]\t\n",
    "class datetime.time(hour[, minute[, second[, microsecond[, tzinfo]]]])\t\n",
    "time 클래스는 시, 분, 초와 같은 시간을 표현 합니다.\t\n",
    "숫자로 시, 분, 초 마이크로 초, 시간대 정보(Time Zone)를 입력 받아서 time 객체를 생성.\t\n",
    "만약 입력된 인자가 아래의 조건을 따르지 않는 경우, ValueError가 발생합니다.\t\n",
    " 0 <= hour < 24\t\n",
    " 0 <= minute < 60\t\n",
    " 0 <= second < 60\t\n",
    " 0 <= microsecond < 1000000\t \n",
    "\t\n",
    "[ time 객체 속성 ]\t \n",
    "time.hour\t시(0~23, 읽기 전용)  \n",
    "time.minute\t분(0~59, 읽기 전용)  \n",
    "time.second\t초(0~59, 읽기 전용)  \n",
    "time.microsecond\t마이크로초(0~999999, 읽기 전용)  \n",
    "time.min\ttime 객체가 표현할 수 있는 최소값을 나타냅니다. (time(0, 0, 0, 0))  \n",
    "time.max\ttime 객체가 표현할 수 있는 최대값을 나타냅니다. (time(23, 59, 59, 999999))  \n",
    "\t\n",
    "[ time 클래스 지원 메서드 ]\t\n",
    "time.replace([hour[, minute[\t입력된 값으로 수정된 time 객체를 반환., second[, microsecond[, tzinfo]]]]])\t원본 객체는 변경되지 않습니다.  \n",
    "time.isoformat()\ttime 객체의 값을 'HH:MM:SS.mmmmmm' 형식이나 \t'HH:MM:SS' 형식(마이크로초가 없는 경우)의문자열을 반환\n",
    "time.strftime(format)\t지정된 포맷에 맞춰 time 객체의 정보를 문자열로 반환.  \n",
    "\n",
    "[ datetime 클래스 ]\t\n",
    "class datetime.datetime(year, month, day[, hour[, minute[, second[, microsecond[, tzinfo]]]]])\t \n",
    "datetime 클래스는 date 클래스와 time 클래스의 조합으로 이루어져 있습니다.\t  \n",
    "숫자로 각 인자를 받아서 datetime 객체를 생성하며, 년, 월, 일은 생략이 불가능 합니다.\t \n",
    "명시적으로 인자를 지정하여 입력할 수 있으며, 생략된 인자는 '0'으로 초기화 됩니다.\t\n",
    "만약 입력된 인자가 아래의 조건을 따르지 않는 경우, ValueError가 발생합니다.\t\n",
    "┗[ datetime 객체를 반환하는 메서드 ]┓\t\n",
    "datetime.today()\t현재 지방 기준의 datetime 객체를 생성합니다.   \n",
    "datetime.now([tz])\t현재 지방 기준의 datetime 객체를 생성합니다.  \n",
    "\t(시간대 정보가 특별히 입력되지 않으면 플랫폼의 시간대를 그대로 사용합니다)  \n",
    "datetime.utcnow()\tUTC 기준의 DATETIME 객체를 생성합니다.  \n",
    "datetime.fromtimestamp(\t타임스탬프를 지방 기준의 DATETIME 객체를 생성합니다.  \n",
    "timestamp[, tz])\t  \n",
    "datetime.\t타임스탬프를 UTC 기준의 DATETIME 객체를 생성합니다.  \n",
    "utcfromtimestamp(timestamp)\t  \n",
    "datetime.fromordinal(ordinal)\t1년 1월 1일 이후로 누적된 날짜로부터 datetime 객체를\t생성. 시간 관련된 값은 '0'으로 할당 됩니다.  \n",
    "datetime.combine(date, time)\tdate 객체와 time 객체를 입력받아서 datetime 객체를 생성  \n",
    "datetime.strptime(date_string,\t시간을 표현한 사용자가 정의한 형식 문자열을 format)\tdatetime 객체를 생성합니다.  \n",
    "[ datetime 객체 속성 ]\t\n",
    "datetime.year\t년(읽기 전용)   \n",
    "datetime.month\t월(읽기 전용)  \n",
    "datetime.day\t일(읽기 전용)  \n",
    "datetime.hour\t시(0~23, 읽기 전용)   \n",
    "datetime.minute\t분(0~59, 읽기 전용)   \n",
    "datetime.second\t초(0~59, 읽기 전용)   \n",
    "datetime.microsecond\t마이크로초(0~999999, 읽기 전용)   \n",
    "datetime.min\tdatetime 객체가 표현할 수 있는 최소값.  datetime(1, 1, 1))    \n",
    "datetime.max\tdatetime 객체가 표현할 수 있는 최대값. ((9999, 12, 31, 23, 59, 59, 999999))    \n",
    "\t\n",
    "[ datetime 클래스를 다른 형식으로 변환하는 메서드 ]\t\n",
    "datetime.date()\t원본 객체의 년,월,일 정보를 가지고 있는 date 객체 반환  \n",
    "datetime.time()\t원본 객체의 시,분,초,마이크로초를 가지고 있는 time 객체 반환  \n",
    "datetime.replace()\t입력된 값으로 변경된 datetime 객체를 반환  \n",
    "datetime.timetuple()\tdatetime 객체의 값을 time.struct_time 형식의 시퀀스 객체로 변환하여 반환.  \n",
    "\t\n",
    "[ datetime 클래스의 출력과 관련된 메서드 ]\t  \n",
    "datetime.weekday()\t각 요일을 숫자로 나타냄 (월요일=0 ~ 일요일=6)\t(time.struct_time.tm_wday 참조)  \n",
    "datetime.isoweekday()\tISO 형식에 맞도록 각 요일을 숫자로 나타냄.\t(월요일=1 ~ 일요일=7)  \n",
    "datetime.isocalendar()\tISO 형식에 맞는 날짜 표현\t(ISO year, ISO week number, ISO weekday)을 튜플로 반환.  \n",
    "datetime.isoformat()\tdatetime 객체를 'YYYY-MM-DDTHH:MM:SS.mmmmmm' 형식이나 'YYYY-MM-DDTHH:MM:SS'(마이크로초가 0인 경우) 형식 문자열로 반환합니다. \n",
    "datetime.ctime()\tdatetime 객체를 'Thu Mar 26 18:53:03 2009' 형식의\t문자열을 반환    \n",
    "datetime.strftime(format)\t입력된 포맷 형식에 맞추어 datetime 객체를 문자열로 반환    \n",
    "\n",
    "[ timedelta 클래스 ]\t\n",
    "class datetime.timedelta([days[, seconds[, microseconds[,\tmilliseconds[, minutes[, hours[, weeks]]]]]]])\t\n",
    "새롭게 시작하는 연인들에게 가장 중요한 것이 100일, 1000일과 같은 기념일을 챙기는 것입니다.\t   \n",
    "이러한 시간, 날짜의 연산을 위하여 파이썬에서는 timedelta 클래스를 사용할 수 있습니다.\t   \n",
    "timedelta 클래스는 두 날짜 혹은 시간 사이의 기간을 표현 합니다.\t   \n",
    "\t\n",
    "생성되는 timedelta 객체의 값을 확인해보면 생성자에 전달된 값과 다른 것을 확인할 수 있습니다.\t    \n",
    "그 이유는 동일한 기간을 표현하는 방식이 다양하게 표현(1weeks와 7days는 동일)될 수 있기\t   \n",
    "때문에, 입력된 값을 가지고 timedelta 객체에서 정규화 과정을 거쳐 유일한 표현 방식으로 변경하기 때문입니다.\t  \n",
    "\t\n",
    "[ 정규화 결과 timedelta 객체에 저장되는 값 ]\t\n",
    " 0 <= microseconds < 1000000\t\n",
    " 0 <= seconds < 3600*24 (초로 표현할 수 있는 최대값은 하루입니다)\t \n",
    " -999999999 <= days <= 999999999\t \n",
    "\t\n",
    "[ 시간, 날짜의 연산 ]\t\n",
    "이제 연인들을 위한 100일, 1000일 계산하는 방법에 대해서 알아보겠습니다.\t\n",
    "100일이 너무 길다면, 100 마이크로초, 500초 등도 계산이 가능하니 여러모로 활용이 가능합니다.\t\n",
    "두 날짜, 시간 사이의 기간은 timedelta 클래스로 표현하는 방법을 앞에서 설명 드렸습니다.\t \n",
    "이렇게 생성된 timedelta 객체를 이용하여 아래의 연산을 수행할 수 있습니다.\t \n",
    "연산 결과로는 모두 timedelta 객체가 반환 됩니다.\t\n",
    "\t\n",
    " timedelta_3 = timedelta_1 + timedelta_2\t \n",
    " timedelta_3 = timedelta_1 - timedelta_2\t  \n",
    " timedelta_2 = timedelta_1 * int = int * timedelta_1\t \n",
    " timedelta_2 = timedelta_1 // int\t \n",
    " abs(timedelta)\t\n",
    "\t\n",
    "생성된 timedelta 객체를 이용하여 date, datetime 객체를 변경할 수 있습니다.\t\n",
    "지원하는 연산은 아래와 같으며, 각 객체 간의 비교연산도 가능합니다.\t\n",
    " date_2 = date_1 + timedelta\t\n",
    " date_2 = date_1 - timedelta\t\n",
    " timedelta = date_2 - date_1\t\n",
    " datetime_2 = datetime_1 + timedelta\t\n",
    " datetime_2 = datetime_1 - timedelta\t\n",
    " timedelta = datetime_1 - datetime_2\t"
   ]
  },
  {
   "cell_type": "code",
   "execution_count": 18,
   "metadata": {},
   "outputs": [
    {
     "data": {
      "text/plain": [
       "'2020-06-21 06:59'"
      ]
     },
     "execution_count": 18,
     "metadata": {},
     "output_type": "execute_result"
    }
   ],
   "source": [
    "from datetime import datetime as dt\n",
    "dtt=dt.now()\n",
    "dtt.strftime('%Y-%m-%d %H:%M')"
   ]
  },
  {
   "cell_type": "code",
   "execution_count": 31,
   "metadata": {},
   "outputs": [
    {
     "data": {
      "text/plain": [
       "datetime.date(2020, 2, 29)"
      ]
     },
     "execution_count": 31,
     "metadata": {},
     "output_type": "execute_result"
    }
   ],
   "source": [
    "#해당월 말일 구하기\n",
    "from datetime import datetime,date,time,timedelta\n",
    "dt=datetime(2020,2,5)\n",
    "next_month = lambda y, m, d: (y, m + 1, 1) if m + 1 < 13 else ( y+1 , 1, 1)\n",
    "month_end  = lambda dte: date( *next_month( *dte.timetuple()[:3] ) ) - timedelta(days=1)\n",
    "month_end(dt)"
   ]
  },
  {
   "cell_type": "code",
   "execution_count": 158,
   "metadata": {},
   "outputs": [],
   "source": [
    "##휴일 로직\n",
    "HOLIDAYS2020 = ((2020,1, 1), #\"new Year\"\n",
    "                (2020,1, 24), #\"new Year\"\n",
    "                (2020,1, 25), #\"new Year1\"\n",
    "                (2020,1, 26), #\"new Year2\"\n",
    "                (2020,3, 1), #\"3.1\"\n",
    "                (2020,4, 30), #\"Buddha Day\"\n",
    "                (2020,5, 5), #\"Children's Day\"\n",
    "                (2020,6, 6), #\"Memorial Day\"\n",
    "                (2020,8, 15), #\"Liberation Day\"\n",
    "                (2020,9, 30), #\"Thanksgiving\"\n",
    "                (2020,10, 1), #\"Thanksgiving1\"\n",
    "                (2020,10, 2), #\"Thanksgiving2\"\n",
    "                (2020,10, 3), #\"National Foundation Day\"\n",
    "                (2020,10, 9), #\"Hangul Day\"\n",
    "                (2020,12, 25)  #\"Christmas\"\n",
    "               )\n",
    "HOLIDAYS2019 = ( (2019,1, 1), #\"new Year\"\n",
    "                (2019,1, 4), #\"new Year\"\n",
    "                (2019,1, 5), #\"new Year1\"\n",
    "                (2019,1, 6), #\"new Year2\"\n",
    "                (2019,3, 1), #\"3.1\"\n",
    "                (2019,5, 6), #\"Children's Day\"\n",
    "                (2019,6, 6), #\"Memorial Day\"\n",
    "                (2019,8, 15), #\"Liberation Day\"\n",
    "                (2019,9, 12), #\"Thanksgiving\"\n",
    "                (2019,9, 13), #\"Thanksgiving1\"\n",
    "                (2019,10, 3), #\"National Foundation Day\"\n",
    "                (2019,10, 9), #\"Hangul Day\"\n",
    "                (2019,12, 25) #\"Christmas\"\n",
    "                )\n",
    "\n",
    "def is_holiday(dt):\n",
    "        if dt.year==2020:\n",
    "            HOLIDAYS = HOLIDAYS2020\n",
    "        else: HOLIDAYS = HOLIDAYS2019\n",
    "        if dt.weekday() >=5:\n",
    "            return True\n",
    "        elif (dt.year,dt.month,dt.day) in HOLIDAYS:\n",
    "            return True\n",
    "        else:\n",
    "            return False"
   ]
  },
  {
   "cell_type": "code",
   "execution_count": 142,
   "metadata": {},
   "outputs": [
    {
     "data": {
      "text/plain": [
       "True"
      ]
     },
     "execution_count": 142,
     "metadata": {},
     "output_type": "execute_result"
    }
   ],
   "source": [
    "dt=date(2020,10,3)\n",
    "is_holiday(dt)"
   ]
  },
  {
   "cell_type": "code",
   "execution_count": 5,
   "metadata": {},
   "outputs": [
    {
     "name": "stdout",
     "output_type": "stream",
     "text": [
      "False\n",
      "2020-04-30\n",
      "0\n",
      "0\n",
      "8\n",
      "[datetime.datetime(2020, 4, 1, 0, 0), datetime.datetime(2020, 4, 2, 0, 0), datetime.datetime(2020, 4, 3, 0, 0), datetime.datetime(2020, 4, 6, 0, 0), datetime.datetime(2020, 4, 7, 0, 0), datetime.datetime(2020, 4, 8, 0, 0), datetime.datetime(2020, 4, 9, 0, 0), datetime.datetime(2020, 4, 10, 0, 0), datetime.datetime(2020, 4, 13, 0, 0), datetime.datetime(2020, 4, 14, 0, 0), datetime.datetime(2020, 4, 15, 0, 0), datetime.datetime(2020, 4, 16, 0, 0), datetime.datetime(2020, 4, 17, 0, 0), datetime.datetime(2020, 4, 20, 0, 0), datetime.datetime(2020, 4, 21, 0, 0), datetime.datetime(2020, 4, 22, 0, 0), datetime.datetime(2020, 4, 23, 0, 0), datetime.datetime(2020, 4, 24, 0, 0), datetime.datetime(2020, 4, 27, 0, 0), datetime.datetime(2020, 4, 28, 0, 0), datetime.datetime(2020, 4, 29, 0, 0)]\n",
      "[datetime.datetime(2020, 4, 1, 0, 0), datetime.datetime(2020, 4, 2, 0, 0), datetime.datetime(2020, 4, 3, 0, 0), datetime.datetime(2020, 4, 6, 0, 0), datetime.datetime(2020, 4, 7, 0, 0), datetime.datetime(2020, 4, 8, 0, 0), datetime.datetime(2020, 4, 9, 0, 0), datetime.datetime(2020, 4, 10, 0, 0), datetime.datetime(2020, 4, 13, 0, 0), datetime.datetime(2020, 4, 14, 0, 0), datetime.datetime(2020, 4, 15, 0, 0), datetime.datetime(2020, 4, 16, 0, 0), datetime.datetime(2020, 4, 17, 0, 0), datetime.datetime(2020, 4, 20, 0, 0), datetime.datetime(2020, 4, 21, 0, 0), datetime.datetime(2020, 4, 22, 0, 0), datetime.datetime(2020, 4, 23, 0, 0), datetime.datetime(2020, 4, 24, 0, 0), datetime.datetime(2020, 4, 27, 0, 0), datetime.datetime(2020, 4, 28, 0, 0), datetime.datetime(2020, 4, 29, 0, 0)]\n",
      "21\n"
     ]
    }
   ],
   "source": [
    "# 휴일여부 체크로직 -- 클래스 만들어 사용하는 방법\n",
    "from datetime import date, datetime,timedelta, time\n",
    " \n",
    "MON, TUE, WED, THU, FRI, SAT, SUN = range(7)\n",
    "HOLIDAYS2020 = ((2020,1, 1), #\"new Year\"\n",
    "                (2020,1, 24), #\"new Year\"\n",
    "                (2020,1, 27), #\"new Year1\"\n",
    "                (2020,3, 1), #\"3.1\"\n",
    "                (2020,4, 30), #\"Buddha Day\"\n",
    "                (2020,5, 5), #\"Children's Day\"\n",
    "                (2020,6, 6), #\"Memorial Day\"\n",
    "                (2020,8, 15), #\"Liberation Day\"\n",
    "                (2020,9, 30), #\"Thanksgiving\"\n",
    "                (2020,10, 1), #\"Thanksgiving1\"\n",
    "                (2020,10, 2), #\"Thanksgiving2\"\n",
    "                (2020,10, 3), #\"National Foundation Day\"\n",
    "                (2020,10, 9), #\"Hangul Day\"\n",
    "                (2020,12, 25) #\"Christmas\"\n",
    "                )\n",
    "    \n",
    "HOLIDAYS2019 = ((2019,1, 1), #\"new Year\"\n",
    "                (2019,1, 4), #\"new Year\"\n",
    "                (2019,1, 5), #\"new Year1\"\n",
    "                (2019,1, 6), #\"new Year2\"\n",
    "                (2019,3, 1), #\"3.1\"\n",
    "                (2019,5, 6), #\"Children's Day\"\n",
    "                (2019,6, 6), #\"Memorial Day\"\n",
    "                (2019,8, 15), #\"Liberation Day\"\n",
    "                (2019,9, 12), #\"Thanksgiving\"\n",
    "                (2019,9, 13), #\"Thanksgiving1\"\n",
    "                (2019,10, 3), #\"National Foundation Day\"\n",
    "                (2019,10, 9), #\"Hangul Day\"\n",
    "                (2019,12, 25) #\"Christmas\"\n",
    "                )\n",
    "\n",
    "def is_holiday(dt):    \n",
    "        if dt.year==2020:\n",
    "               HOLIDAYS=  HOLIDAYS2020\n",
    "        else: HOLIDAYS=  HOLIDAYS2019\n",
    "        if dt.weekday() >=5:\n",
    "            return True\n",
    "        elif (dt.year,dt.month,dt.day) in HOLIDAYS:\n",
    "            return True\n",
    "        else:\n",
    "            return False\n",
    "        \n",
    "class getDateUtil():\n",
    "    def get_lastday(self,dt):\n",
    "        next_month = lambda y, m, d: (y, m + 1, 1) if m + 1 < 13 else ( y+1 , 1, 1)\n",
    "        month_end  = lambda dte: date( *next_month( *dte.timetuple()[:3] ) ) - timedelta(days=1)\n",
    "        return month_end(dt)        \n",
    " \n",
    "    def get_workdaysMonth(self, toDt):\n",
    "        frDt=datetime(toDt.year,toDt.month,1)\n",
    "        workdays = (toDt - frDt).days \n",
    "        print(workdays)\n",
    "        for i in range(1, workdays):\n",
    "            dt= frDt + timedelta(days=i)\n",
    "            workdays -=  is_holiday(dt)\n",
    "        return workdays\n",
    "    \n",
    "    def get_workdays(self,frDt,toDt):\n",
    "        workdays = (toDt - frDt).days\n",
    "        for i in range(1, workdays):\n",
    "            dt= frDt + timedelta(days=i)\n",
    "            workdays -= is_holiday(dt)\n",
    "        return workdays    \n",
    "    \n",
    "    def get_workdates(self,frDt,toDt):\n",
    "        workdates=[]\n",
    "        workdays = (toDt - frDt).days + 1\n",
    "        for i in range(0, workdays):\n",
    "            dt= frDt + timedelta(days=i)\n",
    "            if not is_holiday(dt):\n",
    "                workdates.append(dt)\n",
    "        return workdates\n",
    "    \n",
    "if __name__=='__main__':\n",
    "    import pandas as pd\n",
    "    dt=datetime(2020,4,1)\n",
    "    dt2=datetime(2020,4,30)\n",
    "    getDT = getDateUtil()\n",
    "    print(is_holiday(dt))\n",
    "    print(getDT.get_lastday(dt))\n",
    "    print(getDT.get_workdaysMonth(dt))  \n",
    "    print(getDT.get_workdays(dt,dt+timedelta(days=10)))\n",
    "    print(getDT.get_workdates(dt,dt+timedelta(days=29)))\n",
    "    print(getDT.get_workdates(dt,dt2))\n",
    "    print(getDT.get_workdays(dt,dt2))\n"
   ]
  },
  {
   "cell_type": "code",
   "execution_count": 2,
   "metadata": {},
   "outputs": [
    {
     "ename": "NameError",
     "evalue": "name 'get_workdates' is not defined",
     "output_type": "error",
     "traceback": [
      "\u001b[1;31m---------------------------------------------------------------------------\u001b[0m",
      "\u001b[1;31mNameError\u001b[0m                                 Traceback (most recent call last)",
      "\u001b[1;32m<ipython-input-2-b51dd0724659>\u001b[0m in \u001b[0;36m<module>\u001b[1;34m\u001b[0m\n\u001b[0;32m      1\u001b[0m \u001b[0mdt\u001b[0m\u001b[1;33m=\u001b[0m\u001b[0mdatetime\u001b[0m\u001b[1;33m(\u001b[0m\u001b[1;36m2020\u001b[0m\u001b[1;33m,\u001b[0m\u001b[1;36m4\u001b[0m\u001b[1;33m,\u001b[0m\u001b[1;36m1\u001b[0m\u001b[1;33m)\u001b[0m\u001b[1;33m\u001b[0m\u001b[1;33m\u001b[0m\u001b[0m\n\u001b[0;32m      2\u001b[0m \u001b[0mdt2\u001b[0m\u001b[1;33m=\u001b[0m\u001b[0mdatetime\u001b[0m\u001b[1;33m(\u001b[0m\u001b[1;36m2020\u001b[0m\u001b[1;33m,\u001b[0m\u001b[1;36m4\u001b[0m\u001b[1;33m,\u001b[0m\u001b[1;36m30\u001b[0m\u001b[1;33m)\u001b[0m\u001b[1;33m\u001b[0m\u001b[1;33m\u001b[0m\u001b[0m\n\u001b[1;32m----> 3\u001b[1;33m \u001b[0mget_workdates\u001b[0m\u001b[1;33m(\u001b[0m\u001b[0mdt\u001b[0m\u001b[1;33m,\u001b[0m\u001b[0mdt2\u001b[0m\u001b[1;33m)\u001b[0m\u001b[1;33m\u001b[0m\u001b[1;33m\u001b[0m\u001b[0m\n\u001b[0m",
      "\u001b[1;31mNameError\u001b[0m: name 'get_workdates' is not defined"
     ]
    }
   ],
   "source": [
    "dt=datetime(2020,4,1)\n",
    "dt2=datetime(2020,4,30)\n",
    "get_workdates(dt,dt2)"
   ]
  },
  {
   "cell_type": "code",
   "execution_count": 5,
   "metadata": {},
   "outputs": [
    {
     "name": "stdout",
     "output_type": "stream",
     "text": [
      "2020-09-01\n"
     ]
    }
   ],
   "source": [
    "if dt==dt1: \n",
    "    dt=date(dt1.year,dt1.month,1)\n",
    "    print(dt)"
   ]
  },
  {
   "cell_type": "code",
   "execution_count": 19,
   "metadata": {},
   "outputs": [
    {
     "data": {
      "text/plain": [
       "1"
      ]
     },
     "execution_count": 19,
     "metadata": {},
     "output_type": "execute_result"
    }
   ],
   "source": [
    "dt.timetuple()[1]"
   ]
  },
  {
   "cell_type": "code",
   "execution_count": 9,
   "metadata": {},
   "outputs": [],
   "source": [
    " df = pd.DataFrame({'year': [2015, 2016],\n",
    "                      'month': [2, 3],\n",
    "                       'day': [4, 5],\n",
    "                       'hour': [2, 3]})\n",
    "   "
   ]
  },
  {
   "cell_type": "code",
   "execution_count": 11,
   "metadata": {},
   "outputs": [
    {
     "data": {
      "text/plain": [
       "0   2015-02-04 02:00:00\n",
       "1   2016-03-05 03:00:00\n",
       "dtype: datetime64[ns]"
      ]
     },
     "execution_count": 11,
     "metadata": {},
     "output_type": "execute_result"
    }
   ],
   "source": [
    "pd.to_datetime(df)"
   ]
  },
  {
   "cell_type": "code",
   "execution_count": null,
   "metadata": {},
   "outputs": [],
   "source": []
  }
 ],
 "metadata": {
  "kernelspec": {
   "display_name": "Python 3",
   "language": "python",
   "name": "python3"
  },
  "language_info": {
   "codemirror_mode": {
    "name": "ipython",
    "version": 3
   },
   "file_extension": ".py",
   "mimetype": "text/x-python",
   "name": "python",
   "nbconvert_exporter": "python",
   "pygments_lexer": "ipython3",
   "version": "3.7.4"
  }
 },
 "nbformat": 4,
 "nbformat_minor": 4
}
